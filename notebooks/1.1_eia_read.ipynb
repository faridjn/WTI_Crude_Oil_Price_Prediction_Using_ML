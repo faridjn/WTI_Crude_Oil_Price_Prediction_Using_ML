{
 "cells": [
  {
   "cell_type": "markdown",
   "id": "66405bfb",
   "metadata": {},
   "source": [
    "# Read Data from EIA API"
   ]
  },
  {
   "cell_type": "markdown",
   "id": "01a78a48",
   "metadata": {},
   "source": [
    "The U.S. Energy Information Administration is committed to its free and open data by making it available through an Application Programming Interface (API) and its open data tools. EIA's API is multi-facetted and contains the following time-series data sets organized by the main energy categories."
   ]
  },
  {
   "cell_type": "markdown",
   "id": "e6ad78c7",
   "metadata": {},
   "source": [
    "## Libraries"
   ]
  },
  {
   "cell_type": "markdown",
   "id": "5600c86b",
   "metadata": {},
   "source": [
    "### Installation"
   ]
  },
  {
   "cell_type": "code",
   "execution_count": 1,
   "id": "99e2b518",
   "metadata": {},
   "outputs": [],
   "source": [
    "#!pip install python-dotenv"
   ]
  },
  {
   "cell_type": "markdown",
   "id": "a2326916",
   "metadata": {},
   "source": [
    "### Import"
   ]
  },
  {
   "cell_type": "code",
   "execution_count": 2,
   "id": "41bf62e0",
   "metadata": {},
   "outputs": [],
   "source": [
    "#Import the required modules\n",
    "import os\n",
    "from dotenv import load_dotenv\n",
    "\n",
    "import requests\n",
    "import json\n",
    "\n",
    "import pandas as pd\n",
    "import numpy as np\n",
    "\n",
    "import pickle\n",
    "\n",
    "import csv"
   ]
  },
  {
   "cell_type": "markdown",
   "id": "746311b4",
   "metadata": {},
   "source": [
    "## Load API key from \".env\""
   ]
  },
  {
   "cell_type": "code",
   "execution_count": 3,
   "id": "d17d480c",
   "metadata": {},
   "outputs": [],
   "source": [
    "#Load secret api_key from .env file\n",
    "load_dotenv()\n",
    "\n",
    "api_key = os.getenv('eia_api_key')\n",
    "#print('eia_api_key: ', api_key)"
   ]
  },
  {
   "cell_type": "markdown",
   "id": "7e2a265a",
   "metadata": {},
   "source": [
    "## Specify EIA features to import"
   ]
  },
  {
   "cell_type": "code",
   "execution_count": 4,
   "id": "c8f3a55b",
   "metadata": {},
   "outputs": [],
   "source": [
    "# List EAI Series IDs for the features\n",
    "SERIES_IDS_DICT = {\n",
    "    'WTIPUUS':'steo',\n",
    "    'COPR_OPEC':'steo',\n",
    "    'PAPR_NONOPEC':'steo',\n",
    "    'COPRPUS':'steo',\n",
    "    'PATC_OECD':'steo',\n",
    "    'PATC_NON_OECD':'steo',\n",
    "    'CICPIUS':'steo',\n",
    "    'WPCPIUS':'steo',\n",
    "    'WP57IUS':'steo',\n",
    "    'ZOMNIUS':'steo',\n",
    "    'PASC_OECD_T3':'steo',\n",
    "    'PASXPUS':'steo',\n",
    "    'COSQPUS':'steo',\n",
    "    'COSXPUS':'steo',\n",
    "    'MGWHUUS':'steo',\n",
    "    'DSWHUUS':'steo',\n",
    "    'BREPUUS':'steo',\n",
    "    'WORL': 'international',\n",
    "    'RNGWHHD': 'natural-gas'}"
   ]
  },
  {
   "cell_type": "code",
   "execution_count": 5,
   "id": "40b6600c",
   "metadata": {},
   "outputs": [],
   "source": [
    "FEATURE_NAMES = ['wti',\n",
    "\t\t\t\t 'oil_opec',\n",
    "\t\t\t\t 'oil_nonopec',\n",
    "\t\t\t\t 'oil_world',\n",
    "\t\t\t\t 'henry_hub_ng',\n",
    "\t\t\t\t 'oil_us',\n",
    "\t\t\t\t 'petrol_oecd',\n",
    "\t\t\t\t 'petrol_nonoecd',\n",
    "\t\t\t\t 'us_cpi',\n",
    "\t\t\t\t 'us_ppi',\n",
    "\t\t\t\t 'us_ppi_petrol',\n",
    "\t\t\t\t 'us_pmi',\n",
    "\t\t\t\t 'petroleum_inv_oecd',\n",
    "\t\t\t\t 'crude_inv_total',\n",
    "\t\t\t\t 'crude_inv_spr',\n",
    "\t\t\t\t 'crude_inv_nonspr',\n",
    "\t\t\t\t 'refiner_gas_price',\n",
    "\t\t\t\t 'refiner_diesel_price',\n",
    "\t\t\t\t 'brent']"
   ]
  },
  {
   "cell_type": "code",
   "execution_count": 6,
   "id": "774000eb",
   "metadata": {},
   "outputs": [],
   "source": [
    "list(SERIES_IDS_DICT.keys())"
   ]
  },
  {
   "cell_type": "markdown",
   "id": "da19c8a7",
   "metadata": {},
   "source": [
    "## Request to EIA API & store respose"
   ]
  },
  {
   "cell_type": "code",
   "execution_count": 7,
   "id": "eb8830c6",
   "metadata": {},
   "outputs": [],
   "source": [
    "def get_url_eia_api(series_dict, feature_id):\n",
    "    \n",
    "    if series_dict[feature_id] == 'steo':    \n",
    "        url = 'https://api.eia.gov/v2/steo/data/?api_key=' + api_key +\\\n",
    "                '&frequency=monthly&data[0]=value&facets[seriesId][]='+ feature_id +\\\n",
    "                '&sort[0][column]=period&sort[0][direction]=desc&offset=0&length=5000'\n",
    "        description_field = 'seriesDescription'\n",
    "        \n",
    "    elif series_dict[feature_id] == 'international':\n",
    "        url = 'https://api.eia.gov/v2/international/data/?api_key=' + api_key +\\\n",
    "                '&frequency=monthly&data[0]=value&facets[activityId][]=1'+\\\n",
    "                '&facets[productId][]=55&facets[countryRegionId][]=' + feature_id +\\\n",
    "                '&facets[unit][]=TBPD&sort[0][column]=period&sort[0][direction]=desc&offset=0&length=5000'\n",
    "        description_field = 'productName'\n",
    "        \n",
    "    elif series_dict[feature_id] == 'natural-gas':\n",
    "        url = 'https://api.eia.gov/v2/natural-gas/pri/fut/data/?api_key=' + api_key +\\\n",
    "                '&frequency=monthly&data[0]=value&facets[series][]=' + feature_id +\\\n",
    "                '&sort[0][column]=period&sort[0][direction]=desc&offset=0&length=5000'\n",
    "        description_field = 'series-description'\n",
    "\n",
    "    else:\n",
    "        print('Feature ID not properly defined!')\n",
    "        \n",
    "    return url, description_field"
   ]
  },
  {
   "cell_type": "code",
   "execution_count": 8,
   "id": "f7ea0760",
   "metadata": {
    "scrolled": false
   },
   "outputs": [],
   "source": [
    "# Initialize list; this is the final list that will store all the data from the json pull. \n",
    "read_data = []\n",
    "feature_description = {}\n",
    "i = 0\n",
    "\n",
    "# Pull in data via EIA API\n",
    "for feature_id in list(SERIES_IDS_DICT.keys()):\n",
    "    \n",
    "    url, description_field = get_url_eia_api(SERIES_IDS_DICT, feature_id)\n",
    "               \n",
    "    r = requests.get(url)\n",
    "    json_data = r.json()\n",
    "    \n",
    "    if r.status_code == 200:\n",
    "        print('Success: ', feature_id)\n",
    "    else:\n",
    "        print('Error!')\n",
    "    \n",
    "    \n",
    "    #get seriesDescription\n",
    "    feature_description[feature_id] = json_data['response']['data'][0][description_field]\n",
    "    print(feature_description[feature_id])\n",
    "    \n",
    "    # Cast data from the json pull to pandas dataframe\n",
    "    df = pd.DataFrame(json_data['response']['data'], columns = ['period', 'value'])\n",
    "    \n",
    "    #rename columns\n",
    "    df.columns = ['Date', FEATURE_NAMES[i]]\n",
    "    i += 1\n",
    "\n",
    "    # Chage datetime and set as index\n",
    "    df['Date'] = pd.to_datetime(df['Date'], format='%Y-%m', errors=\"raise\")\n",
    "    df.set_index('Date', drop=True, inplace=True)\n",
    "    \n",
    "    display(df.head(3))\n",
    "    \n",
    "    # Concat the pandas dataframe into a list\n",
    "    read_data.append(df)\n",
    "    print('\\n-------------------------')\n"
   ]
  },
  {
   "cell_type": "markdown",
   "id": "32f5936a",
   "metadata": {},
   "source": [
    "## Cast all data to single DataFrame"
   ]
  },
  {
   "cell_type": "markdown",
   "id": "b99647ad",
   "metadata": {},
   "source": [
    "### Find the feature with most records to append all data"
   ]
  },
  {
   "cell_type": "code",
   "execution_count": 9,
   "id": "39f13f21",
   "metadata": {},
   "outputs": [],
   "source": [
    "#find the longest dataseries\n",
    "max_val = len(read_data[0])\n",
    "max_idx = 0\n",
    "\n",
    "# print field names and size for read_data\n",
    "for i in range(0, len(read_data)):\n",
    "    name = read_data[i].columns[0]\n",
    "    size = len(read_data[i])\n",
    "    phrase = str(i) + ': '+ name + ' (1*' + str(size) + ')'\n",
    "    \n",
    "    if size>max_val:\n",
    "        max_val = size\n",
    "        max_idx = i\n",
    "    \n",
    "    print(phrase)"
   ]
  },
  {
   "cell_type": "markdown",
   "id": "82f726e9",
   "metadata": {},
   "source": [
    "### Initiate a dataframe with biggest size feature\n",
    "Using the feature with biggest number of records as the first field ensures that all rows can be appended to the the dataframe"
   ]
  },
  {
   "cell_type": "code",
   "execution_count": 10,
   "id": "f4af777d",
   "metadata": {},
   "outputs": [],
   "source": [
    "#initiate the df with the the longest timeseries\n",
    "df = read_data[max_idx]\n",
    "df.index = df.index.astype('datetime64[ns]')\n",
    "display(df.head(3))"
   ]
  },
  {
   "cell_type": "markdown",
   "id": "d92f145c",
   "metadata": {},
   "source": [
    "### Merge_order all data frames"
   ]
  },
  {
   "cell_type": "code",
   "execution_count": 11,
   "id": "012ea417",
   "metadata": {},
   "outputs": [],
   "source": [
    "# Merge_order all data frames on date \n",
    "for i in range(0, len(read_data)):\n",
    "    if i != max_idx:\n",
    "        df_temp = read_data[i]\n",
    "        df_temp.index = df_temp.index.astype('datetime64[ns]')\n",
    "        df = pd.merge_ordered(df, df_temp, on = 'Date')"
   ]
  },
  {
   "cell_type": "markdown",
   "id": "be0c2e98",
   "metadata": {},
   "source": [
    "## Check the final dataframe"
   ]
  },
  {
   "cell_type": "code",
   "execution_count": 12,
   "id": "fa56d50e",
   "metadata": {},
   "outputs": [],
   "source": [
    "display(df.head(10).T)"
   ]
  },
  {
   "cell_type": "code",
   "execution_count": 13,
   "id": "31cd0885",
   "metadata": {},
   "outputs": [],
   "source": [
    "display(df.tail(10).T)"
   ]
  },
  {
   "cell_type": "markdown",
   "id": "b3be79ff",
   "metadata": {},
   "source": [
    "## Store the data"
   ]
  },
  {
   "cell_type": "code",
   "execution_count": 14,
   "id": "9501b2b6",
   "metadata": {},
   "outputs": [],
   "source": [
    "# Change directory one step back and save as the root directory\n",
    "ROOT_DIR = os.path.normpath(os.getcwd() + os.sep + os.pardir)\n",
    "\n",
    "# Change direcotry to the 'data\\raw' folder\n",
    "path = ROOT_DIR + '\\\\data\\\\interim\\\\'"
   ]
  },
  {
   "cell_type": "code",
   "execution_count": 15,
   "id": "85509f74",
   "metadata": {},
   "outputs": [],
   "source": [
    "# Set a file name\n",
    "file_data = path + 'eia_data.csv'\n",
    "df.to_csv(file_data)\n",
    "print('Save:\\n', file_data)"
   ]
  },
  {
   "cell_type": "code",
   "execution_count": 16,
   "id": "712b6679",
   "metadata": {},
   "outputs": [],
   "source": [
    "#save meta data\n",
    "file_metadata = path + 'eia_data_description.csv'\n",
    "\n",
    "# Open a CSV file for writing\n",
    "with open(file_metadata, \"w\", newline=\"\") as file:\n",
    "    # Create a writer object\n",
    "    writer = csv.writer(file)\n",
    "    \n",
    "    # Write the dictionary to the CSV file with two columns\n",
    "    for key, value in feature_description.items():\n",
    "        writer.writerow([key, value])\n",
    "# Close the file\n",
    "print('Save:\\n', file_metadata)"
   ]
  },
  {
   "cell_type": "code",
   "execution_count": null,
   "id": "a3e48270",
   "metadata": {},
   "outputs": [],
   "source": []
  }
 ],
 "metadata": {
  "kernelspec": {
   "display_name": "Python 3 (ipykernel)",
   "language": "python",
   "name": "python3"
  },
  "language_info": {
   "codemirror_mode": {
    "name": "ipython",
    "version": 3
   },
   "file_extension": ".py",
   "mimetype": "text/x-python",
   "name": "python",
   "nbconvert_exporter": "python",
   "pygments_lexer": "ipython3",
   "version": "3.9.17"
  }
 },
 "nbformat": 4,
 "nbformat_minor": 5
}
