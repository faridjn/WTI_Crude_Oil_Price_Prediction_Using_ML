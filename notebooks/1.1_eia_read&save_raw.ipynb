{
 "cells": [
  {
   "cell_type": "markdown",
   "id": "66405bfb",
   "metadata": {},
   "source": [
    "# Read Data from EIA API"
   ]
  },
  {
   "cell_type": "markdown",
   "id": "01a78a48",
   "metadata": {},
   "source": [
    "The U.S. Energy Information Administration is committed to its free and open data by making it available through an Application Programming Interface (API) and its open data tools. EIA's API is multi-facetted and contains the following time-series data sets organized by the main energy categories."
   ]
  },
  {
   "cell_type": "markdown",
   "id": "e6ad78c7",
   "metadata": {},
   "source": [
    "## Libraries"
   ]
  },
  {
   "cell_type": "markdown",
   "id": "5600c86b",
   "metadata": {},
   "source": [
    "### Installation"
   ]
  },
  {
   "cell_type": "code",
   "execution_count": 1,
   "id": "99e2b518",
   "metadata": {},
   "outputs": [],
   "source": [
    "#pip install python-dotenv"
   ]
  },
  {
   "cell_type": "markdown",
   "id": "a2326916",
   "metadata": {},
   "source": [
    "### Import"
   ]
  },
  {
   "cell_type": "code",
   "execution_count": 2,
   "id": "41bf62e0",
   "metadata": {},
   "outputs": [],
   "source": [
    "#Import the required modules\n",
    "import os\n",
    "from dotenv import load_dotenv\n",
    "\n",
    "import requests\n",
    "import json\n",
    "\n",
    "import pandas as pd\n",
    "import numpy as np\n",
    "\n",
    "import pickle\n",
    "\n",
    "import csv"
   ]
  },
  {
   "cell_type": "markdown",
   "id": "746311b4",
   "metadata": {},
   "source": [
    "## Load API key from \".env\""
   ]
  },
  {
   "cell_type": "code",
   "execution_count": 3,
   "id": "d17d480c",
   "metadata": {},
   "outputs": [],
   "source": [
    "#Load secret api_key from .env file\n",
    "load_dotenv()\n",
    "\n",
    "api_key = os.getenv('eia_api_key')\n",
    "#print('eia_api_key: ', api_key)"
   ]
  },
  {
   "cell_type": "markdown",
   "id": "7e2a265a",
   "metadata": {},
   "source": [
    "## Specify EIA features to import"
   ]
  },
  {
   "cell_type": "code",
   "execution_count": 4,
   "id": "c8f3a55b",
   "metadata": {},
   "outputs": [
    {
     "data": {
      "text/plain": [
       "['WTIPUUS',\n",
       " 'COPR_OPEC',\n",
       " 'PAPR_NONOPEC',\n",
       " 'COPRPUS',\n",
       " 'PATC_OECD',\n",
       " 'PATC_NON_OECD',\n",
       " 'CICPIUS',\n",
       " 'WPCPIUS',\n",
       " 'WP57IUS',\n",
       " 'ZOMNIUS',\n",
       " 'PASC_OECD_T3',\n",
       " 'PASXPUS',\n",
       " 'COSQPUS',\n",
       " 'COSXPUS',\n",
       " 'MGWHUUS',\n",
       " 'DSWHUUS',\n",
       " 'BREPUUS',\n",
       " 'WORL',\n",
       " 'RNGWHHD']"
      ]
     },
     "execution_count": 4,
     "metadata": {},
     "output_type": "execute_result"
    }
   ],
   "source": [
    "# List EAI Series IDs for the features\n",
    "feature_list = {\n",
    "    'WTIPUUS':'steo',\n",
    "    'COPR_OPEC':'steo',\n",
    "    'PAPR_NONOPEC':'steo',\n",
    "    'COPRPUS':'steo',\n",
    "    'PATC_OECD':'steo',\n",
    "    'PATC_NON_OECD':'steo',\n",
    "    'CICPIUS':'steo',\n",
    "    'WPCPIUS':'steo',\n",
    "    'WP57IUS':'steo',\n",
    "    'ZOMNIUS':'steo',\n",
    "    'PASC_OECD_T3':'steo',\n",
    "    'PASXPUS':'steo',\n",
    "    'COSQPUS':'steo',\n",
    "    'COSXPUS':'steo',\n",
    "    'MGWHUUS':'steo',\n",
    "    'DSWHUUS':'steo',\n",
    "    'BREPUUS':'steo',\n",
    "    'WORL': 'international',\n",
    "    'RNGWHHD': 'natural-gas'}\n",
    "\n",
    "list(feature_list.keys())"
   ]
  },
  {
   "cell_type": "markdown",
   "id": "da19c8a7",
   "metadata": {},
   "source": [
    "## Request to EIA API & store respose"
   ]
  },
  {
   "cell_type": "code",
   "execution_count": 5,
   "id": "eb8830c6",
   "metadata": {},
   "outputs": [],
   "source": [
    "def get_url_eia_api(feature_list, feature_id):\n",
    "    \n",
    "    if feature_list[feature_id] == 'steo':    \n",
    "        url = 'https://api.eia.gov/v2/steo/data/?api_key=' + api_key +\\\n",
    "                '&frequency=monthly&data[0]=value&facets[seriesId][]='+ feature_id +\\\n",
    "                '&sort[0][column]=period&sort[0][direction]=desc&offset=0&length=5000'\n",
    "        description_field = 'seriesDescription'\n",
    "        \n",
    "    elif feature_list[feature_id] == 'international':\n",
    "        url = 'https://api.eia.gov/v2/international/data/?api_key=' + api_key +\\\n",
    "                '&frequency=monthly&data[0]=value&facets[activityId][]=1'+\\\n",
    "                '&facets[productId][]=55&facets[countryRegionId][]=' + feature_id +\\\n",
    "                '&facets[unit][]=TBPD&sort[0][column]=period&sort[0][direction]=desc&offset=0&length=5000'\n",
    "        description_field = 'productName'\n",
    "        \n",
    "    elif feature_list[feature_id] == 'natural-gas':\n",
    "        url = 'https://api.eia.gov/v2/natural-gas/pri/fut/data/?api_key=' + api_key +\\\n",
    "                '&frequency=monthly&data[0]=value&facets[series][]=' + feature_id +\\\n",
    "                '&sort[0][column]=period&sort[0][direction]=desc&offset=0&length=5000'\n",
    "        description_field = 'series-description'\n",
    "\n",
    "    else:\n",
    "        print('Feature ID not properly defined!')\n",
    "        \n",
    "    return url, description_field"
   ]
  },
  {
   "cell_type": "code",
   "execution_count": 6,
   "id": "f7ea0760",
   "metadata": {
    "scrolled": false
   },
   "outputs": [
    {
     "name": "stdout",
     "output_type": "stream",
     "text": [
      "Success:  WTIPUUS\n",
      "West Texas Intermediate Crude Oil Price\n"
     ]
    },
    {
     "data": {
      "text/html": [
       "<div>\n",
       "<style scoped>\n",
       "    .dataframe tbody tr th:only-of-type {\n",
       "        vertical-align: middle;\n",
       "    }\n",
       "\n",
       "    .dataframe tbody tr th {\n",
       "        vertical-align: top;\n",
       "    }\n",
       "\n",
       "    .dataframe thead th {\n",
       "        text-align: right;\n",
       "    }\n",
       "</style>\n",
       "<table border=\"1\" class=\"dataframe\">\n",
       "  <thead>\n",
       "    <tr style=\"text-align: right;\">\n",
       "      <th></th>\n",
       "      <th>WTIPUUS</th>\n",
       "    </tr>\n",
       "    <tr>\n",
       "      <th>Date</th>\n",
       "      <th></th>\n",
       "    </tr>\n",
       "  </thead>\n",
       "  <tbody>\n",
       "    <tr>\n",
       "      <th>2024-12-01</th>\n",
       "      <td>72.0</td>\n",
       "    </tr>\n",
       "    <tr>\n",
       "      <th>2024-11-01</th>\n",
       "      <td>72.0</td>\n",
       "    </tr>\n",
       "    <tr>\n",
       "      <th>2024-10-01</th>\n",
       "      <td>72.0</td>\n",
       "    </tr>\n",
       "  </tbody>\n",
       "</table>\n",
       "</div>"
      ],
      "text/plain": [
       "            WTIPUUS\n",
       "Date               \n",
       "2024-12-01     72.0\n",
       "2024-11-01     72.0\n",
       "2024-10-01     72.0"
      ]
     },
     "metadata": {},
     "output_type": "display_data"
    },
    {
     "name": "stdout",
     "output_type": "stream",
     "text": [
      "\n",
      "-------------------------\n",
      "Success:  COPR_OPEC\n",
      "Crude Oil Production, OPEC Total\n"
     ]
    },
    {
     "data": {
      "text/html": [
       "<div>\n",
       "<style scoped>\n",
       "    .dataframe tbody tr th:only-of-type {\n",
       "        vertical-align: middle;\n",
       "    }\n",
       "\n",
       "    .dataframe tbody tr th {\n",
       "        vertical-align: top;\n",
       "    }\n",
       "\n",
       "    .dataframe thead th {\n",
       "        text-align: right;\n",
       "    }\n",
       "</style>\n",
       "<table border=\"1\" class=\"dataframe\">\n",
       "  <thead>\n",
       "    <tr style=\"text-align: right;\">\n",
       "      <th></th>\n",
       "      <th>COPR_OPEC</th>\n",
       "    </tr>\n",
       "    <tr>\n",
       "      <th>Date</th>\n",
       "      <th></th>\n",
       "    </tr>\n",
       "  </thead>\n",
       "  <tbody>\n",
       "    <tr>\n",
       "      <th>2024-12-01</th>\n",
       "      <td>28.880</td>\n",
       "    </tr>\n",
       "    <tr>\n",
       "      <th>2024-11-01</th>\n",
       "      <td>28.991</td>\n",
       "    </tr>\n",
       "    <tr>\n",
       "      <th>2024-10-01</th>\n",
       "      <td>29.202</td>\n",
       "    </tr>\n",
       "  </tbody>\n",
       "</table>\n",
       "</div>"
      ],
      "text/plain": [
       "            COPR_OPEC\n",
       "Date                 \n",
       "2024-12-01     28.880\n",
       "2024-11-01     28.991\n",
       "2024-10-01     29.202"
      ]
     },
     "metadata": {},
     "output_type": "display_data"
    },
    {
     "name": "stdout",
     "output_type": "stream",
     "text": [
      "\n",
      "-------------------------\n",
      "Success:  PAPR_NONOPEC\n",
      "Total non-OPEC liquids\n"
     ]
    },
    {
     "data": {
      "text/html": [
       "<div>\n",
       "<style scoped>\n",
       "    .dataframe tbody tr th:only-of-type {\n",
       "        vertical-align: middle;\n",
       "    }\n",
       "\n",
       "    .dataframe tbody tr th {\n",
       "        vertical-align: top;\n",
       "    }\n",
       "\n",
       "    .dataframe thead th {\n",
       "        text-align: right;\n",
       "    }\n",
       "</style>\n",
       "<table border=\"1\" class=\"dataframe\">\n",
       "  <thead>\n",
       "    <tr style=\"text-align: right;\">\n",
       "      <th></th>\n",
       "      <th>PAPR_NONOPEC</th>\n",
       "    </tr>\n",
       "    <tr>\n",
       "      <th>Date</th>\n",
       "      <th></th>\n",
       "    </tr>\n",
       "  </thead>\n",
       "  <tbody>\n",
       "    <tr>\n",
       "      <th>2024-12-01</th>\n",
       "      <td>69.202363</td>\n",
       "    </tr>\n",
       "    <tr>\n",
       "      <th>2024-11-01</th>\n",
       "      <td>69.352227</td>\n",
       "    </tr>\n",
       "    <tr>\n",
       "      <th>2024-10-01</th>\n",
       "      <td>69.099035</td>\n",
       "    </tr>\n",
       "  </tbody>\n",
       "</table>\n",
       "</div>"
      ],
      "text/plain": [
       "            PAPR_NONOPEC\n",
       "Date                    \n",
       "2024-12-01     69.202363\n",
       "2024-11-01     69.352227\n",
       "2024-10-01     69.099035"
      ]
     },
     "metadata": {},
     "output_type": "display_data"
    },
    {
     "name": "stdout",
     "output_type": "stream",
     "text": [
      "\n",
      "-------------------------\n",
      "Success:  COPRPUS\n",
      "U.S. Crude Oil Production\n"
     ]
    },
    {
     "data": {
      "text/html": [
       "<div>\n",
       "<style scoped>\n",
       "    .dataframe tbody tr th:only-of-type {\n",
       "        vertical-align: middle;\n",
       "    }\n",
       "\n",
       "    .dataframe tbody tr th {\n",
       "        vertical-align: top;\n",
       "    }\n",
       "\n",
       "    .dataframe thead th {\n",
       "        text-align: right;\n",
       "    }\n",
       "</style>\n",
       "<table border=\"1\" class=\"dataframe\">\n",
       "  <thead>\n",
       "    <tr style=\"text-align: right;\">\n",
       "      <th></th>\n",
       "      <th>COPRPUS</th>\n",
       "    </tr>\n",
       "    <tr>\n",
       "      <th>Date</th>\n",
       "      <th></th>\n",
       "    </tr>\n",
       "  </thead>\n",
       "  <tbody>\n",
       "    <tr>\n",
       "      <th>2024-12-01</th>\n",
       "      <td>12.93507</td>\n",
       "    </tr>\n",
       "    <tr>\n",
       "      <th>2024-11-01</th>\n",
       "      <td>12.84815</td>\n",
       "    </tr>\n",
       "    <tr>\n",
       "      <th>2024-10-01</th>\n",
       "      <td>12.69427</td>\n",
       "    </tr>\n",
       "  </tbody>\n",
       "</table>\n",
       "</div>"
      ],
      "text/plain": [
       "             COPRPUS\n",
       "Date                \n",
       "2024-12-01  12.93507\n",
       "2024-11-01  12.84815\n",
       "2024-10-01  12.69427"
      ]
     },
     "metadata": {},
     "output_type": "display_data"
    },
    {
     "name": "stdout",
     "output_type": "stream",
     "text": [
      "\n",
      "-------------------------\n",
      "Success:  PATC_OECD\n",
      "Liquid Fuels Consumption, Total OECD\n"
     ]
    },
    {
     "data": {
      "text/html": [
       "<div>\n",
       "<style scoped>\n",
       "    .dataframe tbody tr th:only-of-type {\n",
       "        vertical-align: middle;\n",
       "    }\n",
       "\n",
       "    .dataframe tbody tr th {\n",
       "        vertical-align: top;\n",
       "    }\n",
       "\n",
       "    .dataframe thead th {\n",
       "        text-align: right;\n",
       "    }\n",
       "</style>\n",
       "<table border=\"1\" class=\"dataframe\">\n",
       "  <thead>\n",
       "    <tr style=\"text-align: right;\">\n",
       "      <th></th>\n",
       "      <th>PATC_OECD</th>\n",
       "    </tr>\n",
       "    <tr>\n",
       "      <th>Date</th>\n",
       "      <th></th>\n",
       "    </tr>\n",
       "  </thead>\n",
       "  <tbody>\n",
       "    <tr>\n",
       "      <th>2024-12-01</th>\n",
       "      <td>46.983737</td>\n",
       "    </tr>\n",
       "    <tr>\n",
       "      <th>2024-11-01</th>\n",
       "      <td>46.382377</td>\n",
       "    </tr>\n",
       "    <tr>\n",
       "      <th>2024-10-01</th>\n",
       "      <td>46.391680</td>\n",
       "    </tr>\n",
       "  </tbody>\n",
       "</table>\n",
       "</div>"
      ],
      "text/plain": [
       "            PATC_OECD\n",
       "Date                 \n",
       "2024-12-01  46.983737\n",
       "2024-11-01  46.382377\n",
       "2024-10-01  46.391680"
      ]
     },
     "metadata": {},
     "output_type": "display_data"
    },
    {
     "name": "stdout",
     "output_type": "stream",
     "text": [
      "\n",
      "-------------------------\n",
      "Success:  PATC_NON_OECD\n",
      "Liquid Fuels Consumption, Total non-OECD\n"
     ]
    },
    {
     "data": {
      "text/html": [
       "<div>\n",
       "<style scoped>\n",
       "    .dataframe tbody tr th:only-of-type {\n",
       "        vertical-align: middle;\n",
       "    }\n",
       "\n",
       "    .dataframe tbody tr th {\n",
       "        vertical-align: top;\n",
       "    }\n",
       "\n",
       "    .dataframe thead th {\n",
       "        text-align: right;\n",
       "    }\n",
       "</style>\n",
       "<table border=\"1\" class=\"dataframe\">\n",
       "  <thead>\n",
       "    <tr style=\"text-align: right;\">\n",
       "      <th></th>\n",
       "      <th>PATC_NON_OECD</th>\n",
       "    </tr>\n",
       "    <tr>\n",
       "      <th>Date</th>\n",
       "      <th></th>\n",
       "    </tr>\n",
       "  </thead>\n",
       "  <tbody>\n",
       "    <tr>\n",
       "      <th>2024-12-01</th>\n",
       "      <td>57.552057</td>\n",
       "    </tr>\n",
       "    <tr>\n",
       "      <th>2024-11-01</th>\n",
       "      <td>56.535749</td>\n",
       "    </tr>\n",
       "    <tr>\n",
       "      <th>2024-10-01</th>\n",
       "      <td>55.492283</td>\n",
       "    </tr>\n",
       "  </tbody>\n",
       "</table>\n",
       "</div>"
      ],
      "text/plain": [
       "            PATC_NON_OECD\n",
       "Date                     \n",
       "2024-12-01      57.552057\n",
       "2024-11-01      56.535749\n",
       "2024-10-01      55.492283"
      ]
     },
     "metadata": {},
     "output_type": "display_data"
    },
    {
     "name": "stdout",
     "output_type": "stream",
     "text": [
      "\n",
      "-------------------------\n",
      "Success:  CICPIUS\n",
      "Consumer Price Index (all urban consumers)\n"
     ]
    },
    {
     "data": {
      "text/html": [
       "<div>\n",
       "<style scoped>\n",
       "    .dataframe tbody tr th:only-of-type {\n",
       "        vertical-align: middle;\n",
       "    }\n",
       "\n",
       "    .dataframe tbody tr th {\n",
       "        vertical-align: top;\n",
       "    }\n",
       "\n",
       "    .dataframe thead th {\n",
       "        text-align: right;\n",
       "    }\n",
       "</style>\n",
       "<table border=\"1\" class=\"dataframe\">\n",
       "  <thead>\n",
       "    <tr style=\"text-align: right;\">\n",
       "      <th></th>\n",
       "      <th>CICPIUS</th>\n",
       "    </tr>\n",
       "    <tr>\n",
       "      <th>Date</th>\n",
       "      <th></th>\n",
       "    </tr>\n",
       "  </thead>\n",
       "  <tbody>\n",
       "    <tr>\n",
       "      <th>2024-12-01</th>\n",
       "      <td>3.138122</td>\n",
       "    </tr>\n",
       "    <tr>\n",
       "      <th>2024-11-01</th>\n",
       "      <td>3.133612</td>\n",
       "    </tr>\n",
       "    <tr>\n",
       "      <th>2024-10-01</th>\n",
       "      <td>3.128954</td>\n",
       "    </tr>\n",
       "  </tbody>\n",
       "</table>\n",
       "</div>"
      ],
      "text/plain": [
       "             CICPIUS\n",
       "Date                \n",
       "2024-12-01  3.138122\n",
       "2024-11-01  3.133612\n",
       "2024-10-01  3.128954"
      ]
     },
     "metadata": {},
     "output_type": "display_data"
    },
    {
     "name": "stdout",
     "output_type": "stream",
     "text": [
      "\n",
      "-------------------------\n",
      "Success:  WPCPIUS\n",
      "Producer Price Index: All Commodities\n"
     ]
    },
    {
     "data": {
      "text/html": [
       "<div>\n",
       "<style scoped>\n",
       "    .dataframe tbody tr th:only-of-type {\n",
       "        vertical-align: middle;\n",
       "    }\n",
       "\n",
       "    .dataframe tbody tr th {\n",
       "        vertical-align: top;\n",
       "    }\n",
       "\n",
       "    .dataframe thead th {\n",
       "        text-align: right;\n",
       "    }\n",
       "</style>\n",
       "<table border=\"1\" class=\"dataframe\">\n",
       "  <thead>\n",
       "    <tr style=\"text-align: right;\">\n",
       "      <th></th>\n",
       "      <th>WPCPIUS</th>\n",
       "    </tr>\n",
       "    <tr>\n",
       "      <th>Date</th>\n",
       "      <th></th>\n",
       "    </tr>\n",
       "  </thead>\n",
       "  <tbody>\n",
       "    <tr>\n",
       "      <th>2024-12-01</th>\n",
       "      <td>2.396435</td>\n",
       "    </tr>\n",
       "    <tr>\n",
       "      <th>2024-11-01</th>\n",
       "      <td>2.391997</td>\n",
       "    </tr>\n",
       "    <tr>\n",
       "      <th>2024-10-01</th>\n",
       "      <td>2.388834</td>\n",
       "    </tr>\n",
       "  </tbody>\n",
       "</table>\n",
       "</div>"
      ],
      "text/plain": [
       "             WPCPIUS\n",
       "Date                \n",
       "2024-12-01  2.396435\n",
       "2024-11-01  2.391997\n",
       "2024-10-01  2.388834"
      ]
     },
     "metadata": {},
     "output_type": "display_data"
    },
    {
     "name": "stdout",
     "output_type": "stream",
     "text": [
      "\n",
      "-------------------------\n",
      "Success:  WP57IUS\n",
      "Producer Price Index: Petroleum\n"
     ]
    },
    {
     "data": {
      "text/html": [
       "<div>\n",
       "<style scoped>\n",
       "    .dataframe tbody tr th:only-of-type {\n",
       "        vertical-align: middle;\n",
       "    }\n",
       "\n",
       "    .dataframe tbody tr th {\n",
       "        vertical-align: top;\n",
       "    }\n",
       "\n",
       "    .dataframe thead th {\n",
       "        text-align: right;\n",
       "    }\n",
       "</style>\n",
       "<table border=\"1\" class=\"dataframe\">\n",
       "  <thead>\n",
       "    <tr style=\"text-align: right;\">\n",
       "      <th></th>\n",
       "      <th>WP57IUS</th>\n",
       "    </tr>\n",
       "    <tr>\n",
       "      <th>Date</th>\n",
       "      <th></th>\n",
       "    </tr>\n",
       "  </thead>\n",
       "  <tbody>\n",
       "    <tr>\n",
       "      <th>2024-12-01</th>\n",
       "      <td>2.308539</td>\n",
       "    </tr>\n",
       "    <tr>\n",
       "      <th>2024-11-01</th>\n",
       "      <td>2.359443</td>\n",
       "    </tr>\n",
       "    <tr>\n",
       "      <th>2024-10-01</th>\n",
       "      <td>2.401871</td>\n",
       "    </tr>\n",
       "  </tbody>\n",
       "</table>\n",
       "</div>"
      ],
      "text/plain": [
       "             WP57IUS\n",
       "Date                \n",
       "2024-12-01  2.308539\n",
       "2024-11-01  2.359443\n",
       "2024-10-01  2.401871"
      ]
     },
     "metadata": {},
     "output_type": "display_data"
    },
    {
     "name": "stdout",
     "output_type": "stream",
     "text": [
      "\n",
      "-------------------------\n",
      "Success:  ZOMNIUS\n",
      "Manufacturing Production Index\n"
     ]
    },
    {
     "data": {
      "text/html": [
       "<div>\n",
       "<style scoped>\n",
       "    .dataframe tbody tr th:only-of-type {\n",
       "        vertical-align: middle;\n",
       "    }\n",
       "\n",
       "    .dataframe tbody tr th {\n",
       "        vertical-align: top;\n",
       "    }\n",
       "\n",
       "    .dataframe thead th {\n",
       "        text-align: right;\n",
       "    }\n",
       "</style>\n",
       "<table border=\"1\" class=\"dataframe\">\n",
       "  <thead>\n",
       "    <tr style=\"text-align: right;\">\n",
       "      <th></th>\n",
       "      <th>ZOMNIUS</th>\n",
       "    </tr>\n",
       "    <tr>\n",
       "      <th>Date</th>\n",
       "      <th></th>\n",
       "    </tr>\n",
       "  </thead>\n",
       "  <tbody>\n",
       "    <tr>\n",
       "      <th>2024-12-01</th>\n",
       "      <td>102.8307</td>\n",
       "    </tr>\n",
       "    <tr>\n",
       "      <th>2024-11-01</th>\n",
       "      <td>102.6802</td>\n",
       "    </tr>\n",
       "    <tr>\n",
       "      <th>2024-10-01</th>\n",
       "      <td>102.5079</td>\n",
       "    </tr>\n",
       "  </tbody>\n",
       "</table>\n",
       "</div>"
      ],
      "text/plain": [
       "             ZOMNIUS\n",
       "Date                \n",
       "2024-12-01  102.8307\n",
       "2024-11-01  102.6802\n",
       "2024-10-01  102.5079"
      ]
     },
     "metadata": {},
     "output_type": "display_data"
    },
    {
     "name": "stdout",
     "output_type": "stream",
     "text": [
      "\n",
      "-------------------------\n",
      "Success:  PASC_OECD_T3\n",
      "OECD End-of-period Commercial Crude Oil and Other Liquids Inventory\n"
     ]
    },
    {
     "data": {
      "text/html": [
       "<div>\n",
       "<style scoped>\n",
       "    .dataframe tbody tr th:only-of-type {\n",
       "        vertical-align: middle;\n",
       "    }\n",
       "\n",
       "    .dataframe tbody tr th {\n",
       "        vertical-align: top;\n",
       "    }\n",
       "\n",
       "    .dataframe thead th {\n",
       "        text-align: right;\n",
       "    }\n",
       "</style>\n",
       "<table border=\"1\" class=\"dataframe\">\n",
       "  <thead>\n",
       "    <tr style=\"text-align: right;\">\n",
       "      <th></th>\n",
       "      <th>PASC_OECD_T3</th>\n",
       "    </tr>\n",
       "    <tr>\n",
       "      <th>Date</th>\n",
       "      <th></th>\n",
       "    </tr>\n",
       "  </thead>\n",
       "  <tbody>\n",
       "    <tr>\n",
       "      <th>2024-12-01</th>\n",
       "      <td>2919.799081</td>\n",
       "    </tr>\n",
       "    <tr>\n",
       "      <th>2024-11-01</th>\n",
       "      <td>2940.438514</td>\n",
       "    </tr>\n",
       "    <tr>\n",
       "      <th>2024-10-01</th>\n",
       "      <td>2934.096927</td>\n",
       "    </tr>\n",
       "  </tbody>\n",
       "</table>\n",
       "</div>"
      ],
      "text/plain": [
       "            PASC_OECD_T3\n",
       "Date                    \n",
       "2024-12-01   2919.799081\n",
       "2024-11-01   2940.438514\n",
       "2024-10-01   2934.096927"
      ]
     },
     "metadata": {},
     "output_type": "display_data"
    },
    {
     "name": "stdout",
     "output_type": "stream",
     "text": [
      "\n",
      "-------------------------\n",
      "Success:  PASXPUS\n",
      "Total End-of-period Commercial Crude Oil and Other Liquids Inventory\n"
     ]
    },
    {
     "data": {
      "text/html": [
       "<div>\n",
       "<style scoped>\n",
       "    .dataframe tbody tr th:only-of-type {\n",
       "        vertical-align: middle;\n",
       "    }\n",
       "\n",
       "    .dataframe tbody tr th {\n",
       "        vertical-align: top;\n",
       "    }\n",
       "\n",
       "    .dataframe thead th {\n",
       "        text-align: right;\n",
       "    }\n",
       "</style>\n",
       "<table border=\"1\" class=\"dataframe\">\n",
       "  <thead>\n",
       "    <tr style=\"text-align: right;\">\n",
       "      <th></th>\n",
       "      <th>PASXPUS</th>\n",
       "    </tr>\n",
       "    <tr>\n",
       "      <th>Date</th>\n",
       "      <th></th>\n",
       "    </tr>\n",
       "  </thead>\n",
       "  <tbody>\n",
       "    <tr>\n",
       "      <th>2024-12-01</th>\n",
       "      <td>1267.610</td>\n",
       "    </tr>\n",
       "    <tr>\n",
       "      <th>2024-11-01</th>\n",
       "      <td>1284.902</td>\n",
       "    </tr>\n",
       "    <tr>\n",
       "      <th>2024-10-01</th>\n",
       "      <td>1287.922</td>\n",
       "    </tr>\n",
       "  </tbody>\n",
       "</table>\n",
       "</div>"
      ],
      "text/plain": [
       "             PASXPUS\n",
       "Date                \n",
       "2024-12-01  1267.610\n",
       "2024-11-01  1284.902\n",
       "2024-10-01  1287.922"
      ]
     },
     "metadata": {},
     "output_type": "display_data"
    },
    {
     "name": "stdout",
     "output_type": "stream",
     "text": [
      "\n",
      "-------------------------\n",
      "Success:  COSQPUS\n",
      "Strategic Petroleum Reserve\n"
     ]
    },
    {
     "data": {
      "text/html": [
       "<div>\n",
       "<style scoped>\n",
       "    .dataframe tbody tr th:only-of-type {\n",
       "        vertical-align: middle;\n",
       "    }\n",
       "\n",
       "    .dataframe tbody tr th {\n",
       "        vertical-align: top;\n",
       "    }\n",
       "\n",
       "    .dataframe thead th {\n",
       "        text-align: right;\n",
       "    }\n",
       "</style>\n",
       "<table border=\"1\" class=\"dataframe\">\n",
       "  <thead>\n",
       "    <tr style=\"text-align: right;\">\n",
       "      <th></th>\n",
       "      <th>COSQPUS</th>\n",
       "    </tr>\n",
       "    <tr>\n",
       "      <th>Date</th>\n",
       "      <th></th>\n",
       "    </tr>\n",
       "  </thead>\n",
       "  <tbody>\n",
       "    <tr>\n",
       "      <th>2024-12-01</th>\n",
       "      <td>345.2105</td>\n",
       "    </tr>\n",
       "    <tr>\n",
       "      <th>2024-11-01</th>\n",
       "      <td>345.2105</td>\n",
       "    </tr>\n",
       "    <tr>\n",
       "      <th>2024-10-01</th>\n",
       "      <td>345.2105</td>\n",
       "    </tr>\n",
       "  </tbody>\n",
       "</table>\n",
       "</div>"
      ],
      "text/plain": [
       "             COSQPUS\n",
       "Date                \n",
       "2024-12-01  345.2105\n",
       "2024-11-01  345.2105\n",
       "2024-10-01  345.2105"
      ]
     },
     "metadata": {},
     "output_type": "display_data"
    },
    {
     "name": "stdout",
     "output_type": "stream",
     "text": [
      "\n",
      "-------------------------\n",
      "Success:  COSXPUS\n",
      "Crude Oil Inventory (excluding SPR)\n"
     ]
    },
    {
     "data": {
      "text/html": [
       "<div>\n",
       "<style scoped>\n",
       "    .dataframe tbody tr th:only-of-type {\n",
       "        vertical-align: middle;\n",
       "    }\n",
       "\n",
       "    .dataframe tbody tr th {\n",
       "        vertical-align: top;\n",
       "    }\n",
       "\n",
       "    .dataframe thead th {\n",
       "        text-align: right;\n",
       "    }\n",
       "</style>\n",
       "<table border=\"1\" class=\"dataframe\">\n",
       "  <thead>\n",
       "    <tr style=\"text-align: right;\">\n",
       "      <th></th>\n",
       "      <th>COSXPUS</th>\n",
       "    </tr>\n",
       "    <tr>\n",
       "      <th>Date</th>\n",
       "      <th></th>\n",
       "    </tr>\n",
       "  </thead>\n",
       "  <tbody>\n",
       "    <tr>\n",
       "      <th>2024-12-01</th>\n",
       "      <td>469.5096</td>\n",
       "    </tr>\n",
       "    <tr>\n",
       "      <th>2024-11-01</th>\n",
       "      <td>477.5722</td>\n",
       "    </tr>\n",
       "    <tr>\n",
       "      <th>2024-10-01</th>\n",
       "      <td>472.9599</td>\n",
       "    </tr>\n",
       "  </tbody>\n",
       "</table>\n",
       "</div>"
      ],
      "text/plain": [
       "             COSXPUS\n",
       "Date                \n",
       "2024-12-01  469.5096\n",
       "2024-11-01  477.5722\n",
       "2024-10-01  472.9599"
      ]
     },
     "metadata": {},
     "output_type": "display_data"
    },
    {
     "name": "stdout",
     "output_type": "stream",
     "text": [
      "\n",
      "-------------------------\n",
      "Success:  MGWHUUS\n",
      "Refiner Wholesale Gasoline Price\n"
     ]
    },
    {
     "data": {
      "text/html": [
       "<div>\n",
       "<style scoped>\n",
       "    .dataframe tbody tr th:only-of-type {\n",
       "        vertical-align: middle;\n",
       "    }\n",
       "\n",
       "    .dataframe tbody tr th {\n",
       "        vertical-align: top;\n",
       "    }\n",
       "\n",
       "    .dataframe thead th {\n",
       "        text-align: right;\n",
       "    }\n",
       "</style>\n",
       "<table border=\"1\" class=\"dataframe\">\n",
       "  <thead>\n",
       "    <tr style=\"text-align: right;\">\n",
       "      <th></th>\n",
       "      <th>MGWHUUS</th>\n",
       "    </tr>\n",
       "    <tr>\n",
       "      <th>Date</th>\n",
       "      <th></th>\n",
       "    </tr>\n",
       "  </thead>\n",
       "  <tbody>\n",
       "    <tr>\n",
       "      <th>2024-12-01</th>\n",
       "      <td>209.1272</td>\n",
       "    </tr>\n",
       "    <tr>\n",
       "      <th>2024-11-01</th>\n",
       "      <td>217.9178</td>\n",
       "    </tr>\n",
       "    <tr>\n",
       "      <th>2024-10-01</th>\n",
       "      <td>225.5785</td>\n",
       "    </tr>\n",
       "  </tbody>\n",
       "</table>\n",
       "</div>"
      ],
      "text/plain": [
       "             MGWHUUS\n",
       "Date                \n",
       "2024-12-01  209.1272\n",
       "2024-11-01  217.9178\n",
       "2024-10-01  225.5785"
      ]
     },
     "metadata": {},
     "output_type": "display_data"
    },
    {
     "name": "stdout",
     "output_type": "stream",
     "text": [
      "\n",
      "-------------------------\n",
      "Success:  DSWHUUS\n",
      "Diesel Fuel Refiner Wholesale Price\n"
     ]
    },
    {
     "data": {
      "text/html": [
       "<div>\n",
       "<style scoped>\n",
       "    .dataframe tbody tr th:only-of-type {\n",
       "        vertical-align: middle;\n",
       "    }\n",
       "\n",
       "    .dataframe tbody tr th {\n",
       "        vertical-align: top;\n",
       "    }\n",
       "\n",
       "    .dataframe thead th {\n",
       "        text-align: right;\n",
       "    }\n",
       "</style>\n",
       "<table border=\"1\" class=\"dataframe\">\n",
       "  <thead>\n",
       "    <tr style=\"text-align: right;\">\n",
       "      <th></th>\n",
       "      <th>DSWHUUS</th>\n",
       "    </tr>\n",
       "    <tr>\n",
       "      <th>Date</th>\n",
       "      <th></th>\n",
       "    </tr>\n",
       "  </thead>\n",
       "  <tbody>\n",
       "    <tr>\n",
       "      <th>2024-12-01</th>\n",
       "      <td>245.2129</td>\n",
       "    </tr>\n",
       "    <tr>\n",
       "      <th>2024-11-01</th>\n",
       "      <td>249.8924</td>\n",
       "    </tr>\n",
       "    <tr>\n",
       "      <th>2024-10-01</th>\n",
       "      <td>252.6826</td>\n",
       "    </tr>\n",
       "  </tbody>\n",
       "</table>\n",
       "</div>"
      ],
      "text/plain": [
       "             DSWHUUS\n",
       "Date                \n",
       "2024-12-01  245.2129\n",
       "2024-11-01  249.8924\n",
       "2024-10-01  252.6826"
      ]
     },
     "metadata": {},
     "output_type": "display_data"
    },
    {
     "name": "stdout",
     "output_type": "stream",
     "text": [
      "\n",
      "-------------------------\n",
      "Success:  BREPUUS\n",
      "Brent crude oil spot price\n"
     ]
    },
    {
     "data": {
      "text/html": [
       "<div>\n",
       "<style scoped>\n",
       "    .dataframe tbody tr th:only-of-type {\n",
       "        vertical-align: middle;\n",
       "    }\n",
       "\n",
       "    .dataframe tbody tr th {\n",
       "        vertical-align: top;\n",
       "    }\n",
       "\n",
       "    .dataframe thead th {\n",
       "        text-align: right;\n",
       "    }\n",
       "</style>\n",
       "<table border=\"1\" class=\"dataframe\">\n",
       "  <thead>\n",
       "    <tr style=\"text-align: right;\">\n",
       "      <th></th>\n",
       "      <th>BREPUUS</th>\n",
       "    </tr>\n",
       "    <tr>\n",
       "      <th>Date</th>\n",
       "      <th></th>\n",
       "    </tr>\n",
       "  </thead>\n",
       "  <tbody>\n",
       "    <tr>\n",
       "      <th>2024-12-01</th>\n",
       "      <td>78.0</td>\n",
       "    </tr>\n",
       "    <tr>\n",
       "      <th>2024-11-01</th>\n",
       "      <td>78.0</td>\n",
       "    </tr>\n",
       "    <tr>\n",
       "      <th>2024-10-01</th>\n",
       "      <td>78.0</td>\n",
       "    </tr>\n",
       "  </tbody>\n",
       "</table>\n",
       "</div>"
      ],
      "text/plain": [
       "            BREPUUS\n",
       "Date               \n",
       "2024-12-01     78.0\n",
       "2024-11-01     78.0\n",
       "2024-10-01     78.0"
      ]
     },
     "metadata": {},
     "output_type": "display_data"
    },
    {
     "name": "stdout",
     "output_type": "stream",
     "text": [
      "\n",
      "-------------------------\n",
      "Success:  WORL\n",
      "Crude oil, NGPL, and other liquids\n"
     ]
    },
    {
     "data": {
      "text/html": [
       "<div>\n",
       "<style scoped>\n",
       "    .dataframe tbody tr th:only-of-type {\n",
       "        vertical-align: middle;\n",
       "    }\n",
       "\n",
       "    .dataframe tbody tr th {\n",
       "        vertical-align: top;\n",
       "    }\n",
       "\n",
       "    .dataframe thead th {\n",
       "        text-align: right;\n",
       "    }\n",
       "</style>\n",
       "<table border=\"1\" class=\"dataframe\">\n",
       "  <thead>\n",
       "    <tr style=\"text-align: right;\">\n",
       "      <th></th>\n",
       "      <th>WORL</th>\n",
       "    </tr>\n",
       "    <tr>\n",
       "      <th>Date</th>\n",
       "      <th></th>\n",
       "    </tr>\n",
       "  </thead>\n",
       "  <tbody>\n",
       "    <tr>\n",
       "      <th>2022-12-01</th>\n",
       "      <td>98009.234232</td>\n",
       "    </tr>\n",
       "    <tr>\n",
       "      <th>2022-11-01</th>\n",
       "      <td>99084.249563</td>\n",
       "    </tr>\n",
       "    <tr>\n",
       "      <th>2022-10-01</th>\n",
       "      <td>99141.569536</td>\n",
       "    </tr>\n",
       "  </tbody>\n",
       "</table>\n",
       "</div>"
      ],
      "text/plain": [
       "                    WORL\n",
       "Date                    \n",
       "2022-12-01  98009.234232\n",
       "2022-11-01  99084.249563\n",
       "2022-10-01  99141.569536"
      ]
     },
     "metadata": {},
     "output_type": "display_data"
    },
    {
     "name": "stdout",
     "output_type": "stream",
     "text": [
      "\n",
      "-------------------------\n",
      "Success:  RNGWHHD\n",
      "Henry Hub Natural Gas Spot Price (Dollars per Million Btu)\n"
     ]
    },
    {
     "data": {
      "text/html": [
       "<div>\n",
       "<style scoped>\n",
       "    .dataframe tbody tr th:only-of-type {\n",
       "        vertical-align: middle;\n",
       "    }\n",
       "\n",
       "    .dataframe tbody tr th {\n",
       "        vertical-align: top;\n",
       "    }\n",
       "\n",
       "    .dataframe thead th {\n",
       "        text-align: right;\n",
       "    }\n",
       "</style>\n",
       "<table border=\"1\" class=\"dataframe\">\n",
       "  <thead>\n",
       "    <tr style=\"text-align: right;\">\n",
       "      <th></th>\n",
       "      <th>RNGWHHD</th>\n",
       "    </tr>\n",
       "    <tr>\n",
       "      <th>Date</th>\n",
       "      <th></th>\n",
       "    </tr>\n",
       "  </thead>\n",
       "  <tbody>\n",
       "    <tr>\n",
       "      <th>2023-03-01</th>\n",
       "      <td>2.31</td>\n",
       "    </tr>\n",
       "    <tr>\n",
       "      <th>2023-02-01</th>\n",
       "      <td>2.38</td>\n",
       "    </tr>\n",
       "    <tr>\n",
       "      <th>2023-01-01</th>\n",
       "      <td>3.27</td>\n",
       "    </tr>\n",
       "  </tbody>\n",
       "</table>\n",
       "</div>"
      ],
      "text/plain": [
       "            RNGWHHD\n",
       "Date               \n",
       "2023-03-01     2.31\n",
       "2023-02-01     2.38\n",
       "2023-01-01     3.27"
      ]
     },
     "metadata": {},
     "output_type": "display_data"
    },
    {
     "name": "stdout",
     "output_type": "stream",
     "text": [
      "\n",
      "-------------------------\n"
     ]
    }
   ],
   "source": [
    "# Initialize list; this is the final list that will store all the data from the json pull. \n",
    "read_data = []\n",
    "feature_description = {}\n",
    "\n",
    "# Pull in data via EIA API\n",
    "for feature_id in list(feature_list.keys()):\n",
    "    \n",
    "    url, description_field = get_url_eia_api(feature_list, feature_id)\n",
    "               \n",
    "    r = requests.get(url)\n",
    "    json_data = r.json()\n",
    "    \n",
    "    if r.status_code == 200:\n",
    "        print('Success: ', feature_id)\n",
    "    else:\n",
    "        print('Error!')\n",
    "    \n",
    "    \n",
    "    #get seriesDescription\n",
    "    feature_description[feature_id] = json_data['response']['data'][0][description_field]\n",
    "    print(feature_description[feature_id])\n",
    "    \n",
    "    # Cast data from the json pull to pandas dataframe\n",
    "    df = pd.DataFrame(json_data['response']['data'], columns = ['period', 'value'])\n",
    "    \n",
    "    #rename columns\n",
    "    df.columns = ['Date', feature_id]\n",
    "\n",
    "    # Chage datetime and set as index\n",
    "    df['Date'] = pd.to_datetime(df['Date'], format='%Y-%m', errors=\"raise\")\n",
    "    df.set_index('Date', drop=True, inplace=True)\n",
    "    \n",
    "    display(df.head(3))\n",
    "    \n",
    "    # Concat the pandas dataframe into a list\n",
    "    read_data.append(df)\n",
    "    print('\\n-------------------------')\n"
   ]
  },
  {
   "cell_type": "markdown",
   "id": "32f5936a",
   "metadata": {},
   "source": [
    "## Cast all data to single DataFrame"
   ]
  },
  {
   "cell_type": "markdown",
   "id": "b99647ad",
   "metadata": {},
   "source": [
    "### Find the feature with most records to append all data"
   ]
  },
  {
   "cell_type": "code",
   "execution_count": 7,
   "id": "39f13f21",
   "metadata": {},
   "outputs": [
    {
     "name": "stdout",
     "output_type": "stream",
     "text": [
      "0: WTIPUUS (1*420)\n",
      "1: COPR_OPEC (1*384)\n",
      "2: PAPR_NONOPEC (1*384)\n",
      "3: COPRPUS (1*420)\n",
      "4: PATC_OECD (1*420)\n",
      "5: PATC_NON_OECD (1*420)\n",
      "6: CICPIUS (1*420)\n",
      "7: WPCPIUS (1*420)\n",
      "8: WP57IUS (1*420)\n",
      "9: ZOMNIUS (1*420)\n",
      "10: PASC_OECD_T3 (1*264)\n",
      "11: PASXPUS (1*420)\n",
      "12: COSQPUS (1*420)\n",
      "13: COSXPUS (1*420)\n",
      "14: MGWHUUS (1*420)\n",
      "15: DSWHUUS (1*420)\n",
      "16: BREPUUS (1*420)\n",
      "17: WORL (1*360)\n",
      "18: RNGWHHD (1*315)\n"
     ]
    }
   ],
   "source": [
    "#find the longest dataseries\n",
    "max_val = len(read_data[0])\n",
    "max_idx = 0\n",
    "\n",
    "# print field names and size for read_data\n",
    "for i in range(0, len(read_data)):\n",
    "    name = read_data[i].columns[0]\n",
    "    size = len(read_data[i])\n",
    "    phrase = str(i) + ': '+ name + ' (1*' + str(size) + ')'\n",
    "    \n",
    "    if size>max_val:\n",
    "        max_val = size\n",
    "        max_idx = i\n",
    "    \n",
    "    print(phrase)"
   ]
  },
  {
   "cell_type": "markdown",
   "id": "82f726e9",
   "metadata": {},
   "source": [
    "### Initiate a dataframe with biggest size feature\n",
    "Using the feature with biggest number of records as the first field ensures that all rows can be appended to the the dataframe"
   ]
  },
  {
   "cell_type": "code",
   "execution_count": 8,
   "id": "f4af777d",
   "metadata": {},
   "outputs": [
    {
     "data": {
      "text/html": [
       "<div>\n",
       "<style scoped>\n",
       "    .dataframe tbody tr th:only-of-type {\n",
       "        vertical-align: middle;\n",
       "    }\n",
       "\n",
       "    .dataframe tbody tr th {\n",
       "        vertical-align: top;\n",
       "    }\n",
       "\n",
       "    .dataframe thead th {\n",
       "        text-align: right;\n",
       "    }\n",
       "</style>\n",
       "<table border=\"1\" class=\"dataframe\">\n",
       "  <thead>\n",
       "    <tr style=\"text-align: right;\">\n",
       "      <th></th>\n",
       "      <th>WTIPUUS</th>\n",
       "    </tr>\n",
       "    <tr>\n",
       "      <th>Date</th>\n",
       "      <th></th>\n",
       "    </tr>\n",
       "  </thead>\n",
       "  <tbody>\n",
       "    <tr>\n",
       "      <th>2024-12-01</th>\n",
       "      <td>72.0</td>\n",
       "    </tr>\n",
       "    <tr>\n",
       "      <th>2024-11-01</th>\n",
       "      <td>72.0</td>\n",
       "    </tr>\n",
       "    <tr>\n",
       "      <th>2024-10-01</th>\n",
       "      <td>72.0</td>\n",
       "    </tr>\n",
       "  </tbody>\n",
       "</table>\n",
       "</div>"
      ],
      "text/plain": [
       "            WTIPUUS\n",
       "Date               \n",
       "2024-12-01     72.0\n",
       "2024-11-01     72.0\n",
       "2024-10-01     72.0"
      ]
     },
     "metadata": {},
     "output_type": "display_data"
    }
   ],
   "source": [
    "#initiate the df with the the longest timeseries\n",
    "df = read_data[max_idx]\n",
    "df.index = df.index.astype('datetime64[ns]')\n",
    "display(df.head(3))"
   ]
  },
  {
   "cell_type": "markdown",
   "id": "d92f145c",
   "metadata": {},
   "source": [
    "### Merge_order all data frames"
   ]
  },
  {
   "cell_type": "code",
   "execution_count": 9,
   "id": "012ea417",
   "metadata": {},
   "outputs": [],
   "source": [
    "# Merge_order all data frames on date \n",
    "for i in range(0, len(read_data)):\n",
    "    if i != max_idx:\n",
    "        df_temp = read_data[i]\n",
    "        df_temp.index = df_temp.index.astype('datetime64[ns]')\n",
    "        df = pd.merge_ordered(df, df_temp, on = 'Date')"
   ]
  },
  {
   "cell_type": "markdown",
   "id": "be0c2e98",
   "metadata": {},
   "source": [
    "## Check the final dataframe"
   ]
  },
  {
   "cell_type": "code",
   "execution_count": 14,
   "id": "31cd0885",
   "metadata": {},
   "outputs": [
    {
     "data": {
      "text/html": [
       "<div>\n",
       "<style scoped>\n",
       "    .dataframe tbody tr th:only-of-type {\n",
       "        vertical-align: middle;\n",
       "    }\n",
       "\n",
       "    .dataframe tbody tr th {\n",
       "        vertical-align: top;\n",
       "    }\n",
       "\n",
       "    .dataframe thead th {\n",
       "        text-align: right;\n",
       "    }\n",
       "</style>\n",
       "<table border=\"1\" class=\"dataframe\">\n",
       "  <thead>\n",
       "    <tr style=\"text-align: right;\">\n",
       "      <th></th>\n",
       "      <th>417</th>\n",
       "      <th>418</th>\n",
       "      <th>419</th>\n",
       "    </tr>\n",
       "  </thead>\n",
       "  <tbody>\n",
       "    <tr>\n",
       "      <th>Date</th>\n",
       "      <td>2024-10-01 00:00:00</td>\n",
       "      <td>2024-11-01 00:00:00</td>\n",
       "      <td>2024-12-01 00:00:00</td>\n",
       "    </tr>\n",
       "    <tr>\n",
       "      <th>WTIPUUS</th>\n",
       "      <td>72.0</td>\n",
       "      <td>72.0</td>\n",
       "      <td>72.0</td>\n",
       "    </tr>\n",
       "    <tr>\n",
       "      <th>COPR_OPEC</th>\n",
       "      <td>29.202</td>\n",
       "      <td>28.991</td>\n",
       "      <td>28.88</td>\n",
       "    </tr>\n",
       "    <tr>\n",
       "      <th>PAPR_NONOPEC</th>\n",
       "      <td>69.099035</td>\n",
       "      <td>69.352227</td>\n",
       "      <td>69.202363</td>\n",
       "    </tr>\n",
       "    <tr>\n",
       "      <th>COPRPUS</th>\n",
       "      <td>12.69427</td>\n",
       "      <td>12.84815</td>\n",
       "      <td>12.93507</td>\n",
       "    </tr>\n",
       "    <tr>\n",
       "      <th>PATC_OECD</th>\n",
       "      <td>46.39168</td>\n",
       "      <td>46.382377</td>\n",
       "      <td>46.983737</td>\n",
       "    </tr>\n",
       "    <tr>\n",
       "      <th>PATC_NON_OECD</th>\n",
       "      <td>55.492283</td>\n",
       "      <td>56.535749</td>\n",
       "      <td>57.552057</td>\n",
       "    </tr>\n",
       "    <tr>\n",
       "      <th>CICPIUS</th>\n",
       "      <td>3.128954</td>\n",
       "      <td>3.133612</td>\n",
       "      <td>3.138122</td>\n",
       "    </tr>\n",
       "    <tr>\n",
       "      <th>WPCPIUS</th>\n",
       "      <td>2.388834</td>\n",
       "      <td>2.391997</td>\n",
       "      <td>2.396435</td>\n",
       "    </tr>\n",
       "    <tr>\n",
       "      <th>WP57IUS</th>\n",
       "      <td>2.401871</td>\n",
       "      <td>2.359443</td>\n",
       "      <td>2.308539</td>\n",
       "    </tr>\n",
       "    <tr>\n",
       "      <th>ZOMNIUS</th>\n",
       "      <td>102.5079</td>\n",
       "      <td>102.6802</td>\n",
       "      <td>102.8307</td>\n",
       "    </tr>\n",
       "    <tr>\n",
       "      <th>PASC_OECD_T3</th>\n",
       "      <td>2934.096927</td>\n",
       "      <td>2940.438514</td>\n",
       "      <td>2919.799081</td>\n",
       "    </tr>\n",
       "    <tr>\n",
       "      <th>PASXPUS</th>\n",
       "      <td>1287.922</td>\n",
       "      <td>1284.902</td>\n",
       "      <td>1267.61</td>\n",
       "    </tr>\n",
       "    <tr>\n",
       "      <th>COSQPUS</th>\n",
       "      <td>345.2105</td>\n",
       "      <td>345.2105</td>\n",
       "      <td>345.2105</td>\n",
       "    </tr>\n",
       "    <tr>\n",
       "      <th>COSXPUS</th>\n",
       "      <td>472.9599</td>\n",
       "      <td>477.5722</td>\n",
       "      <td>469.5096</td>\n",
       "    </tr>\n",
       "    <tr>\n",
       "      <th>MGWHUUS</th>\n",
       "      <td>225.5785</td>\n",
       "      <td>217.9178</td>\n",
       "      <td>209.1272</td>\n",
       "    </tr>\n",
       "    <tr>\n",
       "      <th>DSWHUUS</th>\n",
       "      <td>252.6826</td>\n",
       "      <td>249.8924</td>\n",
       "      <td>245.2129</td>\n",
       "    </tr>\n",
       "    <tr>\n",
       "      <th>BREPUUS</th>\n",
       "      <td>78.0</td>\n",
       "      <td>78.0</td>\n",
       "      <td>78.0</td>\n",
       "    </tr>\n",
       "    <tr>\n",
       "      <th>WORL</th>\n",
       "      <td>NaN</td>\n",
       "      <td>NaN</td>\n",
       "      <td>NaN</td>\n",
       "    </tr>\n",
       "    <tr>\n",
       "      <th>RNGWHHD</th>\n",
       "      <td>NaN</td>\n",
       "      <td>NaN</td>\n",
       "      <td>NaN</td>\n",
       "    </tr>\n",
       "  </tbody>\n",
       "</table>\n",
       "</div>"
      ],
      "text/plain": [
       "                               417                  418                  419\n",
       "Date           2024-10-01 00:00:00  2024-11-01 00:00:00  2024-12-01 00:00:00\n",
       "WTIPUUS                       72.0                 72.0                 72.0\n",
       "COPR_OPEC                   29.202               28.991                28.88\n",
       "PAPR_NONOPEC             69.099035            69.352227            69.202363\n",
       "COPRPUS                   12.69427             12.84815             12.93507\n",
       "PATC_OECD                 46.39168            46.382377            46.983737\n",
       "PATC_NON_OECD            55.492283            56.535749            57.552057\n",
       "CICPIUS                   3.128954             3.133612             3.138122\n",
       "WPCPIUS                   2.388834             2.391997             2.396435\n",
       "WP57IUS                   2.401871             2.359443             2.308539\n",
       "ZOMNIUS                   102.5079             102.6802             102.8307\n",
       "PASC_OECD_T3           2934.096927          2940.438514          2919.799081\n",
       "PASXPUS                   1287.922             1284.902              1267.61\n",
       "COSQPUS                   345.2105             345.2105             345.2105\n",
       "COSXPUS                   472.9599             477.5722             469.5096\n",
       "MGWHUUS                   225.5785             217.9178             209.1272\n",
       "DSWHUUS                   252.6826             249.8924             245.2129\n",
       "BREPUUS                       78.0                 78.0                 78.0\n",
       "WORL                           NaN                  NaN                  NaN\n",
       "RNGWHHD                        NaN                  NaN                  NaN"
      ]
     },
     "metadata": {},
     "output_type": "display_data"
    }
   ],
   "source": [
    "display(df.tail(3).T)"
   ]
  },
  {
   "cell_type": "markdown",
   "id": "b3be79ff",
   "metadata": {},
   "source": [
    "## Store the data"
   ]
  },
  {
   "cell_type": "code",
   "execution_count": 11,
   "id": "9501b2b6",
   "metadata": {},
   "outputs": [],
   "source": [
    "# Change directory one step back and save as the root directory\n",
    "ROOT_DIR = os.path.normpath(os.getcwd() + os.sep + os.pardir)\n",
    "\n",
    "# Change direcotry to the 'data\\raw' folder\n",
    "path = ROOT_DIR + '\\\\data\\\\interim\\\\'"
   ]
  },
  {
   "cell_type": "code",
   "execution_count": 12,
   "id": "85509f74",
   "metadata": {},
   "outputs": [
    {
     "name": "stdout",
     "output_type": "stream",
     "text": [
      "Save:\n",
      " D:\\gitProjects\\WTI_Crude_Oil_Price_Prediction_Using_ML\\data\\interim\\eia_data.csv\n"
     ]
    }
   ],
   "source": [
    "# Set a file name\n",
    "file_data = path + 'eia_data.csv'\n",
    "df.to_csv(file_data)\n",
    "print('Save:\\n', file_data)"
   ]
  },
  {
   "cell_type": "code",
   "execution_count": 13,
   "id": "712b6679",
   "metadata": {},
   "outputs": [
    {
     "name": "stdout",
     "output_type": "stream",
     "text": [
      "Save:\n",
      " D:\\gitProjects\\WTI_Crude_Oil_Price_Prediction_Using_ML\\data\\interim\\eia_data_description.csv\n"
     ]
    }
   ],
   "source": [
    "#save meta data\n",
    "file_metadata = path + 'eia_data_description.csv'\n",
    "\n",
    "# Open a CSV file for writing\n",
    "with open(file_metadata, \"w\", newline=\"\") as file:\n",
    "    # Create a writer object\n",
    "    writer = csv.writer(file)\n",
    "    \n",
    "    # Write the dictionary to the CSV file with two columns\n",
    "    for key, value in feature_description.items():\n",
    "        writer.writerow([key, value])\n",
    "# Close the file\n",
    "print('Save:\\n', file_metadata)"
   ]
  },
  {
   "cell_type": "code",
   "execution_count": null,
   "id": "a3e48270",
   "metadata": {},
   "outputs": [],
   "source": []
  }
 ],
 "metadata": {
  "kernelspec": {
   "display_name": "Python 3 (ipykernel)",
   "language": "python",
   "name": "python3"
  },
  "language_info": {
   "codemirror_mode": {
    "name": "ipython",
    "version": 3
   },
   "file_extension": ".py",
   "mimetype": "text/x-python",
   "name": "python",
   "nbconvert_exporter": "python",
   "pygments_lexer": "ipython3",
   "version": "3.9.13"
  }
 },
 "nbformat": 4,
 "nbformat_minor": 5
}
