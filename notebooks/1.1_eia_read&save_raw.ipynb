{
 "cells": [
  {
   "cell_type": "markdown",
   "id": "66405bfb",
   "metadata": {},
   "source": [
    "# Read Data from EIA API"
   ]
  },
  {
   "cell_type": "markdown",
   "id": "01a78a48",
   "metadata": {},
   "source": [
    "The U.S. Energy Information Administration is committed to its free and open data by making it available through an Application Programming Interface (API) and its open data tools. EIA's API is multi-facetted and contains the following time-series data sets organized by the main energy categories."
   ]
  },
  {
   "cell_type": "markdown",
   "id": "e6ad78c7",
   "metadata": {},
   "source": [
    "## Libraries"
   ]
  },
  {
   "cell_type": "markdown",
   "id": "5600c86b",
   "metadata": {},
   "source": [
    "### Installation"
   ]
  },
  {
   "cell_type": "code",
   "execution_count": 5,
   "id": "99e2b518",
   "metadata": {},
   "outputs": [],
   "source": [
    "#pip install python-dotenv"
   ]
  },
  {
   "cell_type": "markdown",
   "id": "a2326916",
   "metadata": {},
   "source": [
    "### Import"
   ]
  },
  {
   "cell_type": "code",
   "execution_count": 2,
   "id": "41bf62e0",
   "metadata": {},
   "outputs": [],
   "source": [
    "#Import the required modules\n",
    "import os\n",
    "from dotenv import load_dotenv\n",
    "\n",
    "import requests\n",
    "import json\n",
    "\n",
    "import pandas as pd\n",
    "import numpy as np\n",
    "\n",
    "import pickle"
   ]
  },
  {
   "cell_type": "markdown",
   "id": "746311b4",
   "metadata": {},
   "source": [
    "## Load API key from \".env\""
   ]
  },
  {
   "cell_type": "code",
   "execution_count": 3,
   "id": "d17d480c",
   "metadata": {},
   "outputs": [],
   "source": [
    "#Load secret api_key from .env file\n",
    "load_dotenv()\n",
    "\n",
    "api_key = os.getenv('eia_api_key')\n",
    "#print('eia_api_key: ', api_key)"
   ]
  },
  {
   "cell_type": "markdown",
   "id": "7e2a265a",
   "metadata": {},
   "source": [
    "## Specify EIA features to import"
   ]
  },
  {
   "cell_type": "code",
   "execution_count": 12,
   "id": "c8f3a55b",
   "metadata": {},
   "outputs": [],
   "source": [
    "# List EIA feature names.\n",
    "FEATURE_NAMES = [\n",
    "    'wti_price',\n",
    "    'oil_production_opec',\n",
    "    'oil_production_nonopec',\n",
    "    'oil_production_world',\n",
    "    'henry_hub_ng_price',\n",
    "    'oil_production_us',\n",
    "    'petrol_consumption_oecd',\n",
    "    'petrol_consumption_nonoecd',\n",
    "    'us_cpi',\n",
    "    'us_ppi',\n",
    "    'us_ppi_petroleum',\n",
    "    'us_pmi',\n",
    "    'petroleum_inventory_oecd',\n",
    "    'crude_oil_inventory_total',\n",
    "    'crude_oil_inventory_spr',\n",
    "    'crude_oil_inventory_nonspr',\n",
    "    'refiner_wholesale_gasoline_price',\n",
    "    'refiner_wholesale_diesel_price',\n",
    "    'brent_price']\n",
    "\n",
    "# List EAT Series IDs for the features\n",
    "FEATURE_KEYS = [\n",
    "    'STEO.WTIPUUS.M',\n",
    "    'STEO.COPR_OPEC.M',\n",
    "    'STEO.PAPR_NONOPEC.M',\n",
    "    'INTL.55-1-WORL-TBPD.M',\n",
    "    'NG.RNGWHHD.M',\n",
    "    'STEO.COPRPUS.M',\n",
    "    'STEO.PATC_OECD.M',\n",
    "    'STEO.PATC_NON_OECD.M',\n",
    "    'STEO.CICPIUS.M',\n",
    "    'STEO.WPCPIUS.M',\n",
    "    'STEO.WP57IUS.M',\n",
    "    'STEO.ZOMNIUS.M',\n",
    "    'STEO.PASC_OECD_T3.M',\n",
    "    'STEO.PASXPUS.M',\n",
    "    'STEO.COSQPUS.M',\n",
    "    'STEO.COSXPUS.M',\n",
    "    'STEO.MGWHUUS.M',\n",
    "    'STEO.DSWHUUS.M',\n",
    "    'STEO.BREPUUS.M']"
   ]
  },
  {
   "cell_type": "markdown",
   "id": "da19c8a7",
   "metadata": {},
   "source": [
    "## Request to EIA API & store respose"
   ]
  },
  {
   "cell_type": "code",
   "execution_count": 13,
   "id": "f7ea0760",
   "metadata": {
    "scrolled": false
   },
   "outputs": [
    {
     "name": "stdout",
     "output_type": "stream",
     "text": [
      "Success:  STEO.WTIPUUS.M\n",
      "Success:  STEO.COPR_OPEC.M\n",
      "Success:  STEO.PAPR_NONOPEC.M\n",
      "Success:  INTL.55-1-WORL-TBPD.M\n",
      "Success:  NG.RNGWHHD.M\n",
      "Success:  STEO.COPRPUS.M\n",
      "Success:  STEO.PATC_OECD.M\n",
      "Success:  STEO.PATC_NON_OECD.M\n",
      "Success:  STEO.CICPIUS.M\n",
      "Success:  STEO.WPCPIUS.M\n",
      "Success:  STEO.WP57IUS.M\n",
      "Success:  STEO.ZOMNIUS.M\n",
      "Success:  STEO.PASC_OECD_T3.M\n",
      "Success:  STEO.PASXPUS.M\n",
      "Success:  STEO.COSQPUS.M\n",
      "Success:  STEO.COSXPUS.M\n",
      "Success:  STEO.MGWHUUS.M\n",
      "Success:  STEO.DSWHUUS.M\n",
      "Success:  STEO.BREPUUS.M\n"
     ]
    }
   ],
   "source": [
    "# Initialize list; this is the final list that will store all the data from the json pull. \n",
    "read_data = []\n",
    "\n",
    "# Pull in data via EIA API\n",
    "for i in range(len(FEATURE_KEYS)):\n",
    "    url = 'http://api.eia.gov/series/?api_key=' + api_key +'&series_id=' + FEATURE_KEYS[i]\n",
    "               \n",
    "    r = requests.get(url)\n",
    "    json_data = r.json()\n",
    "    \n",
    "    if r.status_code == 200:\n",
    "        print('Success: ', FEATURE_KEYS[i])\n",
    "    else:\n",
    "        print('Error!')\n",
    "    \n",
    "    # Cast the json pull to pandas dataframe\n",
    "    df = pd.DataFrame(json_data.get('series')[0].get('data'),\n",
    "                      columns = ['Date', FEATURE_NAMES[i]])\n",
    "    df['Date'] = pd.to_datetime(df['Date'], format='%Y%m', errors=\"raise\")\n",
    "    df.set_index('Date', drop=True, inplace=True)\n",
    "    \n",
    "    #display(df.head(3).T)\n",
    "    \n",
    "    # Concat the pandas dataframe into a list\n",
    "    read_data.append(df)"
   ]
  },
  {
   "cell_type": "markdown",
   "id": "32f5936a",
   "metadata": {},
   "source": [
    "## Cast all data to single DataFrame"
   ]
  },
  {
   "cell_type": "markdown",
   "id": "b99647ad",
   "metadata": {},
   "source": [
    "### Find the feature with most records to append all data"
   ]
  },
  {
   "cell_type": "code",
   "execution_count": 6,
   "id": "39f13f21",
   "metadata": {},
   "outputs": [
    {
     "name": "stdout",
     "output_type": "stream",
     "text": [
      "0: wti_price (1*408)\n",
      "1: oil_production_opec (1*372)\n",
      "2: oil_production_nonopec (1*372)\n",
      "3: oil_production_world (1*355)\n",
      "4: henry_hub_ng_price (1*310)\n",
      "5: oil_production_us (1*408)\n",
      "6: petrol_consumption_oecd (1*408)\n",
      "7: petrol_consumption_nonoecd (1*408)\n",
      "8: us_cpi (1*408)\n",
      "9: us_ppi (1*408)\n",
      "10: us_ppi_petroleum (1*408)\n",
      "11: us_pmi (1*408)\n",
      "12: petroleum_inventory_oecd (1*252)\n",
      "13: crude_oil_inventory_total (1*408)\n",
      "14: crude_oil_inventory_spr (1*408)\n",
      "15: crude_oil_inventory_nonspr (1*408)\n",
      "16: refiner_wholesale_gasoline_price (1*408)\n",
      "17: refiner_wholesale_diesel_price (1*408)\n",
      "18: brent_price (1*408)\n"
     ]
    }
   ],
   "source": [
    "#find the longest dataseries\n",
    "max_val = len(read_data[0])\n",
    "max_idx = 0\n",
    "\n",
    "# print field names and size for read_data\n",
    "for i in range(0, len(read_data)):\n",
    "    name = read_data[i].columns[0]\n",
    "    size = len(read_data[i])\n",
    "    phrase = str(i) + ': '+ name + ' (1*' + str(size) + ')'\n",
    "    \n",
    "    if size>max_val:\n",
    "        max_val = size\n",
    "        max_idx = i\n",
    "    \n",
    "    print(phrase)"
   ]
  },
  {
   "cell_type": "markdown",
   "id": "82f726e9",
   "metadata": {},
   "source": [
    "### Initiate a dataframe with biggest size feature\n",
    "Using the feature with biggest number of records as the first field ensures that all rows can be appended to the the dataframe"
   ]
  },
  {
   "cell_type": "code",
   "execution_count": 7,
   "id": "f4af777d",
   "metadata": {},
   "outputs": [
    {
     "data": {
      "text/html": [
       "<div>\n",
       "<style scoped>\n",
       "    .dataframe tbody tr th:only-of-type {\n",
       "        vertical-align: middle;\n",
       "    }\n",
       "\n",
       "    .dataframe tbody tr th {\n",
       "        vertical-align: top;\n",
       "    }\n",
       "\n",
       "    .dataframe thead th {\n",
       "        text-align: right;\n",
       "    }\n",
       "</style>\n",
       "<table border=\"1\" class=\"dataframe\">\n",
       "  <thead>\n",
       "    <tr style=\"text-align: right;\">\n",
       "      <th>Date</th>\n",
       "      <th>2023-12-01</th>\n",
       "      <th>2023-11-01</th>\n",
       "      <th>2023-10-01</th>\n",
       "    </tr>\n",
       "  </thead>\n",
       "  <tbody>\n",
       "    <tr>\n",
       "      <th>wti_price</th>\n",
       "      <td>92.0</td>\n",
       "      <td>92.0</td>\n",
       "      <td>91.0</td>\n",
       "    </tr>\n",
       "  </tbody>\n",
       "</table>\n",
       "</div>"
      ],
      "text/plain": [
       "Date       2023-12-01  2023-11-01  2023-10-01\n",
       "wti_price        92.0        92.0        91.0"
      ]
     },
     "metadata": {},
     "output_type": "display_data"
    }
   ],
   "source": [
    "#initiate the df with the the longest timeseries\n",
    "df = read_data[max_idx]\n",
    "df.index = df.index.astype('datetime64[ns]')\n",
    "display(df.head(3).T)"
   ]
  },
  {
   "cell_type": "markdown",
   "id": "d92f145c",
   "metadata": {},
   "source": [
    "### Merge_order all data frames"
   ]
  },
  {
   "cell_type": "code",
   "execution_count": 8,
   "id": "012ea417",
   "metadata": {},
   "outputs": [],
   "source": [
    "# Merge_order all data frames on date \n",
    "for i in range(0, len(read_data)):\n",
    "    if i != max_idx:\n",
    "        df_temp = read_data[i]\n",
    "        df_temp.index = df_temp.index.astype('datetime64[ns]')\n",
    "        df = pd.merge_ordered(df, df_temp, on = 'Date')"
   ]
  },
  {
   "cell_type": "markdown",
   "id": "be0c2e98",
   "metadata": {},
   "source": [
    "## Check the final dataframe"
   ]
  },
  {
   "cell_type": "code",
   "execution_count": 9,
   "id": "31cd0885",
   "metadata": {},
   "outputs": [
    {
     "data": {
      "text/html": [
       "<div>\n",
       "<style scoped>\n",
       "    .dataframe tbody tr th:only-of-type {\n",
       "        vertical-align: middle;\n",
       "    }\n",
       "\n",
       "    .dataframe tbody tr th {\n",
       "        vertical-align: top;\n",
       "    }\n",
       "\n",
       "    .dataframe thead th {\n",
       "        text-align: right;\n",
       "    }\n",
       "</style>\n",
       "<table border=\"1\" class=\"dataframe\">\n",
       "  <thead>\n",
       "    <tr style=\"text-align: right;\">\n",
       "      <th></th>\n",
       "      <th>405</th>\n",
       "      <th>406</th>\n",
       "      <th>407</th>\n",
       "    </tr>\n",
       "  </thead>\n",
       "  <tbody>\n",
       "    <tr>\n",
       "      <th>Date</th>\n",
       "      <td>2023-10-01 00:00:00</td>\n",
       "      <td>2023-11-01 00:00:00</td>\n",
       "      <td>2023-12-01 00:00:00</td>\n",
       "    </tr>\n",
       "    <tr>\n",
       "      <th>wti_price</th>\n",
       "      <td>91.0</td>\n",
       "      <td>92.0</td>\n",
       "      <td>92.0</td>\n",
       "    </tr>\n",
       "    <tr>\n",
       "      <th>oil_production_opec</th>\n",
       "      <td>28.724806</td>\n",
       "      <td>28.623965</td>\n",
       "      <td>28.623125</td>\n",
       "    </tr>\n",
       "    <tr>\n",
       "      <th>oil_production_nonopec</th>\n",
       "      <td>66.693706</td>\n",
       "      <td>66.887016</td>\n",
       "      <td>66.696367</td>\n",
       "    </tr>\n",
       "    <tr>\n",
       "      <th>oil_production_world</th>\n",
       "      <td>NaN</td>\n",
       "      <td>NaN</td>\n",
       "      <td>NaN</td>\n",
       "    </tr>\n",
       "    <tr>\n",
       "      <th>henry_hub_ng_price</th>\n",
       "      <td>NaN</td>\n",
       "      <td>NaN</td>\n",
       "      <td>NaN</td>\n",
       "    </tr>\n",
       "    <tr>\n",
       "      <th>oil_production_us</th>\n",
       "      <td>12.32337</td>\n",
       "      <td>12.53371</td>\n",
       "      <td>12.57993</td>\n",
       "    </tr>\n",
       "    <tr>\n",
       "      <th>petrol_consumption_oecd</th>\n",
       "      <td>45.911357</td>\n",
       "      <td>45.948852</td>\n",
       "      <td>46.613551</td>\n",
       "    </tr>\n",
       "    <tr>\n",
       "      <th>petrol_consumption_nonoecd</th>\n",
       "      <td>53.936641</td>\n",
       "      <td>54.878101</td>\n",
       "      <td>55.717633</td>\n",
       "    </tr>\n",
       "    <tr>\n",
       "      <th>us_cpi</th>\n",
       "      <td>3.076277</td>\n",
       "      <td>3.084238</td>\n",
       "      <td>3.091933</td>\n",
       "    </tr>\n",
       "    <tr>\n",
       "      <th>us_ppi</th>\n",
       "      <td>2.502491</td>\n",
       "      <td>2.503095</td>\n",
       "      <td>2.5033</td>\n",
       "    </tr>\n",
       "    <tr>\n",
       "      <th>us_ppi_petroleum</th>\n",
       "      <td>2.90782</td>\n",
       "      <td>2.912656</td>\n",
       "      <td>2.912809</td>\n",
       "    </tr>\n",
       "    <tr>\n",
       "      <th>us_pmi</th>\n",
       "      <td>102.1209</td>\n",
       "      <td>102.2842</td>\n",
       "      <td>102.4297</td>\n",
       "    </tr>\n",
       "    <tr>\n",
       "      <th>petroleum_inventory_oecd</th>\n",
       "      <td>2776.325045</td>\n",
       "      <td>2774.586455</td>\n",
       "      <td>2751.294139</td>\n",
       "    </tr>\n",
       "    <tr>\n",
       "      <th>crude_oil_inventory_total</th>\n",
       "      <td>1246.609</td>\n",
       "      <td>1239.468</td>\n",
       "      <td>1223.876</td>\n",
       "    </tr>\n",
       "    <tr>\n",
       "      <th>crude_oil_inventory_spr</th>\n",
       "      <td>347.2323</td>\n",
       "      <td>343.7323</td>\n",
       "      <td>340.2323</td>\n",
       "    </tr>\n",
       "    <tr>\n",
       "      <th>crude_oil_inventory_nonspr</th>\n",
       "      <td>438.4147</td>\n",
       "      <td>443.9043</td>\n",
       "      <td>434.6734</td>\n",
       "    </tr>\n",
       "    <tr>\n",
       "      <th>refiner_wholesale_gasoline_price</th>\n",
       "      <td>271.5339</td>\n",
       "      <td>271.0456</td>\n",
       "      <td>273.9042</td>\n",
       "    </tr>\n",
       "    <tr>\n",
       "      <th>refiner_wholesale_diesel_price</th>\n",
       "      <td>325.7732</td>\n",
       "      <td>324.9619</td>\n",
       "      <td>318.4039</td>\n",
       "    </tr>\n",
       "    <tr>\n",
       "      <th>brent_price</th>\n",
       "      <td>97.0</td>\n",
       "      <td>98.0</td>\n",
       "      <td>98.0</td>\n",
       "    </tr>\n",
       "  </tbody>\n",
       "</table>\n",
       "</div>"
      ],
      "text/plain": [
       "                                                  405                  406  \\\n",
       "Date                              2023-10-01 00:00:00  2023-11-01 00:00:00   \n",
       "wti_price                                        91.0                 92.0   \n",
       "oil_production_opec                         28.724806            28.623965   \n",
       "oil_production_nonopec                      66.693706            66.887016   \n",
       "oil_production_world                              NaN                  NaN   \n",
       "henry_hub_ng_price                                NaN                  NaN   \n",
       "oil_production_us                            12.32337             12.53371   \n",
       "petrol_consumption_oecd                     45.911357            45.948852   \n",
       "petrol_consumption_nonoecd                  53.936641            54.878101   \n",
       "us_cpi                                       3.076277             3.084238   \n",
       "us_ppi                                       2.502491             2.503095   \n",
       "us_ppi_petroleum                              2.90782             2.912656   \n",
       "us_pmi                                       102.1209             102.2842   \n",
       "petroleum_inventory_oecd                  2776.325045          2774.586455   \n",
       "crude_oil_inventory_total                    1246.609             1239.468   \n",
       "crude_oil_inventory_spr                      347.2323             343.7323   \n",
       "crude_oil_inventory_nonspr                   438.4147             443.9043   \n",
       "refiner_wholesale_gasoline_price             271.5339             271.0456   \n",
       "refiner_wholesale_diesel_price               325.7732             324.9619   \n",
       "brent_price                                      97.0                 98.0   \n",
       "\n",
       "                                                  407  \n",
       "Date                              2023-12-01 00:00:00  \n",
       "wti_price                                        92.0  \n",
       "oil_production_opec                         28.623125  \n",
       "oil_production_nonopec                      66.696367  \n",
       "oil_production_world                              NaN  \n",
       "henry_hub_ng_price                                NaN  \n",
       "oil_production_us                            12.57993  \n",
       "petrol_consumption_oecd                     46.613551  \n",
       "petrol_consumption_nonoecd                  55.717633  \n",
       "us_cpi                                       3.091933  \n",
       "us_ppi                                         2.5033  \n",
       "us_ppi_petroleum                             2.912809  \n",
       "us_pmi                                       102.4297  \n",
       "petroleum_inventory_oecd                  2751.294139  \n",
       "crude_oil_inventory_total                    1223.876  \n",
       "crude_oil_inventory_spr                      340.2323  \n",
       "crude_oil_inventory_nonspr                   434.6734  \n",
       "refiner_wholesale_gasoline_price             273.9042  \n",
       "refiner_wholesale_diesel_price               318.4039  \n",
       "brent_price                                      98.0  "
      ]
     },
     "metadata": {},
     "output_type": "display_data"
    }
   ],
   "source": [
    "display(df.tail(3).T)"
   ]
  },
  {
   "cell_type": "markdown",
   "id": "b3be79ff",
   "metadata": {},
   "source": [
    "## Store the data"
   ]
  },
  {
   "cell_type": "code",
   "execution_count": 10,
   "id": "9501b2b6",
   "metadata": {},
   "outputs": [
    {
     "name": "stdout",
     "output_type": "stream",
     "text": [
      "Save:\n",
      " D:\\gitProjects\\springboard_capstone_1\\Springboard_Capstone_01\\data\\interim\\eia_data_raw.csv\n"
     ]
    }
   ],
   "source": [
    "# Change directory one step back and save as the root directory\n",
    "ROOT_DIR = os.path.normpath(os.getcwd() + os.sep + os.pardir)\n",
    "\n",
    "# Change direcotry to the 'data\\raw' folder\n",
    "path = ROOT_DIR + '\\\\data\\\\interim\\\\'\n",
    "\n",
    "# Set a file name\n",
    "file_save = path + 'eia_data_raw.csv'\n",
    "df.to_csv(file_save)\n",
    "\n",
    "print('Save:\\n', file_save)"
   ]
  },
  {
   "cell_type": "code",
   "execution_count": null,
   "id": "85509f74",
   "metadata": {},
   "outputs": [],
   "source": []
  }
 ],
 "metadata": {
  "kernelspec": {
   "display_name": "Python 3 (ipykernel)",
   "language": "python",
   "name": "python3"
  },
  "language_info": {
   "codemirror_mode": {
    "name": "ipython",
    "version": 3
   },
   "file_extension": ".py",
   "mimetype": "text/x-python",
   "name": "python",
   "nbconvert_exporter": "python",
   "pygments_lexer": "ipython3",
   "version": "3.9.15"
  }
 },
 "nbformat": 4,
 "nbformat_minor": 5
}
