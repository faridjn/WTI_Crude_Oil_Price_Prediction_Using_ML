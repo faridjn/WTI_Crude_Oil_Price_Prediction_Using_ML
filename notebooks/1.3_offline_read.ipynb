{
 "cells": [
  {
   "attachments": {},
   "cell_type": "markdown",
   "id": "82ca45da",
   "metadata": {},
   "source": [
    "# Read Offline from CSV"
   ]
  },
  {
   "attachments": {},
   "cell_type": "markdown",
   "id": "aaedf67c",
   "metadata": {},
   "source": [
    "## Overview\n",
    "Data manually downloaded from\n",
    "\n",
    " - **WSJ.com**\n",
    "  \n",
    " - **Investing.com**\n",
    "\n",
    "  \n",
    "### Offline Data\n",
    "\n",
    "| No | Symbol | Index Name | Source | URL Address |\n",
    "| :--- | :----- | :----- | :---- | :----- |\n",
    "| 1 | GC | gold_futures | investing | [Gold Futures Historical Data](https://www.investing.com/commodities/gold-historical-data) |\n",
    "| 2 | DXY | usd_index | investing | [US Dollar Index Historical Data](https://www.investing.com/indices/usdollar-historical-data) |\n",
    "| 3 | HG | copper_futures | investing | [Copper Futures Historical Data](https://www.investing.com/commodities/copper-historical-data) |\n",
    "| 4 | COMP | nasdaq_comp | WSJ | [NASDAQ Composite Index](https://www.wsj.com/market-data/quotes/index/COMP/historical-prices) |\n",
    "| 5 | DJIA | dow_jones | WSJ | [Dow Jones Industrial Average](https://www.wsj.com/market-data/quotes/index/DJIA/historical-prices) |\n",
    "| 6 | SPX | sp500 | WSJ | [S&P 500 Index](https://www.wsj.com/market-data/quotes/index/SPX/historical-prices) |\n",
    "\n",
    "### Data fields\n",
    "\n",
    "WSJ: `['Date', 'Open', 'High', 'Low', 'Close']`\n",
    "\n",
    "Investing:`['Date', 'Price', 'Open','High','Low','Vol','Change']`"
   ]
  },
  {
   "attachments": {},
   "cell_type": "markdown",
   "id": "55020b25",
   "metadata": {},
   "source": [
    "## Import Libraries"
   ]
  },
  {
   "cell_type": "code",
   "execution_count": 1,
   "id": "235ddca7",
   "metadata": {},
   "outputs": [],
   "source": [
    "# import necessary libraries\n",
    "import pandas as pd\n",
    "import os\n",
    "import glob\n",
    "\n",
    "import pickle"
   ]
  },
  {
   "attachments": {},
   "cell_type": "markdown",
   "id": "580de8af",
   "metadata": {},
   "source": [
    "## Custom functions"
   ]
  },
  {
   "cell_type": "code",
   "execution_count": 2,
   "id": "f88d104c",
   "metadata": {},
   "outputs": [],
   "source": [
    "def monthly_average(df):\n",
    "    '''\n",
    "    Get a dataframe with daily records \n",
    "    and return a new df with monthly average\n",
    "    '''\n",
    "    \n",
    "    df['month'] = pd.DatetimeIndex(df.index).month\n",
    "    df['year'] = pd.DatetimeIndex(df.index).year\n",
    "    \n",
    "    dfg = df.groupby(['year','month'], as_index=False).mean()\n",
    "    dfg['Date'] = pd.to_datetime(dict(year = dfg.year, month = dfg.month, day = 1))\n",
    "    \n",
    "    dfg = dfg.drop(columns = ['month','year'])\n",
    "    \n",
    "    dfg.set_index('Date', drop=True, inplace=True)\n",
    "    \n",
    "    return dfg"
   ]
  },
  {
   "attachments": {},
   "cell_type": "markdown",
   "id": "04dc7f16",
   "metadata": {},
   "source": [
    "## Set Directories"
   ]
  },
  {
   "cell_type": "code",
   "execution_count": 3,
   "id": "8b8f3e8f",
   "metadata": {},
   "outputs": [
    {
     "name": "stdout",
     "output_type": "stream",
     "text": [
      "d:\\gitProjects\\WTI_Crude_Oil_Price_Prediction_Using_ML\\data\\raw\\\n"
     ]
    }
   ],
   "source": [
    "# Change directory one step back and save as the root directory\n",
    "ROOT_DIR = os.path.normpath(os.getcwd() + os.sep + os.pardir)\n",
    "\n",
    "# Change direcotry to the 'data\\raw' folder\n",
    "path = ROOT_DIR + '\\\\data\\\\raw\\\\'\n",
    "print(path)"
   ]
  },
  {
   "cell_type": "code",
   "execution_count": 4,
   "id": "ea8da272",
   "metadata": {},
   "outputs": [
    {
     "data": {
      "text/plain": [
       "['d:\\\\gitProjects\\\\WTI_Crude_Oil_Price_Prediction_Using_ML\\\\data\\\\raw\\\\copper_futures.csv',\n",
       " 'd:\\\\gitProjects\\\\WTI_Crude_Oil_Price_Prediction_Using_ML\\\\data\\\\raw\\\\dow_jones.csv',\n",
       " 'd:\\\\gitProjects\\\\WTI_Crude_Oil_Price_Prediction_Using_ML\\\\data\\\\raw\\\\gold_futures.csv',\n",
       " 'd:\\\\gitProjects\\\\WTI_Crude_Oil_Price_Prediction_Using_ML\\\\data\\\\raw\\\\nasdaq_comp.csv',\n",
       " 'd:\\\\gitProjects\\\\WTI_Crude_Oil_Price_Prediction_Using_ML\\\\data\\\\raw\\\\sp500.csv',\n",
       " 'd:\\\\gitProjects\\\\WTI_Crude_Oil_Price_Prediction_Using_ML\\\\data\\\\raw\\\\usd_index.csv']"
      ]
     },
     "metadata": {},
     "output_type": "display_data"
    }
   ],
   "source": [
    "# use glob to get all the csv files in the folder\n",
    "csv_files = glob.glob(os.path.join(path, \"*.csv\"))\n",
    "#dispaly csv file list\n",
    "display(csv_files)"
   ]
  },
  {
   "attachments": {},
   "cell_type": "markdown",
   "id": "1adccb03",
   "metadata": {},
   "source": [
    "## Load all CSV files"
   ]
  },
  {
   "cell_type": "code",
   "execution_count": 5,
   "id": "25508a7d",
   "metadata": {},
   "outputs": [],
   "source": [
    "def get_file_name(file_name):\n",
    "    '''\n",
    "    Get full file address and return the name\n",
    "    '''\n",
    "    name_ext = file_name.split(\"\\\\\")[-1]\n",
    "    name = name_ext.split(\".\")[0]\n",
    "    \n",
    "    return name"
   ]
  },
  {
   "cell_type": "code",
   "execution_count": 6,
   "id": "00d29e3c",
   "metadata": {},
   "outputs": [
    {
     "name": "stdout",
     "output_type": "stream",
     "text": [
      "Sucess: copper_futures\n"
     ]
    },
    {
     "data": {
      "text/html": [
       "<div>\n",
       "<style scoped>\n",
       "    .dataframe tbody tr th:only-of-type {\n",
       "        vertical-align: middle;\n",
       "    }\n",
       "\n",
       "    .dataframe tbody tr th {\n",
       "        vertical-align: top;\n",
       "    }\n",
       "\n",
       "    .dataframe thead th {\n",
       "        text-align: right;\n",
       "    }\n",
       "</style>\n",
       "<table border=\"1\" class=\"dataframe\">\n",
       "  <thead>\n",
       "    <tr style=\"text-align: right;\">\n",
       "      <th></th>\n",
       "      <th>copper_futures</th>\n",
       "    </tr>\n",
       "    <tr>\n",
       "      <th>Date</th>\n",
       "      <th></th>\n",
       "    </tr>\n",
       "  </thead>\n",
       "  <tbody>\n",
       "    <tr>\n",
       "      <th>2023-07-01</th>\n",
       "      <td>3.7690</td>\n",
       "    </tr>\n",
       "    <tr>\n",
       "      <th>2023-06-01</th>\n",
       "      <td>3.7595</td>\n",
       "    </tr>\n",
       "    <tr>\n",
       "      <th>2023-05-01</th>\n",
       "      <td>3.6370</td>\n",
       "    </tr>\n",
       "    <tr>\n",
       "      <th>2023-04-01</th>\n",
       "      <td>3.8812</td>\n",
       "    </tr>\n",
       "    <tr>\n",
       "      <th>2023-03-01</th>\n",
       "      <td>4.0945</td>\n",
       "    </tr>\n",
       "  </tbody>\n",
       "</table>\n",
       "</div>"
      ],
      "text/plain": [
       "            copper_futures\n",
       "Date                      \n",
       "2023-07-01          3.7690\n",
       "2023-06-01          3.7595\n",
       "2023-05-01          3.6370\n",
       "2023-04-01          3.8812\n",
       "2023-03-01          4.0945"
      ]
     },
     "metadata": {},
     "output_type": "display_data"
    },
    {
     "name": "stdout",
     "output_type": "stream",
     "text": [
      "Sucess: dow_jones\n"
     ]
    },
    {
     "data": {
      "text/html": [
       "<div>\n",
       "<style scoped>\n",
       "    .dataframe tbody tr th:only-of-type {\n",
       "        vertical-align: middle;\n",
       "    }\n",
       "\n",
       "    .dataframe tbody tr th {\n",
       "        vertical-align: top;\n",
       "    }\n",
       "\n",
       "    .dataframe thead th {\n",
       "        text-align: right;\n",
       "    }\n",
       "</style>\n",
       "<table border=\"1\" class=\"dataframe\">\n",
       "  <thead>\n",
       "    <tr style=\"text-align: right;\">\n",
       "      <th></th>\n",
       "      <th>dow_jones</th>\n",
       "    </tr>\n",
       "    <tr>\n",
       "      <th>Date</th>\n",
       "      <th></th>\n",
       "    </tr>\n",
       "  </thead>\n",
       "  <tbody>\n",
       "    <tr>\n",
       "      <th>2023-07-03</th>\n",
       "      <td>34418.47</td>\n",
       "    </tr>\n",
       "    <tr>\n",
       "      <th>2023-06-30</th>\n",
       "      <td>34407.60</td>\n",
       "    </tr>\n",
       "    <tr>\n",
       "      <th>2023-06-29</th>\n",
       "      <td>34122.42</td>\n",
       "    </tr>\n",
       "    <tr>\n",
       "      <th>2023-06-28</th>\n",
       "      <td>33852.66</td>\n",
       "    </tr>\n",
       "    <tr>\n",
       "      <th>2023-06-27</th>\n",
       "      <td>33926.74</td>\n",
       "    </tr>\n",
       "  </tbody>\n",
       "</table>\n",
       "</div>"
      ],
      "text/plain": [
       "            dow_jones\n",
       "Date                 \n",
       "2023-07-03   34418.47\n",
       "2023-06-30   34407.60\n",
       "2023-06-29   34122.42\n",
       "2023-06-28   33852.66\n",
       "2023-06-27   33926.74"
      ]
     },
     "metadata": {},
     "output_type": "display_data"
    },
    {
     "name": "stdout",
     "output_type": "stream",
     "text": [
      "Sucess: gold_futures\n"
     ]
    },
    {
     "data": {
      "text/html": [
       "<div>\n",
       "<style scoped>\n",
       "    .dataframe tbody tr th:only-of-type {\n",
       "        vertical-align: middle;\n",
       "    }\n",
       "\n",
       "    .dataframe tbody tr th {\n",
       "        vertical-align: top;\n",
       "    }\n",
       "\n",
       "    .dataframe thead th {\n",
       "        text-align: right;\n",
       "    }\n",
       "</style>\n",
       "<table border=\"1\" class=\"dataframe\">\n",
       "  <thead>\n",
       "    <tr style=\"text-align: right;\">\n",
       "      <th></th>\n",
       "      <th>gold_futures</th>\n",
       "    </tr>\n",
       "    <tr>\n",
       "      <th>Date</th>\n",
       "      <th></th>\n",
       "    </tr>\n",
       "  </thead>\n",
       "  <tbody>\n",
       "    <tr>\n",
       "      <th>2023-07-01</th>\n",
       "      <td>1931.55</td>\n",
       "    </tr>\n",
       "    <tr>\n",
       "      <th>2023-06-01</th>\n",
       "      <td>1929.40</td>\n",
       "    </tr>\n",
       "    <tr>\n",
       "      <th>2023-05-01</th>\n",
       "      <td>1982.10</td>\n",
       "    </tr>\n",
       "    <tr>\n",
       "      <th>2023-04-01</th>\n",
       "      <td>2018.30</td>\n",
       "    </tr>\n",
       "    <tr>\n",
       "      <th>2023-03-01</th>\n",
       "      <td>2004.10</td>\n",
       "    </tr>\n",
       "  </tbody>\n",
       "</table>\n",
       "</div>"
      ],
      "text/plain": [
       "            gold_futures\n",
       "Date                    \n",
       "2023-07-01       1931.55\n",
       "2023-06-01       1929.40\n",
       "2023-05-01       1982.10\n",
       "2023-04-01       2018.30\n",
       "2023-03-01       2004.10"
      ]
     },
     "metadata": {},
     "output_type": "display_data"
    },
    {
     "name": "stdout",
     "output_type": "stream",
     "text": [
      "Sucess: nasdaq_comp\n"
     ]
    },
    {
     "data": {
      "text/html": [
       "<div>\n",
       "<style scoped>\n",
       "    .dataframe tbody tr th:only-of-type {\n",
       "        vertical-align: middle;\n",
       "    }\n",
       "\n",
       "    .dataframe tbody tr th {\n",
       "        vertical-align: top;\n",
       "    }\n",
       "\n",
       "    .dataframe thead th {\n",
       "        text-align: right;\n",
       "    }\n",
       "</style>\n",
       "<table border=\"1\" class=\"dataframe\">\n",
       "  <thead>\n",
       "    <tr style=\"text-align: right;\">\n",
       "      <th></th>\n",
       "      <th>nasdaq_comp</th>\n",
       "    </tr>\n",
       "    <tr>\n",
       "      <th>Date</th>\n",
       "      <th></th>\n",
       "    </tr>\n",
       "  </thead>\n",
       "  <tbody>\n",
       "    <tr>\n",
       "      <th>2023-07-03</th>\n",
       "      <td>13816.77</td>\n",
       "    </tr>\n",
       "    <tr>\n",
       "      <th>2023-06-30</th>\n",
       "      <td>13787.92</td>\n",
       "    </tr>\n",
       "    <tr>\n",
       "      <th>2023-06-29</th>\n",
       "      <td>13591.33</td>\n",
       "    </tr>\n",
       "    <tr>\n",
       "      <th>2023-06-28</th>\n",
       "      <td>13591.75</td>\n",
       "    </tr>\n",
       "    <tr>\n",
       "      <th>2023-06-27</th>\n",
       "      <td>13555.67</td>\n",
       "    </tr>\n",
       "  </tbody>\n",
       "</table>\n",
       "</div>"
      ],
      "text/plain": [
       "            nasdaq_comp\n",
       "Date                   \n",
       "2023-07-03     13816.77\n",
       "2023-06-30     13787.92\n",
       "2023-06-29     13591.33\n",
       "2023-06-28     13591.75\n",
       "2023-06-27     13555.67"
      ]
     },
     "metadata": {},
     "output_type": "display_data"
    },
    {
     "name": "stdout",
     "output_type": "stream",
     "text": [
      "Sucess: sp500\n"
     ]
    },
    {
     "data": {
      "text/html": [
       "<div>\n",
       "<style scoped>\n",
       "    .dataframe tbody tr th:only-of-type {\n",
       "        vertical-align: middle;\n",
       "    }\n",
       "\n",
       "    .dataframe tbody tr th {\n",
       "        vertical-align: top;\n",
       "    }\n",
       "\n",
       "    .dataframe thead th {\n",
       "        text-align: right;\n",
       "    }\n",
       "</style>\n",
       "<table border=\"1\" class=\"dataframe\">\n",
       "  <thead>\n",
       "    <tr style=\"text-align: right;\">\n",
       "      <th></th>\n",
       "      <th>sp500</th>\n",
       "    </tr>\n",
       "    <tr>\n",
       "      <th>Date</th>\n",
       "      <th></th>\n",
       "    </tr>\n",
       "  </thead>\n",
       "  <tbody>\n",
       "    <tr>\n",
       "      <th>2023-07-03</th>\n",
       "      <td>4455.59</td>\n",
       "    </tr>\n",
       "    <tr>\n",
       "      <th>2023-06-30</th>\n",
       "      <td>4450.38</td>\n",
       "    </tr>\n",
       "    <tr>\n",
       "      <th>2023-06-29</th>\n",
       "      <td>4396.44</td>\n",
       "    </tr>\n",
       "    <tr>\n",
       "      <th>2023-06-28</th>\n",
       "      <td>4376.86</td>\n",
       "    </tr>\n",
       "    <tr>\n",
       "      <th>2023-06-27</th>\n",
       "      <td>4378.41</td>\n",
       "    </tr>\n",
       "  </tbody>\n",
       "</table>\n",
       "</div>"
      ],
      "text/plain": [
       "              sp500\n",
       "Date               \n",
       "2023-07-03  4455.59\n",
       "2023-06-30  4450.38\n",
       "2023-06-29  4396.44\n",
       "2023-06-28  4376.86\n",
       "2023-06-27  4378.41"
      ]
     },
     "metadata": {},
     "output_type": "display_data"
    },
    {
     "name": "stdout",
     "output_type": "stream",
     "text": [
      "Sucess: usd_index\n"
     ]
    },
    {
     "data": {
      "text/html": [
       "<div>\n",
       "<style scoped>\n",
       "    .dataframe tbody tr th:only-of-type {\n",
       "        vertical-align: middle;\n",
       "    }\n",
       "\n",
       "    .dataframe tbody tr th {\n",
       "        vertical-align: top;\n",
       "    }\n",
       "\n",
       "    .dataframe thead th {\n",
       "        text-align: right;\n",
       "    }\n",
       "</style>\n",
       "<table border=\"1\" class=\"dataframe\">\n",
       "  <thead>\n",
       "    <tr style=\"text-align: right;\">\n",
       "      <th></th>\n",
       "      <th>usd_index</th>\n",
       "    </tr>\n",
       "    <tr>\n",
       "      <th>Date</th>\n",
       "      <th></th>\n",
       "    </tr>\n",
       "  </thead>\n",
       "  <tbody>\n",
       "    <tr>\n",
       "      <th>2023-07-01</th>\n",
       "      <td>103.15</td>\n",
       "    </tr>\n",
       "    <tr>\n",
       "      <th>2023-06-01</th>\n",
       "      <td>102.91</td>\n",
       "    </tr>\n",
       "    <tr>\n",
       "      <th>2023-05-01</th>\n",
       "      <td>104.33</td>\n",
       "    </tr>\n",
       "    <tr>\n",
       "      <th>2023-04-01</th>\n",
       "      <td>101.66</td>\n",
       "    </tr>\n",
       "    <tr>\n",
       "      <th>2023-03-01</th>\n",
       "      <td>102.51</td>\n",
       "    </tr>\n",
       "  </tbody>\n",
       "</table>\n",
       "</div>"
      ],
      "text/plain": [
       "            usd_index\n",
       "Date                 \n",
       "2023-07-01     103.15\n",
       "2023-06-01     102.91\n",
       "2023-05-01     104.33\n",
       "2023-04-01     101.66\n",
       "2023-03-01     102.51"
      ]
     },
     "metadata": {},
     "output_type": "display_data"
    }
   ],
   "source": [
    "# Initialize list; this is the final list that will store all the data from the json pull. \n",
    "read_data = []\n",
    "\n",
    "# loop over the list of csv files\n",
    "for f in csv_files:\n",
    "    \n",
    "    # read the csv file    \n",
    "    df = pd.read_csv(f, sep = ',', thousands=',')\n",
    "        \n",
    "    if ' Close' in df.columns:\n",
    "        #rename column name\n",
    "        df.columns = ['Date', 'Open', 'High', 'Low', 'Close']\n",
    "        value = 'Close'\n",
    "        format_date = '%m/%d/%y'\n",
    "        \n",
    "        \n",
    "    if 'Price' in df.columns:\n",
    "        df.columns = ['Date', 'Price', 'Open','High','Low','Vol','Change']\n",
    "        value = 'Price'\n",
    "        format_date = '%m/%d/%Y'\n",
    "    \n",
    "    #select columns\n",
    "    df = df[['Date', value]]\n",
    "\n",
    "    #change data type to date and numeric\n",
    "    df['value'] = pd.to_numeric(df[value])\n",
    "    df['Date'] = pd.to_datetime(df['Date'], format=format_date, errors=\"raise\")\n",
    "    \n",
    "    df = df.drop(columns = [value])\n",
    "    df = df.rename(columns = {'value': get_file_name(f)}, errors=\"raise\")\n",
    "    \n",
    "    #set Date as index\n",
    "    df.set_index('Date', drop=True, inplace=True)\n",
    "    \n",
    "    print('Sucess:', get_file_name(f))\n",
    "    display(df.head())\n",
    "    \n",
    "    read_data.append(df)\n",
    "    # print the success report\n",
    "    \n"
   ]
  },
  {
   "attachments": {},
   "cell_type": "markdown",
   "id": "7397056c",
   "metadata": {},
   "source": [
    "## Data"
   ]
  },
  {
   "attachments": {},
   "cell_type": "markdown",
   "id": "6d0461be",
   "metadata": {},
   "source": [
    "### Print the features and sizes"
   ]
  },
  {
   "cell_type": "code",
   "execution_count": 7,
   "id": "c5a4a621",
   "metadata": {},
   "outputs": [
    {
     "name": "stdout",
     "output_type": "stream",
     "text": [
      "0: copper_futures (1*283)\n",
      "1: dow_jones (1*5912)\n",
      "2: gold_futures (1*283)\n",
      "3: nasdaq_comp (1*5912)\n",
      "4: sp500 (1*5912)\n",
      "5: usd_index (1*283)\n"
     ]
    }
   ],
   "source": [
    "for i in range(len(read_data)):\n",
    "    name = read_data[i].columns[0]\n",
    "    size = len(read_data[i])\n",
    "    phrase = str(i) + ': '+ name + ' (1*' + str(size) + ')'\n",
    "    print(phrase)"
   ]
  },
  {
   "attachments": {},
   "cell_type": "markdown",
   "id": "b58d2a01",
   "metadata": {},
   "source": [
    "### Merge_order all data frames"
   ]
  },
  {
   "cell_type": "code",
   "execution_count": 8,
   "id": "9738a81d",
   "metadata": {},
   "outputs": [],
   "source": [
    "df = read_data[0]\n",
    "dfg = monthly_average(df)\n",
    "dfg.index = pd.to_datetime(dfg.index, format = '%Y%m%d',errors='coerce')\n",
    "\n",
    "for df_temp in read_data[1:]:\n",
    "    dfg_temp = monthly_average(df_temp)\n",
    "    dfg_temp.index = pd.to_datetime(dfg_temp.index, format = '%Y%m%d',errors='coerce')\n",
    "    dfg = pd.merge_ordered(dfg, dfg_temp, on = 'Date')"
   ]
  },
  {
   "attachments": {},
   "cell_type": "markdown",
   "id": "0a9e6dd8",
   "metadata": {},
   "source": [
    "## Check the final dataframe"
   ]
  },
  {
   "cell_type": "code",
   "execution_count": 9,
   "id": "a1d2948c",
   "metadata": {},
   "outputs": [
    {
     "data": {
      "text/html": [
       "<div>\n",
       "<style scoped>\n",
       "    .dataframe tbody tr th:only-of-type {\n",
       "        vertical-align: middle;\n",
       "    }\n",
       "\n",
       "    .dataframe tbody tr th {\n",
       "        vertical-align: top;\n",
       "    }\n",
       "\n",
       "    .dataframe thead th {\n",
       "        text-align: right;\n",
       "    }\n",
       "</style>\n",
       "<table border=\"1\" class=\"dataframe\">\n",
       "  <thead>\n",
       "    <tr style=\"text-align: right;\">\n",
       "      <th></th>\n",
       "      <th>Date</th>\n",
       "      <th>copper_futures</th>\n",
       "      <th>dow_jones</th>\n",
       "      <th>gold_futures</th>\n",
       "      <th>nasdaq_comp</th>\n",
       "      <th>sp500</th>\n",
       "      <th>usd_index</th>\n",
       "    </tr>\n",
       "  </thead>\n",
       "  <tbody>\n",
       "    <tr>\n",
       "      <th>0</th>\n",
       "      <td>2000-01-01</td>\n",
       "      <td>0.85</td>\n",
       "      <td>11281.26</td>\n",
       "      <td>286.20</td>\n",
       "      <td>4013.49</td>\n",
       "      <td>1425.59</td>\n",
       "      <td>105.13</td>\n",
       "    </tr>\n",
       "    <tr>\n",
       "      <th>1</th>\n",
       "      <td>2000-02-01</td>\n",
       "      <td>0.80</td>\n",
       "      <td>10541.93</td>\n",
       "      <td>295.40</td>\n",
       "      <td>4410.87</td>\n",
       "      <td>1388.87</td>\n",
       "      <td>105.92</td>\n",
       "    </tr>\n",
       "    <tr>\n",
       "      <th>2</th>\n",
       "      <td>2000-03-01</td>\n",
       "      <td>0.81</td>\n",
       "      <td>10483.39</td>\n",
       "      <td>281.40</td>\n",
       "      <td>4802.99</td>\n",
       "      <td>1442.21</td>\n",
       "      <td>105.44</td>\n",
       "    </tr>\n",
       "    <tr>\n",
       "      <th>3</th>\n",
       "      <td>2000-04-01</td>\n",
       "      <td>0.80</td>\n",
       "      <td>10944.31</td>\n",
       "      <td>276.00</td>\n",
       "      <td>3863.64</td>\n",
       "      <td>1461.36</td>\n",
       "      <td>110.14</td>\n",
       "    </tr>\n",
       "    <tr>\n",
       "      <th>4</th>\n",
       "      <td>2000-05-01</td>\n",
       "      <td>0.82</td>\n",
       "      <td>10580.27</td>\n",
       "      <td>274.80</td>\n",
       "      <td>3528.42</td>\n",
       "      <td>1418.48</td>\n",
       "      <td>108.74</td>\n",
       "    </tr>\n",
       "    <tr>\n",
       "      <th>...</th>\n",
       "      <td>...</td>\n",
       "      <td>...</td>\n",
       "      <td>...</td>\n",
       "      <td>...</td>\n",
       "      <td>...</td>\n",
       "      <td>...</td>\n",
       "      <td>...</td>\n",
       "    </tr>\n",
       "    <tr>\n",
       "      <th>278</th>\n",
       "      <td>2023-03-01</td>\n",
       "      <td>4.09</td>\n",
       "      <td>32483.48</td>\n",
       "      <td>2004.10</td>\n",
       "      <td>11637.09</td>\n",
       "      <td>3968.56</td>\n",
       "      <td>102.51</td>\n",
       "    </tr>\n",
       "    <tr>\n",
       "      <th>279</th>\n",
       "      <td>2023-04-01</td>\n",
       "      <td>3.88</td>\n",
       "      <td>33731.28</td>\n",
       "      <td>2018.30</td>\n",
       "      <td>12073.46</td>\n",
       "      <td>4121.47</td>\n",
       "      <td>101.66</td>\n",
       "    </tr>\n",
       "    <tr>\n",
       "      <th>280</th>\n",
       "      <td>2023-05-01</td>\n",
       "      <td>3.64</td>\n",
       "      <td>33316.80</td>\n",
       "      <td>1982.10</td>\n",
       "      <td>12446.53</td>\n",
       "      <td>4146.17</td>\n",
       "      <td>104.33</td>\n",
       "    </tr>\n",
       "    <tr>\n",
       "      <th>281</th>\n",
       "      <td>2023-06-01</td>\n",
       "      <td>3.76</td>\n",
       "      <td>33904.98</td>\n",
       "      <td>1929.40</td>\n",
       "      <td>13463.78</td>\n",
       "      <td>4345.37</td>\n",
       "      <td>102.91</td>\n",
       "    </tr>\n",
       "    <tr>\n",
       "      <th>282</th>\n",
       "      <td>2023-07-01</td>\n",
       "      <td>3.77</td>\n",
       "      <td>34418.47</td>\n",
       "      <td>1931.55</td>\n",
       "      <td>13816.77</td>\n",
       "      <td>4455.59</td>\n",
       "      <td>103.15</td>\n",
       "    </tr>\n",
       "  </tbody>\n",
       "</table>\n",
       "<p>283 rows × 7 columns</p>\n",
       "</div>"
      ],
      "text/plain": [
       "          Date  copper_futures  dow_jones  gold_futures  nasdaq_comp    sp500  \\\n",
       "0   2000-01-01            0.85   11281.26        286.20      4013.49  1425.59   \n",
       "1   2000-02-01            0.80   10541.93        295.40      4410.87  1388.87   \n",
       "2   2000-03-01            0.81   10483.39        281.40      4802.99  1442.21   \n",
       "3   2000-04-01            0.80   10944.31        276.00      3863.64  1461.36   \n",
       "4   2000-05-01            0.82   10580.27        274.80      3528.42  1418.48   \n",
       "..         ...             ...        ...           ...          ...      ...   \n",
       "278 2023-03-01            4.09   32483.48       2004.10     11637.09  3968.56   \n",
       "279 2023-04-01            3.88   33731.28       2018.30     12073.46  4121.47   \n",
       "280 2023-05-01            3.64   33316.80       1982.10     12446.53  4146.17   \n",
       "281 2023-06-01            3.76   33904.98       1929.40     13463.78  4345.37   \n",
       "282 2023-07-01            3.77   34418.47       1931.55     13816.77  4455.59   \n",
       "\n",
       "     usd_index  \n",
       "0       105.13  \n",
       "1       105.92  \n",
       "2       105.44  \n",
       "3       110.14  \n",
       "4       108.74  \n",
       "..         ...  \n",
       "278     102.51  \n",
       "279     101.66  \n",
       "280     104.33  \n",
       "281     102.91  \n",
       "282     103.15  \n",
       "\n",
       "[283 rows x 7 columns]"
      ]
     },
     "metadata": {},
     "output_type": "display_data"
    }
   ],
   "source": [
    "display(dfg.round(2))"
   ]
  },
  {
   "attachments": {},
   "cell_type": "markdown",
   "id": "b044b49a",
   "metadata": {},
   "source": [
    "## Store the data"
   ]
  },
  {
   "cell_type": "code",
   "execution_count": 10,
   "id": "a4284d21",
   "metadata": {},
   "outputs": [
    {
     "name": "stdout",
     "output_type": "stream",
     "text": [
      "Save:\n",
      " d:\\gitProjects\\WTI_Crude_Oil_Price_Prediction_Using_ML\\data\\interim\\offline_data.csv\n"
     ]
    }
   ],
   "source": [
    "# Change direcotry to the 'data\\raw' folder\n",
    "save_dir = ROOT_DIR + '\\\\data\\\\interim\\\\'\n",
    "\n",
    "# Set a file name\n",
    "file_save = save_dir + 'offline_data.csv'\n",
    "dfg.to_csv(file_save)\n",
    "\n",
    "print('Save:\\n', file_save)"
   ]
  },
  {
   "cell_type": "code",
   "execution_count": null,
   "id": "daa828e4",
   "metadata": {},
   "outputs": [],
   "source": []
  }
 ],
 "metadata": {
  "kernelspec": {
   "display_name": "Python 3 (ipykernel)",
   "language": "python",
   "name": "python3"
  },
  "language_info": {
   "codemirror_mode": {
    "name": "ipython",
    "version": 3
   },
   "file_extension": ".py",
   "mimetype": "text/x-python",
   "name": "python",
   "nbconvert_exporter": "python",
   "pygments_lexer": "ipython3",
   "version": "3.8.16"
  }
 },
 "nbformat": 4,
 "nbformat_minor": 5
}
