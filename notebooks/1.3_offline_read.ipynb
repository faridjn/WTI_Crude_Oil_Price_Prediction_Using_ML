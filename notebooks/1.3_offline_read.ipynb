{
 "cells": [
  {
   "cell_type": "markdown",
   "id": "82ca45da",
   "metadata": {},
   "source": [
    "# Read Offline from CSV"
   ]
  },
  {
   "cell_type": "markdown",
   "id": "aaedf67c",
   "metadata": {},
   "source": [
    "## Overview\n",
    "Data manually downloaded from\n",
    "\n",
    " - **WSJ.com**\n",
    "  \n",
    " - **Investing.com**\n",
    "\n",
    "  \n",
    "### Offline Data\n",
    "\n",
    "| No | Symbol | Index Name | Source | URL Address |\n",
    "| :--- | :----- | :----- | :---- | :----- |\n",
    "| 1 | GC | gold_futures | investing | [Gold Futures Historical Data](https://www.investing.com/commodities/gold-historical-data) |\n",
    "| 2 | DXY | usd_index | investing | [US Dollar Index Historical Data](https://www.investing.com/indices/usdollar-historical-data) |\n",
    "| 3 | HG | copper_futures | investing | [Copper Futures Historical Data](https://www.investing.com/commodities/copper-historical-data) |\n",
    "| 4 | COMP | nasdaq_comp | WSJ | [NASDAQ Composite Index](https://www.wsj.com/market-data/quotes/index/COMP/historical-prices) |\n",
    "| 5 | DJIA | dow_jones | WSJ | [Dow Jones Industrial Average](https://www.wsj.com/market-data/quotes/index/DJIA/historical-prices) |\n",
    "| 6 | SPX | sp500 | WSJ | [S&P 500 Index](https://www.wsj.com/market-data/quotes/index/SPX/historical-prices) |\n",
    "\n",
    "### Data fields\n",
    "\n",
    "WSJ: `['Date', 'Open', 'High', 'Low', 'Close']`\n",
    "\n",
    "Investing:`['Date', 'Price', 'Open','High','Low','Vol','Change']`"
   ]
  },
  {
   "cell_type": "markdown",
   "id": "55020b25",
   "metadata": {},
   "source": [
    "## Import Libraries"
   ]
  },
  {
   "cell_type": "code",
   "execution_count": 1,
   "id": "235ddca7",
   "metadata": {},
   "outputs": [],
   "source": [
    "# import necessary libraries\n",
    "import pandas as pd\n",
    "import os\n",
    "import glob\n",
    "\n",
    "import pickle"
   ]
  },
  {
   "cell_type": "markdown",
   "id": "580de8af",
   "metadata": {},
   "source": [
    "## Custom functions"
   ]
  },
  {
   "cell_type": "code",
   "execution_count": 2,
   "id": "f88d104c",
   "metadata": {},
   "outputs": [],
   "source": [
    "def monthly_average(df):\n",
    "    '''\n",
    "    Get a dataframe with daily records \n",
    "    and return a new df with monthly average\n",
    "    '''\n",
    "    \n",
    "    df['month'] = pd.DatetimeIndex(df.index).month\n",
    "    df['year'] = pd.DatetimeIndex(df.index).year\n",
    "    \n",
    "    dfg = df.groupby(['year','month'], as_index=False).mean()\n",
    "    dfg['Date'] = pd.to_datetime(dict(year = dfg.year, month = dfg.month, day = 1))\n",
    "    \n",
    "    dfg = dfg.drop(columns = ['month','year'])\n",
    "    \n",
    "    dfg.set_index('Date', drop=True, inplace=True)\n",
    "    \n",
    "    return dfg"
   ]
  },
  {
   "cell_type": "markdown",
   "id": "04dc7f16",
   "metadata": {},
   "source": [
    "## Set Directories"
   ]
  },
  {
   "cell_type": "code",
   "execution_count": 3,
   "id": "8b8f3e8f",
   "metadata": {},
   "outputs": [
    {
     "name": "stdout",
     "output_type": "stream",
     "text": [
      "D:\\gitProjects\\WTI_Crude_Oil_Price_Prediction_Using_ML\\data\\raw\\\n"
     ]
    }
   ],
   "source": [
    "# Change directory one step back and save as the root directory\n",
    "ROOT_DIR = os.path.normpath(os.getcwd() + os.sep + os.pardir)\n",
    "\n",
    "# Change direcotry to the 'data\\raw' folder\n",
    "path = ROOT_DIR + '\\\\data\\\\raw\\\\'\n",
    "print(path)"
   ]
  },
  {
   "cell_type": "code",
   "execution_count": 4,
   "id": "ea8da272",
   "metadata": {},
   "outputs": [
    {
     "data": {
      "text/plain": [
       "['D:\\\\gitProjects\\\\WTI_Crude_Oil_Price_Prediction_Using_ML\\\\data\\\\raw\\\\copper_futures.csv',\n",
       " 'D:\\\\gitProjects\\\\WTI_Crude_Oil_Price_Prediction_Using_ML\\\\data\\\\raw\\\\dow_jones.csv',\n",
       " 'D:\\\\gitProjects\\\\WTI_Crude_Oil_Price_Prediction_Using_ML\\\\data\\\\raw\\\\gold_futures.csv',\n",
       " 'D:\\\\gitProjects\\\\WTI_Crude_Oil_Price_Prediction_Using_ML\\\\data\\\\raw\\\\nasdaq_comp.csv',\n",
       " 'D:\\\\gitProjects\\\\WTI_Crude_Oil_Price_Prediction_Using_ML\\\\data\\\\raw\\\\sp500.csv',\n",
       " 'D:\\\\gitProjects\\\\WTI_Crude_Oil_Price_Prediction_Using_ML\\\\data\\\\raw\\\\usd_index.csv']"
      ]
     },
     "metadata": {},
     "output_type": "display_data"
    }
   ],
   "source": [
    "# use glob to get all the csv files in the folder\n",
    "csv_files = glob.glob(os.path.join(path, \"*.csv\"))\n",
    "#dispaly csv file list\n",
    "display(csv_files)"
   ]
  },
  {
   "cell_type": "markdown",
   "id": "1adccb03",
   "metadata": {},
   "source": [
    "## Load all CSV files"
   ]
  },
  {
   "cell_type": "code",
   "execution_count": 5,
   "id": "25508a7d",
   "metadata": {},
   "outputs": [],
   "source": [
    "def get_file_name(file_name):\n",
    "    '''\n",
    "    Get full file address and return the name\n",
    "    '''\n",
    "    name_ext = file_name.split(\"\\\\\")[-1]\n",
    "    name = name_ext.split(\".\")[0]\n",
    "    \n",
    "    return name"
   ]
  },
  {
   "cell_type": "code",
   "execution_count": 6,
   "id": "00d29e3c",
   "metadata": {},
   "outputs": [
    {
     "name": "stdout",
     "output_type": "stream",
     "text": [
      "Sucess: copper_futures\n"
     ]
    },
    {
     "data": {
      "text/html": [
       "<div>\n",
       "<style scoped>\n",
       "    .dataframe tbody tr th:only-of-type {\n",
       "        vertical-align: middle;\n",
       "    }\n",
       "\n",
       "    .dataframe tbody tr th {\n",
       "        vertical-align: top;\n",
       "    }\n",
       "\n",
       "    .dataframe thead th {\n",
       "        text-align: right;\n",
       "    }\n",
       "</style>\n",
       "<table border=\"1\" class=\"dataframe\">\n",
       "  <thead>\n",
       "    <tr style=\"text-align: right;\">\n",
       "      <th></th>\n",
       "      <th>copper_futures</th>\n",
       "    </tr>\n",
       "    <tr>\n",
       "      <th>Date</th>\n",
       "      <th></th>\n",
       "    </tr>\n",
       "  </thead>\n",
       "  <tbody>\n",
       "    <tr>\n",
       "      <th>2019-10-28</th>\n",
       "      <td>2.6830</td>\n",
       "    </tr>\n",
       "    <tr>\n",
       "      <th>2019-10-25</th>\n",
       "      <td>2.6755</td>\n",
       "    </tr>\n",
       "    <tr>\n",
       "      <th>2019-10-24</th>\n",
       "      <td>2.6680</td>\n",
       "    </tr>\n",
       "    <tr>\n",
       "      <th>2019-10-23</th>\n",
       "      <td>2.6715</td>\n",
       "    </tr>\n",
       "    <tr>\n",
       "      <th>2019-10-22</th>\n",
       "      <td>2.6330</td>\n",
       "    </tr>\n",
       "  </tbody>\n",
       "</table>\n",
       "</div>"
      ],
      "text/plain": [
       "            copper_futures\n",
       "Date                      \n",
       "2019-10-28          2.6830\n",
       "2019-10-25          2.6755\n",
       "2019-10-24          2.6680\n",
       "2019-10-23          2.6715\n",
       "2019-10-22          2.6330"
      ]
     },
     "metadata": {},
     "output_type": "display_data"
    },
    {
     "name": "stdout",
     "output_type": "stream",
     "text": [
      "Sucess: dow_jones\n"
     ]
    },
    {
     "data": {
      "text/html": [
       "<div>\n",
       "<style scoped>\n",
       "    .dataframe tbody tr th:only-of-type {\n",
       "        vertical-align: middle;\n",
       "    }\n",
       "\n",
       "    .dataframe tbody tr th {\n",
       "        vertical-align: top;\n",
       "    }\n",
       "\n",
       "    .dataframe thead th {\n",
       "        text-align: right;\n",
       "    }\n",
       "</style>\n",
       "<table border=\"1\" class=\"dataframe\">\n",
       "  <thead>\n",
       "    <tr style=\"text-align: right;\">\n",
       "      <th></th>\n",
       "      <th>dow_jones</th>\n",
       "    </tr>\n",
       "    <tr>\n",
       "      <th>Date</th>\n",
       "      <th></th>\n",
       "    </tr>\n",
       "  </thead>\n",
       "  <tbody>\n",
       "    <tr>\n",
       "      <th>2023-12-29</th>\n",
       "      <td>37689.54</td>\n",
       "    </tr>\n",
       "    <tr>\n",
       "      <th>2023-12-28</th>\n",
       "      <td>37710.10</td>\n",
       "    </tr>\n",
       "    <tr>\n",
       "      <th>2023-12-27</th>\n",
       "      <td>37656.52</td>\n",
       "    </tr>\n",
       "    <tr>\n",
       "      <th>2023-12-26</th>\n",
       "      <td>37545.33</td>\n",
       "    </tr>\n",
       "    <tr>\n",
       "      <th>2023-12-22</th>\n",
       "      <td>37385.97</td>\n",
       "    </tr>\n",
       "  </tbody>\n",
       "</table>\n",
       "</div>"
      ],
      "text/plain": [
       "            dow_jones\n",
       "Date                 \n",
       "2023-12-29   37689.54\n",
       "2023-12-28   37710.10\n",
       "2023-12-27   37656.52\n",
       "2023-12-26   37545.33\n",
       "2023-12-22   37385.97"
      ]
     },
     "metadata": {},
     "output_type": "display_data"
    },
    {
     "name": "stdout",
     "output_type": "stream",
     "text": [
      "Sucess: gold_futures\n"
     ]
    },
    {
     "data": {
      "text/html": [
       "<div>\n",
       "<style scoped>\n",
       "    .dataframe tbody tr th:only-of-type {\n",
       "        vertical-align: middle;\n",
       "    }\n",
       "\n",
       "    .dataframe tbody tr th {\n",
       "        vertical-align: top;\n",
       "    }\n",
       "\n",
       "    .dataframe thead th {\n",
       "        text-align: right;\n",
       "    }\n",
       "</style>\n",
       "<table border=\"1\" class=\"dataframe\">\n",
       "  <thead>\n",
       "    <tr style=\"text-align: right;\">\n",
       "      <th></th>\n",
       "      <th>gold_futures</th>\n",
       "    </tr>\n",
       "    <tr>\n",
       "      <th>Date</th>\n",
       "      <th></th>\n",
       "    </tr>\n",
       "  </thead>\n",
       "  <tbody>\n",
       "    <tr>\n",
       "      <th>2019-08-13</th>\n",
       "      <td>1514.1</td>\n",
       "    </tr>\n",
       "    <tr>\n",
       "      <th>2019-08-12</th>\n",
       "      <td>1517.2</td>\n",
       "    </tr>\n",
       "    <tr>\n",
       "      <th>2019-08-09</th>\n",
       "      <td>1508.5</td>\n",
       "    </tr>\n",
       "    <tr>\n",
       "      <th>2019-08-08</th>\n",
       "      <td>1509.5</td>\n",
       "    </tr>\n",
       "    <tr>\n",
       "      <th>2019-08-07</th>\n",
       "      <td>1519.6</td>\n",
       "    </tr>\n",
       "  </tbody>\n",
       "</table>\n",
       "</div>"
      ],
      "text/plain": [
       "            gold_futures\n",
       "Date                    \n",
       "2019-08-13        1514.1\n",
       "2019-08-12        1517.2\n",
       "2019-08-09        1508.5\n",
       "2019-08-08        1509.5\n",
       "2019-08-07        1519.6"
      ]
     },
     "metadata": {},
     "output_type": "display_data"
    },
    {
     "name": "stdout",
     "output_type": "stream",
     "text": [
      "Sucess: nasdaq_comp\n"
     ]
    },
    {
     "data": {
      "text/html": [
       "<div>\n",
       "<style scoped>\n",
       "    .dataframe tbody tr th:only-of-type {\n",
       "        vertical-align: middle;\n",
       "    }\n",
       "\n",
       "    .dataframe tbody tr th {\n",
       "        vertical-align: top;\n",
       "    }\n",
       "\n",
       "    .dataframe thead th {\n",
       "        text-align: right;\n",
       "    }\n",
       "</style>\n",
       "<table border=\"1\" class=\"dataframe\">\n",
       "  <thead>\n",
       "    <tr style=\"text-align: right;\">\n",
       "      <th></th>\n",
       "      <th>nasdaq_comp</th>\n",
       "    </tr>\n",
       "    <tr>\n",
       "      <th>Date</th>\n",
       "      <th></th>\n",
       "    </tr>\n",
       "  </thead>\n",
       "  <tbody>\n",
       "    <tr>\n",
       "      <th>2023-12-29</th>\n",
       "      <td>15011.35</td>\n",
       "    </tr>\n",
       "    <tr>\n",
       "      <th>2023-12-28</th>\n",
       "      <td>15095.14</td>\n",
       "    </tr>\n",
       "    <tr>\n",
       "      <th>2023-12-27</th>\n",
       "      <td>15099.18</td>\n",
       "    </tr>\n",
       "    <tr>\n",
       "      <th>2023-12-26</th>\n",
       "      <td>15074.57</td>\n",
       "    </tr>\n",
       "    <tr>\n",
       "      <th>2023-12-22</th>\n",
       "      <td>14992.97</td>\n",
       "    </tr>\n",
       "  </tbody>\n",
       "</table>\n",
       "</div>"
      ],
      "text/plain": [
       "            nasdaq_comp\n",
       "Date                   \n",
       "2023-12-29     15011.35\n",
       "2023-12-28     15095.14\n",
       "2023-12-27     15099.18\n",
       "2023-12-26     15074.57\n",
       "2023-12-22     14992.97"
      ]
     },
     "metadata": {},
     "output_type": "display_data"
    },
    {
     "name": "stdout",
     "output_type": "stream",
     "text": [
      "Sucess: sp500\n"
     ]
    },
    {
     "data": {
      "text/html": [
       "<div>\n",
       "<style scoped>\n",
       "    .dataframe tbody tr th:only-of-type {\n",
       "        vertical-align: middle;\n",
       "    }\n",
       "\n",
       "    .dataframe tbody tr th {\n",
       "        vertical-align: top;\n",
       "    }\n",
       "\n",
       "    .dataframe thead th {\n",
       "        text-align: right;\n",
       "    }\n",
       "</style>\n",
       "<table border=\"1\" class=\"dataframe\">\n",
       "  <thead>\n",
       "    <tr style=\"text-align: right;\">\n",
       "      <th></th>\n",
       "      <th>sp500</th>\n",
       "    </tr>\n",
       "    <tr>\n",
       "      <th>Date</th>\n",
       "      <th></th>\n",
       "    </tr>\n",
       "  </thead>\n",
       "  <tbody>\n",
       "    <tr>\n",
       "      <th>2023-12-29</th>\n",
       "      <td>4769.83</td>\n",
       "    </tr>\n",
       "    <tr>\n",
       "      <th>2023-12-28</th>\n",
       "      <td>4783.35</td>\n",
       "    </tr>\n",
       "    <tr>\n",
       "      <th>2023-12-27</th>\n",
       "      <td>4781.58</td>\n",
       "    </tr>\n",
       "    <tr>\n",
       "      <th>2023-12-26</th>\n",
       "      <td>4774.75</td>\n",
       "    </tr>\n",
       "    <tr>\n",
       "      <th>2023-12-22</th>\n",
       "      <td>4754.63</td>\n",
       "    </tr>\n",
       "  </tbody>\n",
       "</table>\n",
       "</div>"
      ],
      "text/plain": [
       "              sp500\n",
       "Date               \n",
       "2023-12-29  4769.83\n",
       "2023-12-28  4783.35\n",
       "2023-12-27  4781.58\n",
       "2023-12-26  4774.75\n",
       "2023-12-22  4754.63"
      ]
     },
     "metadata": {},
     "output_type": "display_data"
    },
    {
     "name": "stdout",
     "output_type": "stream",
     "text": [
      "Sucess: usd_index\n"
     ]
    },
    {
     "data": {
      "text/html": [
       "<div>\n",
       "<style scoped>\n",
       "    .dataframe tbody tr th:only-of-type {\n",
       "        vertical-align: middle;\n",
       "    }\n",
       "\n",
       "    .dataframe tbody tr th {\n",
       "        vertical-align: top;\n",
       "    }\n",
       "\n",
       "    .dataframe thead th {\n",
       "        text-align: right;\n",
       "    }\n",
       "</style>\n",
       "<table border=\"1\" class=\"dataframe\">\n",
       "  <thead>\n",
       "    <tr style=\"text-align: right;\">\n",
       "      <th></th>\n",
       "      <th>usd_index</th>\n",
       "    </tr>\n",
       "    <tr>\n",
       "      <th>Date</th>\n",
       "      <th></th>\n",
       "    </tr>\n",
       "  </thead>\n",
       "  <tbody>\n",
       "    <tr>\n",
       "      <th>2019-05-10</th>\n",
       "      <td>97.33</td>\n",
       "    </tr>\n",
       "    <tr>\n",
       "      <th>2019-05-09</th>\n",
       "      <td>97.37</td>\n",
       "    </tr>\n",
       "    <tr>\n",
       "      <th>2019-05-08</th>\n",
       "      <td>97.62</td>\n",
       "    </tr>\n",
       "    <tr>\n",
       "      <th>2019-05-07</th>\n",
       "      <td>97.63</td>\n",
       "    </tr>\n",
       "    <tr>\n",
       "      <th>2019-05-06</th>\n",
       "      <td>97.52</td>\n",
       "    </tr>\n",
       "  </tbody>\n",
       "</table>\n",
       "</div>"
      ],
      "text/plain": [
       "            usd_index\n",
       "Date                 \n",
       "2019-05-10      97.33\n",
       "2019-05-09      97.37\n",
       "2019-05-08      97.62\n",
       "2019-05-07      97.63\n",
       "2019-05-06      97.52"
      ]
     },
     "metadata": {},
     "output_type": "display_data"
    }
   ],
   "source": [
    "# Initialize list; this is the final list that will store all the data from the json pull. \n",
    "read_data = []\n",
    "\n",
    "# loop over the list of csv files\n",
    "for f in csv_files:\n",
    "    \n",
    "    # read the csv file    \n",
    "    df = pd.read_csv(f, sep = ',', thousands=',')\n",
    "        \n",
    "    if ' Close' in df.columns:\n",
    "        #rename column name\n",
    "        df.columns = ['Date', 'Open', 'High', 'Low', 'Close']\n",
    "        value = 'Close'\n",
    "        format_date = '%m/%d/%y'\n",
    "        \n",
    "        \n",
    "    if 'Price' in df.columns:\n",
    "        df.columns = ['Date', 'Price', 'Open','High','Low','Vol','Change']\n",
    "        value = 'Price'\n",
    "        format_date = '%m/%d/%Y'\n",
    "    \n",
    "    #select columns\n",
    "    df = df[['Date', value]]\n",
    "\n",
    "    #change data type to date and numeric\n",
    "    df['value'] = pd.to_numeric(df[value])\n",
    "    df['Date'] = pd.to_datetime(df['Date'], format=format_date, errors=\"raise\")\n",
    "    \n",
    "    df = df.drop(columns = [value])\n",
    "    df = df.rename(columns = {'value': get_file_name(f)}, errors=\"raise\")\n",
    "    \n",
    "    #set Date as index\n",
    "    df.set_index('Date', drop=True, inplace=True)\n",
    "    \n",
    "    print('Sucess:', get_file_name(f))\n",
    "    display(df.head())\n",
    "    \n",
    "    read_data.append(df)\n",
    "    # print the success report\n",
    "    \n"
   ]
  },
  {
   "cell_type": "markdown",
   "id": "7397056c",
   "metadata": {},
   "source": [
    "## Data"
   ]
  },
  {
   "cell_type": "markdown",
   "id": "6d0461be",
   "metadata": {},
   "source": [
    "### Print the features and sizes"
   ]
  },
  {
   "cell_type": "code",
   "execution_count": 7,
   "id": "c5a4a621",
   "metadata": {},
   "outputs": [
    {
     "name": "stdout",
     "output_type": "stream",
     "text": [
      "0: copper_futures (1*5000)\n",
      "1: dow_jones (1*6037)\n",
      "2: gold_futures (1*5000)\n",
      "3: nasdaq_comp (1*6037)\n",
      "4: sp500 (1*6037)\n",
      "5: usd_index (1*5000)\n"
     ]
    }
   ],
   "source": [
    "for i in range(len(read_data)):\n",
    "    name = read_data[i].columns[0]\n",
    "    size = len(read_data[i])\n",
    "    phrase = str(i) + ': '+ name + ' (1*' + str(size) + ')'\n",
    "    print(phrase)"
   ]
  },
  {
   "cell_type": "markdown",
   "id": "b58d2a01",
   "metadata": {},
   "source": [
    "### Merge_order all data frames"
   ]
  },
  {
   "cell_type": "code",
   "execution_count": 8,
   "id": "9738a81d",
   "metadata": {},
   "outputs": [],
   "source": [
    "df = read_data[0]\n",
    "dfg = monthly_average(df)\n",
    "dfg.index = pd.to_datetime(dfg.index, format = '%Y%m%d',errors='coerce')\n",
    "\n",
    "for df_temp in read_data[1:]:\n",
    "    dfg_temp = monthly_average(df_temp)\n",
    "    dfg_temp.index = pd.to_datetime(dfg_temp.index, format = '%Y%m%d',errors='coerce')\n",
    "    dfg = pd.merge_ordered(dfg, dfg_temp, on = 'Date')"
   ]
  },
  {
   "cell_type": "markdown",
   "id": "0a9e6dd8",
   "metadata": {},
   "source": [
    "## Check the final dataframe"
   ]
  },
  {
   "cell_type": "code",
   "execution_count": 9,
   "id": "a1d2948c",
   "metadata": {},
   "outputs": [
    {
     "data": {
      "text/html": [
       "<div>\n",
       "<style scoped>\n",
       "    .dataframe tbody tr th:only-of-type {\n",
       "        vertical-align: middle;\n",
       "    }\n",
       "\n",
       "    .dataframe tbody tr th {\n",
       "        vertical-align: top;\n",
       "    }\n",
       "\n",
       "    .dataframe thead th {\n",
       "        text-align: right;\n",
       "    }\n",
       "</style>\n",
       "<table border=\"1\" class=\"dataframe\">\n",
       "  <thead>\n",
       "    <tr style=\"text-align: right;\">\n",
       "      <th></th>\n",
       "      <th>Date</th>\n",
       "      <th>copper_futures</th>\n",
       "      <th>dow_jones</th>\n",
       "      <th>gold_futures</th>\n",
       "      <th>nasdaq_comp</th>\n",
       "      <th>sp500</th>\n",
       "      <th>usd_index</th>\n",
       "    </tr>\n",
       "  </thead>\n",
       "  <tbody>\n",
       "    <tr>\n",
       "      <th>0</th>\n",
       "      <td>2000-01-01</td>\n",
       "      <td>0.86</td>\n",
       "      <td>11281.26</td>\n",
       "      <td>285.86</td>\n",
       "      <td>4013.49</td>\n",
       "      <td>1425.59</td>\n",
       "      <td>101.71</td>\n",
       "    </tr>\n",
       "    <tr>\n",
       "      <th>1</th>\n",
       "      <td>2000-02-01</td>\n",
       "      <td>0.83</td>\n",
       "      <td>10541.93</td>\n",
       "      <td>302.42</td>\n",
       "      <td>4410.87</td>\n",
       "      <td>1388.87</td>\n",
       "      <td>104.43</td>\n",
       "    </tr>\n",
       "    <tr>\n",
       "      <th>2</th>\n",
       "      <td>2000-03-01</td>\n",
       "      <td>0.81</td>\n",
       "      <td>10483.39</td>\n",
       "      <td>287.15</td>\n",
       "      <td>4802.99</td>\n",
       "      <td>1442.21</td>\n",
       "      <td>105.54</td>\n",
       "    </tr>\n",
       "    <tr>\n",
       "      <th>3</th>\n",
       "      <td>2000-04-01</td>\n",
       "      <td>0.78</td>\n",
       "      <td>10944.31</td>\n",
       "      <td>281.97</td>\n",
       "      <td>3863.64</td>\n",
       "      <td>1461.36</td>\n",
       "      <td>106.76</td>\n",
       "    </tr>\n",
       "    <tr>\n",
       "      <th>4</th>\n",
       "      <td>2000-05-01</td>\n",
       "      <td>0.83</td>\n",
       "      <td>10580.27</td>\n",
       "      <td>276.03</td>\n",
       "      <td>3528.42</td>\n",
       "      <td>1418.48</td>\n",
       "      <td>110.79</td>\n",
       "    </tr>\n",
       "    <tr>\n",
       "      <th>...</th>\n",
       "      <td>...</td>\n",
       "      <td>...</td>\n",
       "      <td>...</td>\n",
       "      <td>...</td>\n",
       "      <td>...</td>\n",
       "      <td>...</td>\n",
       "      <td>...</td>\n",
       "    </tr>\n",
       "    <tr>\n",
       "      <th>283</th>\n",
       "      <td>2023-08-01</td>\n",
       "      <td>NaN</td>\n",
       "      <td>34880.66</td>\n",
       "      <td>NaN</td>\n",
       "      <td>13743.21</td>\n",
       "      <td>4457.36</td>\n",
       "      <td>NaN</td>\n",
       "    </tr>\n",
       "    <tr>\n",
       "      <th>284</th>\n",
       "      <td>2023-09-01</td>\n",
       "      <td>NaN</td>\n",
       "      <td>34318.89</td>\n",
       "      <td>NaN</td>\n",
       "      <td>13585.84</td>\n",
       "      <td>4409.09</td>\n",
       "      <td>NaN</td>\n",
       "    </tr>\n",
       "    <tr>\n",
       "      <th>285</th>\n",
       "      <td>2023-10-01</td>\n",
       "      <td>NaN</td>\n",
       "      <td>33319.49</td>\n",
       "      <td>NaN</td>\n",
       "      <td>13199.43</td>\n",
       "      <td>4269.40</td>\n",
       "      <td>NaN</td>\n",
       "    </tr>\n",
       "    <tr>\n",
       "      <th>286</th>\n",
       "      <td>2023-11-01</td>\n",
       "      <td>NaN</td>\n",
       "      <td>34704.50</td>\n",
       "      <td>NaN</td>\n",
       "      <td>13913.16</td>\n",
       "      <td>4460.06</td>\n",
       "      <td>NaN</td>\n",
       "    </tr>\n",
       "    <tr>\n",
       "      <th>287</th>\n",
       "      <td>2023-12-01</td>\n",
       "      <td>NaN</td>\n",
       "      <td>36947.93</td>\n",
       "      <td>NaN</td>\n",
       "      <td>14690.49</td>\n",
       "      <td>4685.05</td>\n",
       "      <td>NaN</td>\n",
       "    </tr>\n",
       "  </tbody>\n",
       "</table>\n",
       "<p>288 rows × 7 columns</p>\n",
       "</div>"
      ],
      "text/plain": [
       "          Date  copper_futures  dow_jones  gold_futures  nasdaq_comp    sp500  \\\n",
       "0   2000-01-01            0.86   11281.26        285.86      4013.49  1425.59   \n",
       "1   2000-02-01            0.83   10541.93        302.42      4410.87  1388.87   \n",
       "2   2000-03-01            0.81   10483.39        287.15      4802.99  1442.21   \n",
       "3   2000-04-01            0.78   10944.31        281.97      3863.64  1461.36   \n",
       "4   2000-05-01            0.83   10580.27        276.03      3528.42  1418.48   \n",
       "..         ...             ...        ...           ...          ...      ...   \n",
       "283 2023-08-01             NaN   34880.66           NaN     13743.21  4457.36   \n",
       "284 2023-09-01             NaN   34318.89           NaN     13585.84  4409.09   \n",
       "285 2023-10-01             NaN   33319.49           NaN     13199.43  4269.40   \n",
       "286 2023-11-01             NaN   34704.50           NaN     13913.16  4460.06   \n",
       "287 2023-12-01             NaN   36947.93           NaN     14690.49  4685.05   \n",
       "\n",
       "     usd_index  \n",
       "0       101.71  \n",
       "1       104.43  \n",
       "2       105.54  \n",
       "3       106.76  \n",
       "4       110.79  \n",
       "..         ...  \n",
       "283        NaN  \n",
       "284        NaN  \n",
       "285        NaN  \n",
       "286        NaN  \n",
       "287        NaN  \n",
       "\n",
       "[288 rows x 7 columns]"
      ]
     },
     "metadata": {},
     "output_type": "display_data"
    }
   ],
   "source": [
    "display(dfg.round(2))"
   ]
  },
  {
   "cell_type": "markdown",
   "id": "b044b49a",
   "metadata": {},
   "source": [
    "## Store the data"
   ]
  },
  {
   "cell_type": "code",
   "execution_count": 10,
   "id": "a4284d21",
   "metadata": {},
   "outputs": [
    {
     "name": "stdout",
     "output_type": "stream",
     "text": [
      "Save:\n",
      " D:\\gitProjects\\WTI_Crude_Oil_Price_Prediction_Using_ML\\data\\interim\\offline_data.csv\n"
     ]
    }
   ],
   "source": [
    "# Change direcotry to the 'data\\raw' folder\n",
    "save_dir = ROOT_DIR + '\\\\data\\\\interim\\\\'\n",
    "\n",
    "# Set a file name\n",
    "file_save = save_dir + 'offline_data.csv'\n",
    "dfg.to_csv(file_save)\n",
    "\n",
    "print('Save:\\n', file_save)"
   ]
  },
  {
   "cell_type": "code",
   "execution_count": null,
   "id": "daa828e4",
   "metadata": {},
   "outputs": [],
   "source": []
  }
 ],
 "metadata": {
  "kernelspec": {
   "display_name": "Python 3 (ipykernel)",
   "language": "python",
   "name": "python3"
  },
  "language_info": {
   "codemirror_mode": {
    "name": "ipython",
    "version": 3
   },
   "file_extension": ".py",
   "mimetype": "text/x-python",
   "name": "python",
   "nbconvert_exporter": "python",
   "pygments_lexer": "ipython3",
   "version": "3.9.17"
  }
 },
 "nbformat": 4,
 "nbformat_minor": 5
}
