{
 "cells": [
  {
   "cell_type": "markdown",
   "id": "7787163a",
   "metadata": {},
   "source": [
    "# Read data from FRED API\n",
    "The FRED® API is a web service that allows developers to write programs and build applications that retrieve economic data from the FRED® and ALFRED® websites hosted by the Economic Research Division of the Federal Reserve Bank of St. Louis. Requests can be customized according to data source, release, category, series, and other preferences.\n",
    "https://fred.stlouisfed.org/docs/api/fred/"
   ]
  },
  {
   "cell_type": "markdown",
   "id": "bc59566d",
   "metadata": {},
   "source": [
    "## Import Libraries"
   ]
  },
  {
   "cell_type": "code",
   "execution_count": 1,
   "id": "41bf62e0",
   "metadata": {},
   "outputs": [],
   "source": [
    "#Import the required modules\n",
    "import os\n",
    "from dotenv import load_dotenv\n",
    "\n",
    "import requests\n",
    "import json\n",
    "\n",
    "import pandas as pd\n",
    "import numpy as np\n",
    "\n",
    "import pickle"
   ]
  },
  {
   "cell_type": "markdown",
   "id": "cb509764",
   "metadata": {},
   "source": [
    "## Load API key from \".env\""
   ]
  },
  {
   "cell_type": "code",
   "execution_count": 2,
   "id": "d17d480c",
   "metadata": {},
   "outputs": [],
   "source": [
    "#Load secret API key from .env file\n",
    "load_dotenv()\n",
    "\n",
    "fred_api_key = os.getenv('fred_api_key')\n",
    "#print('fred_api_key: ', fred_api_key)"
   ]
  },
  {
   "cell_type": "markdown",
   "id": "ee33ed11",
   "metadata": {},
   "source": [
    "## Specify FRED features to import"
   ]
  },
  {
   "cell_type": "code",
   "execution_count": 3,
   "id": "f5eda413",
   "metadata": {},
   "outputs": [],
   "source": [
    "#List of featres from api.stlouisfed.org\n",
    "\n",
    "FEATURE_KEYS = [\n",
    "    'FEDFUNDS',\n",
    "    'IGREA',\n",
    "    'USACPIENGMINMEI',\n",
    "    'EA19PIEAMI01GPM',\n",
    "    'RTWEXBGS',\n",
    "    'DEXUSEU',\n",
    "    'GEPUCURRENT']"
   ]
  },
  {
   "cell_type": "code",
   "execution_count": 4,
   "id": "6e87cb4e",
   "metadata": {},
   "outputs": [],
   "source": [
    "FEATURE_NAMES = [\"fedfund_effective\",\n",
    "\t\t\t\t\"global_real_econ_activity\",\n",
    "\t\t\t\t\"us_cpi_energy\",\n",
    "\t\t\t\t\"eu19_ppi\",\n",
    "\t\t\t\t\"real_dollar_index\",\n",
    "\t\t\t\t\"usd_eur_exchange\",\n",
    "\t\t\t\t\"global_econ_policy_uncert\"]"
   ]
  },
  {
   "cell_type": "markdown",
   "id": "26dd9c9d",
   "metadata": {},
   "source": [
    "## Request to FRED API & store respose"
   ]
  },
  {
   "cell_type": "code",
   "execution_count": 5,
   "id": "64c8ccc2",
   "metadata": {},
   "outputs": [
    {
     "name": "stdout",
     "output_type": "stream",
     "text": [
      "Success:  FEDFUNDS\n"
     ]
    },
    {
     "data": {
      "text/html": [
       "<div>\n",
       "<style scoped>\n",
       "    .dataframe tbody tr th:only-of-type {\n",
       "        vertical-align: middle;\n",
       "    }\n",
       "\n",
       "    .dataframe tbody tr th {\n",
       "        vertical-align: top;\n",
       "    }\n",
       "\n",
       "    .dataframe thead th {\n",
       "        text-align: right;\n",
       "    }\n",
       "</style>\n",
       "<table border=\"1\" class=\"dataframe\">\n",
       "  <thead>\n",
       "    <tr style=\"text-align: right;\">\n",
       "      <th></th>\n",
       "      <th>fedfund_effective</th>\n",
       "    </tr>\n",
       "    <tr>\n",
       "      <th>Date</th>\n",
       "      <th></th>\n",
       "    </tr>\n",
       "  </thead>\n",
       "  <tbody>\n",
       "    <tr>\n",
       "      <th>1954-07-01</th>\n",
       "      <td>0.80</td>\n",
       "    </tr>\n",
       "    <tr>\n",
       "      <th>1954-08-01</th>\n",
       "      <td>1.22</td>\n",
       "    </tr>\n",
       "  </tbody>\n",
       "</table>\n",
       "</div>"
      ],
      "text/plain": [
       "           fedfund_effective\n",
       "Date                        \n",
       "1954-07-01              0.80\n",
       "1954-08-01              1.22"
      ]
     },
     "metadata": {},
     "output_type": "display_data"
    },
    {
     "name": "stdout",
     "output_type": "stream",
     "text": [
      "Success:  IGREA\n"
     ]
    },
    {
     "data": {
      "text/html": [
       "<div>\n",
       "<style scoped>\n",
       "    .dataframe tbody tr th:only-of-type {\n",
       "        vertical-align: middle;\n",
       "    }\n",
       "\n",
       "    .dataframe tbody tr th {\n",
       "        vertical-align: top;\n",
       "    }\n",
       "\n",
       "    .dataframe thead th {\n",
       "        text-align: right;\n",
       "    }\n",
       "</style>\n",
       "<table border=\"1\" class=\"dataframe\">\n",
       "  <thead>\n",
       "    <tr style=\"text-align: right;\">\n",
       "      <th></th>\n",
       "      <th>global_real_econ_activity</th>\n",
       "    </tr>\n",
       "    <tr>\n",
       "      <th>Date</th>\n",
       "      <th></th>\n",
       "    </tr>\n",
       "  </thead>\n",
       "  <tbody>\n",
       "    <tr>\n",
       "      <th>1968-01-01</th>\n",
       "      <td>-12.775366</td>\n",
       "    </tr>\n",
       "    <tr>\n",
       "      <th>1968-02-01</th>\n",
       "      <td>-9.4520883</td>\n",
       "    </tr>\n",
       "  </tbody>\n",
       "</table>\n",
       "</div>"
      ],
      "text/plain": [
       "           global_real_econ_activity\n",
       "Date                                \n",
       "1968-01-01                -12.775366\n",
       "1968-02-01                -9.4520883"
      ]
     },
     "metadata": {},
     "output_type": "display_data"
    },
    {
     "name": "stdout",
     "output_type": "stream",
     "text": [
      "Success:  USACPIENGMINMEI\n"
     ]
    },
    {
     "data": {
      "text/html": [
       "<div>\n",
       "<style scoped>\n",
       "    .dataframe tbody tr th:only-of-type {\n",
       "        vertical-align: middle;\n",
       "    }\n",
       "\n",
       "    .dataframe tbody tr th {\n",
       "        vertical-align: top;\n",
       "    }\n",
       "\n",
       "    .dataframe thead th {\n",
       "        text-align: right;\n",
       "    }\n",
       "</style>\n",
       "<table border=\"1\" class=\"dataframe\">\n",
       "  <thead>\n",
       "    <tr style=\"text-align: right;\">\n",
       "      <th></th>\n",
       "      <th>us_cpi_energy</th>\n",
       "    </tr>\n",
       "    <tr>\n",
       "      <th>Date</th>\n",
       "      <th></th>\n",
       "    </tr>\n",
       "  </thead>\n",
       "  <tbody>\n",
       "    <tr>\n",
       "      <th>1960-01-01</th>\n",
       "      <td>11.0401932033811</td>\n",
       "    </tr>\n",
       "    <tr>\n",
       "      <th>1960-02-01</th>\n",
       "      <td>10.9909066265802</td>\n",
       "    </tr>\n",
       "  </tbody>\n",
       "</table>\n",
       "</div>"
      ],
      "text/plain": [
       "               us_cpi_energy\n",
       "Date                        \n",
       "1960-01-01  11.0401932033811\n",
       "1960-02-01  10.9909066265802"
      ]
     },
     "metadata": {},
     "output_type": "display_data"
    },
    {
     "name": "stdout",
     "output_type": "stream",
     "text": [
      "Success:  EA19PIEAMI01GPM\n"
     ]
    },
    {
     "data": {
      "text/html": [
       "<div>\n",
       "<style scoped>\n",
       "    .dataframe tbody tr th:only-of-type {\n",
       "        vertical-align: middle;\n",
       "    }\n",
       "\n",
       "    .dataframe tbody tr th {\n",
       "        vertical-align: top;\n",
       "    }\n",
       "\n",
       "    .dataframe thead th {\n",
       "        text-align: right;\n",
       "    }\n",
       "</style>\n",
       "<table border=\"1\" class=\"dataframe\">\n",
       "  <thead>\n",
       "    <tr style=\"text-align: right;\">\n",
       "      <th></th>\n",
       "      <th>eu19_ppi</th>\n",
       "    </tr>\n",
       "    <tr>\n",
       "      <th>Date</th>\n",
       "      <th></th>\n",
       "    </tr>\n",
       "  </thead>\n",
       "  <tbody>\n",
       "    <tr>\n",
       "      <th>2000-02-01</th>\n",
       "      <td>1.11317254174397</td>\n",
       "    </tr>\n",
       "    <tr>\n",
       "      <th>2000-03-01</th>\n",
       "      <td>1.10091743119266</td>\n",
       "    </tr>\n",
       "  </tbody>\n",
       "</table>\n",
       "</div>"
      ],
      "text/plain": [
       "                    eu19_ppi\n",
       "Date                        \n",
       "2000-02-01  1.11317254174397\n",
       "2000-03-01  1.10091743119266"
      ]
     },
     "metadata": {},
     "output_type": "display_data"
    },
    {
     "name": "stdout",
     "output_type": "stream",
     "text": [
      "Success:  RTWEXBGS\n"
     ]
    },
    {
     "data": {
      "text/html": [
       "<div>\n",
       "<style scoped>\n",
       "    .dataframe tbody tr th:only-of-type {\n",
       "        vertical-align: middle;\n",
       "    }\n",
       "\n",
       "    .dataframe tbody tr th {\n",
       "        vertical-align: top;\n",
       "    }\n",
       "\n",
       "    .dataframe thead th {\n",
       "        text-align: right;\n",
       "    }\n",
       "</style>\n",
       "<table border=\"1\" class=\"dataframe\">\n",
       "  <thead>\n",
       "    <tr style=\"text-align: right;\">\n",
       "      <th></th>\n",
       "      <th>real_dollar_index</th>\n",
       "    </tr>\n",
       "    <tr>\n",
       "      <th>Date</th>\n",
       "      <th></th>\n",
       "    </tr>\n",
       "  </thead>\n",
       "  <tbody>\n",
       "    <tr>\n",
       "      <th>2006-01-01</th>\n",
       "      <td>100.0</td>\n",
       "    </tr>\n",
       "    <tr>\n",
       "      <th>2006-02-01</th>\n",
       "      <td>100.2631</td>\n",
       "    </tr>\n",
       "  </tbody>\n",
       "</table>\n",
       "</div>"
      ],
      "text/plain": [
       "           real_dollar_index\n",
       "Date                        \n",
       "2006-01-01             100.0\n",
       "2006-02-01          100.2631"
      ]
     },
     "metadata": {},
     "output_type": "display_data"
    },
    {
     "name": "stdout",
     "output_type": "stream",
     "text": [
      "Success:  DEXUSEU\n"
     ]
    },
    {
     "data": {
      "text/html": [
       "<div>\n",
       "<style scoped>\n",
       "    .dataframe tbody tr th:only-of-type {\n",
       "        vertical-align: middle;\n",
       "    }\n",
       "\n",
       "    .dataframe tbody tr th {\n",
       "        vertical-align: top;\n",
       "    }\n",
       "\n",
       "    .dataframe thead th {\n",
       "        text-align: right;\n",
       "    }\n",
       "</style>\n",
       "<table border=\"1\" class=\"dataframe\">\n",
       "  <thead>\n",
       "    <tr style=\"text-align: right;\">\n",
       "      <th></th>\n",
       "      <th>usd_eur_exchange</th>\n",
       "    </tr>\n",
       "    <tr>\n",
       "      <th>Date</th>\n",
       "      <th></th>\n",
       "    </tr>\n",
       "  </thead>\n",
       "  <tbody>\n",
       "    <tr>\n",
       "      <th>1999-01-01</th>\n",
       "      <td>1.1591</td>\n",
       "    </tr>\n",
       "    <tr>\n",
       "      <th>1999-02-01</th>\n",
       "      <td>1.1203</td>\n",
       "    </tr>\n",
       "  </tbody>\n",
       "</table>\n",
       "</div>"
      ],
      "text/plain": [
       "           usd_eur_exchange\n",
       "Date                       \n",
       "1999-01-01           1.1591\n",
       "1999-02-01           1.1203"
      ]
     },
     "metadata": {},
     "output_type": "display_data"
    },
    {
     "name": "stdout",
     "output_type": "stream",
     "text": [
      "Success:  GEPUCURRENT\n"
     ]
    },
    {
     "data": {
      "text/html": [
       "<div>\n",
       "<style scoped>\n",
       "    .dataframe tbody tr th:only-of-type {\n",
       "        vertical-align: middle;\n",
       "    }\n",
       "\n",
       "    .dataframe tbody tr th {\n",
       "        vertical-align: top;\n",
       "    }\n",
       "\n",
       "    .dataframe thead th {\n",
       "        text-align: right;\n",
       "    }\n",
       "</style>\n",
       "<table border=\"1\" class=\"dataframe\">\n",
       "  <thead>\n",
       "    <tr style=\"text-align: right;\">\n",
       "      <th></th>\n",
       "      <th>global_econ_policy_uncert</th>\n",
       "    </tr>\n",
       "    <tr>\n",
       "      <th>Date</th>\n",
       "      <th></th>\n",
       "    </tr>\n",
       "  </thead>\n",
       "  <tbody>\n",
       "    <tr>\n",
       "      <th>1997-01-01</th>\n",
       "      <td>77.06179599547085</td>\n",
       "    </tr>\n",
       "    <tr>\n",
       "      <th>1997-02-01</th>\n",
       "      <td>79.94127058972009</td>\n",
       "    </tr>\n",
       "  </tbody>\n",
       "</table>\n",
       "</div>"
      ],
      "text/plain": [
       "           global_econ_policy_uncert\n",
       "Date                                \n",
       "1997-01-01         77.06179599547085\n",
       "1997-02-01         79.94127058972009"
      ]
     },
     "metadata": {},
     "output_type": "display_data"
    }
   ],
   "source": [
    "# Initialize list; this is the final list that will store all the data from the json pull. \n",
    "read_data = []\n",
    "i = 0\n",
    "\n",
    "# Pull in data via EIA API\n",
    "for feature in FEATURE_KEYS:\n",
    "    url = 'https://api.stlouisfed.org/fred/series/observations?series_id='+ feature +\\\n",
    "    '&frequency=m'+'&api_key='+fred_api_key+'&file_type=json'\n",
    "               \n",
    "    r = requests.get(url)\n",
    "    json_data = r.json()\n",
    "    \n",
    "    if r.status_code == 200:\n",
    "        print('Success: ', feature)\n",
    "    else:\n",
    "        print('Error!', r)\n",
    "    \n",
    "    # Cast the json pull to pandas dataframe\n",
    "    json_data = r.json()\n",
    "    df = pd.DataFrame.from_dict(json_data['observations'])\n",
    "    df = df.drop(columns = ['realtime_start','realtime_end'])\n",
    "    df = df.loc[df['value'] != '.']\n",
    "    df.columns = ['Date', FEATURE_NAMES[i]]\n",
    "    i += 1\n",
    "\n",
    "    df['Date'] = pd.to_datetime(df['Date'], format='%Y-%m-%d', errors=\"raise\")\n",
    "    df.set_index('Date', drop=True, inplace=True)\n",
    "    \n",
    "    display(df.head(2))\n",
    "    \n",
    "    # Concat the pandas dataframe into a list\n",
    "    read_data.append(df)"
   ]
  },
  {
   "cell_type": "markdown",
   "id": "ff77bbb4",
   "metadata": {},
   "source": [
    "## Cast all data to single DataFrame"
   ]
  },
  {
   "cell_type": "markdown",
   "id": "017c52fd",
   "metadata": {},
   "source": [
    "### Find the feature with most records to append all data"
   ]
  },
  {
   "cell_type": "code",
   "execution_count": 6,
   "id": "d93f6388",
   "metadata": {},
   "outputs": [
    {
     "name": "stdout",
     "output_type": "stream",
     "text": [
      "0: fedfund_effective (1*833)\n",
      "1: global_real_econ_activity (1*670)\n",
      "2: us_cpi_energy (1*766)\n",
      "3: eu19_ppi (1*275)\n",
      "4: real_dollar_index (1*215)\n",
      "5: usd_eur_exchange (1*299)\n",
      "6: global_econ_policy_uncert (1*323)\n"
     ]
    }
   ],
   "source": [
    "#find the longest dataseries\n",
    "max_val = len(read_data[0])\n",
    "max_idx = 0\n",
    "\n",
    "for i in range(0, len(read_data)):\n",
    "    name = read_data[i].columns[0]\n",
    "    size = len(read_data[i])\n",
    "    phrase = str(i) + ': '+ name + ' (1*' + str(size) + ')'\n",
    "    \n",
    "    if size>max_val:\n",
    "        max_val = size\n",
    "        max_idx = i\n",
    "    \n",
    "    print(phrase)"
   ]
  },
  {
   "cell_type": "markdown",
   "id": "a8564d0f",
   "metadata": {},
   "source": [
    "### Initiate a dataframe with biggest size feature\n",
    "Using the feature with biggest number of records as the first field ensures that all rows can be appended to the the dataframe"
   ]
  },
  {
   "cell_type": "code",
   "execution_count": 7,
   "id": "e244c35a",
   "metadata": {},
   "outputs": [],
   "source": [
    "#initiate the df with the the longest timeseries\n",
    "df = read_data[max_idx]\n",
    "df.index = df.index.astype('datetime64[ns]')"
   ]
  },
  {
   "cell_type": "markdown",
   "id": "2e4423f7",
   "metadata": {},
   "source": [
    "### Merge_order all data frames ON date "
   ]
  },
  {
   "cell_type": "code",
   "execution_count": 8,
   "id": "04e720ba",
   "metadata": {},
   "outputs": [],
   "source": [
    "for i in range(0, len(read_data)):\n",
    "    if i != max_idx:\n",
    "        df_temp = read_data[i]\n",
    "        df_temp.index = df_temp.index.astype('datetime64[ns]')\n",
    "        df = pd.merge_ordered(df, df_temp, on = 'Date')"
   ]
  },
  {
   "cell_type": "markdown",
   "id": "07711f07",
   "metadata": {},
   "source": [
    "## Check the final dataframe"
   ]
  },
  {
   "cell_type": "code",
   "execution_count": 9,
   "id": "3a1ec5fc",
   "metadata": {},
   "outputs": [
    {
     "data": {
      "text/html": [
       "<div>\n",
       "<style scoped>\n",
       "    .dataframe tbody tr th:only-of-type {\n",
       "        vertical-align: middle;\n",
       "    }\n",
       "\n",
       "    .dataframe tbody tr th {\n",
       "        vertical-align: top;\n",
       "    }\n",
       "\n",
       "    .dataframe thead th {\n",
       "        text-align: right;\n",
       "    }\n",
       "</style>\n",
       "<table border=\"1\" class=\"dataframe\">\n",
       "  <thead>\n",
       "    <tr style=\"text-align: right;\">\n",
       "      <th></th>\n",
       "      <th>0</th>\n",
       "      <th>1</th>\n",
       "      <th>2</th>\n",
       "      <th>3</th>\n",
       "      <th>4</th>\n",
       "    </tr>\n",
       "  </thead>\n",
       "  <tbody>\n",
       "    <tr>\n",
       "      <th>Date</th>\n",
       "      <td>1954-07-01 00:00:00</td>\n",
       "      <td>1954-08-01 00:00:00</td>\n",
       "      <td>1954-09-01 00:00:00</td>\n",
       "      <td>1954-10-01 00:00:00</td>\n",
       "      <td>1954-11-01 00:00:00</td>\n",
       "    </tr>\n",
       "    <tr>\n",
       "      <th>fedfund_effective</th>\n",
       "      <td>0.80</td>\n",
       "      <td>1.22</td>\n",
       "      <td>1.07</td>\n",
       "      <td>0.85</td>\n",
       "      <td>0.83</td>\n",
       "    </tr>\n",
       "    <tr>\n",
       "      <th>global_real_econ_activity</th>\n",
       "      <td>NaN</td>\n",
       "      <td>NaN</td>\n",
       "      <td>NaN</td>\n",
       "      <td>NaN</td>\n",
       "      <td>NaN</td>\n",
       "    </tr>\n",
       "    <tr>\n",
       "      <th>us_cpi_energy</th>\n",
       "      <td>NaN</td>\n",
       "      <td>NaN</td>\n",
       "      <td>NaN</td>\n",
       "      <td>NaN</td>\n",
       "      <td>NaN</td>\n",
       "    </tr>\n",
       "    <tr>\n",
       "      <th>eu19_ppi</th>\n",
       "      <td>NaN</td>\n",
       "      <td>NaN</td>\n",
       "      <td>NaN</td>\n",
       "      <td>NaN</td>\n",
       "      <td>NaN</td>\n",
       "    </tr>\n",
       "    <tr>\n",
       "      <th>real_dollar_index</th>\n",
       "      <td>NaN</td>\n",
       "      <td>NaN</td>\n",
       "      <td>NaN</td>\n",
       "      <td>NaN</td>\n",
       "      <td>NaN</td>\n",
       "    </tr>\n",
       "    <tr>\n",
       "      <th>usd_eur_exchange</th>\n",
       "      <td>NaN</td>\n",
       "      <td>NaN</td>\n",
       "      <td>NaN</td>\n",
       "      <td>NaN</td>\n",
       "      <td>NaN</td>\n",
       "    </tr>\n",
       "    <tr>\n",
       "      <th>global_econ_policy_uncert</th>\n",
       "      <td>NaN</td>\n",
       "      <td>NaN</td>\n",
       "      <td>NaN</td>\n",
       "      <td>NaN</td>\n",
       "      <td>NaN</td>\n",
       "    </tr>\n",
       "  </tbody>\n",
       "</table>\n",
       "</div>"
      ],
      "text/plain": [
       "                                             0                    1  \\\n",
       "Date                       1954-07-01 00:00:00  1954-08-01 00:00:00   \n",
       "fedfund_effective                         0.80                 1.22   \n",
       "global_real_econ_activity                  NaN                  NaN   \n",
       "us_cpi_energy                              NaN                  NaN   \n",
       "eu19_ppi                                   NaN                  NaN   \n",
       "real_dollar_index                          NaN                  NaN   \n",
       "usd_eur_exchange                           NaN                  NaN   \n",
       "global_econ_policy_uncert                  NaN                  NaN   \n",
       "\n",
       "                                             2                    3  \\\n",
       "Date                       1954-09-01 00:00:00  1954-10-01 00:00:00   \n",
       "fedfund_effective                         1.07                 0.85   \n",
       "global_real_econ_activity                  NaN                  NaN   \n",
       "us_cpi_energy                              NaN                  NaN   \n",
       "eu19_ppi                                   NaN                  NaN   \n",
       "real_dollar_index                          NaN                  NaN   \n",
       "usd_eur_exchange                           NaN                  NaN   \n",
       "global_econ_policy_uncert                  NaN                  NaN   \n",
       "\n",
       "                                             4  \n",
       "Date                       1954-11-01 00:00:00  \n",
       "fedfund_effective                         0.83  \n",
       "global_real_econ_activity                  NaN  \n",
       "us_cpi_energy                              NaN  \n",
       "eu19_ppi                                   NaN  \n",
       "real_dollar_index                          NaN  \n",
       "usd_eur_exchange                           NaN  \n",
       "global_econ_policy_uncert                  NaN  "
      ]
     },
     "metadata": {},
     "output_type": "display_data"
    }
   ],
   "source": [
    "display(df.head(5).T)"
   ]
  },
  {
   "cell_type": "code",
   "execution_count": 10,
   "id": "c06d21ea",
   "metadata": {},
   "outputs": [
    {
     "data": {
      "text/html": [
       "<div>\n",
       "<style scoped>\n",
       "    .dataframe tbody tr th:only-of-type {\n",
       "        vertical-align: middle;\n",
       "    }\n",
       "\n",
       "    .dataframe tbody tr th {\n",
       "        vertical-align: top;\n",
       "    }\n",
       "\n",
       "    .dataframe thead th {\n",
       "        text-align: right;\n",
       "    }\n",
       "</style>\n",
       "<table border=\"1\" class=\"dataframe\">\n",
       "  <thead>\n",
       "    <tr style=\"text-align: right;\">\n",
       "      <th></th>\n",
       "      <th>828</th>\n",
       "      <th>829</th>\n",
       "      <th>830</th>\n",
       "      <th>831</th>\n",
       "      <th>832</th>\n",
       "    </tr>\n",
       "  </thead>\n",
       "  <tbody>\n",
       "    <tr>\n",
       "      <th>Date</th>\n",
       "      <td>2023-07-01 00:00:00</td>\n",
       "      <td>2023-08-01 00:00:00</td>\n",
       "      <td>2023-09-01 00:00:00</td>\n",
       "      <td>2023-10-01 00:00:00</td>\n",
       "      <td>2023-11-01 00:00:00</td>\n",
       "    </tr>\n",
       "    <tr>\n",
       "      <th>fedfund_effective</th>\n",
       "      <td>5.12</td>\n",
       "      <td>5.33</td>\n",
       "      <td>5.33</td>\n",
       "      <td>5.33</td>\n",
       "      <td>5.33</td>\n",
       "    </tr>\n",
       "    <tr>\n",
       "      <th>global_real_econ_activity</th>\n",
       "      <td>-49.054046</td>\n",
       "      <td>-39.461639</td>\n",
       "      <td>-20.519327</td>\n",
       "      <td>8.9441529</td>\n",
       "      <td>NaN</td>\n",
       "    </tr>\n",
       "    <tr>\n",
       "      <th>us_cpi_energy</th>\n",
       "      <td>140.381970970206</td>\n",
       "      <td>145.064195766283</td>\n",
       "      <td>145.890238793465</td>\n",
       "      <td>141.33123043939</td>\n",
       "      <td>NaN</td>\n",
       "    </tr>\n",
       "    <tr>\n",
       "      <th>eu19_ppi</th>\n",
       "      <td>NaN</td>\n",
       "      <td>NaN</td>\n",
       "      <td>NaN</td>\n",
       "      <td>NaN</td>\n",
       "      <td>NaN</td>\n",
       "    </tr>\n",
       "    <tr>\n",
       "      <th>real_dollar_index</th>\n",
       "      <td>112.7081</td>\n",
       "      <td>114.4273</td>\n",
       "      <td>116.1886</td>\n",
       "      <td>117.7497</td>\n",
       "      <td>115.8498</td>\n",
       "    </tr>\n",
       "    <tr>\n",
       "      <th>usd_eur_exchange</th>\n",
       "      <td>1.1067</td>\n",
       "      <td>1.0910</td>\n",
       "      <td>1.0672</td>\n",
       "      <td>1.0565</td>\n",
       "      <td>1.0819</td>\n",
       "    </tr>\n",
       "    <tr>\n",
       "      <th>global_econ_policy_uncert</th>\n",
       "      <td>228.34093841876722</td>\n",
       "      <td>213.46043355857896</td>\n",
       "      <td>246.49124909282833</td>\n",
       "      <td>226.05515930683853</td>\n",
       "      <td>246.6281071096776</td>\n",
       "    </tr>\n",
       "  </tbody>\n",
       "</table>\n",
       "</div>"
      ],
      "text/plain": [
       "                                           828                  829  \\\n",
       "Date                       2023-07-01 00:00:00  2023-08-01 00:00:00   \n",
       "fedfund_effective                         5.12                 5.33   \n",
       "global_real_econ_activity           -49.054046           -39.461639   \n",
       "us_cpi_energy                 140.381970970206     145.064195766283   \n",
       "eu19_ppi                                   NaN                  NaN   \n",
       "real_dollar_index                     112.7081             114.4273   \n",
       "usd_eur_exchange                        1.1067               1.0910   \n",
       "global_econ_policy_uncert   228.34093841876722   213.46043355857896   \n",
       "\n",
       "                                           830                  831  \\\n",
       "Date                       2023-09-01 00:00:00  2023-10-01 00:00:00   \n",
       "fedfund_effective                         5.33                 5.33   \n",
       "global_real_econ_activity           -20.519327            8.9441529   \n",
       "us_cpi_energy                 145.890238793465      141.33123043939   \n",
       "eu19_ppi                                   NaN                  NaN   \n",
       "real_dollar_index                     116.1886             117.7497   \n",
       "usd_eur_exchange                        1.0672               1.0565   \n",
       "global_econ_policy_uncert   246.49124909282833   226.05515930683853   \n",
       "\n",
       "                                           832  \n",
       "Date                       2023-11-01 00:00:00  \n",
       "fedfund_effective                         5.33  \n",
       "global_real_econ_activity                  NaN  \n",
       "us_cpi_energy                              NaN  \n",
       "eu19_ppi                                   NaN  \n",
       "real_dollar_index                     115.8498  \n",
       "usd_eur_exchange                        1.0819  \n",
       "global_econ_policy_uncert    246.6281071096776  "
      ]
     },
     "metadata": {},
     "output_type": "display_data"
    }
   ],
   "source": [
    "display(df.tail(5).T)"
   ]
  },
  {
   "cell_type": "markdown",
   "id": "48f525f6",
   "metadata": {},
   "source": [
    "## Store the data"
   ]
  },
  {
   "cell_type": "code",
   "execution_count": 11,
   "id": "a2f0ef13",
   "metadata": {},
   "outputs": [
    {
     "name": "stdout",
     "output_type": "stream",
     "text": [
      "Save:\n",
      " D:\\gitProjects\\WTI_Crude_Oil_Price_Prediction_Using_ML\\data\\interim\\fred_data.csv\n"
     ]
    }
   ],
   "source": [
    "# Change directory one step back and save as the root directory\n",
    "ROOT_DIR = os.path.normpath(os.getcwd() + os.sep + os.pardir)\n",
    "\n",
    "# Change direcotry to the 'data\\raw' folder\n",
    "path = ROOT_DIR + '\\\\data\\\\interim\\\\'\n",
    "\n",
    "# Set a file name\n",
    "file_save = path + 'fred_data.csv'\n",
    "df.to_csv(file_save)\n",
    "\n",
    "print('Save:\\n', file_save)"
   ]
  },
  {
   "cell_type": "code",
   "execution_count": null,
   "id": "62b3f8bb",
   "metadata": {},
   "outputs": [],
   "source": []
  },
  {
   "cell_type": "code",
   "execution_count": null,
   "id": "79992673",
   "metadata": {},
   "outputs": [],
   "source": []
  }
 ],
 "metadata": {
  "kernelspec": {
   "display_name": "Python 3 (ipykernel)",
   "language": "python",
   "name": "python3"
  },
  "language_info": {
   "codemirror_mode": {
    "name": "ipython",
    "version": 3
   },
   "file_extension": ".py",
   "mimetype": "text/x-python",
   "name": "python",
   "nbconvert_exporter": "python",
   "pygments_lexer": "ipython3",
   "version": "3.9.17"
  }
 },
 "nbformat": 4,
 "nbformat_minor": 5
}
