{
 "cells": [
  {
   "cell_type": "markdown",
   "id": "7787163a",
   "metadata": {},
   "source": [
    "# Read data from FRED API\n",
    "The FRED® API is a web service that allows developers to write programs and build applications that retrieve economic data from the FRED® and ALFRED® websites hosted by the Economic Research Division of the Federal Reserve Bank of St. Louis. Requests can be customized according to data source, release, category, series, and other preferences.\n",
    "https://fred.stlouisfed.org/docs/api/fred/"
   ]
  },
  {
   "cell_type": "markdown",
   "id": "bc59566d",
   "metadata": {},
   "source": [
    "## Import Libraries"
   ]
  },
  {
   "cell_type": "code",
   "execution_count": 1,
   "id": "41bf62e0",
   "metadata": {},
   "outputs": [],
   "source": [
    "#Import the required modules\n",
    "import os\n",
    "from dotenv import load_dotenv\n",
    "\n",
    "import requests\n",
    "import json\n",
    "\n",
    "import pandas as pd\n",
    "import numpy as np\n",
    "\n",
    "import pickle"
   ]
  },
  {
   "cell_type": "markdown",
   "id": "cb509764",
   "metadata": {},
   "source": [
    "## Load API key from \".env\""
   ]
  },
  {
   "cell_type": "code",
   "execution_count": 2,
   "id": "d17d480c",
   "metadata": {},
   "outputs": [],
   "source": [
    "#Load secret API key from .env file\n",
    "load_dotenv()\n",
    "\n",
    "fred_api_key = os.getenv('fred_api_key')\n",
    "#print('fred_api_key: ', fred_api_key)"
   ]
  },
  {
   "cell_type": "markdown",
   "id": "ee33ed11",
   "metadata": {},
   "source": [
    "## Specify FRED features to import"
   ]
  },
  {
   "cell_type": "code",
   "execution_count": 3,
   "id": "f5eda413",
   "metadata": {},
   "outputs": [],
   "source": [
    "#List of featres from api.stlouisfed.org\n",
    "\n",
    "FEATURE_KEYS = [\n",
    "    'FEDFUNDS',\n",
    "    'IGREA',\n",
    "    'USACPIENGMINMEI',\n",
    "    'EA19PIEAMI01GPM',\n",
    "    'RTWEXBGS',\n",
    "    'DEXUSEU',\n",
    "    'GEPUCURRENT']"
   ]
  },
  {
   "cell_type": "markdown",
   "id": "26dd9c9d",
   "metadata": {},
   "source": [
    "## Request to FRED API & store respose"
   ]
  },
  {
   "cell_type": "code",
   "execution_count": 4,
   "id": "64c8ccc2",
   "metadata": {},
   "outputs": [
    {
     "name": "stdout",
     "output_type": "stream",
     "text": [
      "Success:  FEDFUNDS\n"
     ]
    },
    {
     "data": {
      "text/html": [
       "<div>\n",
       "<style scoped>\n",
       "    .dataframe tbody tr th:only-of-type {\n",
       "        vertical-align: middle;\n",
       "    }\n",
       "\n",
       "    .dataframe tbody tr th {\n",
       "        vertical-align: top;\n",
       "    }\n",
       "\n",
       "    .dataframe thead th {\n",
       "        text-align: right;\n",
       "    }\n",
       "</style>\n",
       "<table border=\"1\" class=\"dataframe\">\n",
       "  <thead>\n",
       "    <tr style=\"text-align: right;\">\n",
       "      <th></th>\n",
       "      <th>FEDFUNDS</th>\n",
       "    </tr>\n",
       "    <tr>\n",
       "      <th>Date</th>\n",
       "      <th></th>\n",
       "    </tr>\n",
       "  </thead>\n",
       "  <tbody>\n",
       "    <tr>\n",
       "      <th>1954-07-01</th>\n",
       "      <td>0.80</td>\n",
       "    </tr>\n",
       "    <tr>\n",
       "      <th>1954-08-01</th>\n",
       "      <td>1.22</td>\n",
       "    </tr>\n",
       "  </tbody>\n",
       "</table>\n",
       "</div>"
      ],
      "text/plain": [
       "           FEDFUNDS\n",
       "Date               \n",
       "1954-07-01     0.80\n",
       "1954-08-01     1.22"
      ]
     },
     "metadata": {},
     "output_type": "display_data"
    },
    {
     "name": "stdout",
     "output_type": "stream",
     "text": [
      "Success:  IGREA\n"
     ]
    },
    {
     "data": {
      "text/html": [
       "<div>\n",
       "<style scoped>\n",
       "    .dataframe tbody tr th:only-of-type {\n",
       "        vertical-align: middle;\n",
       "    }\n",
       "\n",
       "    .dataframe tbody tr th {\n",
       "        vertical-align: top;\n",
       "    }\n",
       "\n",
       "    .dataframe thead th {\n",
       "        text-align: right;\n",
       "    }\n",
       "</style>\n",
       "<table border=\"1\" class=\"dataframe\">\n",
       "  <thead>\n",
       "    <tr style=\"text-align: right;\">\n",
       "      <th></th>\n",
       "      <th>IGREA</th>\n",
       "    </tr>\n",
       "    <tr>\n",
       "      <th>Date</th>\n",
       "      <th></th>\n",
       "    </tr>\n",
       "  </thead>\n",
       "  <tbody>\n",
       "    <tr>\n",
       "      <th>1968-01-01</th>\n",
       "      <td>-12.175628</td>\n",
       "    </tr>\n",
       "    <tr>\n",
       "      <th>1968-02-01</th>\n",
       "      <td>-8.8550592</td>\n",
       "    </tr>\n",
       "  </tbody>\n",
       "</table>\n",
       "</div>"
      ],
      "text/plain": [
       "                 IGREA\n",
       "Date                  \n",
       "1968-01-01  -12.175628\n",
       "1968-02-01  -8.8550592"
      ]
     },
     "metadata": {},
     "output_type": "display_data"
    },
    {
     "name": "stdout",
     "output_type": "stream",
     "text": [
      "Success:  USACPIENGMINMEI\n"
     ]
    },
    {
     "data": {
      "text/html": [
       "<div>\n",
       "<style scoped>\n",
       "    .dataframe tbody tr th:only-of-type {\n",
       "        vertical-align: middle;\n",
       "    }\n",
       "\n",
       "    .dataframe tbody tr th {\n",
       "        vertical-align: top;\n",
       "    }\n",
       "\n",
       "    .dataframe thead th {\n",
       "        text-align: right;\n",
       "    }\n",
       "</style>\n",
       "<table border=\"1\" class=\"dataframe\">\n",
       "  <thead>\n",
       "    <tr style=\"text-align: right;\">\n",
       "      <th></th>\n",
       "      <th>USACPIENGMINMEI</th>\n",
       "    </tr>\n",
       "    <tr>\n",
       "      <th>Date</th>\n",
       "      <th></th>\n",
       "    </tr>\n",
       "  </thead>\n",
       "  <tbody>\n",
       "    <tr>\n",
       "      <th>1960-01-01</th>\n",
       "      <td>11.0401932033811</td>\n",
       "    </tr>\n",
       "    <tr>\n",
       "      <th>1960-02-01</th>\n",
       "      <td>10.9909066265802</td>\n",
       "    </tr>\n",
       "  </tbody>\n",
       "</table>\n",
       "</div>"
      ],
      "text/plain": [
       "             USACPIENGMINMEI\n",
       "Date                        \n",
       "1960-01-01  11.0401932033811\n",
       "1960-02-01  10.9909066265802"
      ]
     },
     "metadata": {},
     "output_type": "display_data"
    },
    {
     "name": "stdout",
     "output_type": "stream",
     "text": [
      "Success:  EA19PIEAMI01GPM\n"
     ]
    },
    {
     "data": {
      "text/html": [
       "<div>\n",
       "<style scoped>\n",
       "    .dataframe tbody tr th:only-of-type {\n",
       "        vertical-align: middle;\n",
       "    }\n",
       "\n",
       "    .dataframe tbody tr th {\n",
       "        vertical-align: top;\n",
       "    }\n",
       "\n",
       "    .dataframe thead th {\n",
       "        text-align: right;\n",
       "    }\n",
       "</style>\n",
       "<table border=\"1\" class=\"dataframe\">\n",
       "  <thead>\n",
       "    <tr style=\"text-align: right;\">\n",
       "      <th></th>\n",
       "      <th>EA19PIEAMI01GPM</th>\n",
       "    </tr>\n",
       "    <tr>\n",
       "      <th>Date</th>\n",
       "      <th></th>\n",
       "    </tr>\n",
       "  </thead>\n",
       "  <tbody>\n",
       "    <tr>\n",
       "      <th>2000-02-01</th>\n",
       "      <td>1.11317254174397</td>\n",
       "    </tr>\n",
       "    <tr>\n",
       "      <th>2000-03-01</th>\n",
       "      <td>1.10091743119266</td>\n",
       "    </tr>\n",
       "  </tbody>\n",
       "</table>\n",
       "</div>"
      ],
      "text/plain": [
       "             EA19PIEAMI01GPM\n",
       "Date                        \n",
       "2000-02-01  1.11317254174397\n",
       "2000-03-01  1.10091743119266"
      ]
     },
     "metadata": {},
     "output_type": "display_data"
    },
    {
     "name": "stdout",
     "output_type": "stream",
     "text": [
      "Success:  RTWEXBGS\n"
     ]
    },
    {
     "data": {
      "text/html": [
       "<div>\n",
       "<style scoped>\n",
       "    .dataframe tbody tr th:only-of-type {\n",
       "        vertical-align: middle;\n",
       "    }\n",
       "\n",
       "    .dataframe tbody tr th {\n",
       "        vertical-align: top;\n",
       "    }\n",
       "\n",
       "    .dataframe thead th {\n",
       "        text-align: right;\n",
       "    }\n",
       "</style>\n",
       "<table border=\"1\" class=\"dataframe\">\n",
       "  <thead>\n",
       "    <tr style=\"text-align: right;\">\n",
       "      <th></th>\n",
       "      <th>RTWEXBGS</th>\n",
       "    </tr>\n",
       "    <tr>\n",
       "      <th>Date</th>\n",
       "      <th></th>\n",
       "    </tr>\n",
       "  </thead>\n",
       "  <tbody>\n",
       "    <tr>\n",
       "      <th>2006-01-01</th>\n",
       "      <td>100.0</td>\n",
       "    </tr>\n",
       "    <tr>\n",
       "      <th>2006-02-01</th>\n",
       "      <td>100.2661</td>\n",
       "    </tr>\n",
       "  </tbody>\n",
       "</table>\n",
       "</div>"
      ],
      "text/plain": [
       "            RTWEXBGS\n",
       "Date                \n",
       "2006-01-01     100.0\n",
       "2006-02-01  100.2661"
      ]
     },
     "metadata": {},
     "output_type": "display_data"
    },
    {
     "name": "stdout",
     "output_type": "stream",
     "text": [
      "Success:  DEXUSEU\n"
     ]
    },
    {
     "data": {
      "text/html": [
       "<div>\n",
       "<style scoped>\n",
       "    .dataframe tbody tr th:only-of-type {\n",
       "        vertical-align: middle;\n",
       "    }\n",
       "\n",
       "    .dataframe tbody tr th {\n",
       "        vertical-align: top;\n",
       "    }\n",
       "\n",
       "    .dataframe thead th {\n",
       "        text-align: right;\n",
       "    }\n",
       "</style>\n",
       "<table border=\"1\" class=\"dataframe\">\n",
       "  <thead>\n",
       "    <tr style=\"text-align: right;\">\n",
       "      <th></th>\n",
       "      <th>DEXUSEU</th>\n",
       "    </tr>\n",
       "    <tr>\n",
       "      <th>Date</th>\n",
       "      <th></th>\n",
       "    </tr>\n",
       "  </thead>\n",
       "  <tbody>\n",
       "    <tr>\n",
       "      <th>1999-01-01</th>\n",
       "      <td>1.1591</td>\n",
       "    </tr>\n",
       "    <tr>\n",
       "      <th>1999-02-01</th>\n",
       "      <td>1.1203</td>\n",
       "    </tr>\n",
       "  </tbody>\n",
       "</table>\n",
       "</div>"
      ],
      "text/plain": [
       "           DEXUSEU\n",
       "Date              \n",
       "1999-01-01  1.1591\n",
       "1999-02-01  1.1203"
      ]
     },
     "metadata": {},
     "output_type": "display_data"
    },
    {
     "name": "stdout",
     "output_type": "stream",
     "text": [
      "Success:  GEPUCURRENT\n"
     ]
    },
    {
     "data": {
      "text/html": [
       "<div>\n",
       "<style scoped>\n",
       "    .dataframe tbody tr th:only-of-type {\n",
       "        vertical-align: middle;\n",
       "    }\n",
       "\n",
       "    .dataframe tbody tr th {\n",
       "        vertical-align: top;\n",
       "    }\n",
       "\n",
       "    .dataframe thead th {\n",
       "        text-align: right;\n",
       "    }\n",
       "</style>\n",
       "<table border=\"1\" class=\"dataframe\">\n",
       "  <thead>\n",
       "    <tr style=\"text-align: right;\">\n",
       "      <th></th>\n",
       "      <th>GEPUCURRENT</th>\n",
       "    </tr>\n",
       "    <tr>\n",
       "      <th>Date</th>\n",
       "      <th></th>\n",
       "    </tr>\n",
       "  </thead>\n",
       "  <tbody>\n",
       "    <tr>\n",
       "      <th>1997-01-01</th>\n",
       "      <td>76.90715771166178</td>\n",
       "    </tr>\n",
       "    <tr>\n",
       "      <th>1997-02-01</th>\n",
       "      <td>79.42550090048519</td>\n",
       "    </tr>\n",
       "  </tbody>\n",
       "</table>\n",
       "</div>"
      ],
      "text/plain": [
       "                  GEPUCURRENT\n",
       "Date                         \n",
       "1997-01-01  76.90715771166178\n",
       "1997-02-01  79.42550090048519"
      ]
     },
     "metadata": {},
     "output_type": "display_data"
    }
   ],
   "source": [
    "# Initialize list; this is the final list that will store all the data from the json pull. \n",
    "read_data = []\n",
    "\n",
    "# Pull in data via EIA API\n",
    "for feature in FEATURE_KEYS:\n",
    "    url = 'https://api.stlouisfed.org/fred/series/observations?series_id='+ feature +\\\n",
    "    '&frequency=m'+'&api_key='+fred_api_key+'&file_type=json'\n",
    "               \n",
    "    r = requests.get(url)\n",
    "    json_data = r.json()\n",
    "    \n",
    "    if r.status_code == 200:\n",
    "        print('Success: ', feature)\n",
    "    else:\n",
    "        print('Error!', r)\n",
    "    \n",
    "    # Cast the json pull to pandas dataframe\n",
    "    json_data = r.json()\n",
    "    df = pd.DataFrame.from_dict(json_data['observations'])\n",
    "    df = df.drop(columns = ['realtime_start','realtime_end'])\n",
    "    df = df.loc[df['value'] != '.']\n",
    "    df.columns = ['Date', feature]\n",
    "    df['Date'] = pd.to_datetime(df['Date'], format='%Y-%m-%d', errors=\"raise\")\n",
    "    df.set_index('Date', drop=True, inplace=True)\n",
    "    \n",
    "    display(df.head(2))\n",
    "    \n",
    "    # Concat the pandas dataframe into a list\n",
    "    read_data.append(df)"
   ]
  },
  {
   "cell_type": "markdown",
   "id": "ff77bbb4",
   "metadata": {},
   "source": [
    "## Cast all data to single DataFrame"
   ]
  },
  {
   "cell_type": "markdown",
   "id": "017c52fd",
   "metadata": {},
   "source": [
    "### Find the feature with most records to append all data"
   ]
  },
  {
   "cell_type": "code",
   "execution_count": 5,
   "id": "d93f6388",
   "metadata": {},
   "outputs": [
    {
     "name": "stdout",
     "output_type": "stream",
     "text": [
      "0: FEDFUNDS (1*825)\n",
      "1: IGREA (1*662)\n",
      "2: USACPIENGMINMEI (1*757)\n",
      "3: EA19PIEAMI01GPM (1*275)\n",
      "4: RTWEXBGS (1*207)\n",
      "5: DEXUSEU (1*291)\n",
      "6: GEPUCURRENT (1*312)\n"
     ]
    }
   ],
   "source": [
    "#find the longest dataseries\n",
    "max_val = len(read_data[0])\n",
    "max_idx = 0\n",
    "\n",
    "for i in range(0, len(read_data)):\n",
    "    name = read_data[i].columns[0]\n",
    "    size = len(read_data[i])\n",
    "    phrase = str(i) + ': '+ name + ' (1*' + str(size) + ')'\n",
    "    \n",
    "    if size>max_val:\n",
    "        max_val = size\n",
    "        max_idx = i\n",
    "    \n",
    "    print(phrase)"
   ]
  },
  {
   "cell_type": "markdown",
   "id": "a8564d0f",
   "metadata": {},
   "source": [
    "### Initiate a dataframe with biggest size feature\n",
    "Using the feature with biggest number of records as the first field ensures that all rows can be appended to the the dataframe"
   ]
  },
  {
   "cell_type": "code",
   "execution_count": 6,
   "id": "e244c35a",
   "metadata": {},
   "outputs": [],
   "source": [
    "#initiate the df with the the longest timeseries\n",
    "df = read_data[max_idx]\n",
    "df.index = df.index.astype('datetime64[ns]')"
   ]
  },
  {
   "cell_type": "markdown",
   "id": "2e4423f7",
   "metadata": {},
   "source": [
    "### Merge_order all data frames ON date "
   ]
  },
  {
   "cell_type": "code",
   "execution_count": 7,
   "id": "04e720ba",
   "metadata": {},
   "outputs": [],
   "source": [
    "for i in range(0, len(read_data)):\n",
    "    if i != max_idx:\n",
    "        df_temp = read_data[i]\n",
    "        df_temp.index = df_temp.index.astype('datetime64[ns]')\n",
    "        df = pd.merge_ordered(df, df_temp, on = 'Date')"
   ]
  },
  {
   "cell_type": "markdown",
   "id": "07711f07",
   "metadata": {},
   "source": [
    "## Check the final dataframe"
   ]
  },
  {
   "cell_type": "code",
   "execution_count": 8,
   "id": "3a1ec5fc",
   "metadata": {},
   "outputs": [
    {
     "data": {
      "text/html": [
       "<div>\n",
       "<style scoped>\n",
       "    .dataframe tbody tr th:only-of-type {\n",
       "        vertical-align: middle;\n",
       "    }\n",
       "\n",
       "    .dataframe tbody tr th {\n",
       "        vertical-align: top;\n",
       "    }\n",
       "\n",
       "    .dataframe thead th {\n",
       "        text-align: right;\n",
       "    }\n",
       "</style>\n",
       "<table border=\"1\" class=\"dataframe\">\n",
       "  <thead>\n",
       "    <tr style=\"text-align: right;\">\n",
       "      <th></th>\n",
       "      <th>0</th>\n",
       "      <th>1</th>\n",
       "      <th>2</th>\n",
       "      <th>3</th>\n",
       "      <th>4</th>\n",
       "    </tr>\n",
       "  </thead>\n",
       "  <tbody>\n",
       "    <tr>\n",
       "      <th>Date</th>\n",
       "      <td>1954-07-01 00:00:00</td>\n",
       "      <td>1954-08-01 00:00:00</td>\n",
       "      <td>1954-09-01 00:00:00</td>\n",
       "      <td>1954-10-01 00:00:00</td>\n",
       "      <td>1954-11-01 00:00:00</td>\n",
       "    </tr>\n",
       "    <tr>\n",
       "      <th>FEDFUNDS</th>\n",
       "      <td>0.80</td>\n",
       "      <td>1.22</td>\n",
       "      <td>1.07</td>\n",
       "      <td>0.85</td>\n",
       "      <td>0.83</td>\n",
       "    </tr>\n",
       "    <tr>\n",
       "      <th>IGREA</th>\n",
       "      <td>NaN</td>\n",
       "      <td>NaN</td>\n",
       "      <td>NaN</td>\n",
       "      <td>NaN</td>\n",
       "      <td>NaN</td>\n",
       "    </tr>\n",
       "    <tr>\n",
       "      <th>USACPIENGMINMEI</th>\n",
       "      <td>NaN</td>\n",
       "      <td>NaN</td>\n",
       "      <td>NaN</td>\n",
       "      <td>NaN</td>\n",
       "      <td>NaN</td>\n",
       "    </tr>\n",
       "    <tr>\n",
       "      <th>EA19PIEAMI01GPM</th>\n",
       "      <td>NaN</td>\n",
       "      <td>NaN</td>\n",
       "      <td>NaN</td>\n",
       "      <td>NaN</td>\n",
       "      <td>NaN</td>\n",
       "    </tr>\n",
       "    <tr>\n",
       "      <th>RTWEXBGS</th>\n",
       "      <td>NaN</td>\n",
       "      <td>NaN</td>\n",
       "      <td>NaN</td>\n",
       "      <td>NaN</td>\n",
       "      <td>NaN</td>\n",
       "    </tr>\n",
       "    <tr>\n",
       "      <th>DEXUSEU</th>\n",
       "      <td>NaN</td>\n",
       "      <td>NaN</td>\n",
       "      <td>NaN</td>\n",
       "      <td>NaN</td>\n",
       "      <td>NaN</td>\n",
       "    </tr>\n",
       "    <tr>\n",
       "      <th>GEPUCURRENT</th>\n",
       "      <td>NaN</td>\n",
       "      <td>NaN</td>\n",
       "      <td>NaN</td>\n",
       "      <td>NaN</td>\n",
       "      <td>NaN</td>\n",
       "    </tr>\n",
       "  </tbody>\n",
       "</table>\n",
       "</div>"
      ],
      "text/plain": [
       "                                   0                    1  \\\n",
       "Date             1954-07-01 00:00:00  1954-08-01 00:00:00   \n",
       "FEDFUNDS                        0.80                 1.22   \n",
       "IGREA                            NaN                  NaN   \n",
       "USACPIENGMINMEI                  NaN                  NaN   \n",
       "EA19PIEAMI01GPM                  NaN                  NaN   \n",
       "RTWEXBGS                         NaN                  NaN   \n",
       "DEXUSEU                          NaN                  NaN   \n",
       "GEPUCURRENT                      NaN                  NaN   \n",
       "\n",
       "                                   2                    3                    4  \n",
       "Date             1954-09-01 00:00:00  1954-10-01 00:00:00  1954-11-01 00:00:00  \n",
       "FEDFUNDS                        1.07                 0.85                 0.83  \n",
       "IGREA                            NaN                  NaN                  NaN  \n",
       "USACPIENGMINMEI                  NaN                  NaN                  NaN  \n",
       "EA19PIEAMI01GPM                  NaN                  NaN                  NaN  \n",
       "RTWEXBGS                         NaN                  NaN                  NaN  \n",
       "DEXUSEU                          NaN                  NaN                  NaN  \n",
       "GEPUCURRENT                      NaN                  NaN                  NaN  "
      ]
     },
     "metadata": {},
     "output_type": "display_data"
    }
   ],
   "source": [
    "display(df.head(5).T)"
   ]
  },
  {
   "cell_type": "code",
   "execution_count": 9,
   "id": "c06d21ea",
   "metadata": {},
   "outputs": [
    {
     "data": {
      "text/html": [
       "<div>\n",
       "<style scoped>\n",
       "    .dataframe tbody tr th:only-of-type {\n",
       "        vertical-align: middle;\n",
       "    }\n",
       "\n",
       "    .dataframe tbody tr th {\n",
       "        vertical-align: top;\n",
       "    }\n",
       "\n",
       "    .dataframe thead th {\n",
       "        text-align: right;\n",
       "    }\n",
       "</style>\n",
       "<table border=\"1\" class=\"dataframe\">\n",
       "  <thead>\n",
       "    <tr style=\"text-align: right;\">\n",
       "      <th></th>\n",
       "      <th>820</th>\n",
       "      <th>821</th>\n",
       "      <th>822</th>\n",
       "      <th>823</th>\n",
       "      <th>824</th>\n",
       "    </tr>\n",
       "  </thead>\n",
       "  <tbody>\n",
       "    <tr>\n",
       "      <th>Date</th>\n",
       "      <td>2022-11-01 00:00:00</td>\n",
       "      <td>2022-12-01 00:00:00</td>\n",
       "      <td>2023-01-01 00:00:00</td>\n",
       "      <td>2023-02-01 00:00:00</td>\n",
       "      <td>2023-03-01 00:00:00</td>\n",
       "    </tr>\n",
       "    <tr>\n",
       "      <th>FEDFUNDS</th>\n",
       "      <td>3.78</td>\n",
       "      <td>4.10</td>\n",
       "      <td>4.33</td>\n",
       "      <td>4.57</td>\n",
       "      <td>4.65</td>\n",
       "    </tr>\n",
       "    <tr>\n",
       "      <th>IGREA</th>\n",
       "      <td>-27.431779</td>\n",
       "      <td>-16.194631</td>\n",
       "      <td>-63.449653</td>\n",
       "      <td>-95.968215</td>\n",
       "      <td>NaN</td>\n",
       "    </tr>\n",
       "    <tr>\n",
       "      <th>USACPIENGMINMEI</th>\n",
       "      <td>144.386505335272</td>\n",
       "      <td>135.507035658838</td>\n",
       "      <td>139.64365804973</td>\n",
       "      <td>NaN</td>\n",
       "      <td>NaN</td>\n",
       "    </tr>\n",
       "    <tr>\n",
       "      <th>EA19PIEAMI01GPM</th>\n",
       "      <td>-5.97115062059711</td>\n",
       "      <td>-4.38815554762755</td>\n",
       "      <td>NaN</td>\n",
       "      <td>NaN</td>\n",
       "      <td>NaN</td>\n",
       "    </tr>\n",
       "    <tr>\n",
       "      <th>RTWEXBGS</th>\n",
       "      <td>118.7496</td>\n",
       "      <td>116.3114</td>\n",
       "      <td>114.2377</td>\n",
       "      <td>114.9672</td>\n",
       "      <td>115.5583</td>\n",
       "    </tr>\n",
       "    <tr>\n",
       "      <th>DEXUSEU</th>\n",
       "      <td>1.0192</td>\n",
       "      <td>1.0591</td>\n",
       "      <td>1.0777</td>\n",
       "      <td>1.0702</td>\n",
       "      <td>1.0711</td>\n",
       "    </tr>\n",
       "    <tr>\n",
       "      <th>GEPUCURRENT</th>\n",
       "      <td>330.2130286739404</td>\n",
       "      <td>250.34368889755442</td>\n",
       "      <td>NaN</td>\n",
       "      <td>NaN</td>\n",
       "      <td>NaN</td>\n",
       "    </tr>\n",
       "  </tbody>\n",
       "</table>\n",
       "</div>"
      ],
      "text/plain": [
       "                                 820                  821  \\\n",
       "Date             2022-11-01 00:00:00  2022-12-01 00:00:00   \n",
       "FEDFUNDS                        3.78                 4.10   \n",
       "IGREA                     -27.431779           -16.194631   \n",
       "USACPIENGMINMEI     144.386505335272     135.507035658838   \n",
       "EA19PIEAMI01GPM    -5.97115062059711    -4.38815554762755   \n",
       "RTWEXBGS                    118.7496             116.3114   \n",
       "DEXUSEU                       1.0192               1.0591   \n",
       "GEPUCURRENT        330.2130286739404   250.34368889755442   \n",
       "\n",
       "                                 822                  823                  824  \n",
       "Date             2023-01-01 00:00:00  2023-02-01 00:00:00  2023-03-01 00:00:00  \n",
       "FEDFUNDS                        4.33                 4.57                 4.65  \n",
       "IGREA                     -63.449653           -95.968215                  NaN  \n",
       "USACPIENGMINMEI      139.64365804973                  NaN                  NaN  \n",
       "EA19PIEAMI01GPM                  NaN                  NaN                  NaN  \n",
       "RTWEXBGS                    114.2377             114.9672             115.5583  \n",
       "DEXUSEU                       1.0777               1.0702               1.0711  \n",
       "GEPUCURRENT                      NaN                  NaN                  NaN  "
      ]
     },
     "metadata": {},
     "output_type": "display_data"
    }
   ],
   "source": [
    "display(df.tail(5).T)"
   ]
  },
  {
   "cell_type": "markdown",
   "id": "48f525f6",
   "metadata": {},
   "source": [
    "## Store the data"
   ]
  },
  {
   "cell_type": "code",
   "execution_count": 10,
   "id": "a2f0ef13",
   "metadata": {},
   "outputs": [
    {
     "name": "stdout",
     "output_type": "stream",
     "text": [
      "Save:\n",
      " D:\\gitProjects\\WTI_Crude_Oil_Price_Prediction_Using_ML\\data\\interim\\fred_data.csv\n"
     ]
    }
   ],
   "source": [
    "# Change directory one step back and save as the root directory\n",
    "ROOT_DIR = os.path.normpath(os.getcwd() + os.sep + os.pardir)\n",
    "\n",
    "# Change direcotry to the 'data\\raw' folder\n",
    "path = ROOT_DIR + '\\\\data\\\\interim\\\\'\n",
    "\n",
    "# Set a file name\n",
    "file_save = path + 'fred_data.csv'\n",
    "df.to_csv(file_save)\n",
    "\n",
    "print('Save:\\n', file_save)"
   ]
  },
  {
   "cell_type": "code",
   "execution_count": null,
   "id": "62b3f8bb",
   "metadata": {},
   "outputs": [],
   "source": []
  },
  {
   "cell_type": "code",
   "execution_count": null,
   "id": "79992673",
   "metadata": {},
   "outputs": [],
   "source": []
  }
 ],
 "metadata": {
  "kernelspec": {
   "display_name": "Python 3 (ipykernel)",
   "language": "python",
   "name": "python3"
  },
  "language_info": {
   "codemirror_mode": {
    "name": "ipython",
    "version": 3
   },
   "file_extension": ".py",
   "mimetype": "text/x-python",
   "name": "python",
   "nbconvert_exporter": "python",
   "pygments_lexer": "ipython3",
   "version": "3.9.16"
  }
 },
 "nbformat": 4,
 "nbformat_minor": 5
}
