{
 "cells": [
  {
   "cell_type": "markdown",
   "id": "2fefd335",
   "metadata": {},
   "source": [
    "# 4. Pre-Processing and Training Data"
   ]
  },
  {
   "cell_type": "markdown",
   "id": "00296331",
   "metadata": {},
   "source": [
    "## Libraries"
   ]
  },
  {
   "cell_type": "markdown",
   "id": "0702e4bc",
   "metadata": {},
   "source": [
    "### Installations"
   ]
  },
  {
   "cell_type": "code",
   "execution_count": 5,
   "id": "673fe41b",
   "metadata": {},
   "outputs": [],
   "source": [
    "#!pip install xlsxwriter\n",
    "#!pip install pmdarima\n",
    "#!pip install --upgrade pycaret\n",
    "#!pip install --upgrade statsmodels\n",
    "#!pip install ppscore"
   ]
  },
  {
   "cell_type": "markdown",
   "id": "76e8f3f5",
   "metadata": {},
   "source": [
    "### Imports"
   ]
  },
  {
   "cell_type": "code",
   "execution_count": 39,
   "id": "cd59a302",
   "metadata": {},
   "outputs": [],
   "source": [
    "#File and name management libraries\n",
    "import os\n",
    "import shutil\n",
    "import glob\n",
    "from pathlib import Path\n",
    "\n",
    "#Math & data handling libraries\n",
    "import pandas as pd\n",
    "import numpy as np\n",
    "\n",
    "#plotting libraries\n",
    "import matplotlib.pyplot as plt\n",
    "import seaborn as sns\n",
    "\n",
    "#dates and timeframe libraries\n",
    "import datetime\n",
    "import matplotlib.dates as mdates\n",
    "\n",
    "#Assocations and correlations libraries\n",
    "import ppscore as pps\n",
    "\n",
    "#Machine learning libraries\n",
    "from sklearn import preprocessing\n",
    "from sklearn.model_selection import train_test_split\n",
    "from pycaret.regression import *\n",
    "\n",
    "#Other file formats libraries\n",
    "import xlsxwriter"
   ]
  },
  {
   "cell_type": "markdown",
   "id": "265ed5a1",
   "metadata": {},
   "source": [
    "## Modeling Settings"
   ]
  },
  {
   "cell_type": "markdown",
   "id": "17ed281d",
   "metadata": {},
   "source": [
    "### n-month ahead prediction"
   ]
  },
  {
   "cell_type": "code",
   "execution_count": 2,
   "id": "996acbf7",
   "metadata": {},
   "outputs": [
    {
     "name": "stdout",
     "output_type": "stream",
     "text": [
      "1\n"
     ]
    }
   ],
   "source": [
    "# Define n-month ahead prediction (1-6)\n",
    "N_MONTH = 1\n",
    "print(N_MONTH)"
   ]
  },
  {
   "cell_type": "markdown",
   "id": "fbf4bfcf",
   "metadata": {},
   "source": [
    "### Directories"
   ]
  },
  {
   "cell_type": "code",
   "execution_count": 38,
   "id": "ed86739b",
   "metadata": {},
   "outputs": [
    {
     "ename": "AttributeError",
     "evalue": "module 'os' has no attribute 'ppscorepath'",
     "output_type": "error",
     "traceback": [
      "\u001b[1;31m---------------------------------------------------------------------------\u001b[0m",
      "\u001b[1;31mAttributeError\u001b[0m                            Traceback (most recent call last)",
      "Cell \u001b[1;32mIn[38], line 4\u001b[0m\n\u001b[0;32m      1\u001b[0m \u001b[38;5;66;03m#### Root derectory ####\u001b[39;00m\n\u001b[0;32m      2\u001b[0m \n\u001b[0;32m      3\u001b[0m \u001b[38;5;66;03m# Change directory one step back and save as the root directory\u001b[39;00m\n\u001b[1;32m----> 4\u001b[0m ROOT_DIR \u001b[38;5;241m=\u001b[39m \u001b[43mos\u001b[49m\u001b[38;5;241;43m.\u001b[39;49m\u001b[43mppscorepath\u001b[49m\u001b[38;5;241m.\u001b[39mnormpath(os\u001b[38;5;241m.\u001b[39mgetcwd() \u001b[38;5;241m+\u001b[39m os\u001b[38;5;241m.\u001b[39msep \u001b[38;5;241m+\u001b[39m os\u001b[38;5;241m.\u001b[39mpardir)\n\u001b[0;32m      5\u001b[0m \u001b[38;5;28mprint\u001b[39m(ROOT_DIR)\n",
      "\u001b[1;31mAttributeError\u001b[0m: module 'os' has no attribute 'ppscorepath'"
     ]
    }
   ],
   "source": [
    "#### Root derectory ####\n",
    "\n",
    "# Change directory one step back and save as the root directory\n",
    "ROOT_DIR = os.path.normpath(os.getcwd() + os.sep + os.pardir)\n",
    "print(ROOT_DIR)"
   ]
  },
  {
   "cell_type": "code",
   "execution_count": 4,
   "id": "9d4ce88b",
   "metadata": {},
   "outputs": [
    {
     "name": "stdout",
     "output_type": "stream",
     "text": [
      "D:\\gitProjects\\WTI_Crude_Oil_Price_Prediction_Using_ML\\data\\interim\\step3_eda_wti_price.csv\n"
     ]
    }
   ],
   "source": [
    "#### File directory ####\n",
    "\n",
    "#Define file name and location\n",
    "file_csv = 'step3_eda_wti_price.csv'\n",
    "file_path = '\\\\data\\\\interim\\\\'\n",
    "\n",
    "#Set file name and location\n",
    "f = ROOT_DIR + file_path + file_csv\n",
    "print(f)"
   ]
  },
  {
   "cell_type": "code",
   "execution_count": 5,
   "id": "0fb9cf65",
   "metadata": {},
   "outputs": [
    {
     "data": {
      "text/plain": [
       "'D:\\\\gitProjects\\\\WTI_Crude_Oil_Price_Prediction_Using_ML\\\\models\\\\regression_model_1m'"
      ]
     },
     "execution_count": 5,
     "metadata": {},
     "output_type": "execute_result"
    }
   ],
   "source": [
    "#### Model directory ####\n",
    "# Change direcotry to the '\\models' folder\n",
    "# Generate the name\n",
    "model_name = 'regression_model_' + str(N_MONTH) + 'm'\n",
    "model_path =  ROOT_DIR + '\\\\models\\\\' + model_name\n",
    "\n",
    "\n",
    "#verwrite folder if exisits\n",
    "if os.path.exists(model_path):\n",
    "    shutil.rmtree(model_path)\n",
    "\n",
    "#Make folder\n",
    "try: \n",
    "    os.mkdir(model_path)\n",
    "except OSError as error: \n",
    "    print(error)\n",
    "\n",
    "os.chdir(model_path)\n",
    "os.getcwd()"
   ]
  },
  {
   "cell_type": "markdown",
   "id": "66d20eae",
   "metadata": {},
   "source": [
    "### Targe feature "
   ]
  },
  {
   "cell_type": "code",
   "execution_count": 6,
   "id": "f2f99126",
   "metadata": {},
   "outputs": [],
   "source": [
    "#Set target feature\n",
    "TARGET_FEATURE = 'wti'"
   ]
  },
  {
   "cell_type": "markdown",
   "id": "348f0828",
   "metadata": {},
   "source": [
    "## Read Data"
   ]
  },
  {
   "cell_type": "code",
   "execution_count": 7,
   "id": "86a3f0e7",
   "metadata": {},
   "outputs": [
    {
     "name": "stdout",
     "output_type": "stream",
     "text": [
      "Shape: (280, 29)\n"
     ]
    },
    {
     "data": {
      "text/html": [
       "<div>\n",
       "<style scoped>\n",
       "    .dataframe tbody tr th:only-of-type {\n",
       "        vertical-align: middle;\n",
       "    }\n",
       "\n",
       "    .dataframe tbody tr th {\n",
       "        vertical-align: top;\n",
       "    }\n",
       "\n",
       "    .dataframe thead th {\n",
       "        text-align: right;\n",
       "    }\n",
       "</style>\n",
       "<table border=\"1\" class=\"dataframe\">\n",
       "  <thead>\n",
       "    <tr style=\"text-align: right;\">\n",
       "      <th>Date</th>\n",
       "      <th>2000-01-01</th>\n",
       "      <th>2000-02-01</th>\n",
       "      <th>2000-03-01</th>\n",
       "      <th>2000-04-01</th>\n",
       "      <th>2000-05-01</th>\n",
       "      <th>2000-06-01</th>\n",
       "      <th>2000-07-01</th>\n",
       "    </tr>\n",
       "  </thead>\n",
       "  <tbody>\n",
       "    <tr>\n",
       "      <th>wti</th>\n",
       "      <td>27.26</td>\n",
       "      <td>29.37</td>\n",
       "      <td>29.84</td>\n",
       "      <td>25.72</td>\n",
       "      <td>28.79</td>\n",
       "      <td>31.82</td>\n",
       "      <td>29.70</td>\n",
       "    </tr>\n",
       "    <tr>\n",
       "      <th>oil_opec</th>\n",
       "      <td>26.01</td>\n",
       "      <td>26.68</td>\n",
       "      <td>26.61</td>\n",
       "      <td>27.52</td>\n",
       "      <td>28.05</td>\n",
       "      <td>27.64</td>\n",
       "      <td>27.91</td>\n",
       "    </tr>\n",
       "    <tr>\n",
       "      <th>oil_nonopec</th>\n",
       "      <td>46.90</td>\n",
       "      <td>46.82</td>\n",
       "      <td>46.94</td>\n",
       "      <td>46.62</td>\n",
       "      <td>46.62</td>\n",
       "      <td>46.78</td>\n",
       "      <td>47.05</td>\n",
       "    </tr>\n",
       "    <tr>\n",
       "      <th>oil_world</th>\n",
       "      <td>5.78</td>\n",
       "      <td>5.85</td>\n",
       "      <td>5.92</td>\n",
       "      <td>5.85</td>\n",
       "      <td>5.85</td>\n",
       "      <td>5.82</td>\n",
       "      <td>5.74</td>\n",
       "    </tr>\n",
       "    <tr>\n",
       "      <th>henry_hub_ng</th>\n",
       "      <td>47.23</td>\n",
       "      <td>50.23</td>\n",
       "      <td>49.36</td>\n",
       "      <td>46.29</td>\n",
       "      <td>47.34</td>\n",
       "      <td>47.96</td>\n",
       "      <td>47.25</td>\n",
       "    </tr>\n",
       "    <tr>\n",
       "      <th>oil_us</th>\n",
       "      <td>28.29</td>\n",
       "      <td>28.77</td>\n",
       "      <td>28.53</td>\n",
       "      <td>28.13</td>\n",
       "      <td>28.22</td>\n",
       "      <td>28.27</td>\n",
       "      <td>28.54</td>\n",
       "    </tr>\n",
       "    <tr>\n",
       "      <th>petrol_oecd</th>\n",
       "      <td>1.69</td>\n",
       "      <td>1.70</td>\n",
       "      <td>1.71</td>\n",
       "      <td>1.71</td>\n",
       "      <td>1.71</td>\n",
       "      <td>1.72</td>\n",
       "      <td>1.73</td>\n",
       "    </tr>\n",
       "    <tr>\n",
       "      <th>petrol_nonoecd</th>\n",
       "      <td>1.29</td>\n",
       "      <td>1.30</td>\n",
       "      <td>1.31</td>\n",
       "      <td>1.31</td>\n",
       "      <td>1.32</td>\n",
       "      <td>1.32</td>\n",
       "      <td>1.33</td>\n",
       "    </tr>\n",
       "    <tr>\n",
       "      <th>us_cpi</th>\n",
       "      <td>0.75</td>\n",
       "      <td>0.84</td>\n",
       "      <td>0.90</td>\n",
       "      <td>0.85</td>\n",
       "      <td>0.88</td>\n",
       "      <td>0.97</td>\n",
       "      <td>0.93</td>\n",
       "    </tr>\n",
       "    <tr>\n",
       "      <th>us_ppi</th>\n",
       "      <td>92.02</td>\n",
       "      <td>92.27</td>\n",
       "      <td>92.91</td>\n",
       "      <td>93.54</td>\n",
       "      <td>93.59</td>\n",
       "      <td>93.74</td>\n",
       "      <td>93.84</td>\n",
       "    </tr>\n",
       "    <tr>\n",
       "      <th>us_pmi</th>\n",
       "      <td>908.95</td>\n",
       "      <td>896.84</td>\n",
       "      <td>906.89</td>\n",
       "      <td>936.02</td>\n",
       "      <td>948.33</td>\n",
       "      <td>957.06</td>\n",
       "      <td>969.28</td>\n",
       "    </tr>\n",
       "    <tr>\n",
       "      <th>petroleum_inv_oecd</th>\n",
       "      <td>568.50</td>\n",
       "      <td>569.37</td>\n",
       "      <td>569.41</td>\n",
       "      <td>569.41</td>\n",
       "      <td>569.41</td>\n",
       "      <td>568.89</td>\n",
       "      <td>570.35</td>\n",
       "    </tr>\n",
       "    <tr>\n",
       "      <th>crude_inv_total</th>\n",
       "      <td>283.88</td>\n",
       "      <td>285.85</td>\n",
       "      <td>297.09</td>\n",
       "      <td>303.83</td>\n",
       "      <td>294.71</td>\n",
       "      <td>290.62</td>\n",
       "      <td>282.19</td>\n",
       "    </tr>\n",
       "    <tr>\n",
       "      <th>crude_inv_spr</th>\n",
       "      <td>78.60</td>\n",
       "      <td>88.40</td>\n",
       "      <td>98.90</td>\n",
       "      <td>88.50</td>\n",
       "      <td>97.90</td>\n",
       "      <td>109.30</td>\n",
       "      <td>99.30</td>\n",
       "    </tr>\n",
       "    <tr>\n",
       "      <th>crude_inv_nonspr</th>\n",
       "      <td>77.70</td>\n",
       "      <td>85.20</td>\n",
       "      <td>85.10</td>\n",
       "      <td>79.90</td>\n",
       "      <td>81.40</td>\n",
       "      <td>82.40</td>\n",
       "      <td>83.60</td>\n",
       "    </tr>\n",
       "    <tr>\n",
       "      <th>fedfund_effective</th>\n",
       "      <td>5.45</td>\n",
       "      <td>5.73</td>\n",
       "      <td>5.85</td>\n",
       "      <td>6.02</td>\n",
       "      <td>6.27</td>\n",
       "      <td>6.53</td>\n",
       "      <td>6.54</td>\n",
       "    </tr>\n",
       "    <tr>\n",
       "      <th>global_real_econ_activity</th>\n",
       "      <td>-10.37</td>\n",
       "      <td>-9.02</td>\n",
       "      <td>5.65</td>\n",
       "      <td>8.74</td>\n",
       "      <td>4.75</td>\n",
       "      <td>3.52</td>\n",
       "      <td>5.20</td>\n",
       "    </tr>\n",
       "    <tr>\n",
       "      <th>us_cpi_energy</th>\n",
       "      <td>55.45</td>\n",
       "      <td>57.52</td>\n",
       "      <td>60.23</td>\n",
       "      <td>59.49</td>\n",
       "      <td>59.64</td>\n",
       "      <td>63.88</td>\n",
       "      <td>63.92</td>\n",
       "    </tr>\n",
       "    <tr>\n",
       "      <th>usd_eur_exchange</th>\n",
       "      <td>1.01</td>\n",
       "      <td>0.98</td>\n",
       "      <td>0.96</td>\n",
       "      <td>0.94</td>\n",
       "      <td>0.91</td>\n",
       "      <td>0.95</td>\n",
       "      <td>0.94</td>\n",
       "    </tr>\n",
       "    <tr>\n",
       "      <th>global_econ_policy_uncert</th>\n",
       "      <td>63.74</td>\n",
       "      <td>58.82</td>\n",
       "      <td>61.29</td>\n",
       "      <td>64.56</td>\n",
       "      <td>87.16</td>\n",
       "      <td>88.43</td>\n",
       "      <td>65.12</td>\n",
       "    </tr>\n",
       "    <tr>\n",
       "      <th>copper_futures</th>\n",
       "      <td>0.85</td>\n",
       "      <td>0.80</td>\n",
       "      <td>0.81</td>\n",
       "      <td>0.80</td>\n",
       "      <td>0.82</td>\n",
       "      <td>0.82</td>\n",
       "      <td>0.88</td>\n",
       "    </tr>\n",
       "    <tr>\n",
       "      <th>dow_jones</th>\n",
       "      <td>11281.26</td>\n",
       "      <td>10541.93</td>\n",
       "      <td>10483.39</td>\n",
       "      <td>10944.31</td>\n",
       "      <td>10580.27</td>\n",
       "      <td>10582.93</td>\n",
       "      <td>10662.81</td>\n",
       "    </tr>\n",
       "    <tr>\n",
       "      <th>gold_futures</th>\n",
       "      <td>286.20</td>\n",
       "      <td>295.40</td>\n",
       "      <td>281.40</td>\n",
       "      <td>276.00</td>\n",
       "      <td>274.80</td>\n",
       "      <td>293.00</td>\n",
       "      <td>280.20</td>\n",
       "    </tr>\n",
       "    <tr>\n",
       "      <th>nasdaq_comp</th>\n",
       "      <td>4013.49</td>\n",
       "      <td>4410.87</td>\n",
       "      <td>4802.99</td>\n",
       "      <td>3863.64</td>\n",
       "      <td>3528.42</td>\n",
       "      <td>3866.42</td>\n",
       "      <td>4017.68</td>\n",
       "    </tr>\n",
       "    <tr>\n",
       "      <th>sp500</th>\n",
       "      <td>1425.59</td>\n",
       "      <td>1388.87</td>\n",
       "      <td>1442.21</td>\n",
       "      <td>1461.36</td>\n",
       "      <td>1418.48</td>\n",
       "      <td>1461.96</td>\n",
       "      <td>1473.00</td>\n",
       "    </tr>\n",
       "    <tr>\n",
       "      <th>usd_index</th>\n",
       "      <td>105.13</td>\n",
       "      <td>105.92</td>\n",
       "      <td>105.44</td>\n",
       "      <td>110.14</td>\n",
       "      <td>108.74</td>\n",
       "      <td>106.84</td>\n",
       "      <td>109.57</td>\n",
       "    </tr>\n",
       "    <tr>\n",
       "      <th>wti_bre_sprd</th>\n",
       "      <td>24.84</td>\n",
       "      <td>26.71</td>\n",
       "      <td>27.05</td>\n",
       "      <td>22.68</td>\n",
       "      <td>25.20</td>\n",
       "      <td>27.53</td>\n",
       "      <td>25.71</td>\n",
       "    </tr>\n",
       "    <tr>\n",
       "      <th>wti_crack_sprd</th>\n",
       "      <td>73823.48</td>\n",
       "      <td>74437.99</td>\n",
       "      <td>74404.50</td>\n",
       "      <td>75084.49</td>\n",
       "      <td>75608.67</td>\n",
       "      <td>75324.34</td>\n",
       "      <td>75951.32</td>\n",
       "    </tr>\n",
       "    <tr>\n",
       "      <th>bre_crack_sprd</th>\n",
       "      <td>73898.00</td>\n",
       "      <td>74518.11</td>\n",
       "      <td>74485.65</td>\n",
       "      <td>75152.54</td>\n",
       "      <td>75684.27</td>\n",
       "      <td>75406.94</td>\n",
       "      <td>76028.44</td>\n",
       "    </tr>\n",
       "  </tbody>\n",
       "</table>\n",
       "</div>"
      ],
      "text/plain": [
       "Date                       2000-01-01  2000-02-01  2000-03-01  2000-04-01  \\\n",
       "wti                             27.26       29.37       29.84       25.72   \n",
       "oil_opec                        26.01       26.68       26.61       27.52   \n",
       "oil_nonopec                     46.90       46.82       46.94       46.62   \n",
       "oil_world                        5.78        5.85        5.92        5.85   \n",
       "henry_hub_ng                    47.23       50.23       49.36       46.29   \n",
       "oil_us                          28.29       28.77       28.53       28.13   \n",
       "petrol_oecd                      1.69        1.70        1.71        1.71   \n",
       "petrol_nonoecd                   1.29        1.30        1.31        1.31   \n",
       "us_cpi                           0.75        0.84        0.90        0.85   \n",
       "us_ppi                          92.02       92.27       92.91       93.54   \n",
       "us_pmi                         908.95      896.84      906.89      936.02   \n",
       "petroleum_inv_oecd             568.50      569.37      569.41      569.41   \n",
       "crude_inv_total                283.88      285.85      297.09      303.83   \n",
       "crude_inv_spr                   78.60       88.40       98.90       88.50   \n",
       "crude_inv_nonspr                77.70       85.20       85.10       79.90   \n",
       "fedfund_effective                5.45        5.73        5.85        6.02   \n",
       "global_real_econ_activity      -10.37       -9.02        5.65        8.74   \n",
       "us_cpi_energy                   55.45       57.52       60.23       59.49   \n",
       "usd_eur_exchange                 1.01        0.98        0.96        0.94   \n",
       "global_econ_policy_uncert       63.74       58.82       61.29       64.56   \n",
       "copper_futures                   0.85        0.80        0.81        0.80   \n",
       "dow_jones                    11281.26    10541.93    10483.39    10944.31   \n",
       "gold_futures                   286.20      295.40      281.40      276.00   \n",
       "nasdaq_comp                   4013.49     4410.87     4802.99     3863.64   \n",
       "sp500                         1425.59     1388.87     1442.21     1461.36   \n",
       "usd_index                      105.13      105.92      105.44      110.14   \n",
       "wti_bre_sprd                    24.84       26.71       27.05       22.68   \n",
       "wti_crack_sprd               73823.48    74437.99    74404.50    75084.49   \n",
       "bre_crack_sprd               73898.00    74518.11    74485.65    75152.54   \n",
       "\n",
       "Date                       2000-05-01  2000-06-01  2000-07-01  \n",
       "wti                             28.79       31.82       29.70  \n",
       "oil_opec                        28.05       27.64       27.91  \n",
       "oil_nonopec                     46.62       46.78       47.05  \n",
       "oil_world                        5.85        5.82        5.74  \n",
       "henry_hub_ng                    47.34       47.96       47.25  \n",
       "oil_us                          28.22       28.27       28.54  \n",
       "petrol_oecd                      1.71        1.72        1.73  \n",
       "petrol_nonoecd                   1.32        1.32        1.33  \n",
       "us_cpi                           0.88        0.97        0.93  \n",
       "us_ppi                          93.59       93.74       93.84  \n",
       "us_pmi                         948.33      957.06      969.28  \n",
       "petroleum_inv_oecd             569.41      568.89      570.35  \n",
       "crude_inv_total                294.71      290.62      282.19  \n",
       "crude_inv_spr                   97.90      109.30       99.30  \n",
       "crude_inv_nonspr                81.40       82.40       83.60  \n",
       "fedfund_effective                6.27        6.53        6.54  \n",
       "global_real_econ_activity        4.75        3.52        5.20  \n",
       "us_cpi_energy                   59.64       63.88       63.92  \n",
       "usd_eur_exchange                 0.91        0.95        0.94  \n",
       "global_econ_policy_uncert       87.16       88.43       65.12  \n",
       "copper_futures                   0.82        0.82        0.88  \n",
       "dow_jones                    10580.27    10582.93    10662.81  \n",
       "gold_futures                   274.80      293.00      280.20  \n",
       "nasdaq_comp                   3528.42     3866.42     4017.68  \n",
       "sp500                         1418.48     1461.96     1473.00  \n",
       "usd_index                      108.74      106.84      109.57  \n",
       "wti_bre_sprd                    25.20       27.53       25.71  \n",
       "wti_crack_sprd               75608.67    75324.34    75951.32  \n",
       "bre_crack_sprd               75684.27    75406.94    76028.44  "
      ]
     },
     "metadata": {},
     "output_type": "display_data"
    }
   ],
   "source": [
    "#cast csv to dataframe\n",
    "df = pd.read_csv(f)\n",
    "\n",
    "#convert 'Date' column to date format\n",
    "df['Date'] = pd.to_datetime(df['Date'], format='%Y-%m-%d', errors=\"raise\")\n",
    "\n",
    "#set Date as index\n",
    "df.set_index('Date', drop=True, inplace=True)\n",
    "\n",
    "#print shape of dataframe\n",
    "print('Shape:',df.shape)\n",
    "\n",
    "#display df head\n",
    "display(df.head(7).round(2).T)"
   ]
  },
  {
   "cell_type": "markdown",
   "id": "c31b40e3",
   "metadata": {},
   "source": [
    "## Pre-process"
   ]
  },
  {
   "cell_type": "markdown",
   "id": "f7878082",
   "metadata": {},
   "source": [
    "#### Custom functions"
   ]
  },
  {
   "cell_type": "code",
   "execution_count": 8,
   "id": "6d9673d5",
   "metadata": {},
   "outputs": [],
   "source": [
    "def get_var_name(variable):\n",
    "    '''This function gets a variable and prints its name'''\n",
    "    globals_dict = globals()\n",
    "\n",
    "    return [var_name for var_name in globals_dict if globals_dict[var_name] is variable]"
   ]
  },
  {
   "cell_type": "code",
   "execution_count": 9,
   "id": "3f0aab60",
   "metadata": {},
   "outputs": [],
   "source": [
    "def count_missing(df):\n",
    "    ''' Count the number of missing values .isnull() in each column well as the percentages \n",
    "    Call pd.concat() to form a single table df with 'count' and '%' columns'''\n",
    "    \n",
    "    missing = pd.concat([df.isnull().sum(), 100 * df.isnull().mean()], axis=1)\n",
    "    missing.columns=['count', '%']\n",
    "    missing = missing.loc[missing['count'] > 0]\n",
    "    missing.sort_values(by='count', ascending = False)\n",
    "    \n",
    "    return missing"
   ]
  },
  {
   "cell_type": "code",
   "execution_count": 10,
   "id": "26583675",
   "metadata": {},
   "outputs": [],
   "source": [
    "def count_over_thershold(li, bounding_limit: tuple):\n",
    "    '''This function gets a list and print how many items are larger than a thersold'''\n",
    "    \n",
    "    #counters\n",
    "    n = len(li)\n",
    "    m = 0    \n",
    "    for i in li:\n",
    "        if i >= bounding_limit[1] or i < bounding_limit[0] :\n",
    "            m +=1\n",
    "    pct = 100.0*m/n\n",
    "    print(f'{pct:1.2f}% of items ({m}/{n}) are out of {bounding_limit}')   "
   ]
  },
  {
   "cell_type": "code",
   "execution_count": 11,
   "id": "4038aee8",
   "metadata": {},
   "outputs": [],
   "source": [
    "def highlight_out_of_range(data, title:str, ylabel, bounding_limit: tuple, figsize = (15, 2)):\n",
    "    '''This functions gets PPS score for target feature and plot a bar plot'''\n",
    "    lower_bound = bounding_limit[0]\n",
    "    upper_bound = bounding_limit[1]\n",
    "    \n",
    "    #Plot the scores for a select feature from PPS Matrix\n",
    "    data= data.sort_values(ascending = False)\n",
    "\n",
    "    #The value > thershold will be show with a different color.\n",
    "    #So, the plot colors will be dynamically set based on the data\n",
    "\n",
    "    #Create and empty list of colors\n",
    "    colors = []\n",
    "\n",
    "    #Set color for ratio values\n",
    "    #Set \"red\" if value is max, otherwise \"blue\" (as default)\n",
    "    for index, value in data.items():\n",
    "        if value >= upper_bound or value <= lower_bound:\n",
    "            colors.append('#f77088') #red for max\n",
    "        else:\n",
    "            colors.append('#66aabb') #blue as default\n",
    "\n",
    "    #set chart size\n",
    "    fig = plt.figure(figsize = figsize)\n",
    "\n",
    "    #Pass the x and height values with color set to bar plotter\n",
    "    plt.bar(data.index,data.values, width = .8, color=colors)\n",
    "\n",
    "    #Rotate the x labels for better visuzlaizarion\n",
    "    plt.xticks(rotation=90)\n",
    "\n",
    "    #Set labels\n",
    "    plt.ylabel(ylabel)\n",
    "    plt.title(title)\n",
    "    plt.ylim([round(lower_bound), round(upper_bound)])\n",
    "    plt.grid(color = 'gray', linestyle = '--', linewidth = 0.4)\n",
    "    \n",
    "    #Add axis lines\n",
    "    #plt.axvline(x=0, c='k', ls='-', alpha=0.8)\n",
    "    plt.axhline(y=0, c='gray', ls='-', alpha=0.8)\n",
    "\n",
    "    #print number of values out of limits\n",
    "    count_over_thershold(data, bounding_limit)\n",
    "\n",
    "    #save the file\n",
    "    plt.savefig(ylabel +'.png', dpi=300, bbox_inches = 'tight')\n",
    "    \n",
    "    #Show the plot\n",
    "    plt.show()\n"
   ]
  },
  {
   "cell_type": "code",
   "execution_count": 12,
   "id": "424d7173",
   "metadata": {},
   "outputs": [],
   "source": [
    "def target_corr_coeff(df, feature):\n",
    "    \n",
    "    # Compute the correlation matrix\n",
    "    corr = df.corr()\n",
    "    y_scores = corr[feature]\n",
    "    \n",
    "    y_scores.drop(TARGET_FEATURE, inplace = True)\n",
    "    \n",
    "    return y_scores"
   ]
  },
  {
   "cell_type": "code",
   "execution_count": 13,
   "id": "361211f9",
   "metadata": {},
   "outputs": [],
   "source": [
    "def target_pps_score(df, feature):\n",
    "    # Compute the PPS matrix\n",
    "    matrix = pps.matrix(df)\n",
    "    matrix_pps = matrix[['x', 'y', 'ppscore']].pivot(columns='x', index='y', values='ppscore')\n",
    "    y_scores = matrix_pps[feature]\n",
    "    \n",
    "    y_scores.drop(TARGET_FEATURE, inplace = True)\n",
    "    \n",
    "    return y_scores"
   ]
  },
  {
   "cell_type": "markdown",
   "id": "05eb78b4",
   "metadata": {},
   "source": [
    "### Generate n-month future price data "
   ]
  },
  {
   "cell_type": "code",
   "execution_count": 14,
   "id": "8457acdf",
   "metadata": {
    "scrolled": false
   },
   "outputs": [
    {
     "data": {
      "text/html": [
       "<div>\n",
       "<style scoped>\n",
       "    .dataframe tbody tr th:only-of-type {\n",
       "        vertical-align: middle;\n",
       "    }\n",
       "\n",
       "    .dataframe tbody tr th {\n",
       "        vertical-align: top;\n",
       "    }\n",
       "\n",
       "    .dataframe thead th {\n",
       "        text-align: right;\n",
       "    }\n",
       "</style>\n",
       "<table border=\"1\" class=\"dataframe\">\n",
       "  <thead>\n",
       "    <tr style=\"text-align: right;\">\n",
       "      <th></th>\n",
       "      <th>wti</th>\n",
       "      <th>oil_opec</th>\n",
       "      <th>oil_nonopec</th>\n",
       "      <th>oil_world</th>\n",
       "      <th>henry_hub_ng</th>\n",
       "      <th>oil_us</th>\n",
       "      <th>petrol_oecd</th>\n",
       "      <th>petrol_nonoecd</th>\n",
       "      <th>us_cpi</th>\n",
       "      <th>us_ppi</th>\n",
       "      <th>...</th>\n",
       "      <th>global_econ_policy_uncert</th>\n",
       "      <th>copper_futures</th>\n",
       "      <th>dow_jones</th>\n",
       "      <th>gold_futures</th>\n",
       "      <th>nasdaq_comp</th>\n",
       "      <th>sp500</th>\n",
       "      <th>usd_index</th>\n",
       "      <th>wti_bre_sprd</th>\n",
       "      <th>wti_crack_sprd</th>\n",
       "      <th>bre_crack_sprd</th>\n",
       "    </tr>\n",
       "    <tr>\n",
       "      <th>Date</th>\n",
       "      <th></th>\n",
       "      <th></th>\n",
       "      <th></th>\n",
       "      <th></th>\n",
       "      <th></th>\n",
       "      <th></th>\n",
       "      <th></th>\n",
       "      <th></th>\n",
       "      <th></th>\n",
       "      <th></th>\n",
       "      <th></th>\n",
       "      <th></th>\n",
       "      <th></th>\n",
       "      <th></th>\n",
       "      <th></th>\n",
       "      <th></th>\n",
       "      <th></th>\n",
       "      <th></th>\n",
       "      <th></th>\n",
       "      <th></th>\n",
       "      <th></th>\n",
       "    </tr>\n",
       "  </thead>\n",
       "  <tbody>\n",
       "    <tr>\n",
       "      <th>2022-04-01</th>\n",
       "      <td>109.55</td>\n",
       "      <td>28.590000</td>\n",
       "      <td>64.603255</td>\n",
       "      <td>11.668387</td>\n",
       "      <td>44.688724</td>\n",
       "      <td>53.125505</td>\n",
       "      <td>2.88611</td>\n",
       "      <td>2.686788</td>\n",
       "      <td>3.76109</td>\n",
       "      <td>101.1941</td>\n",
       "      <td>...</td>\n",
       "      <td>299.369775</td>\n",
       "      <td>4.4085</td>\n",
       "      <td>34314.990000</td>\n",
       "      <td>1918.6</td>\n",
       "      <td>13394.163000</td>\n",
       "      <td>4391.296000</td>\n",
       "      <td>102.96</td>\n",
       "      <td>95.18</td>\n",
       "      <td>96343.002265</td>\n",
       "      <td>96628.542265</td>\n",
       "    </tr>\n",
       "    <tr>\n",
       "      <th>2022-05-01</th>\n",
       "      <td>114.84</td>\n",
       "      <td>28.104654</td>\n",
       "      <td>65.002336</td>\n",
       "      <td>11.629127</td>\n",
       "      <td>45.097091</td>\n",
       "      <td>53.525117</td>\n",
       "      <td>2.91268</td>\n",
       "      <td>2.725040</td>\n",
       "      <td>4.18620</td>\n",
       "      <td>100.8630</td>\n",
       "      <td>...</td>\n",
       "      <td>287.885641</td>\n",
       "      <td>4.2990</td>\n",
       "      <td>32379.462857</td>\n",
       "      <td>1856.3</td>\n",
       "      <td>11829.729524</td>\n",
       "      <td>4040.360000</td>\n",
       "      <td>101.75</td>\n",
       "      <td>101.41</td>\n",
       "      <td>96267.296432</td>\n",
       "      <td>96571.526432</td>\n",
       "    </tr>\n",
       "    <tr>\n",
       "      <th>2022-06-01</th>\n",
       "      <td>101.62</td>\n",
       "      <td>28.300000</td>\n",
       "      <td>65.331052</td>\n",
       "      <td>11.797257</td>\n",
       "      <td>46.333224</td>\n",
       "      <td>54.316138</td>\n",
       "      <td>2.94728</td>\n",
       "      <td>2.740642</td>\n",
       "      <td>4.66799</td>\n",
       "      <td>100.4645</td>\n",
       "      <td>...</td>\n",
       "      <td>272.230457</td>\n",
       "      <td>3.7100</td>\n",
       "      <td>31446.712857</td>\n",
       "      <td>1816.3</td>\n",
       "      <td>11418.919048</td>\n",
       "      <td>3898.946667</td>\n",
       "      <td>104.68</td>\n",
       "      <td>107.14</td>\n",
       "      <td>96822.210421</td>\n",
       "      <td>97143.630421</td>\n",
       "    </tr>\n",
       "    <tr>\n",
       "      <th>2022-07-01</th>\n",
       "      <td>93.67</td>\n",
       "      <td>28.520000</td>\n",
       "      <td>66.275370</td>\n",
       "      <td>11.844011</td>\n",
       "      <td>46.362408</td>\n",
       "      <td>53.623941</td>\n",
       "      <td>2.94628</td>\n",
       "      <td>2.710093</td>\n",
       "      <td>4.06401</td>\n",
       "      <td>100.7345</td>\n",
       "      <td>...</td>\n",
       "      <td>313.459666</td>\n",
       "      <td>3.5750</td>\n",
       "      <td>31535.323500</td>\n",
       "      <td>1781.8</td>\n",
       "      <td>11622.631500</td>\n",
       "      <td>3911.729500</td>\n",
       "      <td>105.90</td>\n",
       "      <td>94.34</td>\n",
       "      <td>98061.002238</td>\n",
       "      <td>98344.022238</td>\n",
       "    </tr>\n",
       "    <tr>\n",
       "      <th>2022-08-01</th>\n",
       "      <td>84.26</td>\n",
       "      <td>29.530000</td>\n",
       "      <td>65.886271</td>\n",
       "      <td>12.002495</td>\n",
       "      <td>47.017000</td>\n",
       "      <td>53.549209</td>\n",
       "      <td>2.95320</td>\n",
       "      <td>2.698022</td>\n",
       "      <td>3.54467</td>\n",
       "      <td>100.9427</td>\n",
       "      <td>...</td>\n",
       "      <td>254.960194</td>\n",
       "      <td>3.5190</td>\n",
       "      <td>33009.564783</td>\n",
       "      <td>1726.2</td>\n",
       "      <td>12570.260435</td>\n",
       "      <td>4158.563043</td>\n",
       "      <td>108.70</td>\n",
       "      <td>84.86</td>\n",
       "      <td>98755.084609</td>\n",
       "      <td>99009.664609</td>\n",
       "    </tr>\n",
       "    <tr>\n",
       "      <th>2022-09-01</th>\n",
       "      <td>87.55</td>\n",
       "      <td>29.650000</td>\n",
       "      <td>66.112125</td>\n",
       "      <td>12.337328</td>\n",
       "      <td>46.508033</td>\n",
       "      <td>54.169718</td>\n",
       "      <td>2.96539</td>\n",
       "      <td>2.680926</td>\n",
       "      <td>3.60701</td>\n",
       "      <td>101.1402</td>\n",
       "      <td>...</td>\n",
       "      <td>279.801750</td>\n",
       "      <td>3.4125</td>\n",
       "      <td>30649.559524</td>\n",
       "      <td>1684.9</td>\n",
       "      <td>11402.850000</td>\n",
       "      <td>3850.520476</td>\n",
       "      <td>112.12</td>\n",
       "      <td>76.38</td>\n",
       "      <td>99023.842877</td>\n",
       "      <td>99252.982877</td>\n",
       "    </tr>\n",
       "    <tr>\n",
       "      <th>2022-10-01</th>\n",
       "      <td>84.37</td>\n",
       "      <td>29.195000</td>\n",
       "      <td>66.735784</td>\n",
       "      <td>12.416878</td>\n",
       "      <td>45.434557</td>\n",
       "      <td>52.825221</td>\n",
       "      <td>2.97987</td>\n",
       "      <td>2.648055</td>\n",
       "      <td>3.81173</td>\n",
       "      <td>101.2339</td>\n",
       "      <td>...</td>\n",
       "      <td>298.664504</td>\n",
       "      <td>3.3750</td>\n",
       "      <td>30570.683810</td>\n",
       "      <td>1654.9</td>\n",
       "      <td>10801.494286</td>\n",
       "      <td>3726.050952</td>\n",
       "      <td>111.53</td>\n",
       "      <td>81.89</td>\n",
       "      <td>99289.107702</td>\n",
       "      <td>99534.777702</td>\n",
       "    </tr>\n",
       "    <tr>\n",
       "      <th>2022-11-01</th>\n",
       "      <td>76.44</td>\n",
       "      <td>28.730000</td>\n",
       "      <td>67.141905</td>\n",
       "      <td>12.379263</td>\n",
       "      <td>46.380108</td>\n",
       "      <td>53.708495</td>\n",
       "      <td>2.98598</td>\n",
       "      <td>2.628974</td>\n",
       "      <td>3.61972</td>\n",
       "      <td>100.4743</td>\n",
       "      <td>...</td>\n",
       "      <td>329.304359</td>\n",
       "      <td>3.7380</td>\n",
       "      <td>33417.958095</td>\n",
       "      <td>1775.1</td>\n",
       "      <td>10973.638095</td>\n",
       "      <td>3917.488571</td>\n",
       "      <td>105.95</td>\n",
       "      <td>78.92</td>\n",
       "      <td>99331.028299</td>\n",
       "      <td>99567.788299</td>\n",
       "    </tr>\n",
       "    <tr>\n",
       "      <th>2022-12-01</th>\n",
       "      <td>78.12</td>\n",
       "      <td>28.820000</td>\n",
       "      <td>65.892587</td>\n",
       "      <td>12.148566</td>\n",
       "      <td>46.143665</td>\n",
       "      <td>54.611816</td>\n",
       "      <td>2.98990</td>\n",
       "      <td>2.612931</td>\n",
       "      <td>2.88864</td>\n",
       "      <td>98.2973</td>\n",
       "      <td>...</td>\n",
       "      <td>260.640859</td>\n",
       "      <td>3.8105</td>\n",
       "      <td>33482.257143</td>\n",
       "      <td>1842.2</td>\n",
       "      <td>10838.995714</td>\n",
       "      <td>3912.380952</td>\n",
       "      <td>103.52</td>\n",
       "      <td>70.91</td>\n",
       "      <td>97921.661050</td>\n",
       "      <td>98134.391050</td>\n",
       "    </tr>\n",
       "    <tr>\n",
       "      <th>2023-01-01</th>\n",
       "      <td>76.83</td>\n",
       "      <td>28.265000</td>\n",
       "      <td>66.736506</td>\n",
       "      <td>12.568448</td>\n",
       "      <td>44.139724</td>\n",
       "      <td>53.631685</td>\n",
       "      <td>3.00536</td>\n",
       "      <td>2.616118</td>\n",
       "      <td>3.11047</td>\n",
       "      <td>99.8474</td>\n",
       "      <td>...</td>\n",
       "      <td>249.373609</td>\n",
       "      <td>4.2260</td>\n",
       "      <td>33656.000500</td>\n",
       "      <td>1962.2</td>\n",
       "      <td>11013.991000</td>\n",
       "      <td>3960.656500</td>\n",
       "      <td>102.10</td>\n",
       "      <td>74.85</td>\n",
       "      <td>98164.056690</td>\n",
       "      <td>98388.606690</td>\n",
       "    </tr>\n",
       "    <tr>\n",
       "      <th>2023-02-01</th>\n",
       "      <td>73.28</td>\n",
       "      <td>28.480000</td>\n",
       "      <td>67.244768</td>\n",
       "      <td>12.525077</td>\n",
       "      <td>46.279238</td>\n",
       "      <td>55.178948</td>\n",
       "      <td>3.01648</td>\n",
       "      <td>2.594008</td>\n",
       "      <td>3.12061</td>\n",
       "      <td>100.1225</td>\n",
       "      <td>...</td>\n",
       "      <td>245.439617</td>\n",
       "      <td>4.0740</td>\n",
       "      <td>33648.256316</td>\n",
       "      <td>1853.2</td>\n",
       "      <td>11785.074211</td>\n",
       "      <td>4079.684737</td>\n",
       "      <td>104.87</td>\n",
       "      <td>74.45</td>\n",
       "      <td>98743.634413</td>\n",
       "      <td>98966.984413</td>\n",
       "    </tr>\n",
       "    <tr>\n",
       "      <th>2023-03-01</th>\n",
       "      <td>79.45</td>\n",
       "      <td>28.635000</td>\n",
       "      <td>67.356167</td>\n",
       "      <td>12.695529</td>\n",
       "      <td>46.018623</td>\n",
       "      <td>54.688458</td>\n",
       "      <td>3.01808</td>\n",
       "      <td>2.562793</td>\n",
       "      <td>3.04911</td>\n",
       "      <td>99.3157</td>\n",
       "      <td>...</td>\n",
       "      <td>314.085898</td>\n",
       "      <td>4.0945</td>\n",
       "      <td>32483.478261</td>\n",
       "      <td>2004.1</td>\n",
       "      <td>11637.092174</td>\n",
       "      <td>3968.559130</td>\n",
       "      <td>102.51</td>\n",
       "      <td>70.97</td>\n",
       "      <td>98745.964413</td>\n",
       "      <td>98958.874413</td>\n",
       "    </tr>\n",
       "    <tr>\n",
       "      <th>2023-04-01</th>\n",
       "      <td>NaN</td>\n",
       "      <td>28.720000</td>\n",
       "      <td>67.349064</td>\n",
       "      <td>12.635586</td>\n",
       "      <td>45.205379</td>\n",
       "      <td>54.740869</td>\n",
       "      <td>3.02918</td>\n",
       "      <td>2.495365</td>\n",
       "      <td>3.06620</td>\n",
       "      <td>100.3263</td>\n",
       "      <td>...</td>\n",
       "      <td>237.463008</td>\n",
       "      <td>3.8812</td>\n",
       "      <td>33731.280526</td>\n",
       "      <td>2018.3</td>\n",
       "      <td>12073.464737</td>\n",
       "      <td>4121.467368</td>\n",
       "      <td>101.66</td>\n",
       "      <td>77.29</td>\n",
       "      <td>98739.874413</td>\n",
       "      <td>98971.744413</td>\n",
       "    </tr>\n",
       "  </tbody>\n",
       "</table>\n",
       "<p>13 rows × 29 columns</p>\n",
       "</div>"
      ],
      "text/plain": [
       "               wti   oil_opec  oil_nonopec  oil_world  henry_hub_ng  \\\n",
       "Date                                                                  \n",
       "2022-04-01  109.55  28.590000    64.603255  11.668387     44.688724   \n",
       "2022-05-01  114.84  28.104654    65.002336  11.629127     45.097091   \n",
       "2022-06-01  101.62  28.300000    65.331052  11.797257     46.333224   \n",
       "2022-07-01   93.67  28.520000    66.275370  11.844011     46.362408   \n",
       "2022-08-01   84.26  29.530000    65.886271  12.002495     47.017000   \n",
       "2022-09-01   87.55  29.650000    66.112125  12.337328     46.508033   \n",
       "2022-10-01   84.37  29.195000    66.735784  12.416878     45.434557   \n",
       "2022-11-01   76.44  28.730000    67.141905  12.379263     46.380108   \n",
       "2022-12-01   78.12  28.820000    65.892587  12.148566     46.143665   \n",
       "2023-01-01   76.83  28.265000    66.736506  12.568448     44.139724   \n",
       "2023-02-01   73.28  28.480000    67.244768  12.525077     46.279238   \n",
       "2023-03-01   79.45  28.635000    67.356167  12.695529     46.018623   \n",
       "2023-04-01     NaN  28.720000    67.349064  12.635586     45.205379   \n",
       "\n",
       "               oil_us  petrol_oecd  petrol_nonoecd   us_cpi    us_ppi  ...  \\\n",
       "Date                                                                   ...   \n",
       "2022-04-01  53.125505      2.88611        2.686788  3.76109  101.1941  ...   \n",
       "2022-05-01  53.525117      2.91268        2.725040  4.18620  100.8630  ...   \n",
       "2022-06-01  54.316138      2.94728        2.740642  4.66799  100.4645  ...   \n",
       "2022-07-01  53.623941      2.94628        2.710093  4.06401  100.7345  ...   \n",
       "2022-08-01  53.549209      2.95320        2.698022  3.54467  100.9427  ...   \n",
       "2022-09-01  54.169718      2.96539        2.680926  3.60701  101.1402  ...   \n",
       "2022-10-01  52.825221      2.97987        2.648055  3.81173  101.2339  ...   \n",
       "2022-11-01  53.708495      2.98598        2.628974  3.61972  100.4743  ...   \n",
       "2022-12-01  54.611816      2.98990        2.612931  2.88864   98.2973  ...   \n",
       "2023-01-01  53.631685      3.00536        2.616118  3.11047   99.8474  ...   \n",
       "2023-02-01  55.178948      3.01648        2.594008  3.12061  100.1225  ...   \n",
       "2023-03-01  54.688458      3.01808        2.562793  3.04911   99.3157  ...   \n",
       "2023-04-01  54.740869      3.02918        2.495365  3.06620  100.3263  ...   \n",
       "\n",
       "            global_econ_policy_uncert  copper_futures     dow_jones  \\\n",
       "Date                                                                  \n",
       "2022-04-01                 299.369775          4.4085  34314.990000   \n",
       "2022-05-01                 287.885641          4.2990  32379.462857   \n",
       "2022-06-01                 272.230457          3.7100  31446.712857   \n",
       "2022-07-01                 313.459666          3.5750  31535.323500   \n",
       "2022-08-01                 254.960194          3.5190  33009.564783   \n",
       "2022-09-01                 279.801750          3.4125  30649.559524   \n",
       "2022-10-01                 298.664504          3.3750  30570.683810   \n",
       "2022-11-01                 329.304359          3.7380  33417.958095   \n",
       "2022-12-01                 260.640859          3.8105  33482.257143   \n",
       "2023-01-01                 249.373609          4.2260  33656.000500   \n",
       "2023-02-01                 245.439617          4.0740  33648.256316   \n",
       "2023-03-01                 314.085898          4.0945  32483.478261   \n",
       "2023-04-01                 237.463008          3.8812  33731.280526   \n",
       "\n",
       "            gold_futures   nasdaq_comp        sp500  usd_index  wti_bre_sprd  \\\n",
       "Date                                                                           \n",
       "2022-04-01        1918.6  13394.163000  4391.296000     102.96         95.18   \n",
       "2022-05-01        1856.3  11829.729524  4040.360000     101.75        101.41   \n",
       "2022-06-01        1816.3  11418.919048  3898.946667     104.68        107.14   \n",
       "2022-07-01        1781.8  11622.631500  3911.729500     105.90         94.34   \n",
       "2022-08-01        1726.2  12570.260435  4158.563043     108.70         84.86   \n",
       "2022-09-01        1684.9  11402.850000  3850.520476     112.12         76.38   \n",
       "2022-10-01        1654.9  10801.494286  3726.050952     111.53         81.89   \n",
       "2022-11-01        1775.1  10973.638095  3917.488571     105.95         78.92   \n",
       "2022-12-01        1842.2  10838.995714  3912.380952     103.52         70.91   \n",
       "2023-01-01        1962.2  11013.991000  3960.656500     102.10         74.85   \n",
       "2023-02-01        1853.2  11785.074211  4079.684737     104.87         74.45   \n",
       "2023-03-01        2004.1  11637.092174  3968.559130     102.51         70.97   \n",
       "2023-04-01        2018.3  12073.464737  4121.467368     101.66         77.29   \n",
       "\n",
       "            wti_crack_sprd  bre_crack_sprd  \n",
       "Date                                        \n",
       "2022-04-01    96343.002265    96628.542265  \n",
       "2022-05-01    96267.296432    96571.526432  \n",
       "2022-06-01    96822.210421    97143.630421  \n",
       "2022-07-01    98061.002238    98344.022238  \n",
       "2022-08-01    98755.084609    99009.664609  \n",
       "2022-09-01    99023.842877    99252.982877  \n",
       "2022-10-01    99289.107702    99534.777702  \n",
       "2022-11-01    99331.028299    99567.788299  \n",
       "2022-12-01    97921.661050    98134.391050  \n",
       "2023-01-01    98164.056690    98388.606690  \n",
       "2023-02-01    98743.634413    98966.984413  \n",
       "2023-03-01    98745.964413    98958.874413  \n",
       "2023-04-01    98739.874413    98971.744413  \n",
       "\n",
       "[13 rows x 29 columns]"
      ]
     },
     "metadata": {},
     "output_type": "display_data"
    }
   ],
   "source": [
    "#Make a copy of dataframe\n",
    "df_new = df.copy()\n",
    "\n",
    "#Shift by n-month\n",
    "df_new[TARGET_FEATURE] = df_new[TARGET_FEATURE].shift(-N_MONTH)\n",
    "\n",
    "#print tail of 1,2,3,6-month future dataframes\n",
    "display(df_new.tail(13))"
   ]
  },
  {
   "cell_type": "markdown",
   "id": "d40447db",
   "metadata": {},
   "source": [
    "### Handle Missing Values"
   ]
  },
  {
   "cell_type": "markdown",
   "id": "a5a1c34b",
   "metadata": {},
   "source": [
    "#### Print missing values"
   ]
  },
  {
   "cell_type": "code",
   "execution_count": 15,
   "id": "dd2f9f8d",
   "metadata": {},
   "outputs": [
    {
     "data": {
      "text/html": [
       "<div>\n",
       "<style scoped>\n",
       "    .dataframe tbody tr th:only-of-type {\n",
       "        vertical-align: middle;\n",
       "    }\n",
       "\n",
       "    .dataframe tbody tr th {\n",
       "        vertical-align: top;\n",
       "    }\n",
       "\n",
       "    .dataframe thead th {\n",
       "        text-align: right;\n",
       "    }\n",
       "</style>\n",
       "<table border=\"1\" class=\"dataframe\">\n",
       "  <thead>\n",
       "    <tr style=\"text-align: right;\">\n",
       "      <th></th>\n",
       "      <th>count</th>\n",
       "      <th>%</th>\n",
       "    </tr>\n",
       "  </thead>\n",
       "  <tbody>\n",
       "    <tr>\n",
       "      <th>wti</th>\n",
       "      <td>1</td>\n",
       "      <td>0.357143</td>\n",
       "    </tr>\n",
       "  </tbody>\n",
       "</table>\n",
       "</div>"
      ],
      "text/plain": [
       "     count         %\n",
       "wti      1  0.357143"
      ]
     },
     "execution_count": 15,
     "metadata": {},
     "output_type": "execute_result"
    }
   ],
   "source": [
    "count_missing(df_new)"
   ]
  },
  {
   "cell_type": "markdown",
   "id": "81bb62a4",
   "metadata": {},
   "source": [
    "#### Impute missing values"
   ]
  },
  {
   "cell_type": "code",
   "execution_count": 16,
   "id": "484a18a0",
   "metadata": {},
   "outputs": [
    {
     "name": "stdout",
     "output_type": "stream",
     "text": [
      "Before: (280, 29)\n",
      "After: (279, 29)\n"
     ]
    }
   ],
   "source": [
    "dropped_row = df_new.dropna(axis = 0, inplace = False)\n",
    "print('Before:', df_new.shape)\n",
    "print('After:', dropped_row.shape)"
   ]
  },
  {
   "cell_type": "markdown",
   "id": "f125a340",
   "metadata": {},
   "source": [
    "### Final Dataset"
   ]
  },
  {
   "cell_type": "code",
   "execution_count": 17,
   "id": "78f5868a",
   "metadata": {},
   "outputs": [],
   "source": [
    "df = dropped_row.copy()"
   ]
  },
  {
   "cell_type": "markdown",
   "id": "4adedc6e",
   "metadata": {},
   "source": [
    "## EDA n-month future"
   ]
  },
  {
   "cell_type": "markdown",
   "id": "ba406558",
   "metadata": {},
   "source": [
    "### Associations with target feature"
   ]
  },
  {
   "cell_type": "markdown",
   "id": "21b1dea1",
   "metadata": {},
   "source": [
    "#### High Correlation Coeff"
   ]
  },
  {
   "cell_type": "code",
   "execution_count": 18,
   "id": "762a274e",
   "metadata": {
    "scrolled": false
   },
   "outputs": [
    {
     "name": "stdout",
     "output_type": "stream",
     "text": [
      "32.14% of items (9/28) are out of (-0.6, 0.6)\n"
     ]
    },
    {
     "data": {
      "image/png": "[encoded data removed]",
      "text/plain": [
       "<Figure size 1200x250 with 1 Axes>"
      ]
     },
     "metadata": {},
     "output_type": "display_data"
    }
   ],
   "source": [
    "wti_corr_coeff = target_corr_coeff(df, TARGET_FEATURE)\n",
    "\n",
    "highlight_out_of_range(data = wti_corr_coeff,\n",
    "                       title = model_name,\n",
    "                       ylabel = 'Correlation Coefficients',\n",
    "                       bounding_limit = (-0.6,0.6),\n",
    "                       figsize = (12, 2.5))"
   ]
  },
  {
   "cell_type": "markdown",
   "id": "10b082fd",
   "metadata": {},
   "source": [
    "#### High PPS Score"
   ]
  },
  {
   "cell_type": "code",
   "execution_count": 19,
   "id": "d6be85f3",
   "metadata": {
    "scrolled": false
   },
   "outputs": [
    {
     "name": "stdout",
     "output_type": "stream",
     "text": [
      "3.57% of items (1/28) are out of (0, 0.6)\n"
     ]
    },
    {
     "data": {
      "image/png": "[encoded data removed]",
      "text/plain": [
       "<Figure size 700x200 with 1 Axes>"
      ]
     },
     "metadata": {},
     "output_type": "display_data"
    }
   ],
   "source": [
    "wti_pps_score = target_pps_score(df, TARGET_FEATURE)\n",
    "\n",
    "highlight_out_of_range(data = wti_pps_score,\n",
    "                       title = model_name,\n",
    "                       ylabel = 'PPS',\n",
    "                       bounding_limit = (0,0.6),\n",
    "                       figsize = (7, 2))"
   ]
  },
  {
   "cell_type": "markdown",
   "id": "45ea3891",
   "metadata": {},
   "source": [
    "## Train/Test Split"
   ]
  },
  {
   "cell_type": "code",
   "execution_count": 20,
   "id": "6e42acf7",
   "metadata": {},
   "outputs": [
    {
     "name": "stdout",
     "output_type": "stream",
     "text": [
      "195.0\n",
      "84.0\n"
     ]
    }
   ],
   "source": [
    "#expected 70-30 split sizes\n",
    "print(round(len(df) * 0.7, 0))\n",
    "print(round(len(df) * 0.3, 0))"
   ]
  },
  {
   "cell_type": "code",
   "execution_count": 21,
   "id": "fa9a8bac",
   "metadata": {},
   "outputs": [
    {
     "data": {
      "text/plain": [
       "'regression_model_1m'"
      ]
     },
     "execution_count": 21,
     "metadata": {},
     "output_type": "execute_result"
    }
   ],
   "source": [
    "model_name"
   ]
  },
  {
   "cell_type": "code",
   "execution_count": 22,
   "id": "61a89b83",
   "metadata": {},
   "outputs": [],
   "source": [
    "#split data to 70$ train and 30% test sets\n",
    "#... = train_test_split(X, y, test_size, random_state)\n",
    "X_train, X_test, y_train, y_test = train_test_split(df.drop(columns=TARGET_FEATURE),\n",
    "                                                    df[TARGET_FEATURE], test_size=0.3,\n",
    "                                                    random_state=47)"
   ]
  },
  {
   "cell_type": "code",
   "execution_count": 23,
   "id": "91c0ad34",
   "metadata": {},
   "outputs": [
    {
     "name": "stdout",
     "output_type": "stream",
     "text": [
      "(X_train, X_test):\n",
      " (195, 28) (84, 28)\n",
      "\n",
      "(y_train, y_test):\n",
      " (195,) (84,)\n"
     ]
    }
   ],
   "source": [
    "print('(X_train, X_test):\\n',X_train.shape, X_test.shape)\n",
    "print('\\n(y_train, y_test):\\n',y_train.shape, y_test.shape)"
   ]
  },
  {
   "cell_type": "markdown",
   "id": "1aaa1042",
   "metadata": {},
   "source": [
    "### Imputing missing feature (predictor) values\n",
    "Impute missing values using scikit-learn. Learn values to impute from a train split and apply that to the test split."
   ]
  },
  {
   "cell_type": "code",
   "execution_count": 24,
   "id": "72c60cde",
   "metadata": {},
   "outputs": [
    {
     "data": {
      "text/html": [
       "<div>\n",
       "<style scoped>\n",
       "    .dataframe tbody tr th:only-of-type {\n",
       "        vertical-align: middle;\n",
       "    }\n",
       "\n",
       "    .dataframe tbody tr th {\n",
       "        vertical-align: top;\n",
       "    }\n",
       "\n",
       "    .dataframe thead th {\n",
       "        text-align: right;\n",
       "    }\n",
       "</style>\n",
       "<table border=\"1\" class=\"dataframe\">\n",
       "  <thead>\n",
       "    <tr style=\"text-align: right;\">\n",
       "      <th></th>\n",
       "      <th>count</th>\n",
       "      <th>%</th>\n",
       "    </tr>\n",
       "  </thead>\n",
       "  <tbody>\n",
       "  </tbody>\n",
       "</table>\n",
       "</div>"
      ],
      "text/plain": [
       "Empty DataFrame\n",
       "Columns: [count, %]\n",
       "Index: []"
      ]
     },
     "metadata": {},
     "output_type": "display_data"
    }
   ],
   "source": [
    "display(count_missing(X_train))"
   ]
  },
  {
   "cell_type": "code",
   "execution_count": 25,
   "id": "67f1998d",
   "metadata": {
    "scrolled": true
   },
   "outputs": [
    {
     "data": {
      "text/html": [
       "<div>\n",
       "<style scoped>\n",
       "    .dataframe tbody tr th:only-of-type {\n",
       "        vertical-align: middle;\n",
       "    }\n",
       "\n",
       "    .dataframe tbody tr th {\n",
       "        vertical-align: top;\n",
       "    }\n",
       "\n",
       "    .dataframe thead th {\n",
       "        text-align: right;\n",
       "    }\n",
       "</style>\n",
       "<table border=\"1\" class=\"dataframe\">\n",
       "  <thead>\n",
       "    <tr style=\"text-align: right;\">\n",
       "      <th></th>\n",
       "      <th>count</th>\n",
       "      <th>%</th>\n",
       "    </tr>\n",
       "  </thead>\n",
       "  <tbody>\n",
       "  </tbody>\n",
       "</table>\n",
       "</div>"
      ],
      "text/plain": [
       "Empty DataFrame\n",
       "Columns: [count, %]\n",
       "Index: []"
      ]
     },
     "metadata": {},
     "output_type": "display_data"
    }
   ],
   "source": [
    "display(count_missing(X_test))"
   ]
  },
  {
   "cell_type": "code",
   "execution_count": 26,
   "id": "483568b5",
   "metadata": {},
   "outputs": [],
   "source": [
    "#No missing data\n",
    "X_tr = X_train.copy()\n",
    "X_te = X_test.copy()"
   ]
  },
  {
   "cell_type": "markdown",
   "id": "fb936e1e",
   "metadata": {},
   "source": [
    "### Scale Data"
   ]
  },
  {
   "cell_type": "code",
   "execution_count": 27,
   "id": "1e6ef450",
   "metadata": {},
   "outputs": [],
   "source": [
    "def scale_train_test_dataframes(X_tr, X_te):\n",
    "    '''This function gets a dataframe and normalized columns and return a new data frame'''\n",
    "    \n",
    "    #store column names\n",
    "    names = X_tr.columns\n",
    "    \n",
    "    from sklearn.preprocessing import StandardScaler\n",
    "\n",
    "    #Call the StandardScaler`s fit method on `X_tr` to fit the scaler\n",
    "    #then use it's `transform()` method to apply the scaling to both the train and test split\n",
    "    #data (`X_tr` and `X_te`), naming the results `X_tr_scaled` and `X_te_scaled`, respectively\n",
    "\n",
    "    scaler = StandardScaler()\n",
    "    \n",
    "    #scale data using sklearn preprocessing module\n",
    "    scaler.fit(X_tr)\n",
    "    \n",
    "    X_tr_scaled = scaler.transform(X_tr)\n",
    "    \n",
    "    X_te_scaled = scaler.transform(X_te)\n",
    "\n",
    "    #create new df using scaled data\n",
    "    X_tr_scaled_df = pd.DataFrame(X_tr_scaled, columns=names)\n",
    "    X_te_scaled_df = pd.DataFrame(X_te_scaled, columns=names)\n",
    "\n",
    "    #set index\n",
    "    X_tr_scaled_df.set_index(X_tr.index, drop=True, inplace=True)\n",
    "    X_te_scaled_df.set_index(X_te.index, drop=True, inplace=True)\n",
    "\n",
    "    #return scaled dataframe\n",
    "    return X_tr_scaled_df, X_te_scaled_df"
   ]
  },
  {
   "cell_type": "code",
   "execution_count": 28,
   "id": "9c15d24d",
   "metadata": {},
   "outputs": [],
   "source": [
    "X_tr_scaled, X_te_scaled_df = scale_train_test_dataframes(X_tr, X_te)"
   ]
  },
  {
   "cell_type": "markdown",
   "id": "671e509f",
   "metadata": {},
   "source": [
    "#### Plot scaled data"
   ]
  },
  {
   "cell_type": "code",
   "execution_count": 29,
   "id": "32b8c678",
   "metadata": {
    "scrolled": false
   },
   "outputs": [
    {
     "data": {
      "image/png": "[encoded data removed]",
      "text/plain": [
       "<Figure size 1500x1500 with 30 Axes>"
      ]
     },
     "metadata": {},
     "output_type": "display_data"
    }
   ],
   "source": [
    "#Plot histogram of all  features\n",
    "#Call plt.subplots_adjust() with an argument hspace=0.5 to adjust the spacing\n",
    "#It's important you create legible and easy-to-read plots\n",
    "X_tr_scaled.hist(bins = 12, figsize=(15,15))\n",
    "plt.subplots_adjust(hspace=0.5);"
   ]
  },
  {
   "cell_type": "code",
   "execution_count": 30,
   "id": "cdfee39b",
   "metadata": {},
   "outputs": [
    {
     "data": {
      "image/png": "[encoded data removed]",
      "text/plain": [
       "<Figure size 700x900 with 1 Axes>"
      ]
     },
     "metadata": {},
     "output_type": "display_data"
    }
   ],
   "source": [
    "fig, ax = plt.subplots(figsize=(7,9))\n",
    "\n",
    "sns.boxplot(data = X_tr_scaled,\n",
    "            orient = 'h',\n",
    "            width=0.8,\n",
    "            palette='crest',\n",
    "            linewidth= 1,\n",
    "            sym = '')\n",
    "plt.show()"
   ]
  },
  {
   "cell_type": "markdown",
   "id": "88c7f5c5",
   "metadata": {},
   "source": [
    "## Conduct Regression Model in PyCaret"
   ]
  },
  {
   "cell_type": "markdown",
   "id": "13cca43c",
   "metadata": {},
   "source": [
    "### Setup the session"
   ]
  },
  {
   "cell_type": "code",
   "execution_count": 31,
   "id": "7fd47e6e",
   "metadata": {
    "scrolled": false
   },
   "outputs": [
    {
     "data": {
      "text/html": [
       "<style type=\"text/css\">\n",
       "#T_514e6_row8_col1, #T_514e6_row12_col1, #T_514e6_row14_col1 {\n",
       "  background-color: lightgreen;\n",
       "}\n",
       "</style>\n",
       "<table id=\"T_514e6\">\n",
       "  <thead>\n",
       "    <tr>\n",
       "      <th class=\"blank level0\" >&nbsp;</th>\n",
       "      <th id=\"T_514e6_level0_col0\" class=\"col_heading level0 col0\" >Description</th>\n",
       "      <th id=\"T_514e6_level0_col1\" class=\"col_heading level0 col1\" >Value</th>\n",
       "    </tr>\n",
       "  </thead>\n",
       "  <tbody>\n",
       "    <tr>\n",
       "      <th id=\"T_514e6_level0_row0\" class=\"row_heading level0 row0\" >0</th>\n",
       "      <td id=\"T_514e6_row0_col0\" class=\"data row0 col0\" >Session id</td>\n",
       "      <td id=\"T_514e6_row0_col1\" class=\"data row0 col1\" >786</td>\n",
       "    </tr>\n",
       "    <tr>\n",
       "      <th id=\"T_514e6_level0_row1\" class=\"row_heading level0 row1\" >1</th>\n",
       "      <td id=\"T_514e6_row1_col0\" class=\"data row1 col0\" >Target</td>\n",
       "      <td id=\"T_514e6_row1_col1\" class=\"data row1 col1\" >wti</td>\n",
       "    </tr>\n",
       "    <tr>\n",
       "      <th id=\"T_514e6_level0_row2\" class=\"row_heading level0 row2\" >2</th>\n",
       "      <td id=\"T_514e6_row2_col0\" class=\"data row2 col0\" >Target type</td>\n",
       "      <td id=\"T_514e6_row2_col1\" class=\"data row2 col1\" >Regression</td>\n",
       "    </tr>\n",
       "    <tr>\n",
       "      <th id=\"T_514e6_level0_row3\" class=\"row_heading level0 row3\" >3</th>\n",
       "      <td id=\"T_514e6_row3_col0\" class=\"data row3 col0\" >Original data shape</td>\n",
       "      <td id=\"T_514e6_row3_col1\" class=\"data row3 col1\" >(279, 29)</td>\n",
       "    </tr>\n",
       "    <tr>\n",
       "      <th id=\"T_514e6_level0_row4\" class=\"row_heading level0 row4\" >4</th>\n",
       "      <td id=\"T_514e6_row4_col0\" class=\"data row4 col0\" >Transformed data shape</td>\n",
       "      <td id=\"T_514e6_row4_col1\" class=\"data row4 col1\" >(279, 29)</td>\n",
       "    </tr>\n",
       "    <tr>\n",
       "      <th id=\"T_514e6_level0_row5\" class=\"row_heading level0 row5\" >5</th>\n",
       "      <td id=\"T_514e6_row5_col0\" class=\"data row5 col0\" >Transformed train set shape</td>\n",
       "      <td id=\"T_514e6_row5_col1\" class=\"data row5 col1\" >(195, 29)</td>\n",
       "    </tr>\n",
       "    <tr>\n",
       "      <th id=\"T_514e6_level0_row6\" class=\"row_heading level0 row6\" >6</th>\n",
       "      <td id=\"T_514e6_row6_col0\" class=\"data row6 col0\" >Transformed test set shape</td>\n",
       "      <td id=\"T_514e6_row6_col1\" class=\"data row6 col1\" >(84, 29)</td>\n",
       "    </tr>\n",
       "    <tr>\n",
       "      <th id=\"T_514e6_level0_row7\" class=\"row_heading level0 row7\" >7</th>\n",
       "      <td id=\"T_514e6_row7_col0\" class=\"data row7 col0\" >Numeric features</td>\n",
       "      <td id=\"T_514e6_row7_col1\" class=\"data row7 col1\" >28</td>\n",
       "    </tr>\n",
       "    <tr>\n",
       "      <th id=\"T_514e6_level0_row8\" class=\"row_heading level0 row8\" >8</th>\n",
       "      <td id=\"T_514e6_row8_col0\" class=\"data row8 col0\" >Preprocess</td>\n",
       "      <td id=\"T_514e6_row8_col1\" class=\"data row8 col1\" >True</td>\n",
       "    </tr>\n",
       "    <tr>\n",
       "      <th id=\"T_514e6_level0_row9\" class=\"row_heading level0 row9\" >9</th>\n",
       "      <td id=\"T_514e6_row9_col0\" class=\"data row9 col0\" >Imputation type</td>\n",
       "      <td id=\"T_514e6_row9_col1\" class=\"data row9 col1\" >simple</td>\n",
       "    </tr>\n",
       "    <tr>\n",
       "      <th id=\"T_514e6_level0_row10\" class=\"row_heading level0 row10\" >10</th>\n",
       "      <td id=\"T_514e6_row10_col0\" class=\"data row10 col0\" >Numeric imputation</td>\n",
       "      <td id=\"T_514e6_row10_col1\" class=\"data row10 col1\" >mean</td>\n",
       "    </tr>\n",
       "    <tr>\n",
       "      <th id=\"T_514e6_level0_row11\" class=\"row_heading level0 row11\" >11</th>\n",
       "      <td id=\"T_514e6_row11_col0\" class=\"data row11 col0\" >Categorical imputation</td>\n",
       "      <td id=\"T_514e6_row11_col1\" class=\"data row11 col1\" >mode</td>\n",
       "    </tr>\n",
       "    <tr>\n",
       "      <th id=\"T_514e6_level0_row12\" class=\"row_heading level0 row12\" >12</th>\n",
       "      <td id=\"T_514e6_row12_col0\" class=\"data row12 col0\" >Transformation</td>\n",
       "      <td id=\"T_514e6_row12_col1\" class=\"data row12 col1\" >True</td>\n",
       "    </tr>\n",
       "    <tr>\n",
       "      <th id=\"T_514e6_level0_row13\" class=\"row_heading level0 row13\" >13</th>\n",
       "      <td id=\"T_514e6_row13_col0\" class=\"data row13 col0\" >Transformation method</td>\n",
       "      <td id=\"T_514e6_row13_col1\" class=\"data row13 col1\" >yeo-johnson</td>\n",
       "    </tr>\n",
       "    <tr>\n",
       "      <th id=\"T_514e6_level0_row14\" class=\"row_heading level0 row14\" >14</th>\n",
       "      <td id=\"T_514e6_row14_col0\" class=\"data row14 col0\" >Normalize</td>\n",
       "      <td id=\"T_514e6_row14_col1\" class=\"data row14 col1\" >True</td>\n",
       "    </tr>\n",
       "    <tr>\n",
       "      <th id=\"T_514e6_level0_row15\" class=\"row_heading level0 row15\" >15</th>\n",
       "      <td id=\"T_514e6_row15_col0\" class=\"data row15 col0\" >Normalize method</td>\n",
       "      <td id=\"T_514e6_row15_col1\" class=\"data row15 col1\" >zscore</td>\n",
       "    </tr>\n",
       "    <tr>\n",
       "      <th id=\"T_514e6_level0_row16\" class=\"row_heading level0 row16\" >16</th>\n",
       "      <td id=\"T_514e6_row16_col0\" class=\"data row16 col0\" >Fold Generator</td>\n",
       "      <td id=\"T_514e6_row16_col1\" class=\"data row16 col1\" >KFold</td>\n",
       "    </tr>\n",
       "    <tr>\n",
       "      <th id=\"T_514e6_level0_row17\" class=\"row_heading level0 row17\" >17</th>\n",
       "      <td id=\"T_514e6_row17_col0\" class=\"data row17 col0\" >Fold Number</td>\n",
       "      <td id=\"T_514e6_row17_col1\" class=\"data row17 col1\" >10</td>\n",
       "    </tr>\n",
       "    <tr>\n",
       "      <th id=\"T_514e6_level0_row18\" class=\"row_heading level0 row18\" >18</th>\n",
       "      <td id=\"T_514e6_row18_col0\" class=\"data row18 col0\" >CPU Jobs</td>\n",
       "      <td id=\"T_514e6_row18_col1\" class=\"data row18 col1\" >-1</td>\n",
       "    </tr>\n",
       "    <tr>\n",
       "      <th id=\"T_514e6_level0_row19\" class=\"row_heading level0 row19\" >19</th>\n",
       "      <td id=\"T_514e6_row19_col0\" class=\"data row19 col0\" >Use GPU</td>\n",
       "      <td id=\"T_514e6_row19_col1\" class=\"data row19 col1\" >False</td>\n",
       "    </tr>\n",
       "    <tr>\n",
       "      <th id=\"T_514e6_level0_row20\" class=\"row_heading level0 row20\" >20</th>\n",
       "      <td id=\"T_514e6_row20_col0\" class=\"data row20 col0\" >Log Experiment</td>\n",
       "      <td id=\"T_514e6_row20_col1\" class=\"data row20 col1\" >False</td>\n",
       "    </tr>\n",
       "    <tr>\n",
       "      <th id=\"T_514e6_level0_row21\" class=\"row_heading level0 row21\" >21</th>\n",
       "      <td id=\"T_514e6_row21_col0\" class=\"data row21 col0\" >Experiment Name</td>\n",
       "      <td id=\"T_514e6_row21_col1\" class=\"data row21 col1\" >reg-default-name</td>\n",
       "    </tr>\n",
       "    <tr>\n",
       "      <th id=\"T_514e6_level0_row22\" class=\"row_heading level0 row22\" >22</th>\n",
       "      <td id=\"T_514e6_row22_col0\" class=\"data row22 col0\" >USI</td>\n",
       "      <td id=\"T_514e6_row22_col1\" class=\"data row22 col1\" >d22a</td>\n",
       "    </tr>\n",
       "  </tbody>\n",
       "</table>\n"
      ],
      "text/plain": [
       "<pandas.io.formats.style.Styler at 0x2be9924d720>"
      ]
     },
     "metadata": {},
     "output_type": "display_data"
    }
   ],
   "source": [
    "#Setup Pycaret Regression session\n",
    "#Transform dataset, normalize and split the dataset.\n",
    "#Log experiments and plots for experiments to be viewed later with MLflow. \n",
    "\n",
    "reg_model = setup(data=df, \n",
    "                target=TARGET_FEATURE,\n",
    "                session_id=786,\n",
    "                transformation=True,\n",
    "                normalize=True,\n",
    "                train_size=0.7,\n",
    "                log_plots=True)"
   ]
  },
  {
   "cell_type": "markdown",
   "id": "7944323d",
   "metadata": {},
   "source": [
    "### Compare models"
   ]
  },
  {
   "cell_type": "code",
   "execution_count": 32,
   "id": "74d80605",
   "metadata": {},
   "outputs": [
    {
     "data": {
      "text/html": [],
      "text/plain": [
       "<IPython.core.display.HTML object>"
      ]
     },
     "metadata": {},
     "output_type": "display_data"
    },
    {
     "data": {
      "text/html": [
       "<style type=\"text/css\">\n",
       "#T_7f09d th {\n",
       "  text-align: left;\n",
       "}\n",
       "#T_7f09d_row0_col0, #T_7f09d_row0_col5, #T_7f09d_row1_col0, #T_7f09d_row1_col1, #T_7f09d_row1_col2, #T_7f09d_row1_col3, #T_7f09d_row1_col4, #T_7f09d_row1_col6, #T_7f09d_row2_col0, #T_7f09d_row2_col1, #T_7f09d_row2_col2, #T_7f09d_row2_col3, #T_7f09d_row2_col4, #T_7f09d_row2_col5, #T_7f09d_row2_col6, #T_7f09d_row3_col0, #T_7f09d_row3_col1, #T_7f09d_row3_col2, #T_7f09d_row3_col3, #T_7f09d_row3_col4, #T_7f09d_row3_col5, #T_7f09d_row3_col6, #T_7f09d_row4_col0, #T_7f09d_row4_col1, #T_7f09d_row4_col2, #T_7f09d_row4_col3, #T_7f09d_row4_col4, #T_7f09d_row4_col5, #T_7f09d_row4_col6, #T_7f09d_row5_col0, #T_7f09d_row5_col1, #T_7f09d_row5_col2, #T_7f09d_row5_col3, #T_7f09d_row5_col4, #T_7f09d_row5_col5, #T_7f09d_row5_col6, #T_7f09d_row6_col0, #T_7f09d_row6_col1, #T_7f09d_row6_col2, #T_7f09d_row6_col3, #T_7f09d_row6_col4, #T_7f09d_row6_col5, #T_7f09d_row6_col6, #T_7f09d_row7_col0, #T_7f09d_row7_col1, #T_7f09d_row7_col2, #T_7f09d_row7_col3, #T_7f09d_row7_col4, #T_7f09d_row7_col5, #T_7f09d_row7_col6, #T_7f09d_row8_col0, #T_7f09d_row8_col1, #T_7f09d_row8_col2, #T_7f09d_row8_col3, #T_7f09d_row8_col4, #T_7f09d_row8_col5, #T_7f09d_row8_col6, #T_7f09d_row9_col0, #T_7f09d_row9_col1, #T_7f09d_row9_col2, #T_7f09d_row9_col3, #T_7f09d_row9_col4, #T_7f09d_row9_col5, #T_7f09d_row9_col6, #T_7f09d_row10_col0, #T_7f09d_row10_col1, #T_7f09d_row10_col2, #T_7f09d_row10_col3, #T_7f09d_row10_col4, #T_7f09d_row10_col5, #T_7f09d_row10_col6, #T_7f09d_row11_col0, #T_7f09d_row11_col1, #T_7f09d_row11_col2, #T_7f09d_row11_col3, #T_7f09d_row11_col4, #T_7f09d_row11_col5, #T_7f09d_row11_col6, #T_7f09d_row12_col0, #T_7f09d_row12_col1, #T_7f09d_row12_col2, #T_7f09d_row12_col3, #T_7f09d_row12_col4, #T_7f09d_row12_col5, #T_7f09d_row12_col6, #T_7f09d_row13_col0, #T_7f09d_row13_col1, #T_7f09d_row13_col2, #T_7f09d_row13_col3, #T_7f09d_row13_col4, #T_7f09d_row13_col5, #T_7f09d_row13_col6, #T_7f09d_row14_col0, #T_7f09d_row14_col1, #T_7f09d_row14_col2, #T_7f09d_row14_col3, #T_7f09d_row14_col4, #T_7f09d_row14_col5, #T_7f09d_row14_col6, #T_7f09d_row15_col0, #T_7f09d_row15_col1, #T_7f09d_row15_col2, #T_7f09d_row15_col3, #T_7f09d_row15_col4, #T_7f09d_row15_col5, #T_7f09d_row15_col6, #T_7f09d_row16_col0, #T_7f09d_row16_col1, #T_7f09d_row16_col2, #T_7f09d_row16_col3, #T_7f09d_row16_col4, #T_7f09d_row16_col5, #T_7f09d_row16_col6, #T_7f09d_row17_col0, #T_7f09d_row17_col1, #T_7f09d_row17_col2, #T_7f09d_row17_col3, #T_7f09d_row17_col4, #T_7f09d_row17_col5, #T_7f09d_row17_col6 {\n",
       "  text-align: left;\n",
       "}\n",
       "#T_7f09d_row0_col1, #T_7f09d_row0_col2, #T_7f09d_row0_col3, #T_7f09d_row0_col4, #T_7f09d_row0_col6, #T_7f09d_row1_col5 {\n",
       "  text-align: left;\n",
       "  background-color: yellow;\n",
       "}\n",
       "#T_7f09d_row0_col7, #T_7f09d_row1_col7, #T_7f09d_row2_col7, #T_7f09d_row3_col7, #T_7f09d_row4_col7, #T_7f09d_row5_col7, #T_7f09d_row6_col7, #T_7f09d_row7_col7, #T_7f09d_row8_col7, #T_7f09d_row9_col7, #T_7f09d_row10_col7, #T_7f09d_row11_col7, #T_7f09d_row12_col7, #T_7f09d_row13_col7, #T_7f09d_row15_col7, #T_7f09d_row16_col7, #T_7f09d_row17_col7 {\n",
       "  text-align: left;\n",
       "  background-color: lightgrey;\n",
       "}\n",
       "#T_7f09d_row14_col7 {\n",
       "  text-align: left;\n",
       "  background-color: yellow;\n",
       "  background-color: lightgrey;\n",
       "}\n",
       "</style>\n",
       "<table id=\"T_7f09d\">\n",
       "  <thead>\n",
       "    <tr>\n",
       "      <th class=\"blank level0\" >&nbsp;</th>\n",
       "      <th id=\"T_7f09d_level0_col0\" class=\"col_heading level0 col0\" >Model</th>\n",
       "      <th id=\"T_7f09d_level0_col1\" class=\"col_heading level0 col1\" >MAE</th>\n",
       "      <th id=\"T_7f09d_level0_col2\" class=\"col_heading level0 col2\" >MSE</th>\n",
       "      <th id=\"T_7f09d_level0_col3\" class=\"col_heading level0 col3\" >RMSE</th>\n",
       "      <th id=\"T_7f09d_level0_col4\" class=\"col_heading level0 col4\" >R2</th>\n",
       "      <th id=\"T_7f09d_level0_col5\" class=\"col_heading level0 col5\" >RMSLE</th>\n",
       "      <th id=\"T_7f09d_level0_col6\" class=\"col_heading level0 col6\" >MAPE</th>\n",
       "      <th id=\"T_7f09d_level0_col7\" class=\"col_heading level0 col7\" >TT (Sec)</th>\n",
       "    </tr>\n",
       "  </thead>\n",
       "  <tbody>\n",
       "    <tr>\n",
       "      <th id=\"T_7f09d_level0_row0\" class=\"row_heading level0 row0\" >et</th>\n",
       "      <td id=\"T_7f09d_row0_col0\" class=\"data row0 col0\" >Extra Trees Regressor</td>\n",
       "      <td id=\"T_7f09d_row0_col1\" class=\"data row0 col1\" >4.3593</td>\n",
       "      <td id=\"T_7f09d_row0_col2\" class=\"data row0 col2\" >32.8081</td>\n",
       "      <td id=\"T_7f09d_row0_col3\" class=\"data row0 col3\" >5.6722</td>\n",
       "      <td id=\"T_7f09d_row0_col4\" class=\"data row0 col4\" >0.9540</td>\n",
       "      <td id=\"T_7f09d_row0_col5\" class=\"data row0 col5\" >0.0954</td>\n",
       "      <td id=\"T_7f09d_row0_col6\" class=\"data row0 col6\" >0.0755</td>\n",
       "      <td id=\"T_7f09d_row0_col7\" class=\"data row0 col7\" >0.2520</td>\n",
       "    </tr>\n",
       "    <tr>\n",
       "      <th id=\"T_7f09d_level0_row1\" class=\"row_heading level0 row1\" >rf</th>\n",
       "      <td id=\"T_7f09d_row1_col0\" class=\"data row1 col0\" >Random Forest Regressor</td>\n",
       "      <td id=\"T_7f09d_row1_col1\" class=\"data row1 col1\" >4.4445</td>\n",
       "      <td id=\"T_7f09d_row1_col2\" class=\"data row1 col2\" >32.8853</td>\n",
       "      <td id=\"T_7f09d_row1_col3\" class=\"data row1 col3\" >5.6806</td>\n",
       "      <td id=\"T_7f09d_row1_col4\" class=\"data row1 col4\" >0.9538</td>\n",
       "      <td id=\"T_7f09d_row1_col5\" class=\"data row1 col5\" >0.0947</td>\n",
       "      <td id=\"T_7f09d_row1_col6\" class=\"data row1 col6\" >0.0766</td>\n",
       "      <td id=\"T_7f09d_row1_col7\" class=\"data row1 col7\" >0.3640</td>\n",
       "    </tr>\n",
       "    <tr>\n",
       "      <th id=\"T_7f09d_level0_row2\" class=\"row_heading level0 row2\" >lr</th>\n",
       "      <td id=\"T_7f09d_row2_col0\" class=\"data row2 col0\" >Linear Regression</td>\n",
       "      <td id=\"T_7f09d_row2_col1\" class=\"data row2 col1\" >4.5491</td>\n",
       "      <td id=\"T_7f09d_row2_col2\" class=\"data row2 col2\" >34.6759</td>\n",
       "      <td id=\"T_7f09d_row2_col3\" class=\"data row2 col3\" >5.8065</td>\n",
       "      <td id=\"T_7f09d_row2_col4\" class=\"data row2 col4\" >0.9511</td>\n",
       "      <td id=\"T_7f09d_row2_col5\" class=\"data row2 col5\" >0.1481</td>\n",
       "      <td id=\"T_7f09d_row2_col6\" class=\"data row2 col6\" >0.0907</td>\n",
       "      <td id=\"T_7f09d_row2_col7\" class=\"data row2 col7\" >2.3960</td>\n",
       "    </tr>\n",
       "    <tr>\n",
       "      <th id=\"T_7f09d_level0_row3\" class=\"row_heading level0 row3\" >ada</th>\n",
       "      <td id=\"T_7f09d_row3_col0\" class=\"data row3 col0\" >AdaBoost Regressor</td>\n",
       "      <td id=\"T_7f09d_row3_col1\" class=\"data row3 col1\" >4.6028</td>\n",
       "      <td id=\"T_7f09d_row3_col2\" class=\"data row3 col2\" >35.8491</td>\n",
       "      <td id=\"T_7f09d_row3_col3\" class=\"data row3 col3\" >5.9513</td>\n",
       "      <td id=\"T_7f09d_row3_col4\" class=\"data row3 col4\" >0.9493</td>\n",
       "      <td id=\"T_7f09d_row3_col5\" class=\"data row3 col5\" >0.1071</td>\n",
       "      <td id=\"T_7f09d_row3_col6\" class=\"data row3 col6\" >0.0840</td>\n",
       "      <td id=\"T_7f09d_row3_col7\" class=\"data row3 col7\" >0.1780</td>\n",
       "    </tr>\n",
       "    <tr>\n",
       "      <th id=\"T_7f09d_level0_row4\" class=\"row_heading level0 row4\" >gbr</th>\n",
       "      <td id=\"T_7f09d_row4_col0\" class=\"data row4 col0\" >Gradient Boosting Regressor</td>\n",
       "      <td id=\"T_7f09d_row4_col1\" class=\"data row4 col1\" >4.7118</td>\n",
       "      <td id=\"T_7f09d_row4_col2\" class=\"data row4 col2\" >36.6998</td>\n",
       "      <td id=\"T_7f09d_row4_col3\" class=\"data row4 col3\" >6.0285</td>\n",
       "      <td id=\"T_7f09d_row4_col4\" class=\"data row4 col4\" >0.9480</td>\n",
       "      <td id=\"T_7f09d_row4_col5\" class=\"data row4 col5\" >0.1005</td>\n",
       "      <td id=\"T_7f09d_row4_col6\" class=\"data row4 col6\" >0.0808</td>\n",
       "      <td id=\"T_7f09d_row4_col7\" class=\"data row4 col7\" >0.2380</td>\n",
       "    </tr>\n",
       "    <tr>\n",
       "      <th id=\"T_7f09d_level0_row5\" class=\"row_heading level0 row5\" >ridge</th>\n",
       "      <td id=\"T_7f09d_row5_col0\" class=\"data row5 col0\" >Ridge Regression</td>\n",
       "      <td id=\"T_7f09d_row5_col1\" class=\"data row5 col1\" >4.7520</td>\n",
       "      <td id=\"T_7f09d_row5_col2\" class=\"data row5 col2\" >37.2703</td>\n",
       "      <td id=\"T_7f09d_row5_col3\" class=\"data row5 col3\" >6.0545</td>\n",
       "      <td id=\"T_7f09d_row5_col4\" class=\"data row5 col4\" >0.9475</td>\n",
       "      <td id=\"T_7f09d_row5_col5\" class=\"data row5 col5\" >0.1334</td>\n",
       "      <td id=\"T_7f09d_row5_col6\" class=\"data row5 col6\" >0.0905</td>\n",
       "      <td id=\"T_7f09d_row5_col7\" class=\"data row5 col7\" >0.0760</td>\n",
       "    </tr>\n",
       "    <tr>\n",
       "      <th id=\"T_7f09d_level0_row6\" class=\"row_heading level0 row6\" >huber</th>\n",
       "      <td id=\"T_7f09d_row6_col0\" class=\"data row6 col0\" >Huber Regressor</td>\n",
       "      <td id=\"T_7f09d_row6_col1\" class=\"data row6 col1\" >4.7677</td>\n",
       "      <td id=\"T_7f09d_row6_col2\" class=\"data row6 col2\" >38.0322</td>\n",
       "      <td id=\"T_7f09d_row6_col3\" class=\"data row6 col3\" >6.0845</td>\n",
       "      <td id=\"T_7f09d_row6_col4\" class=\"data row6 col4\" >0.9464</td>\n",
       "      <td id=\"T_7f09d_row6_col5\" class=\"data row6 col5\" >0.1654</td>\n",
       "      <td id=\"T_7f09d_row6_col6\" class=\"data row6 col6\" >0.0936</td>\n",
       "      <td id=\"T_7f09d_row6_col7\" class=\"data row6 col7\" >0.0960</td>\n",
       "    </tr>\n",
       "    <tr>\n",
       "      <th id=\"T_7f09d_level0_row7\" class=\"row_heading level0 row7\" >br</th>\n",
       "      <td id=\"T_7f09d_row7_col0\" class=\"data row7 col0\" >Bayesian Ridge</td>\n",
       "      <td id=\"T_7f09d_row7_col1\" class=\"data row7 col1\" >4.7883</td>\n",
       "      <td id=\"T_7f09d_row7_col2\" class=\"data row7 col2\" >37.9800</td>\n",
       "      <td id=\"T_7f09d_row7_col3\" class=\"data row7 col3\" >6.1133</td>\n",
       "      <td id=\"T_7f09d_row7_col4\" class=\"data row7 col4\" >0.9464</td>\n",
       "      <td id=\"T_7f09d_row7_col5\" class=\"data row7 col5\" >0.1394</td>\n",
       "      <td id=\"T_7f09d_row7_col6\" class=\"data row7 col6\" >0.0916</td>\n",
       "      <td id=\"T_7f09d_row7_col7\" class=\"data row7 col7\" >0.1000</td>\n",
       "    </tr>\n",
       "    <tr>\n",
       "      <th id=\"T_7f09d_level0_row8\" class=\"row_heading level0 row8\" >lightgbm</th>\n",
       "      <td id=\"T_7f09d_row8_col0\" class=\"data row8 col0\" >Light Gradient Boosting Machine</td>\n",
       "      <td id=\"T_7f09d_row8_col1\" class=\"data row8 col1\" >4.8609</td>\n",
       "      <td id=\"T_7f09d_row8_col2\" class=\"data row8 col2\" >39.7163</td>\n",
       "      <td id=\"T_7f09d_row8_col3\" class=\"data row8 col3\" >6.2116</td>\n",
       "      <td id=\"T_7f09d_row8_col4\" class=\"data row8 col4\" >0.9442</td>\n",
       "      <td id=\"T_7f09d_row8_col5\" class=\"data row8 col5\" >0.1003</td>\n",
       "      <td id=\"T_7f09d_row8_col6\" class=\"data row8 col6\" >0.0821</td>\n",
       "      <td id=\"T_7f09d_row8_col7\" class=\"data row8 col7\" >0.5280</td>\n",
       "    </tr>\n",
       "    <tr>\n",
       "      <th id=\"T_7f09d_level0_row9\" class=\"row_heading level0 row9\" >omp</th>\n",
       "      <td id=\"T_7f09d_row9_col0\" class=\"data row9 col0\" >Orthogonal Matching Pursuit</td>\n",
       "      <td id=\"T_7f09d_row9_col1\" class=\"data row9 col1\" >4.6666</td>\n",
       "      <td id=\"T_7f09d_row9_col2\" class=\"data row9 col2\" >42.5429</td>\n",
       "      <td id=\"T_7f09d_row9_col3\" class=\"data row9 col3\" >6.4604</td>\n",
       "      <td id=\"T_7f09d_row9_col4\" class=\"data row9 col4\" >0.9400</td>\n",
       "      <td id=\"T_7f09d_row9_col5\" class=\"data row9 col5\" >0.1479</td>\n",
       "      <td id=\"T_7f09d_row9_col6\" class=\"data row9 col6\" >0.0889</td>\n",
       "      <td id=\"T_7f09d_row9_col7\" class=\"data row9 col7\" >0.0780</td>\n",
       "    </tr>\n",
       "    <tr>\n",
       "      <th id=\"T_7f09d_level0_row10\" class=\"row_heading level0 row10\" >lasso</th>\n",
       "      <td id=\"T_7f09d_row10_col0\" class=\"data row10 col0\" >Lasso Regression</td>\n",
       "      <td id=\"T_7f09d_row10_col1\" class=\"data row10 col1\" >4.7014</td>\n",
       "      <td id=\"T_7f09d_row10_col2\" class=\"data row10 col2\" >43.3336</td>\n",
       "      <td id=\"T_7f09d_row10_col3\" class=\"data row10 col3\" >6.5396</td>\n",
       "      <td id=\"T_7f09d_row10_col4\" class=\"data row10 col4\" >0.9389</td>\n",
       "      <td id=\"T_7f09d_row10_col5\" class=\"data row10 col5\" >0.1231</td>\n",
       "      <td id=\"T_7f09d_row10_col6\" class=\"data row10 col6\" >0.0865</td>\n",
       "      <td id=\"T_7f09d_row10_col7\" class=\"data row10 col7\" >1.4740</td>\n",
       "    </tr>\n",
       "    <tr>\n",
       "      <th id=\"T_7f09d_level0_row11\" class=\"row_heading level0 row11\" >llar</th>\n",
       "      <td id=\"T_7f09d_row11_col0\" class=\"data row11 col0\" >Lasso Least Angle Regression</td>\n",
       "      <td id=\"T_7f09d_row11_col1\" class=\"data row11 col1\" >4.7014</td>\n",
       "      <td id=\"T_7f09d_row11_col2\" class=\"data row11 col2\" >43.3382</td>\n",
       "      <td id=\"T_7f09d_row11_col3\" class=\"data row11 col3\" >6.5400</td>\n",
       "      <td id=\"T_7f09d_row11_col4\" class=\"data row11 col4\" >0.9389</td>\n",
       "      <td id=\"T_7f09d_row11_col5\" class=\"data row11 col5\" >0.1231</td>\n",
       "      <td id=\"T_7f09d_row11_col6\" class=\"data row11 col6\" >0.0865</td>\n",
       "      <td id=\"T_7f09d_row11_col7\" class=\"data row11 col7\" >0.0820</td>\n",
       "    </tr>\n",
       "    <tr>\n",
       "      <th id=\"T_7f09d_level0_row12\" class=\"row_heading level0 row12\" >knn</th>\n",
       "      <td id=\"T_7f09d_row12_col0\" class=\"data row12 col0\" >K Neighbors Regressor</td>\n",
       "      <td id=\"T_7f09d_row12_col1\" class=\"data row12 col1\" >5.2483</td>\n",
       "      <td id=\"T_7f09d_row12_col2\" class=\"data row12 col2\" >49.5325</td>\n",
       "      <td id=\"T_7f09d_row12_col3\" class=\"data row12 col3\" >6.9216</td>\n",
       "      <td id=\"T_7f09d_row12_col4\" class=\"data row12 col4\" >0.9301</td>\n",
       "      <td id=\"T_7f09d_row12_col5\" class=\"data row12 col5\" >0.1141</td>\n",
       "      <td id=\"T_7f09d_row12_col6\" class=\"data row12 col6\" >0.0907</td>\n",
       "      <td id=\"T_7f09d_row12_col7\" class=\"data row12 col7\" >0.1320</td>\n",
       "    </tr>\n",
       "    <tr>\n",
       "      <th id=\"T_7f09d_level0_row13\" class=\"row_heading level0 row13\" >en</th>\n",
       "      <td id=\"T_7f09d_row13_col0\" class=\"data row13 col0\" >Elastic Net</td>\n",
       "      <td id=\"T_7f09d_row13_col1\" class=\"data row13 col1\" >5.8762</td>\n",
       "      <td id=\"T_7f09d_row13_col2\" class=\"data row13 col2\" >57.7609</td>\n",
       "      <td id=\"T_7f09d_row13_col3\" class=\"data row13 col3\" >7.5813</td>\n",
       "      <td id=\"T_7f09d_row13_col4\" class=\"data row13 col4\" >0.9182</td>\n",
       "      <td id=\"T_7f09d_row13_col5\" class=\"data row13 col5\" >0.1307</td>\n",
       "      <td id=\"T_7f09d_row13_col6\" class=\"data row13 col6\" >0.1067</td>\n",
       "      <td id=\"T_7f09d_row13_col7\" class=\"data row13 col7\" >0.0660</td>\n",
       "    </tr>\n",
       "    <tr>\n",
       "      <th id=\"T_7f09d_level0_row14\" class=\"row_heading level0 row14\" >dt</th>\n",
       "      <td id=\"T_7f09d_row14_col0\" class=\"data row14 col0\" >Decision Tree Regressor</td>\n",
       "      <td id=\"T_7f09d_row14_col1\" class=\"data row14 col1\" >5.9488</td>\n",
       "      <td id=\"T_7f09d_row14_col2\" class=\"data row14 col2\" >69.8956</td>\n",
       "      <td id=\"T_7f09d_row14_col3\" class=\"data row14 col3\" >8.1784</td>\n",
       "      <td id=\"T_7f09d_row14_col4\" class=\"data row14 col4\" >0.8994</td>\n",
       "      <td id=\"T_7f09d_row14_col5\" class=\"data row14 col5\" >0.1499</td>\n",
       "      <td id=\"T_7f09d_row14_col6\" class=\"data row14 col6\" >0.1032</td>\n",
       "      <td id=\"T_7f09d_row14_col7\" class=\"data row14 col7\" >0.0620</td>\n",
       "    </tr>\n",
       "    <tr>\n",
       "      <th id=\"T_7f09d_level0_row15\" class=\"row_heading level0 row15\" >par</th>\n",
       "      <td id=\"T_7f09d_row15_col0\" class=\"data row15 col0\" >Passive Aggressive Regressor</td>\n",
       "      <td id=\"T_7f09d_row15_col1\" class=\"data row15 col1\" >6.4882</td>\n",
       "      <td id=\"T_7f09d_row15_col2\" class=\"data row15 col2\" >72.2447</td>\n",
       "      <td id=\"T_7f09d_row15_col3\" class=\"data row15 col3\" >8.3766</td>\n",
       "      <td id=\"T_7f09d_row15_col4\" class=\"data row15 col4\" >0.8975</td>\n",
       "      <td id=\"T_7f09d_row15_col5\" class=\"data row15 col5\" >0.1972</td>\n",
       "      <td id=\"T_7f09d_row15_col6\" class=\"data row15 col6\" >0.1298</td>\n",
       "      <td id=\"T_7f09d_row15_col7\" class=\"data row15 col7\" >0.0800</td>\n",
       "    </tr>\n",
       "    <tr>\n",
       "      <th id=\"T_7f09d_level0_row16\" class=\"row_heading level0 row16\" >dummy</th>\n",
       "      <td id=\"T_7f09d_row16_col0\" class=\"data row16 col0\" >Dummy Regressor</td>\n",
       "      <td id=\"T_7f09d_row16_col1\" class=\"data row16 col1\" >22.6906</td>\n",
       "      <td id=\"T_7f09d_row16_col2\" class=\"data row16 col2\" >724.1184</td>\n",
       "      <td id=\"T_7f09d_row16_col3\" class=\"data row16 col3\" >26.8978</td>\n",
       "      <td id=\"T_7f09d_row16_col4\" class=\"data row16 col4\" >-0.0300</td>\n",
       "      <td id=\"T_7f09d_row16_col5\" class=\"data row16 col5\" >0.4672</td>\n",
       "      <td id=\"T_7f09d_row16_col6\" class=\"data row16 col6\" >0.4794</td>\n",
       "      <td id=\"T_7f09d_row16_col7\" class=\"data row16 col7\" >0.0840</td>\n",
       "    </tr>\n",
       "    <tr>\n",
       "      <th id=\"T_7f09d_level0_row17\" class=\"row_heading level0 row17\" >lar</th>\n",
       "      <td id=\"T_7f09d_row17_col0\" class=\"data row17 col0\" >Least Angle Regression</td>\n",
       "      <td id=\"T_7f09d_row17_col1\" class=\"data row17 col1\" >2055.1430</td>\n",
       "      <td id=\"T_7f09d_row17_col2\" class=\"data row17 col2\" >29666369.9070</td>\n",
       "      <td id=\"T_7f09d_row17_col3\" class=\"data row17 col3\" >2562.7865</td>\n",
       "      <td id=\"T_7f09d_row17_col4\" class=\"data row17 col4\" >-37660.8228</td>\n",
       "      <td id=\"T_7f09d_row17_col5\" class=\"data row17 col5\" >1.8138</td>\n",
       "      <td id=\"T_7f09d_row17_col6\" class=\"data row17 col6\" >44.6718</td>\n",
       "      <td id=\"T_7f09d_row17_col7\" class=\"data row17 col7\" >0.0900</td>\n",
       "    </tr>\n",
       "  </tbody>\n",
       "</table>\n"
      ],
      "text/plain": [
       "<pandas.io.formats.style.Styler at 0x2be97730f40>"
      ]
     },
     "metadata": {},
     "output_type": "display_data"
    },
    {
     "data": {
      "application/vnd.jupyter.widget-view+json": {
       "model_id": "",
       "version_major": 2,
       "version_minor": 0
      },
      "text/plain": [
       "Processing:   0%|          | 0/81 [00:00<?, ?it/s]"
      ]
     },
     "metadata": {},
     "output_type": "display_data"
    }
   ],
   "source": [
    "# Use compare_models() function to compare ML models and their perfomrance on the data\n",
    "# Use the default fold value from 10 to 5 for cross-validation generator\n",
    "\n",
    "# Store the top 5 models in top5.\n",
    "# We plan to use this for Stacking and Blending purposes. \n",
    "\n",
    "top5 = compare_models(n_select=5, sort='RMSE', fold=5)"
   ]
  },
  {
   "cell_type": "code",
   "execution_count": 34,
   "id": "cf3b2cef",
   "metadata": {},
   "outputs": [],
   "source": [
    "# Case the result to a dataframe\n",
    "compare_model_table = pull()"
   ]
  },
  {
   "cell_type": "markdown",
   "id": "f2c9e592",
   "metadata": {},
   "source": [
    "### Hyper-parameterization"
   ]
  },
  {
   "cell_type": "markdown",
   "id": "5af4ab98",
   "metadata": {},
   "source": [
    "Tune the top 5 models dynamically with a higher iteration rate (n_iter).\n",
    "\n",
    "This is to find more optimal hyper parameters over a larger search space. "
   ]
  },
  {
   "cell_type": "code",
   "execution_count": 35,
   "id": "88c5e6c2",
   "metadata": {},
   "outputs": [
    {
     "data": {
      "text/html": [],
      "text/plain": [
       "<IPython.core.display.HTML object>"
      ]
     },
     "metadata": {},
     "output_type": "display_data"
    },
    {
     "data": {
      "text/html": [
       "<style type=\"text/css\">\n",
       "#T_a8098_row5_col0, #T_a8098_row5_col1, #T_a8098_row5_col2, #T_a8098_row5_col3, #T_a8098_row5_col4, #T_a8098_row5_col5 {\n",
       "  background: yellow;\n",
       "}\n",
       "</style>\n",
       "<table id=\"T_a8098\">\n",
       "  <thead>\n",
       "    <tr>\n",
       "      <th class=\"blank level0\" >&nbsp;</th>\n",
       "      <th id=\"T_a8098_level0_col0\" class=\"col_heading level0 col0\" >MAE</th>\n",
       "      <th id=\"T_a8098_level0_col1\" class=\"col_heading level0 col1\" >MSE</th>\n",
       "      <th id=\"T_a8098_level0_col2\" class=\"col_heading level0 col2\" >RMSE</th>\n",
       "      <th id=\"T_a8098_level0_col3\" class=\"col_heading level0 col3\" >R2</th>\n",
       "      <th id=\"T_a8098_level0_col4\" class=\"col_heading level0 col4\" >RMSLE</th>\n",
       "      <th id=\"T_a8098_level0_col5\" class=\"col_heading level0 col5\" >MAPE</th>\n",
       "    </tr>\n",
       "    <tr>\n",
       "      <th class=\"index_name level0\" >Fold</th>\n",
       "      <th class=\"blank col0\" >&nbsp;</th>\n",
       "      <th class=\"blank col1\" >&nbsp;</th>\n",
       "      <th class=\"blank col2\" >&nbsp;</th>\n",
       "      <th class=\"blank col3\" >&nbsp;</th>\n",
       "      <th class=\"blank col4\" >&nbsp;</th>\n",
       "      <th class=\"blank col5\" >&nbsp;</th>\n",
       "    </tr>\n",
       "  </thead>\n",
       "  <tbody>\n",
       "    <tr>\n",
       "      <th id=\"T_a8098_level0_row0\" class=\"row_heading level0 row0\" >0</th>\n",
       "      <td id=\"T_a8098_row0_col0\" class=\"data row0 col0\" >4.2763</td>\n",
       "      <td id=\"T_a8098_row0_col1\" class=\"data row0 col1\" >32.0937</td>\n",
       "      <td id=\"T_a8098_row0_col2\" class=\"data row0 col2\" >5.6651</td>\n",
       "      <td id=\"T_a8098_row0_col3\" class=\"data row0 col3\" >0.9540</td>\n",
       "      <td id=\"T_a8098_row0_col4\" class=\"data row0 col4\" >0.0902</td>\n",
       "      <td id=\"T_a8098_row0_col5\" class=\"data row0 col5\" >0.0704</td>\n",
       "    </tr>\n",
       "    <tr>\n",
       "      <th id=\"T_a8098_level0_row1\" class=\"row_heading level0 row1\" >1</th>\n",
       "      <td id=\"T_a8098_row1_col0\" class=\"data row1 col0\" >4.0363</td>\n",
       "      <td id=\"T_a8098_row1_col1\" class=\"data row1 col1\" >29.0275</td>\n",
       "      <td id=\"T_a8098_row1_col2\" class=\"data row1 col2\" >5.3877</td>\n",
       "      <td id=\"T_a8098_row1_col3\" class=\"data row1 col3\" >0.9563</td>\n",
       "      <td id=\"T_a8098_row1_col4\" class=\"data row1 col4\" >0.0895</td>\n",
       "      <td id=\"T_a8098_row1_col5\" class=\"data row1 col5\" >0.0659</td>\n",
       "    </tr>\n",
       "    <tr>\n",
       "      <th id=\"T_a8098_level0_row2\" class=\"row_heading level0 row2\" >2</th>\n",
       "      <td id=\"T_a8098_row2_col0\" class=\"data row2 col0\" >5.4742</td>\n",
       "      <td id=\"T_a8098_row2_col1\" class=\"data row2 col1\" >53.6242</td>\n",
       "      <td id=\"T_a8098_row2_col2\" class=\"data row2 col2\" >7.3229</td>\n",
       "      <td id=\"T_a8098_row2_col3\" class=\"data row2 col3\" >0.9319</td>\n",
       "      <td id=\"T_a8098_row2_col4\" class=\"data row2 col4\" >0.1264</td>\n",
       "      <td id=\"T_a8098_row2_col5\" class=\"data row2 col5\" >0.0964</td>\n",
       "    </tr>\n",
       "    <tr>\n",
       "      <th id=\"T_a8098_level0_row3\" class=\"row_heading level0 row3\" >3</th>\n",
       "      <td id=\"T_a8098_row3_col0\" class=\"data row3 col0\" >4.2302</td>\n",
       "      <td id=\"T_a8098_row3_col1\" class=\"data row3 col1\" >27.8853</td>\n",
       "      <td id=\"T_a8098_row3_col2\" class=\"data row3 col2\" >5.2807</td>\n",
       "      <td id=\"T_a8098_row3_col3\" class=\"data row3 col3\" >0.9597</td>\n",
       "      <td id=\"T_a8098_row3_col4\" class=\"data row3 col4\" >0.1023</td>\n",
       "      <td id=\"T_a8098_row3_col5\" class=\"data row3 col5\" >0.0868</td>\n",
       "    </tr>\n",
       "    <tr>\n",
       "      <th id=\"T_a8098_level0_row4\" class=\"row_heading level0 row4\" >4</th>\n",
       "      <td id=\"T_a8098_row4_col0\" class=\"data row4 col0\" >4.0169</td>\n",
       "      <td id=\"T_a8098_row4_col1\" class=\"data row4 col1\" >23.8676</td>\n",
       "      <td id=\"T_a8098_row4_col2\" class=\"data row4 col2\" >4.8854</td>\n",
       "      <td id=\"T_a8098_row4_col3\" class=\"data row4 col3\" >0.9647</td>\n",
       "      <td id=\"T_a8098_row4_col4\" class=\"data row4 col4\" >0.0760</td>\n",
       "      <td id=\"T_a8098_row4_col5\" class=\"data row4 col5\" >0.0643</td>\n",
       "    </tr>\n",
       "    <tr>\n",
       "      <th id=\"T_a8098_level0_row5\" class=\"row_heading level0 row5\" >Mean</th>\n",
       "      <td id=\"T_a8098_row5_col0\" class=\"data row5 col0\" >4.4068</td>\n",
       "      <td id=\"T_a8098_row5_col1\" class=\"data row5 col1\" >33.2997</td>\n",
       "      <td id=\"T_a8098_row5_col2\" class=\"data row5 col2\" >5.7084</td>\n",
       "      <td id=\"T_a8098_row5_col3\" class=\"data row5 col3\" >0.9533</td>\n",
       "      <td id=\"T_a8098_row5_col4\" class=\"data row5 col4\" >0.0969</td>\n",
       "      <td id=\"T_a8098_row5_col5\" class=\"data row5 col5\" >0.0768</td>\n",
       "    </tr>\n",
       "    <tr>\n",
       "      <th id=\"T_a8098_level0_row6\" class=\"row_heading level0 row6\" >Std</th>\n",
       "      <td id=\"T_a8098_row6_col0\" class=\"data row6 col0\" >0.5435</td>\n",
       "      <td id=\"T_a8098_row6_col1\" class=\"data row6 col1\" >10.4983</td>\n",
       "      <td id=\"T_a8098_row6_col2\" class=\"data row6 col2\" >0.8451</td>\n",
       "      <td id=\"T_a8098_row6_col3\" class=\"data row6 col3\" >0.0113</td>\n",
       "      <td id=\"T_a8098_row6_col4\" class=\"data row6 col4\" >0.0169</td>\n",
       "      <td id=\"T_a8098_row6_col5\" class=\"data row6 col5\" >0.0126</td>\n",
       "    </tr>\n",
       "  </tbody>\n",
       "</table>\n"
      ],
      "text/plain": [
       "<pandas.io.formats.style.Styler at 0x2be8c64f460>"
      ]
     },
     "metadata": {},
     "output_type": "display_data"
    },
    {
     "data": {
      "application/vnd.jupyter.widget-view+json": {
       "model_id": "",
       "version_major": 2,
       "version_minor": 0
      },
      "text/plain": [
       "Processing:   0%|          | 0/7 [00:00<?, ?it/s]"
      ]
     },
     "metadata": {},
     "output_type": "display_data"
    },
    {
     "name": "stdout",
     "output_type": "stream",
     "text": [
      "Fitting 5 folds for each of 120 candidates, totalling 600 fits\n",
      "Original model was better than the tuned model, hence it will be returned. NOTE: The display metrics are for the tuned model (not the original one).\n"
     ]
    },
    {
     "data": {
      "text/html": [],
      "text/plain": [
       "<IPython.core.display.HTML object>"
      ]
     },
     "metadata": {},
     "output_type": "display_data"
    },
    {
     "data": {
      "text/html": [
       "<style type=\"text/css\">\n",
       "#T_07a39_row5_col0, #T_07a39_row5_col1, #T_07a39_row5_col2, #T_07a39_row5_col3, #T_07a39_row5_col4, #T_07a39_row5_col5 {\n",
       "  background: yellow;\n",
       "}\n",
       "</style>\n",
       "<table id=\"T_07a39\">\n",
       "  <thead>\n",
       "    <tr>\n",
       "      <th class=\"blank level0\" >&nbsp;</th>\n",
       "      <th id=\"T_07a39_level0_col0\" class=\"col_heading level0 col0\" >MAE</th>\n",
       "      <th id=\"T_07a39_level0_col1\" class=\"col_heading level0 col1\" >MSE</th>\n",
       "      <th id=\"T_07a39_level0_col2\" class=\"col_heading level0 col2\" >RMSE</th>\n",
       "      <th id=\"T_07a39_level0_col3\" class=\"col_heading level0 col3\" >R2</th>\n",
       "      <th id=\"T_07a39_level0_col4\" class=\"col_heading level0 col4\" >RMSLE</th>\n",
       "      <th id=\"T_07a39_level0_col5\" class=\"col_heading level0 col5\" >MAPE</th>\n",
       "    </tr>\n",
       "    <tr>\n",
       "      <th class=\"index_name level0\" >Fold</th>\n",
       "      <th class=\"blank col0\" >&nbsp;</th>\n",
       "      <th class=\"blank col1\" >&nbsp;</th>\n",
       "      <th class=\"blank col2\" >&nbsp;</th>\n",
       "      <th class=\"blank col3\" >&nbsp;</th>\n",
       "      <th class=\"blank col4\" >&nbsp;</th>\n",
       "      <th class=\"blank col5\" >&nbsp;</th>\n",
       "    </tr>\n",
       "  </thead>\n",
       "  <tbody>\n",
       "    <tr>\n",
       "      <th id=\"T_07a39_level0_row0\" class=\"row_heading level0 row0\" >0</th>\n",
       "      <td id=\"T_07a39_row0_col0\" class=\"data row0 col0\" >4.5593</td>\n",
       "      <td id=\"T_07a39_row0_col1\" class=\"data row0 col1\" >34.4786</td>\n",
       "      <td id=\"T_07a39_row0_col2\" class=\"data row0 col2\" >5.8718</td>\n",
       "      <td id=\"T_07a39_row0_col3\" class=\"data row0 col3\" >0.9506</td>\n",
       "      <td id=\"T_07a39_row0_col4\" class=\"data row0 col4\" >0.0943</td>\n",
       "      <td id=\"T_07a39_row0_col5\" class=\"data row0 col5\" >0.0753</td>\n",
       "    </tr>\n",
       "    <tr>\n",
       "      <th id=\"T_07a39_level0_row1\" class=\"row_heading level0 row1\" >1</th>\n",
       "      <td id=\"T_07a39_row1_col0\" class=\"data row1 col0\" >4.1757</td>\n",
       "      <td id=\"T_07a39_row1_col1\" class=\"data row1 col1\" >36.0227</td>\n",
       "      <td id=\"T_07a39_row1_col2\" class=\"data row1 col2\" >6.0019</td>\n",
       "      <td id=\"T_07a39_row1_col3\" class=\"data row1 col3\" >0.9457</td>\n",
       "      <td id=\"T_07a39_row1_col4\" class=\"data row1 col4\" >0.0900</td>\n",
       "      <td id=\"T_07a39_row1_col5\" class=\"data row1 col5\" >0.0667</td>\n",
       "    </tr>\n",
       "    <tr>\n",
       "      <th id=\"T_07a39_level0_row2\" class=\"row_heading level0 row2\" >2</th>\n",
       "      <td id=\"T_07a39_row2_col0\" class=\"data row2 col0\" >5.0568</td>\n",
       "      <td id=\"T_07a39_row2_col1\" class=\"data row2 col1\" >45.0225</td>\n",
       "      <td id=\"T_07a39_row2_col2\" class=\"data row2 col2\" >6.7099</td>\n",
       "      <td id=\"T_07a39_row2_col3\" class=\"data row2 col3\" >0.9429</td>\n",
       "      <td id=\"T_07a39_row2_col4\" class=\"data row2 col4\" >0.1206</td>\n",
       "      <td id=\"T_07a39_row2_col5\" class=\"data row2 col5\" >0.0894</td>\n",
       "    </tr>\n",
       "    <tr>\n",
       "      <th id=\"T_07a39_level0_row3\" class=\"row_heading level0 row3\" >3</th>\n",
       "      <td id=\"T_07a39_row3_col0\" class=\"data row3 col0\" >3.6301</td>\n",
       "      <td id=\"T_07a39_row3_col1\" class=\"data row3 col1\" >20.4592</td>\n",
       "      <td id=\"T_07a39_row3_col2\" class=\"data row3 col2\" >4.5232</td>\n",
       "      <td id=\"T_07a39_row3_col3\" class=\"data row3 col3\" >0.9704</td>\n",
       "      <td id=\"T_07a39_row3_col4\" class=\"data row3 col4\" >0.0886</td>\n",
       "      <td id=\"T_07a39_row3_col5\" class=\"data row3 col5\" >0.0757</td>\n",
       "    </tr>\n",
       "    <tr>\n",
       "      <th id=\"T_07a39_level0_row4\" class=\"row_heading level0 row4\" >4</th>\n",
       "      <td id=\"T_07a39_row4_col0\" class=\"data row4 col0\" >3.7683</td>\n",
       "      <td id=\"T_07a39_row4_col1\" class=\"data row4 col1\" >22.6994</td>\n",
       "      <td id=\"T_07a39_row4_col2\" class=\"data row4 col2\" >4.7644</td>\n",
       "      <td id=\"T_07a39_row4_col3\" class=\"data row4 col3\" >0.9664</td>\n",
       "      <td id=\"T_07a39_row4_col4\" class=\"data row4 col4\" >0.0751</td>\n",
       "      <td id=\"T_07a39_row4_col5\" class=\"data row4 col5\" >0.0599</td>\n",
       "    </tr>\n",
       "    <tr>\n",
       "      <th id=\"T_07a39_level0_row5\" class=\"row_heading level0 row5\" >Mean</th>\n",
       "      <td id=\"T_07a39_row5_col0\" class=\"data row5 col0\" >4.2381</td>\n",
       "      <td id=\"T_07a39_row5_col1\" class=\"data row5 col1\" >31.7365</td>\n",
       "      <td id=\"T_07a39_row5_col2\" class=\"data row5 col2\" >5.5742</td>\n",
       "      <td id=\"T_07a39_row5_col3\" class=\"data row5 col3\" >0.9552</td>\n",
       "      <td id=\"T_07a39_row5_col4\" class=\"data row5 col4\" >0.0937</td>\n",
       "      <td id=\"T_07a39_row5_col5\" class=\"data row5 col5\" >0.0734</td>\n",
       "    </tr>\n",
       "    <tr>\n",
       "      <th id=\"T_07a39_level0_row6\" class=\"row_heading level0 row6\" >Std</th>\n",
       "      <td id=\"T_07a39_row6_col0\" class=\"data row6 col0\" >0.5230</td>\n",
       "      <td id=\"T_07a39_row6_col1\" class=\"data row6 col1\" >9.0693</td>\n",
       "      <td id=\"T_07a39_row6_col2\" class=\"data row6 col2\" >0.8151</td>\n",
       "      <td id=\"T_07a39_row6_col3\" class=\"data row6 col3\" >0.0111</td>\n",
       "      <td id=\"T_07a39_row6_col4\" class=\"data row6 col4\" >0.0149</td>\n",
       "      <td id=\"T_07a39_row6_col5\" class=\"data row6 col5\" >0.0099</td>\n",
       "    </tr>\n",
       "  </tbody>\n",
       "</table>\n"
      ],
      "text/plain": [
       "<pandas.io.formats.style.Styler at 0x2be9924ef50>"
      ]
     },
     "metadata": {},
     "output_type": "display_data"
    },
    {
     "data": {
      "application/vnd.jupyter.widget-view+json": {
       "model_id": "",
       "version_major": 2,
       "version_minor": 0
      },
      "text/plain": [
       "Processing:   0%|          | 0/7 [00:00<?, ?it/s]"
      ]
     },
     "metadata": {},
     "output_type": "display_data"
    },
    {
     "name": "stdout",
     "output_type": "stream",
     "text": [
      "Fitting 5 folds for each of 120 candidates, totalling 600 fits\n"
     ]
    },
    {
     "data": {
      "text/html": [],
      "text/plain": [
       "<IPython.core.display.HTML object>"
      ]
     },
     "metadata": {},
     "output_type": "display_data"
    },
    {
     "data": {
      "text/html": [
       "<style type=\"text/css\">\n",
       "#T_67a76_row5_col0, #T_67a76_row5_col1, #T_67a76_row5_col2, #T_67a76_row5_col3, #T_67a76_row5_col4, #T_67a76_row5_col5 {\n",
       "  background: yellow;\n",
       "}\n",
       "</style>\n",
       "<table id=\"T_67a76\">\n",
       "  <thead>\n",
       "    <tr>\n",
       "      <th class=\"blank level0\" >&nbsp;</th>\n",
       "      <th id=\"T_67a76_level0_col0\" class=\"col_heading level0 col0\" >MAE</th>\n",
       "      <th id=\"T_67a76_level0_col1\" class=\"col_heading level0 col1\" >MSE</th>\n",
       "      <th id=\"T_67a76_level0_col2\" class=\"col_heading level0 col2\" >RMSE</th>\n",
       "      <th id=\"T_67a76_level0_col3\" class=\"col_heading level0 col3\" >R2</th>\n",
       "      <th id=\"T_67a76_level0_col4\" class=\"col_heading level0 col4\" >RMSLE</th>\n",
       "      <th id=\"T_67a76_level0_col5\" class=\"col_heading level0 col5\" >MAPE</th>\n",
       "    </tr>\n",
       "    <tr>\n",
       "      <th class=\"index_name level0\" >Fold</th>\n",
       "      <th class=\"blank col0\" >&nbsp;</th>\n",
       "      <th class=\"blank col1\" >&nbsp;</th>\n",
       "      <th class=\"blank col2\" >&nbsp;</th>\n",
       "      <th class=\"blank col3\" >&nbsp;</th>\n",
       "      <th class=\"blank col4\" >&nbsp;</th>\n",
       "      <th class=\"blank col5\" >&nbsp;</th>\n",
       "    </tr>\n",
       "  </thead>\n",
       "  <tbody>\n",
       "    <tr>\n",
       "      <th id=\"T_67a76_level0_row0\" class=\"row_heading level0 row0\" >0</th>\n",
       "      <td id=\"T_67a76_row0_col0\" class=\"data row0 col0\" >5.3117</td>\n",
       "      <td id=\"T_67a76_row0_col1\" class=\"data row0 col1\" >50.3370</td>\n",
       "      <td id=\"T_67a76_row0_col2\" class=\"data row0 col2\" >7.0949</td>\n",
       "      <td id=\"T_67a76_row0_col3\" class=\"data row0 col3\" >0.9279</td>\n",
       "      <td id=\"T_67a76_row0_col4\" class=\"data row0 col4\" >0.2850</td>\n",
       "      <td id=\"T_67a76_row0_col5\" class=\"data row0 col5\" >0.1076</td>\n",
       "    </tr>\n",
       "    <tr>\n",
       "      <th id=\"T_67a76_level0_row1\" class=\"row_heading level0 row1\" >1</th>\n",
       "      <td id=\"T_67a76_row1_col0\" class=\"data row1 col0\" >3.1739</td>\n",
       "      <td id=\"T_67a76_row1_col1\" class=\"data row1 col1\" >18.9134</td>\n",
       "      <td id=\"T_67a76_row1_col2\" class=\"data row1 col2\" >4.3490</td>\n",
       "      <td id=\"T_67a76_row1_col3\" class=\"data row1 col3\" >0.9715</td>\n",
       "      <td id=\"T_67a76_row1_col4\" class=\"data row1 col4\" >0.0807</td>\n",
       "      <td id=\"T_67a76_row1_col5\" class=\"data row1 col5\" >0.0569</td>\n",
       "    </tr>\n",
       "    <tr>\n",
       "      <th id=\"T_67a76_level0_row2\" class=\"row_heading level0 row2\" >2</th>\n",
       "      <td id=\"T_67a76_row2_col0\" class=\"data row2 col0\" >5.2958</td>\n",
       "      <td id=\"T_67a76_row2_col1\" class=\"data row2 col1\" >43.7399</td>\n",
       "      <td id=\"T_67a76_row2_col2\" class=\"data row2 col2\" >6.6136</td>\n",
       "      <td id=\"T_67a76_row2_col3\" class=\"data row2 col3\" >0.9445</td>\n",
       "      <td id=\"T_67a76_row2_col4\" class=\"data row2 col4\" >0.1237</td>\n",
       "      <td id=\"T_67a76_row2_col5\" class=\"data row2 col5\" >0.1002</td>\n",
       "    </tr>\n",
       "    <tr>\n",
       "      <th id=\"T_67a76_level0_row3\" class=\"row_heading level0 row3\" >3</th>\n",
       "      <td id=\"T_67a76_row3_col0\" class=\"data row3 col0\" >4.5999</td>\n",
       "      <td id=\"T_67a76_row3_col1\" class=\"data row3 col1\" >33.3039</td>\n",
       "      <td id=\"T_67a76_row3_col2\" class=\"data row3 col2\" >5.7710</td>\n",
       "      <td id=\"T_67a76_row3_col3\" class=\"data row3 col3\" >0.9519</td>\n",
       "      <td id=\"T_67a76_row3_col4\" class=\"data row3 col4\" >0.1462</td>\n",
       "      <td id=\"T_67a76_row3_col5\" class=\"data row3 col5\" >0.1075</td>\n",
       "    </tr>\n",
       "    <tr>\n",
       "      <th id=\"T_67a76_level0_row4\" class=\"row_heading level0 row4\" >4</th>\n",
       "      <td id=\"T_67a76_row4_col0\" class=\"data row4 col0\" >4.3641</td>\n",
       "      <td id=\"T_67a76_row4_col1\" class=\"data row4 col1\" >27.0854</td>\n",
       "      <td id=\"T_67a76_row4_col2\" class=\"data row4 col2\" >5.2044</td>\n",
       "      <td id=\"T_67a76_row4_col3\" class=\"data row4 col3\" >0.9599</td>\n",
       "      <td id=\"T_67a76_row4_col4\" class=\"data row4 col4\" >0.1047</td>\n",
       "      <td id=\"T_67a76_row4_col5\" class=\"data row4 col5\" >0.0814</td>\n",
       "    </tr>\n",
       "    <tr>\n",
       "      <th id=\"T_67a76_level0_row5\" class=\"row_heading level0 row5\" >Mean</th>\n",
       "      <td id=\"T_67a76_row5_col0\" class=\"data row5 col0\" >4.5491</td>\n",
       "      <td id=\"T_67a76_row5_col1\" class=\"data row5 col1\" >34.6759</td>\n",
       "      <td id=\"T_67a76_row5_col2\" class=\"data row5 col2\" >5.8065</td>\n",
       "      <td id=\"T_67a76_row5_col3\" class=\"data row5 col3\" >0.9511</td>\n",
       "      <td id=\"T_67a76_row5_col4\" class=\"data row5 col4\" >0.1481</td>\n",
       "      <td id=\"T_67a76_row5_col5\" class=\"data row5 col5\" >0.0907</td>\n",
       "    </tr>\n",
       "    <tr>\n",
       "      <th id=\"T_67a76_level0_row6\" class=\"row_heading level0 row6\" >Std</th>\n",
       "      <td id=\"T_67a76_row6_col0\" class=\"data row6 col0\" >0.7832</td>\n",
       "      <td id=\"T_67a76_row6_col1\" class=\"data row6 col1\" >11.2728</td>\n",
       "      <td id=\"T_67a76_row6_col2\" class=\"data row6 col2\" >0.9798</td>\n",
       "      <td id=\"T_67a76_row6_col3\" class=\"data row6 col3\" >0.0147</td>\n",
       "      <td id=\"T_67a76_row6_col4\" class=\"data row6 col4\" >0.0718</td>\n",
       "      <td id=\"T_67a76_row6_col5\" class=\"data row6 col5\" >0.0194</td>\n",
       "    </tr>\n",
       "  </tbody>\n",
       "</table>\n"
      ],
      "text/plain": [
       "<pandas.io.formats.style.Styler at 0x2be95227f70>"
      ]
     },
     "metadata": {},
     "output_type": "display_data"
    },
    {
     "data": {
      "application/vnd.jupyter.widget-view+json": {
       "model_id": "",
       "version_major": 2,
       "version_minor": 0
      },
      "text/plain": [
       "Processing:   0%|          | 0/7 [00:00<?, ?it/s]"
      ]
     },
     "metadata": {},
     "output_type": "display_data"
    },
    {
     "name": "stdout",
     "output_type": "stream",
     "text": [
      "Fitting 5 folds for each of 2 candidates, totalling 10 fits\n",
      "Original model was better than the tuned model, hence it will be returned. NOTE: The display metrics are for the tuned model (not the original one).\n"
     ]
    },
    {
     "data": {
      "text/html": [
       "<div>\n",
       "<style scoped>\n",
       "    .dataframe tbody tr th:only-of-type {\n",
       "        vertical-align: middle;\n",
       "    }\n",
       "\n",
       "    .dataframe tbody tr th {\n",
       "        vertical-align: top;\n",
       "    }\n",
       "\n",
       "    .dataframe thead th {\n",
       "        text-align: right;\n",
       "    }\n",
       "</style>\n",
       "<table border=\"1\" class=\"dataframe\">\n",
       "  <thead>\n",
       "    <tr style=\"text-align: right;\">\n",
       "      <th></th>\n",
       "      <th></th>\n",
       "      <th></th>\n",
       "    </tr>\n",
       "    <tr>\n",
       "      <th></th>\n",
       "      <th></th>\n",
       "      <th></th>\n",
       "    </tr>\n",
       "  </thead>\n",
       "  <tbody>\n",
       "    <tr>\n",
       "      <th>Initiated</th>\n",
       "      <td>. . . . . . . . . . . . . . . . . .</td>\n",
       "      <td>01:03:37</td>\n",
       "    </tr>\n",
       "    <tr>\n",
       "      <th>Status</th>\n",
       "      <td>. . . . . . . . . . . . . . . . . .</td>\n",
       "      <td>Searching Hyperparameters</td>\n",
       "    </tr>\n",
       "    <tr>\n",
       "      <th>Estimator</th>\n",
       "      <td>. . . . . . . . . . . . . . . . . .</td>\n",
       "      <td>AdaBoost Regressor</td>\n",
       "    </tr>\n",
       "  </tbody>\n",
       "</table>\n",
       "</div>"
      ],
      "text/plain": [
       "                                                                         \n",
       "                                                                         \n",
       "Initiated  . . . . . . . . . . . . . . . . . .                   01:03:37\n",
       "Status     . . . . . . . . . . . . . . . . . .  Searching Hyperparameters\n",
       "Estimator  . . . . . . . . . . . . . . . . . .         AdaBoost Regressor"
      ]
     },
     "metadata": {},
     "output_type": "display_data"
    },
    {
     "data": {
      "text/html": [],
      "text/plain": [
       "<IPython.core.display.HTML object>"
      ]
     },
     "metadata": {},
     "output_type": "display_data"
    },
    {
     "data": {
      "application/vnd.jupyter.widget-view+json": {
       "model_id": "0a5aeaa12eaf46e3b51e104e6c5fee20",
       "version_major": 2,
       "version_minor": 0
      },
      "text/plain": [
       "Processing:   0%|          | 0/7 [00:00<?, ?it/s]"
      ]
     },
     "metadata": {},
     "output_type": "display_data"
    },
    {
     "name": "stdout",
     "output_type": "stream",
     "text": [
      "Fitting 5 folds for each of 120 candidates, totalling 600 fits\n"
     ]
    },
    {
     "ename": "KeyboardInterrupt",
     "evalue": "",
     "output_type": "error",
     "traceback": [
      "\u001b[1;31m---------------------------------------------------------------------------\u001b[0m",
      "\u001b[1;31mKeyboardInterrupt\u001b[0m                         Traceback (most recent call last)",
      "Cell \u001b[1;32mIn[35], line 10\u001b[0m\n\u001b[0;32m      7\u001b[0m \u001b[38;5;66;03m#interate over the top5 and store the tuned models\u001b[39;00m\n\u001b[0;32m      8\u001b[0m \u001b[38;5;28;01mfor\u001b[39;00m top \u001b[38;5;129;01min\u001b[39;00m top5:\n\u001b[0;32m      9\u001b[0m     \u001b[38;5;66;03m#tune the model\u001b[39;00m\n\u001b[1;32m---> 10\u001b[0m     tuned_top5[i] \u001b[38;5;241m=\u001b[39m \u001b[43mtune_model\u001b[49m\u001b[43m(\u001b[49m\u001b[43mtop\u001b[49m\u001b[43m,\u001b[49m\u001b[43m \u001b[49m\u001b[43mn_iter\u001b[49m\u001b[38;5;241;43m=\u001b[39;49m\u001b[38;5;241;43m120\u001b[39;49m\u001b[43m,\u001b[49m\u001b[43m \u001b[49m\u001b[43moptimize\u001b[49m\u001b[38;5;241;43m=\u001b[39;49m\u001b[38;5;124;43m'\u001b[39;49m\u001b[38;5;124;43mRMSE\u001b[39;49m\u001b[38;5;124;43m'\u001b[39;49m\u001b[43m,\u001b[49m\u001b[43m \u001b[49m\u001b[43mfold\u001b[49m\u001b[38;5;241;43m=\u001b[39;49m\u001b[38;5;241;43m5\u001b[39;49m\u001b[43m)\u001b[49m \n\u001b[0;32m     12\u001b[0m     \u001b[38;5;66;03m# Save the dataframe to CSV\u001b[39;00m\n\u001b[0;32m     13\u001b[0m     tuned_name  \u001b[38;5;241m=\u001b[39m \u001b[38;5;124m'\u001b[39m\u001b[38;5;124mpycaret_tune_model_\u001b[39m\u001b[38;5;124m'\u001b[39m \u001b[38;5;241m+\u001b[39m \u001b[38;5;28mstr\u001b[39m(i\u001b[38;5;241m+\u001b[39m\u001b[38;5;241m1\u001b[39m)\n",
      "File \u001b[1;32m~\\anaconda3\\lib\\site-packages\\pycaret\\utils\\generic.py:965\u001b[0m, in \u001b[0;36mcheck_if_global_is_not_none.<locals>.decorator.<locals>.wrapper\u001b[1;34m(*args, **kwargs)\u001b[0m\n\u001b[0;32m    963\u001b[0m     \u001b[38;5;28;01mif\u001b[39;00m globals_d[name] \u001b[38;5;129;01mis\u001b[39;00m \u001b[38;5;28;01mNone\u001b[39;00m:\n\u001b[0;32m    964\u001b[0m         \u001b[38;5;28;01mraise\u001b[39;00m \u001b[38;5;167;01mValueError\u001b[39;00m(message)\n\u001b[1;32m--> 965\u001b[0m \u001b[38;5;28;01mreturn\u001b[39;00m func(\u001b[38;5;241m*\u001b[39margs, \u001b[38;5;241m*\u001b[39m\u001b[38;5;241m*\u001b[39mkwargs)\n",
      "File \u001b[1;32m~\\anaconda3\\lib\\site-packages\\pycaret\\regression\\functional.py:1205\u001b[0m, in \u001b[0;36mtune_model\u001b[1;34m(estimator, fold, round, n_iter, custom_grid, optimize, custom_scorer, search_library, search_algorithm, early_stopping, early_stopping_max_iters, choose_better, fit_kwargs, groups, return_tuner, verbose, tuner_verbose, return_train_score, **kwargs)\u001b[0m\n\u001b[0;32m   1013\u001b[0m \u001b[38;5;129m@check_if_global_is_not_none\u001b[39m(\u001b[38;5;28mglobals\u001b[39m(), _CURRENT_EXPERIMENT_DECORATOR_DICT)\n\u001b[0;32m   1014\u001b[0m \u001b[38;5;28;01mdef\u001b[39;00m \u001b[38;5;21mtune_model\u001b[39m(\n\u001b[0;32m   1015\u001b[0m     estimator,\n\u001b[1;32m   (...)\u001b[0m\n\u001b[0;32m   1033\u001b[0m     \u001b[38;5;241m*\u001b[39m\u001b[38;5;241m*\u001b[39mkwargs,\n\u001b[0;32m   1034\u001b[0m ):\n\u001b[0;32m   1035\u001b[0m     \u001b[38;5;124;03m\"\"\"\u001b[39;00m\n\u001b[0;32m   1036\u001b[0m \u001b[38;5;124;03m    This function tunes the hyperparameters of a given estimator. The output of\u001b[39;00m\n\u001b[0;32m   1037\u001b[0m \u001b[38;5;124;03m    this function is a score grid with CV scores by fold of the best selected\u001b[39;00m\n\u001b[1;32m   (...)\u001b[0m\n\u001b[0;32m   1202\u001b[0m \n\u001b[0;32m   1203\u001b[0m \u001b[38;5;124;03m    \"\"\"\u001b[39;00m\n\u001b[1;32m-> 1205\u001b[0m     \u001b[38;5;28;01mreturn\u001b[39;00m _CURRENT_EXPERIMENT\u001b[38;5;241m.\u001b[39mtune_model(\n\u001b[0;32m   1206\u001b[0m         estimator\u001b[38;5;241m=\u001b[39mestimator,\n\u001b[0;32m   1207\u001b[0m         fold\u001b[38;5;241m=\u001b[39mfold,\n\u001b[0;32m   1208\u001b[0m         \u001b[38;5;28mround\u001b[39m\u001b[38;5;241m=\u001b[39m\u001b[38;5;28mround\u001b[39m,\n\u001b[0;32m   1209\u001b[0m         n_iter\u001b[38;5;241m=\u001b[39mn_iter,\n\u001b[0;32m   1210\u001b[0m         custom_grid\u001b[38;5;241m=\u001b[39mcustom_grid,\n\u001b[0;32m   1211\u001b[0m         optimize\u001b[38;5;241m=\u001b[39moptimize,\n\u001b[0;32m   1212\u001b[0m         custom_scorer\u001b[38;5;241m=\u001b[39mcustom_scorer,\n\u001b[0;32m   1213\u001b[0m         search_library\u001b[38;5;241m=\u001b[39msearch_library,\n\u001b[0;32m   1214\u001b[0m         search_algorithm\u001b[38;5;241m=\u001b[39msearch_algorithm,\n\u001b[0;32m   1215\u001b[0m         early_stopping\u001b[38;5;241m=\u001b[39mearly_stopping,\n\u001b[0;32m   1216\u001b[0m         early_stopping_max_iters\u001b[38;5;241m=\u001b[39mearly_stopping_max_iters,\n\u001b[0;32m   1217\u001b[0m         choose_better\u001b[38;5;241m=\u001b[39mchoose_better,\n\u001b[0;32m   1218\u001b[0m         fit_kwargs\u001b[38;5;241m=\u001b[39mfit_kwargs,\n\u001b[0;32m   1219\u001b[0m         groups\u001b[38;5;241m=\u001b[39mgroups,\n\u001b[0;32m   1220\u001b[0m         return_tuner\u001b[38;5;241m=\u001b[39mreturn_tuner,\n\u001b[0;32m   1221\u001b[0m         verbose\u001b[38;5;241m=\u001b[39mverbose,\n\u001b[0;32m   1222\u001b[0m         tuner_verbose\u001b[38;5;241m=\u001b[39mtuner_verbose,\n\u001b[0;32m   1223\u001b[0m         return_train_score\u001b[38;5;241m=\u001b[39mreturn_train_score,\n\u001b[0;32m   1224\u001b[0m         \u001b[38;5;241m*\u001b[39m\u001b[38;5;241m*\u001b[39mkwargs,\n\u001b[0;32m   1225\u001b[0m     )\n",
      "File \u001b[1;32m~\\anaconda3\\lib\\site-packages\\pycaret\\regression\\oop.py:1505\u001b[0m, in \u001b[0;36mRegressionExperiment.tune_model\u001b[1;34m(self, estimator, fold, round, n_iter, custom_grid, optimize, custom_scorer, search_library, search_algorithm, early_stopping, early_stopping_max_iters, choose_better, fit_kwargs, groups, return_tuner, verbose, tuner_verbose, return_train_score, **kwargs)\u001b[0m\n\u001b[0;32m   1313\u001b[0m \u001b[38;5;28;01mdef\u001b[39;00m \u001b[38;5;21mtune_model\u001b[39m(\n\u001b[0;32m   1314\u001b[0m     \u001b[38;5;28mself\u001b[39m,\n\u001b[0;32m   1315\u001b[0m     estimator,\n\u001b[1;32m   (...)\u001b[0m\n\u001b[0;32m   1333\u001b[0m     \u001b[38;5;241m*\u001b[39m\u001b[38;5;241m*\u001b[39mkwargs,\n\u001b[0;32m   1334\u001b[0m ):\n\u001b[0;32m   1335\u001b[0m     \u001b[38;5;124;03m\"\"\"\u001b[39;00m\n\u001b[0;32m   1336\u001b[0m \u001b[38;5;124;03m    This function tunes the hyperparameters of a given estimator. The output of\u001b[39;00m\n\u001b[0;32m   1337\u001b[0m \u001b[38;5;124;03m    this function is a score grid with CV scores by fold of the best selected\u001b[39;00m\n\u001b[1;32m   (...)\u001b[0m\n\u001b[0;32m   1502\u001b[0m \n\u001b[0;32m   1503\u001b[0m \u001b[38;5;124;03m    \"\"\"\u001b[39;00m\n\u001b[1;32m-> 1505\u001b[0m     \u001b[38;5;28;01mreturn\u001b[39;00m \u001b[38;5;28msuper\u001b[39m()\u001b[38;5;241m.\u001b[39mtune_model(\n\u001b[0;32m   1506\u001b[0m         estimator\u001b[38;5;241m=\u001b[39mestimator,\n\u001b[0;32m   1507\u001b[0m         fold\u001b[38;5;241m=\u001b[39mfold,\n\u001b[0;32m   1508\u001b[0m         \u001b[38;5;28mround\u001b[39m\u001b[38;5;241m=\u001b[39m\u001b[38;5;28mround\u001b[39m,\n\u001b[0;32m   1509\u001b[0m         n_iter\u001b[38;5;241m=\u001b[39mn_iter,\n\u001b[0;32m   1510\u001b[0m         custom_grid\u001b[38;5;241m=\u001b[39mcustom_grid,\n\u001b[0;32m   1511\u001b[0m         optimize\u001b[38;5;241m=\u001b[39moptimize,\n\u001b[0;32m   1512\u001b[0m         custom_scorer\u001b[38;5;241m=\u001b[39mcustom_scorer,\n\u001b[0;32m   1513\u001b[0m         search_library\u001b[38;5;241m=\u001b[39msearch_library,\n\u001b[0;32m   1514\u001b[0m         search_algorithm\u001b[38;5;241m=\u001b[39msearch_algorithm,\n\u001b[0;32m   1515\u001b[0m         early_stopping\u001b[38;5;241m=\u001b[39mearly_stopping,\n\u001b[0;32m   1516\u001b[0m         early_stopping_max_iters\u001b[38;5;241m=\u001b[39mearly_stopping_max_iters,\n\u001b[0;32m   1517\u001b[0m         choose_better\u001b[38;5;241m=\u001b[39mchoose_better,\n\u001b[0;32m   1518\u001b[0m         fit_kwargs\u001b[38;5;241m=\u001b[39mfit_kwargs,\n\u001b[0;32m   1519\u001b[0m         groups\u001b[38;5;241m=\u001b[39mgroups,\n\u001b[0;32m   1520\u001b[0m         return_tuner\u001b[38;5;241m=\u001b[39mreturn_tuner,\n\u001b[0;32m   1521\u001b[0m         verbose\u001b[38;5;241m=\u001b[39mverbose,\n\u001b[0;32m   1522\u001b[0m         tuner_verbose\u001b[38;5;241m=\u001b[39mtuner_verbose,\n\u001b[0;32m   1523\u001b[0m         return_train_score\u001b[38;5;241m=\u001b[39mreturn_train_score,\n\u001b[0;32m   1524\u001b[0m         \u001b[38;5;241m*\u001b[39m\u001b[38;5;241m*\u001b[39mkwargs,\n\u001b[0;32m   1525\u001b[0m     )\n",
      "File \u001b[1;32m~\\anaconda3\\lib\\site-packages\\pycaret\\internal\\pycaret_experiment\\supervised_experiment.py:2655\u001b[0m, in \u001b[0;36m_SupervisedExperiment.tune_model\u001b[1;34m(self, estimator, fold, round, n_iter, custom_grid, optimize, custom_scorer, search_library, search_algorithm, early_stopping, early_stopping_max_iters, choose_better, fit_kwargs, groups, return_tuner, verbose, tuner_verbose, return_train_score, **kwargs)\u001b[0m\n\u001b[0;32m   2647\u001b[0m     \u001b[38;5;28;01mwith\u001b[39;00m patch(\n\u001b[0;32m   2648\u001b[0m         \u001b[38;5;124m\"\u001b[39m\u001b[38;5;124msklearn.model_selection._search.sample_without_replacement\u001b[39m\u001b[38;5;124m\"\u001b[39m,\n\u001b[0;32m   2649\u001b[0m         pycaret\u001b[38;5;241m.\u001b[39minternal\u001b[38;5;241m.\u001b[39mpatches\u001b[38;5;241m.\u001b[39msklearn\u001b[38;5;241m.\u001b[39m_mp_sample_without_replacement,\n\u001b[0;32m   2650\u001b[0m     ):\n\u001b[0;32m   2651\u001b[0m         \u001b[38;5;28;01mwith\u001b[39;00m patch(\n\u001b[0;32m   2652\u001b[0m             \u001b[38;5;124m\"\u001b[39m\u001b[38;5;124msklearn.model_selection._search.ParameterGrid.__getitem__\u001b[39m\u001b[38;5;124m\"\u001b[39m,\n\u001b[0;32m   2653\u001b[0m             pycaret\u001b[38;5;241m.\u001b[39minternal\u001b[38;5;241m.\u001b[39mpatches\u001b[38;5;241m.\u001b[39msklearn\u001b[38;5;241m.\u001b[39m_mp_ParameterGrid_getitem,\n\u001b[0;32m   2654\u001b[0m         ):\n\u001b[1;32m-> 2655\u001b[0m             model_grid\u001b[38;5;241m.\u001b[39mfit(data_X, data_y, groups\u001b[38;5;241m=\u001b[39mgroups, \u001b[38;5;241m*\u001b[39m\u001b[38;5;241m*\u001b[39mfit_kwargs)\n\u001b[0;32m   2656\u001b[0m \u001b[38;5;28;01melse\u001b[39;00m:\n\u001b[0;32m   2657\u001b[0m     model_grid\u001b[38;5;241m.\u001b[39mfit(data_X, data_y, groups\u001b[38;5;241m=\u001b[39mgroups, \u001b[38;5;241m*\u001b[39m\u001b[38;5;241m*\u001b[39mfit_kwargs)\n",
      "File \u001b[1;32m~\\anaconda3\\lib\\site-packages\\sklearn\\model_selection\\_search.py:874\u001b[0m, in \u001b[0;36mBaseSearchCV.fit\u001b[1;34m(self, X, y, groups, **fit_params)\u001b[0m\n\u001b[0;32m    868\u001b[0m     results \u001b[38;5;241m=\u001b[39m \u001b[38;5;28mself\u001b[39m\u001b[38;5;241m.\u001b[39m_format_results(\n\u001b[0;32m    869\u001b[0m         all_candidate_params, n_splits, all_out, all_more_results\n\u001b[0;32m    870\u001b[0m     )\n\u001b[0;32m    872\u001b[0m     \u001b[38;5;28;01mreturn\u001b[39;00m results\n\u001b[1;32m--> 874\u001b[0m \u001b[38;5;28;43mself\u001b[39;49m\u001b[38;5;241;43m.\u001b[39;49m\u001b[43m_run_search\u001b[49m\u001b[43m(\u001b[49m\u001b[43mevaluate_candidates\u001b[49m\u001b[43m)\u001b[49m\n\u001b[0;32m    876\u001b[0m \u001b[38;5;66;03m# multimetric is determined here because in the case of a callable\u001b[39;00m\n\u001b[0;32m    877\u001b[0m \u001b[38;5;66;03m# self.scoring the return type is only known after calling\u001b[39;00m\n\u001b[0;32m    878\u001b[0m first_test_score \u001b[38;5;241m=\u001b[39m all_out[\u001b[38;5;241m0\u001b[39m][\u001b[38;5;124m\"\u001b[39m\u001b[38;5;124mtest_scores\u001b[39m\u001b[38;5;124m\"\u001b[39m]\n",
      "File \u001b[1;32m~\\anaconda3\\lib\\site-packages\\sklearn\\model_selection\\_search.py:1768\u001b[0m, in \u001b[0;36mRandomizedSearchCV._run_search\u001b[1;34m(self, evaluate_candidates)\u001b[0m\n\u001b[0;32m   1766\u001b[0m \u001b[38;5;28;01mdef\u001b[39;00m \u001b[38;5;21m_run_search\u001b[39m(\u001b[38;5;28mself\u001b[39m, evaluate_candidates):\n\u001b[0;32m   1767\u001b[0m     \u001b[38;5;124;03m\"\"\"Search n_iter candidates from param_distributions\"\"\"\u001b[39;00m\n\u001b[1;32m-> 1768\u001b[0m     \u001b[43mevaluate_candidates\u001b[49m\u001b[43m(\u001b[49m\n\u001b[0;32m   1769\u001b[0m \u001b[43m        \u001b[49m\u001b[43mParameterSampler\u001b[49m\u001b[43m(\u001b[49m\n\u001b[0;32m   1770\u001b[0m \u001b[43m            \u001b[49m\u001b[38;5;28;43mself\u001b[39;49m\u001b[38;5;241;43m.\u001b[39;49m\u001b[43mparam_distributions\u001b[49m\u001b[43m,\u001b[49m\u001b[43m \u001b[49m\u001b[38;5;28;43mself\u001b[39;49m\u001b[38;5;241;43m.\u001b[39;49m\u001b[43mn_iter\u001b[49m\u001b[43m,\u001b[49m\u001b[43m \u001b[49m\u001b[43mrandom_state\u001b[49m\u001b[38;5;241;43m=\u001b[39;49m\u001b[38;5;28;43mself\u001b[39;49m\u001b[38;5;241;43m.\u001b[39;49m\u001b[43mrandom_state\u001b[49m\n\u001b[0;32m   1771\u001b[0m \u001b[43m        \u001b[49m\u001b[43m)\u001b[49m\n\u001b[0;32m   1772\u001b[0m \u001b[43m    \u001b[49m\u001b[43m)\u001b[49m\n",
      "File \u001b[1;32m~\\anaconda3\\lib\\site-packages\\sklearn\\model_selection\\_search.py:821\u001b[0m, in \u001b[0;36mBaseSearchCV.fit.<locals>.evaluate_candidates\u001b[1;34m(candidate_params, cv, more_results)\u001b[0m\n\u001b[0;32m    813\u001b[0m \u001b[38;5;28;01mif\u001b[39;00m \u001b[38;5;28mself\u001b[39m\u001b[38;5;241m.\u001b[39mverbose \u001b[38;5;241m>\u001b[39m \u001b[38;5;241m0\u001b[39m:\n\u001b[0;32m    814\u001b[0m     \u001b[38;5;28mprint\u001b[39m(\n\u001b[0;32m    815\u001b[0m         \u001b[38;5;124m\"\u001b[39m\u001b[38;5;124mFitting \u001b[39m\u001b[38;5;132;01m{0}\u001b[39;00m\u001b[38;5;124m folds for each of \u001b[39m\u001b[38;5;132;01m{1}\u001b[39;00m\u001b[38;5;124m candidates,\u001b[39m\u001b[38;5;124m\"\u001b[39m\n\u001b[0;32m    816\u001b[0m         \u001b[38;5;124m\"\u001b[39m\u001b[38;5;124m totalling \u001b[39m\u001b[38;5;132;01m{2}\u001b[39;00m\u001b[38;5;124m fits\u001b[39m\u001b[38;5;124m\"\u001b[39m\u001b[38;5;241m.\u001b[39mformat(\n\u001b[0;32m    817\u001b[0m             n_splits, n_candidates, n_candidates \u001b[38;5;241m*\u001b[39m n_splits\n\u001b[0;32m    818\u001b[0m         )\n\u001b[0;32m    819\u001b[0m     )\n\u001b[1;32m--> 821\u001b[0m out \u001b[38;5;241m=\u001b[39m \u001b[43mparallel\u001b[49m\u001b[43m(\u001b[49m\n\u001b[0;32m    822\u001b[0m \u001b[43m    \u001b[49m\u001b[43mdelayed\u001b[49m\u001b[43m(\u001b[49m\u001b[43m_fit_and_score\u001b[49m\u001b[43m)\u001b[49m\u001b[43m(\u001b[49m\n\u001b[0;32m    823\u001b[0m \u001b[43m        \u001b[49m\u001b[43mclone\u001b[49m\u001b[43m(\u001b[49m\u001b[43mbase_estimator\u001b[49m\u001b[43m)\u001b[49m\u001b[43m,\u001b[49m\n\u001b[0;32m    824\u001b[0m \u001b[43m        \u001b[49m\u001b[43mX\u001b[49m\u001b[43m,\u001b[49m\n\u001b[0;32m    825\u001b[0m \u001b[43m        \u001b[49m\u001b[43my\u001b[49m\u001b[43m,\u001b[49m\n\u001b[0;32m    826\u001b[0m \u001b[43m        \u001b[49m\u001b[43mtrain\u001b[49m\u001b[38;5;241;43m=\u001b[39;49m\u001b[43mtrain\u001b[49m\u001b[43m,\u001b[49m\n\u001b[0;32m    827\u001b[0m \u001b[43m        \u001b[49m\u001b[43mtest\u001b[49m\u001b[38;5;241;43m=\u001b[39;49m\u001b[43mtest\u001b[49m\u001b[43m,\u001b[49m\n\u001b[0;32m    828\u001b[0m \u001b[43m        \u001b[49m\u001b[43mparameters\u001b[49m\u001b[38;5;241;43m=\u001b[39;49m\u001b[43mparameters\u001b[49m\u001b[43m,\u001b[49m\n\u001b[0;32m    829\u001b[0m \u001b[43m        \u001b[49m\u001b[43msplit_progress\u001b[49m\u001b[38;5;241;43m=\u001b[39;49m\u001b[43m(\u001b[49m\u001b[43msplit_idx\u001b[49m\u001b[43m,\u001b[49m\u001b[43m \u001b[49m\u001b[43mn_splits\u001b[49m\u001b[43m)\u001b[49m\u001b[43m,\u001b[49m\n\u001b[0;32m    830\u001b[0m \u001b[43m        \u001b[49m\u001b[43mcandidate_progress\u001b[49m\u001b[38;5;241;43m=\u001b[39;49m\u001b[43m(\u001b[49m\u001b[43mcand_idx\u001b[49m\u001b[43m,\u001b[49m\u001b[43m \u001b[49m\u001b[43mn_candidates\u001b[49m\u001b[43m)\u001b[49m\u001b[43m,\u001b[49m\n\u001b[0;32m    831\u001b[0m \u001b[43m        \u001b[49m\u001b[38;5;241;43m*\u001b[39;49m\u001b[38;5;241;43m*\u001b[39;49m\u001b[43mfit_and_score_kwargs\u001b[49m\u001b[43m,\u001b[49m\n\u001b[0;32m    832\u001b[0m \u001b[43m    \u001b[49m\u001b[43m)\u001b[49m\n\u001b[0;32m    833\u001b[0m \u001b[43m    \u001b[49m\u001b[38;5;28;43;01mfor\u001b[39;49;00m\u001b[43m \u001b[49m\u001b[43m(\u001b[49m\u001b[43mcand_idx\u001b[49m\u001b[43m,\u001b[49m\u001b[43m \u001b[49m\u001b[43mparameters\u001b[49m\u001b[43m)\u001b[49m\u001b[43m,\u001b[49m\u001b[43m \u001b[49m\u001b[43m(\u001b[49m\u001b[43msplit_idx\u001b[49m\u001b[43m,\u001b[49m\u001b[43m \u001b[49m\u001b[43m(\u001b[49m\u001b[43mtrain\u001b[49m\u001b[43m,\u001b[49m\u001b[43m \u001b[49m\u001b[43mtest\u001b[49m\u001b[43m)\u001b[49m\u001b[43m)\u001b[49m\u001b[43m \u001b[49m\u001b[38;5;129;43;01min\u001b[39;49;00m\u001b[43m \u001b[49m\u001b[43mproduct\u001b[49m\u001b[43m(\u001b[49m\n\u001b[0;32m    834\u001b[0m \u001b[43m        \u001b[49m\u001b[38;5;28;43menumerate\u001b[39;49m\u001b[43m(\u001b[49m\u001b[43mcandidate_params\u001b[49m\u001b[43m)\u001b[49m\u001b[43m,\u001b[49m\u001b[43m \u001b[49m\u001b[38;5;28;43menumerate\u001b[39;49m\u001b[43m(\u001b[49m\u001b[43mcv\u001b[49m\u001b[38;5;241;43m.\u001b[39;49m\u001b[43msplit\u001b[49m\u001b[43m(\u001b[49m\u001b[43mX\u001b[49m\u001b[43m,\u001b[49m\u001b[43m \u001b[49m\u001b[43my\u001b[49m\u001b[43m,\u001b[49m\u001b[43m \u001b[49m\u001b[43mgroups\u001b[49m\u001b[43m)\u001b[49m\u001b[43m)\u001b[49m\n\u001b[0;32m    835\u001b[0m \u001b[43m    \u001b[49m\u001b[43m)\u001b[49m\n\u001b[0;32m    836\u001b[0m \u001b[43m\u001b[49m\u001b[43m)\u001b[49m\n\u001b[0;32m    838\u001b[0m \u001b[38;5;28;01mif\u001b[39;00m \u001b[38;5;28mlen\u001b[39m(out) \u001b[38;5;241m<\u001b[39m \u001b[38;5;241m1\u001b[39m:\n\u001b[0;32m    839\u001b[0m     \u001b[38;5;28;01mraise\u001b[39;00m \u001b[38;5;167;01mValueError\u001b[39;00m(\n\u001b[0;32m    840\u001b[0m         \u001b[38;5;124m\"\u001b[39m\u001b[38;5;124mNo fits were performed. \u001b[39m\u001b[38;5;124m\"\u001b[39m\n\u001b[0;32m    841\u001b[0m         \u001b[38;5;124m\"\u001b[39m\u001b[38;5;124mWas the CV iterator empty? \u001b[39m\u001b[38;5;124m\"\u001b[39m\n\u001b[0;32m    842\u001b[0m         \u001b[38;5;124m\"\u001b[39m\u001b[38;5;124mWere there no candidates?\u001b[39m\u001b[38;5;124m\"\u001b[39m\n\u001b[0;32m    843\u001b[0m     )\n",
      "File \u001b[1;32m~\\anaconda3\\lib\\site-packages\\sklearn\\utils\\parallel.py:63\u001b[0m, in \u001b[0;36mParallel.__call__\u001b[1;34m(self, iterable)\u001b[0m\n\u001b[0;32m     58\u001b[0m config \u001b[38;5;241m=\u001b[39m get_config()\n\u001b[0;32m     59\u001b[0m iterable_with_config \u001b[38;5;241m=\u001b[39m (\n\u001b[0;32m     60\u001b[0m     (_with_config(delayed_func, config), args, kwargs)\n\u001b[0;32m     61\u001b[0m     \u001b[38;5;28;01mfor\u001b[39;00m delayed_func, args, kwargs \u001b[38;5;129;01min\u001b[39;00m iterable\n\u001b[0;32m     62\u001b[0m )\n\u001b[1;32m---> 63\u001b[0m \u001b[38;5;28;01mreturn\u001b[39;00m \u001b[38;5;28;43msuper\u001b[39;49m\u001b[43m(\u001b[49m\u001b[43m)\u001b[49m\u001b[38;5;241;43m.\u001b[39;49m\u001b[38;5;21;43m__call__\u001b[39;49m\u001b[43m(\u001b[49m\u001b[43miterable_with_config\u001b[49m\u001b[43m)\u001b[49m\n",
      "File \u001b[1;32m~\\anaconda3\\lib\\site-packages\\joblib\\parallel.py:1944\u001b[0m, in \u001b[0;36mParallel.__call__\u001b[1;34m(self, iterable)\u001b[0m\n\u001b[0;32m   1938\u001b[0m \u001b[38;5;66;03m# The first item from the output is blank, but it makes the interpreter\u001b[39;00m\n\u001b[0;32m   1939\u001b[0m \u001b[38;5;66;03m# progress until it enters the Try/Except block of the generator and\u001b[39;00m\n\u001b[0;32m   1940\u001b[0m \u001b[38;5;66;03m# reach the first `yield` statement. This starts the aynchronous\u001b[39;00m\n\u001b[0;32m   1941\u001b[0m \u001b[38;5;66;03m# dispatch of the tasks to the workers.\u001b[39;00m\n\u001b[0;32m   1942\u001b[0m \u001b[38;5;28mnext\u001b[39m(output)\n\u001b[1;32m-> 1944\u001b[0m \u001b[38;5;28;01mreturn\u001b[39;00m output \u001b[38;5;28;01mif\u001b[39;00m \u001b[38;5;28mself\u001b[39m\u001b[38;5;241m.\u001b[39mreturn_generator \u001b[38;5;28;01melse\u001b[39;00m \u001b[38;5;28;43mlist\u001b[39;49m\u001b[43m(\u001b[49m\u001b[43moutput\u001b[49m\u001b[43m)\u001b[49m\n",
      "File \u001b[1;32m~\\anaconda3\\lib\\site-packages\\joblib\\parallel.py:1587\u001b[0m, in \u001b[0;36mParallel._get_outputs\u001b[1;34m(self, iterator, pre_dispatch)\u001b[0m\n\u001b[0;32m   1584\u001b[0m     \u001b[38;5;28;01myield\u001b[39;00m\n\u001b[0;32m   1586\u001b[0m     \u001b[38;5;28;01mwith\u001b[39;00m \u001b[38;5;28mself\u001b[39m\u001b[38;5;241m.\u001b[39m_backend\u001b[38;5;241m.\u001b[39mretrieval_context():\n\u001b[1;32m-> 1587\u001b[0m         \u001b[38;5;28;01myield from\u001b[39;00m \u001b[38;5;28mself\u001b[39m\u001b[38;5;241m.\u001b[39m_retrieve()\n\u001b[0;32m   1589\u001b[0m \u001b[38;5;28;01mexcept\u001b[39;00m \u001b[38;5;167;01mGeneratorExit\u001b[39;00m:\n\u001b[0;32m   1590\u001b[0m     \u001b[38;5;66;03m# The generator has been garbage collected before being fully\u001b[39;00m\n\u001b[0;32m   1591\u001b[0m     \u001b[38;5;66;03m# consumed. This aborts the remaining tasks if possible and warn\u001b[39;00m\n\u001b[0;32m   1592\u001b[0m     \u001b[38;5;66;03m# the user if necessary.\u001b[39;00m\n\u001b[0;32m   1593\u001b[0m     \u001b[38;5;28mself\u001b[39m\u001b[38;5;241m.\u001b[39m_exception \u001b[38;5;241m=\u001b[39m \u001b[38;5;28;01mTrue\u001b[39;00m\n",
      "File \u001b[1;32m~\\anaconda3\\lib\\site-packages\\joblib\\parallel.py:1699\u001b[0m, in \u001b[0;36mParallel._retrieve\u001b[1;34m(self)\u001b[0m\n\u001b[0;32m   1694\u001b[0m \u001b[38;5;66;03m# If the next job is not ready for retrieval yet, we just wait for\u001b[39;00m\n\u001b[0;32m   1695\u001b[0m \u001b[38;5;66;03m# async callbacks to progress.\u001b[39;00m\n\u001b[0;32m   1696\u001b[0m \u001b[38;5;28;01mif\u001b[39;00m ((\u001b[38;5;28mlen\u001b[39m(\u001b[38;5;28mself\u001b[39m\u001b[38;5;241m.\u001b[39m_jobs) \u001b[38;5;241m==\u001b[39m \u001b[38;5;241m0\u001b[39m) \u001b[38;5;129;01mor\u001b[39;00m\n\u001b[0;32m   1697\u001b[0m     (\u001b[38;5;28mself\u001b[39m\u001b[38;5;241m.\u001b[39m_jobs[\u001b[38;5;241m0\u001b[39m]\u001b[38;5;241m.\u001b[39mget_status(\n\u001b[0;32m   1698\u001b[0m         timeout\u001b[38;5;241m=\u001b[39m\u001b[38;5;28mself\u001b[39m\u001b[38;5;241m.\u001b[39mtimeout) \u001b[38;5;241m==\u001b[39m TASK_PENDING)):\n\u001b[1;32m-> 1699\u001b[0m     \u001b[43mtime\u001b[49m\u001b[38;5;241;43m.\u001b[39;49m\u001b[43msleep\u001b[49m\u001b[43m(\u001b[49m\u001b[38;5;241;43m0.01\u001b[39;49m\u001b[43m)\u001b[49m\n\u001b[0;32m   1700\u001b[0m     \u001b[38;5;28;01mcontinue\u001b[39;00m\n\u001b[0;32m   1702\u001b[0m \u001b[38;5;66;03m# We need to be careful: the job list can be filling up as\u001b[39;00m\n\u001b[0;32m   1703\u001b[0m \u001b[38;5;66;03m# we empty it and Python list are not thread-safe by\u001b[39;00m\n\u001b[0;32m   1704\u001b[0m \u001b[38;5;66;03m# default hence the use of the lock\u001b[39;00m\n",
      "\u001b[1;31mKeyboardInterrupt\u001b[0m: "
     ]
    }
   ],
   "source": [
    "#create an empty list with 5 elements\n",
    "tuned_top5 = [None] * 5\n",
    "\n",
    "#counter\n",
    "i = 0 \n",
    "\n",
    "#interate over the top5 and store the tuned models\n",
    "for top in top5:\n",
    "    #tune the model\n",
    "    tuned_top5[i] = tune_model(top, n_iter=120, optimize='RMSE', fold=5) \n",
    "    \n",
    "    # Save the dataframe to CSV\n",
    "    tuned_name  = 'pycaret_tune_model_' + str(i+1)\n",
    "    globals()[tuned_name] = pull()\n",
    "    \n",
    "    i += 1"
   ]
  },
  {
   "cell_type": "markdown",
   "id": "7d0252af",
   "metadata": {},
   "source": [
    "### Combine top 5 models"
   ]
  },
  {
   "cell_type": "markdown",
   "id": "ab7a86a5",
   "metadata": {},
   "source": [
    "#### Build blend models"
   ]
  },
  {
   "cell_type": "code",
   "execution_count": null,
   "id": "57a42df8",
   "metadata": {},
   "outputs": [],
   "source": [
    "# Building a blending model from our top 5 models and evaluate the results. \n",
    "# Blending models is an ensemble method of combining different machine learning algorithms.\n",
    "# Use a majority vote to build consensus of final prediction values.\n",
    "\n",
    "blender_specific = blend_models(estimator_list=tuned_top5[0:], fold=5, optimize='RMSE', choose_better=False)"
   ]
  },
  {
   "cell_type": "code",
   "execution_count": null,
   "id": "3e6b7ff2",
   "metadata": {},
   "outputs": [],
   "source": [
    "# Case the result to a dataframe\n",
    "pycaret_blend_model = pull()"
   ]
  },
  {
   "cell_type": "code",
   "execution_count": null,
   "id": "097acd6d",
   "metadata": {
    "scrolled": false
   },
   "outputs": [],
   "source": [
    "# Below is a view of the model parameters. \n",
    "print(blender_specific)\n",
    "display(blender_specific)"
   ]
  },
  {
   "cell_type": "markdown",
   "id": "faf0c143",
   "metadata": {},
   "source": [
    "#### Build stack models"
   ]
  },
  {
   "cell_type": "code",
   "execution_count": null,
   "id": "6bf28775",
   "metadata": {},
   "outputs": [],
   "source": [
    "# Build a stacking model from our top 5 models and evaluate the results.\n",
    "# Stacking models is an ensemble method of using meta learning.\n",
    "# A meta model is created using multiple base estimators to generate the final prediction.\n",
    "\n",
    "stacker_specific = stack_models(estimator_list=tuned_top5[1:],\n",
    "                                meta_model=tuned_top5[0],\n",
    "                                fold=5,\n",
    "                                optimize='RMSE',\n",
    "                                choose_better=False)"
   ]
  },
  {
   "cell_type": "code",
   "execution_count": null,
   "id": "21acd0be",
   "metadata": {},
   "outputs": [],
   "source": [
    "# Case the result to a dataframe\n",
    "pycaret_stack_model = pull()"
   ]
  },
  {
   "cell_type": "code",
   "execution_count": null,
   "id": "8db12c92",
   "metadata": {},
   "outputs": [],
   "source": [
    "# Below is a view of the model parameters. \n",
    "print(stacker_specific)\n",
    "display(stacker_specific)"
   ]
  },
  {
   "cell_type": "markdown",
   "id": "b7a580e5",
   "metadata": {},
   "source": [
    "### Evaluare models"
   ]
  },
  {
   "cell_type": "markdown",
   "id": "ad677c0c",
   "metadata": {},
   "source": [
    "#### Evaluate blend model"
   ]
  },
  {
   "cell_type": "code",
   "execution_count": null,
   "id": "a981a0bf",
   "metadata": {},
   "outputs": [],
   "source": [
    "evaluate_model(blender_specific)"
   ]
  },
  {
   "cell_type": "markdown",
   "id": "1327bb7d",
   "metadata": {},
   "source": [
    "#### Evaluate stack model"
   ]
  },
  {
   "cell_type": "code",
   "execution_count": null,
   "id": "e039f3d1",
   "metadata": {},
   "outputs": [],
   "source": [
    "evaluate_model(stacker_specific)"
   ]
  },
  {
   "cell_type": "markdown",
   "id": "4544b351",
   "metadata": {},
   "source": [
    "#### Evaluate the performances"
   ]
  },
  {
   "cell_type": "code",
   "execution_count": null,
   "id": "6cc70711",
   "metadata": {
    "scrolled": false
   },
   "outputs": [],
   "source": [
    "print('cooks: blend vs stack')\n",
    "plot_model(blender_specific, plot='cooks', verbose=True, scale=1)\n",
    "plot_model(stacker_specific, plot='cooks', verbose=True, scale=1)\n",
    "\n",
    "print('manifold: blend vs stack')\n",
    "plot_model(blender_specific, plot='manifold', verbose=True, scale=1)\n",
    "plot_model(stacker_specific, plot='manifold', verbose=True, scale=1)"
   ]
  },
  {
   "cell_type": "code",
   "execution_count": null,
   "id": "149982cb",
   "metadata": {
    "scrolled": false
   },
   "outputs": [],
   "source": [
    "# Use Pycaret's built in plot_model() function to generate side-by-side plots:\n",
    "# Dispaly Residuals chart, Prediction Error and Cross Validation (learning) charts.\n",
    "print('residuals: blend vs stack')\n",
    "plot_model(blender_specific, plot='residuals', scale=1)\n",
    "plot_model(stacker_specific, plot='residuals', scale=1)\n",
    "\n",
    "print('error: blend vs stack')\n",
    "plot_model(blender_specific, plot='error', scale=1)\n",
    "plot_model(stacker_specific, plot='error', scale=1)\n",
    "\n",
    "print('learning: blend vs stack')\n",
    "plot_model(blender_specific, plot='learning', scale=1)\n",
    "plot_model(stacker_specific, plot='learning', scale=1)"
   ]
  },
  {
   "cell_type": "code",
   "execution_count": null,
   "id": "4f29cd57",
   "metadata": {},
   "outputs": [],
   "source": [
    "# Execute the predict_model() function to use the blender model to generate the predicted values. \n",
    "pred_tunded_blender = predict_model(blender_specific)\n",
    "pycaret_pred_blend = pull()"
   ]
  },
  {
   "cell_type": "code",
   "execution_count": null,
   "id": "452ffd32",
   "metadata": {},
   "outputs": [],
   "source": [
    "# Execute the predict_model() function to use the stack model to generate the predicted values. \n",
    "pred_tunded_stacker = predict_model(stacker_specific, verbose = True)\n",
    "pycaret_pred_stack = pull()"
   ]
  },
  {
   "cell_type": "markdown",
   "id": "529c46ac",
   "metadata": {},
   "source": [
    "#### Set the final model"
   ]
  },
  {
   "cell_type": "code",
   "execution_count": null,
   "id": "2330af8a",
   "metadata": {},
   "outputs": [],
   "source": [
    "# Set the final model based on the performance train and test.\n",
    "print('1: blender_specific')\n",
    "print('2: stacker_specific')\n",
    "option = 1"
   ]
  },
  {
   "cell_type": "code",
   "execution_count": null,
   "id": "f832bef1",
   "metadata": {},
   "outputs": [],
   "source": [
    "#choose the final ensemble meta-estimator \n",
    "if option == 1:\n",
    "    ensemble = blender_specific\n",
    "elif option ==2:\n",
    "    ensemble = stacker_specific"
   ]
  },
  {
   "cell_type": "code",
   "execution_count": null,
   "id": "756dee4c",
   "metadata": {},
   "outputs": [],
   "source": [
    "#The finalize_model() function trains the model on the entire dataset. \n",
    "finalized_model = finalize_model(ensemble)\n",
    "#display(finalized_model)"
   ]
  },
  {
   "cell_type": "code",
   "execution_count": null,
   "id": "b8cf645c",
   "metadata": {},
   "outputs": [],
   "source": [
    "#trains the model on the entire dataset by setting data = df\n",
    "pred_finalized_model = predict_model(finalized_model, data=df, verbose = True)\n",
    "pycaret_pred_finalized = pull()"
   ]
  },
  {
   "cell_type": "markdown",
   "id": "ff5ac101",
   "metadata": {},
   "source": [
    "## Save the final model"
   ]
  },
  {
   "cell_type": "code",
   "execution_count": null,
   "id": "99c01fd4",
   "metadata": {},
   "outputs": [],
   "source": [
    "# Save pipeline\n",
    "save_model(finalized_model, model_path)"
   ]
  },
  {
   "cell_type": "markdown",
   "id": "47b8244a",
   "metadata": {},
   "source": [
    "## Save Pycaret tables to Excel"
   ]
  },
  {
   "cell_type": "code",
   "execution_count": null,
   "id": "e32b6cd2",
   "metadata": {},
   "outputs": [],
   "source": [
    "with pd.ExcelWriter(model_path + '\\\\pycaret_tables.xlsx', engine='xlsxwriter') as writer:\n",
    "    #Write each dataframe to one excell sheet.\n",
    "    compare_model_table.to_excel(writer, sheet_name='compare_models')\n",
    "    pycaret_tune_model_1.to_excel(writer, sheet_name='tuned_1')\n",
    "    pycaret_tune_model_2.to_excel(writer, sheet_name='tuned_2')\n",
    "    pycaret_tune_model_3.to_excel(writer, sheet_name='tuned_3')\n",
    "    pycaret_tune_model_4.to_excel(writer, sheet_name='tuned_4')\n",
    "    pycaret_tune_model_5.to_excel(writer, sheet_name='tuned_5')\n",
    "    pycaret_blend_model.to_excel(writer, sheet_name='blend_model') \n",
    "    pycaret_stack_model.to_excel(writer, sheet_name='stack_model')\n",
    "    pycaret_pred_blend.to_excel(writer, sheet_name='pred_blend')\n",
    "    pycaret_pred_stack.to_excel(writer, sheet_name='pred_stack')\n",
    "    pycaret_pred_finalized.to_excel(writer, sheet_name='pred_final')"
   ]
  },
  {
   "cell_type": "code",
   "execution_count": null,
   "id": "f69b859d",
   "metadata": {},
   "outputs": [],
   "source": []
  },
  {
   "cell_type": "code",
   "execution_count": null,
   "id": "8135d2ea",
   "metadata": {},
   "outputs": [],
   "source": []
  },
  {
   "cell_type": "code",
   "execution_count": null,
   "id": "43893d16",
   "metadata": {},
   "outputs": [],
   "source": []
  },
  {
   "cell_type": "code",
   "execution_count": null,
   "id": "84407293",
   "metadata": {},
   "outputs": [],
   "source": []
  },
  {
   "cell_type": "code",
   "execution_count": null,
   "id": "23b6c8b2",
   "metadata": {},
   "outputs": [],
   "source": []
  },
  {
   "cell_type": "code",
   "execution_count": null,
   "id": "06fb63da",
   "metadata": {},
   "outputs": [],
   "source": []
  }
 ],
 "metadata": {
  "kernelspec": {
   "display_name": "Python 3 (ipykernel)",
   "language": "python",
   "name": "python3"
  },
  "language_info": {
   "codemirror_mode": {
    "name": "ipython",
    "version": 3
   },
   "file_extension": ".py",
   "mimetype": "text/x-python",
   "name": "python",
   "nbconvert_exporter": "python",
   "pygments_lexer": "ipython3",
   "version": "3.10.9"
  }
 },
 "nbformat": 4,
 "nbformat_minor": 5
}
