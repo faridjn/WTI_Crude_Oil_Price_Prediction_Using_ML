{
 "cells": [
  {
   "cell_type": "markdown",
   "id": "2fefd335",
   "metadata": {},
   "source": [
    "# 4. Pre-Processing and Training Data"
   ]
  },
  {
   "cell_type": "markdown",
   "id": "00296331",
   "metadata": {},
   "source": [
    "## Libraries"
   ]
  },
  {
   "cell_type": "markdown",
   "id": "0702e4bc",
   "metadata": {},
   "source": [
    "### Installations"
   ]
  },
  {
   "cell_type": "code",
   "execution_count": null,
   "id": "673fe41b",
   "metadata": {},
   "outputs": [],
   "source": [
    "#!pip install xlsxwriter"
   ]
  },
  {
   "cell_type": "markdown",
   "id": "76e8f3f5",
   "metadata": {},
   "source": [
    "### Imports"
   ]
  },
  {
   "cell_type": "code",
   "execution_count": 1,
   "id": "cd59a302",
   "metadata": {},
   "outputs": [],
   "source": [
    "#File and name management libraries\n",
    "import os\n",
    "import shutil\n",
    "import glob\n",
    "from pathlib import Path\n",
    "\n",
    "#Math & data handling libraries\n",
    "import pandas as pd\n",
    "import numpy as np\n",
    "\n",
    "#plotting libraries\n",
    "import matplotlib.pyplot as plt\n",
    "import seaborn as sns\n",
    "\n",
    "#dates and timeframe libraries\n",
    "import datetime\n",
    "import matplotlib.dates as mdates\n",
    "\n",
    "#Assocations and correlations libraries\n",
    "import ppscore as pps\n",
    "\n",
    "#Machine learning libraries\n",
    "from sklearn import preprocessing\n",
    "from sklearn.model_selection import train_test_split\n",
    "from pycaret.regression import *\n",
    "\n",
    "#Other file formats libraries\n",
    "import xlsxwriter"
   ]
  },
  {
   "cell_type": "markdown",
   "id": "265ed5a1",
   "metadata": {},
   "source": [
    "## Modeling Settings"
   ]
  },
  {
   "cell_type": "markdown",
   "id": "17ed281d",
   "metadata": {},
   "source": [
    "### n-month ahead prediction"
   ]
  },
  {
   "cell_type": "code",
   "execution_count": 2,
   "id": "996acbf7",
   "metadata": {},
   "outputs": [
    {
     "name": "stdout",
     "output_type": "stream",
     "text": [
      "1\n"
     ]
    }
   ],
   "source": [
    "# Define n-month ahead prediction (1-6)\n",
    "N_MONTH = 1\n",
    "print(N_MONTH)"
   ]
  },
  {
   "cell_type": "markdown",
   "id": "fbf4bfcf",
   "metadata": {},
   "source": [
    "### Directories"
   ]
  },
  {
   "cell_type": "code",
   "execution_count": 3,
   "id": "ed86739b",
   "metadata": {},
   "outputs": [
    {
     "name": "stdout",
     "output_type": "stream",
     "text": [
      "D:\\gitProjects\\springboard_capstone_1\\Springboard_Capstone_01\n"
     ]
    }
   ],
   "source": [
    "#### Root derectory ####\n",
    "\n",
    "# Change directory one step back and save as the root directory\n",
    "ROOT_DIR = os.path.normpath(os.getcwd() + os.sep + os.pardir)\n",
    "print(ROOT_DIR)"
   ]
  },
  {
   "cell_type": "code",
   "execution_count": 4,
   "id": "9d4ce88b",
   "metadata": {},
   "outputs": [
    {
     "name": "stdout",
     "output_type": "stream",
     "text": [
      "D:\\gitProjects\\springboard_capstone_1\\Springboard_Capstone_01\\data\\interim\\step3_eda_wti_price.csv\n"
     ]
    }
   ],
   "source": [
    "#### File directory ####\n",
    "\n",
    "#Define file name and location\n",
    "file_csv = 'step3_eda_wti_price.csv'\n",
    "file_path = '\\\\data\\\\interim\\\\'\n",
    "\n",
    "#Set file name and location\n",
    "f = ROOT_DIR + file_path + file_csv\n",
    "print(f)"
   ]
  },
  {
   "cell_type": "code",
   "execution_count": 5,
   "id": "0fb9cf65",
   "metadata": {},
   "outputs": [
    {
     "data": {
      "text/plain": [
       "'D:\\\\gitProjects\\\\springboard_capstone_1\\\\Springboard_Capstone_01\\\\models\\\\regression_model_1m'"
      ]
     },
     "execution_count": 5,
     "metadata": {},
     "output_type": "execute_result"
    }
   ],
   "source": [
    "#### Model directory ####\n",
    "# Change direcotry to the '\\models' folder\n",
    "# Generate the name\n",
    "model_name = 'regression_model_' + str(N_MONTH) + 'm'\n",
    "model_path =  ROOT_DIR + '\\\\models\\\\' + model_name\n",
    "\n",
    "\n",
    "#verwrite folder if exisits\n",
    "if os.path.exists(model_path):\n",
    "    shutil.rmtree(model_path)\n",
    "\n",
    "#Make folder\n",
    "try: \n",
    "    os.mkdir(model_path)\n",
    "except OSError as error: \n",
    "    print(error)\n",
    "\n",
    "os.chdir(model_path)\n",
    "os.getcwd()"
   ]
  },
  {
   "cell_type": "markdown",
   "id": "66d20eae",
   "metadata": {},
   "source": [
    "### Targe feature "
   ]
  },
  {
   "cell_type": "code",
   "execution_count": 6,
   "id": "f2f99126",
   "metadata": {},
   "outputs": [],
   "source": [
    "#Set target feature\n",
    "TARGET_FEATURE = 'wti_price'"
   ]
  },
  {
   "cell_type": "markdown",
   "id": "348f0828",
   "metadata": {},
   "source": [
    "## Read Data"
   ]
  },
  {
   "cell_type": "code",
   "execution_count": 7,
   "id": "86a3f0e7",
   "metadata": {},
   "outputs": [
    {
     "name": "stdout",
     "output_type": "stream",
     "text": [
      "Shape: (271, 30)\n"
     ]
    },
    {
     "data": {
      "text/html": [
       "<div>\n",
       "<style scoped>\n",
       "    .dataframe tbody tr th:only-of-type {\n",
       "        vertical-align: middle;\n",
       "    }\n",
       "\n",
       "    .dataframe tbody tr th {\n",
       "        vertical-align: top;\n",
       "    }\n",
       "\n",
       "    .dataframe thead th {\n",
       "        text-align: right;\n",
       "    }\n",
       "</style>\n",
       "<table border=\"1\" class=\"dataframe\">\n",
       "  <thead>\n",
       "    <tr style=\"text-align: right;\">\n",
       "      <th>Date</th>\n",
       "      <th>2000-01-01</th>\n",
       "      <th>2000-02-01</th>\n",
       "      <th>2000-03-01</th>\n",
       "      <th>2000-04-01</th>\n",
       "      <th>2000-05-01</th>\n",
       "      <th>2000-06-01</th>\n",
       "      <th>2000-07-01</th>\n",
       "    </tr>\n",
       "  </thead>\n",
       "  <tbody>\n",
       "    <tr>\n",
       "      <th>wti_price</th>\n",
       "      <td>27.26</td>\n",
       "      <td>29.37</td>\n",
       "      <td>29.84</td>\n",
       "      <td>25.72</td>\n",
       "      <td>28.79</td>\n",
       "      <td>31.82</td>\n",
       "      <td>29.70</td>\n",
       "    </tr>\n",
       "    <tr>\n",
       "      <th>oil_production_opec</th>\n",
       "      <td>26.01</td>\n",
       "      <td>26.68</td>\n",
       "      <td>26.61</td>\n",
       "      <td>27.52</td>\n",
       "      <td>28.05</td>\n",
       "      <td>27.64</td>\n",
       "      <td>27.91</td>\n",
       "    </tr>\n",
       "    <tr>\n",
       "      <th>oil_production_nonopec</th>\n",
       "      <td>46.90</td>\n",
       "      <td>46.82</td>\n",
       "      <td>46.94</td>\n",
       "      <td>46.62</td>\n",
       "      <td>46.62</td>\n",
       "      <td>46.78</td>\n",
       "      <td>47.05</td>\n",
       "    </tr>\n",
       "    <tr>\n",
       "      <th>oil_production_world</th>\n",
       "      <td>73854.24</td>\n",
       "      <td>74470.54</td>\n",
       "      <td>74439.05</td>\n",
       "      <td>75116.13</td>\n",
       "      <td>75639.56</td>\n",
       "      <td>75360.22</td>\n",
       "      <td>75983.05</td>\n",
       "    </tr>\n",
       "    <tr>\n",
       "      <th>henry_hub_ng_price</th>\n",
       "      <td>2.42</td>\n",
       "      <td>2.66</td>\n",
       "      <td>2.79</td>\n",
       "      <td>3.04</td>\n",
       "      <td>3.59</td>\n",
       "      <td>4.29</td>\n",
       "      <td>3.99</td>\n",
       "    </tr>\n",
       "    <tr>\n",
       "      <th>oil_production_us</th>\n",
       "      <td>5.78</td>\n",
       "      <td>5.85</td>\n",
       "      <td>5.92</td>\n",
       "      <td>5.85</td>\n",
       "      <td>5.85</td>\n",
       "      <td>5.82</td>\n",
       "      <td>5.74</td>\n",
       "    </tr>\n",
       "    <tr>\n",
       "      <th>petrol_consumption_oecd</th>\n",
       "      <td>47.23</td>\n",
       "      <td>50.23</td>\n",
       "      <td>49.36</td>\n",
       "      <td>46.29</td>\n",
       "      <td>47.34</td>\n",
       "      <td>47.96</td>\n",
       "      <td>47.25</td>\n",
       "    </tr>\n",
       "    <tr>\n",
       "      <th>petrol_consumption_nonoecd</th>\n",
       "      <td>28.29</td>\n",
       "      <td>28.77</td>\n",
       "      <td>28.53</td>\n",
       "      <td>28.13</td>\n",
       "      <td>28.22</td>\n",
       "      <td>28.27</td>\n",
       "      <td>28.54</td>\n",
       "    </tr>\n",
       "    <tr>\n",
       "      <th>us_cpi</th>\n",
       "      <td>1.69</td>\n",
       "      <td>1.70</td>\n",
       "      <td>1.71</td>\n",
       "      <td>1.71</td>\n",
       "      <td>1.71</td>\n",
       "      <td>1.72</td>\n",
       "      <td>1.73</td>\n",
       "    </tr>\n",
       "    <tr>\n",
       "      <th>us_ppi</th>\n",
       "      <td>1.29</td>\n",
       "      <td>1.30</td>\n",
       "      <td>1.31</td>\n",
       "      <td>1.31</td>\n",
       "      <td>1.32</td>\n",
       "      <td>1.32</td>\n",
       "      <td>1.33</td>\n",
       "    </tr>\n",
       "    <tr>\n",
       "      <th>us_ppi_petroleum</th>\n",
       "      <td>0.75</td>\n",
       "      <td>0.84</td>\n",
       "      <td>0.90</td>\n",
       "      <td>0.85</td>\n",
       "      <td>0.88</td>\n",
       "      <td>0.97</td>\n",
       "      <td>0.93</td>\n",
       "    </tr>\n",
       "    <tr>\n",
       "      <th>us_pmi</th>\n",
       "      <td>92.28</td>\n",
       "      <td>92.57</td>\n",
       "      <td>93.19</td>\n",
       "      <td>93.81</td>\n",
       "      <td>93.88</td>\n",
       "      <td>94.02</td>\n",
       "      <td>94.09</td>\n",
       "    </tr>\n",
       "    <tr>\n",
       "      <th>crude_oil_inventory_total</th>\n",
       "      <td>908.95</td>\n",
       "      <td>896.84</td>\n",
       "      <td>906.89</td>\n",
       "      <td>936.02</td>\n",
       "      <td>948.33</td>\n",
       "      <td>957.06</td>\n",
       "      <td>969.28</td>\n",
       "    </tr>\n",
       "    <tr>\n",
       "      <th>crude_oil_inventory_spr</th>\n",
       "      <td>568.50</td>\n",
       "      <td>569.37</td>\n",
       "      <td>569.41</td>\n",
       "      <td>569.41</td>\n",
       "      <td>569.41</td>\n",
       "      <td>568.89</td>\n",
       "      <td>570.35</td>\n",
       "    </tr>\n",
       "    <tr>\n",
       "      <th>crude_oil_inventory_nonspr</th>\n",
       "      <td>283.88</td>\n",
       "      <td>285.85</td>\n",
       "      <td>297.09</td>\n",
       "      <td>303.83</td>\n",
       "      <td>294.71</td>\n",
       "      <td>290.62</td>\n",
       "      <td>282.19</td>\n",
       "    </tr>\n",
       "    <tr>\n",
       "      <th>fed_fund_effective</th>\n",
       "      <td>5.45</td>\n",
       "      <td>5.73</td>\n",
       "      <td>5.85</td>\n",
       "      <td>6.02</td>\n",
       "      <td>6.27</td>\n",
       "      <td>6.53</td>\n",
       "      <td>6.54</td>\n",
       "    </tr>\n",
       "    <tr>\n",
       "      <th>global_real_econ_activity_index</th>\n",
       "      <td>-10.90</td>\n",
       "      <td>-9.56</td>\n",
       "      <td>5.12</td>\n",
       "      <td>8.20</td>\n",
       "      <td>4.21</td>\n",
       "      <td>2.97</td>\n",
       "      <td>4.65</td>\n",
       "    </tr>\n",
       "    <tr>\n",
       "      <th>us_cpi_energy</th>\n",
       "      <td>55.45</td>\n",
       "      <td>57.52</td>\n",
       "      <td>60.23</td>\n",
       "      <td>59.49</td>\n",
       "      <td>59.64</td>\n",
       "      <td>63.88</td>\n",
       "      <td>63.92</td>\n",
       "    </tr>\n",
       "    <tr>\n",
       "      <th>eu19_ppi</th>\n",
       "      <td>1.11</td>\n",
       "      <td>1.11</td>\n",
       "      <td>1.10</td>\n",
       "      <td>4.17</td>\n",
       "      <td>1.92</td>\n",
       "      <td>0.68</td>\n",
       "      <td>3.40</td>\n",
       "    </tr>\n",
       "    <tr>\n",
       "      <th>usd_eur_exchange</th>\n",
       "      <td>1.01</td>\n",
       "      <td>0.98</td>\n",
       "      <td>0.96</td>\n",
       "      <td>0.94</td>\n",
       "      <td>0.91</td>\n",
       "      <td>0.95</td>\n",
       "      <td>0.94</td>\n",
       "    </tr>\n",
       "    <tr>\n",
       "      <th>global_econ_policy_uncert_index</th>\n",
       "      <td>63.60</td>\n",
       "      <td>58.70</td>\n",
       "      <td>61.32</td>\n",
       "      <td>64.55</td>\n",
       "      <td>87.12</td>\n",
       "      <td>88.40</td>\n",
       "      <td>65.30</td>\n",
       "    </tr>\n",
       "    <tr>\n",
       "      <th>comp</th>\n",
       "      <td>4013.49</td>\n",
       "      <td>4410.87</td>\n",
       "      <td>4802.99</td>\n",
       "      <td>3863.64</td>\n",
       "      <td>3528.42</td>\n",
       "      <td>3866.42</td>\n",
       "      <td>4017.68</td>\n",
       "    </tr>\n",
       "    <tr>\n",
       "      <th>copper_futures</th>\n",
       "      <td>0.85</td>\n",
       "      <td>0.80</td>\n",
       "      <td>0.81</td>\n",
       "      <td>0.80</td>\n",
       "      <td>0.82</td>\n",
       "      <td>0.82</td>\n",
       "      <td>0.88</td>\n",
       "    </tr>\n",
       "    <tr>\n",
       "      <th>djia</th>\n",
       "      <td>11281.26</td>\n",
       "      <td>10541.93</td>\n",
       "      <td>10483.39</td>\n",
       "      <td>10944.31</td>\n",
       "      <td>10580.27</td>\n",
       "      <td>10582.93</td>\n",
       "      <td>10662.81</td>\n",
       "    </tr>\n",
       "    <tr>\n",
       "      <th>dxy</th>\n",
       "      <td>105.13</td>\n",
       "      <td>105.92</td>\n",
       "      <td>105.44</td>\n",
       "      <td>110.14</td>\n",
       "      <td>108.74</td>\n",
       "      <td>106.84</td>\n",
       "      <td>109.57</td>\n",
       "    </tr>\n",
       "    <tr>\n",
       "      <th>gold_futures</th>\n",
       "      <td>286.20</td>\n",
       "      <td>295.40</td>\n",
       "      <td>281.40</td>\n",
       "      <td>276.00</td>\n",
       "      <td>274.80</td>\n",
       "      <td>293.00</td>\n",
       "      <td>280.20</td>\n",
       "    </tr>\n",
       "    <tr>\n",
       "      <th>spx</th>\n",
       "      <td>1425.59</td>\n",
       "      <td>1388.87</td>\n",
       "      <td>1442.21</td>\n",
       "      <td>1461.36</td>\n",
       "      <td>1418.48</td>\n",
       "      <td>1461.96</td>\n",
       "      <td>1473.00</td>\n",
       "    </tr>\n",
       "    <tr>\n",
       "      <th>wti_brent_price_spread</th>\n",
       "      <td>1.75</td>\n",
       "      <td>1.59</td>\n",
       "      <td>2.36</td>\n",
       "      <td>2.96</td>\n",
       "      <td>1.05</td>\n",
       "      <td>2.03</td>\n",
       "      <td>1.02</td>\n",
       "    </tr>\n",
       "    <tr>\n",
       "      <th>wti_crack_spread</th>\n",
       "      <td>153.12</td>\n",
       "      <td>173.90</td>\n",
       "      <td>193.37</td>\n",
       "      <td>179.73</td>\n",
       "      <td>190.84</td>\n",
       "      <td>205.53</td>\n",
       "      <td>193.11</td>\n",
       "    </tr>\n",
       "    <tr>\n",
       "      <th>brent_crack_spread</th>\n",
       "      <td>158.37</td>\n",
       "      <td>178.68</td>\n",
       "      <td>200.44</td>\n",
       "      <td>188.61</td>\n",
       "      <td>193.99</td>\n",
       "      <td>211.62</td>\n",
       "      <td>196.15</td>\n",
       "    </tr>\n",
       "  </tbody>\n",
       "</table>\n",
       "</div>"
      ],
      "text/plain": [
       "Date                             2000-01-01  2000-02-01  2000-03-01  \\\n",
       "wti_price                             27.26       29.37       29.84   \n",
       "oil_production_opec                   26.01       26.68       26.61   \n",
       "oil_production_nonopec                46.90       46.82       46.94   \n",
       "oil_production_world               73854.24    74470.54    74439.05   \n",
       "henry_hub_ng_price                     2.42        2.66        2.79   \n",
       "oil_production_us                      5.78        5.85        5.92   \n",
       "petrol_consumption_oecd               47.23       50.23       49.36   \n",
       "petrol_consumption_nonoecd            28.29       28.77       28.53   \n",
       "us_cpi                                 1.69        1.70        1.71   \n",
       "us_ppi                                 1.29        1.30        1.31   \n",
       "us_ppi_petroleum                       0.75        0.84        0.90   \n",
       "us_pmi                                92.28       92.57       93.19   \n",
       "crude_oil_inventory_total            908.95      896.84      906.89   \n",
       "crude_oil_inventory_spr              568.50      569.37      569.41   \n",
       "crude_oil_inventory_nonspr           283.88      285.85      297.09   \n",
       "fed_fund_effective                     5.45        5.73        5.85   \n",
       "global_real_econ_activity_index      -10.90       -9.56        5.12   \n",
       "us_cpi_energy                         55.45       57.52       60.23   \n",
       "eu19_ppi                               1.11        1.11        1.10   \n",
       "usd_eur_exchange                       1.01        0.98        0.96   \n",
       "global_econ_policy_uncert_index       63.60       58.70       61.32   \n",
       "comp                                4013.49     4410.87     4802.99   \n",
       "copper_futures                         0.85        0.80        0.81   \n",
       "djia                               11281.26    10541.93    10483.39   \n",
       "dxy                                  105.13      105.92      105.44   \n",
       "gold_futures                         286.20      295.40      281.40   \n",
       "spx                                 1425.59     1388.87     1442.21   \n",
       "wti_brent_price_spread                 1.75        1.59        2.36   \n",
       "wti_crack_spread                     153.12      173.90      193.37   \n",
       "brent_crack_spread                   158.37      178.68      200.44   \n",
       "\n",
       "Date                             2000-04-01  2000-05-01  2000-06-01  \\\n",
       "wti_price                             25.72       28.79       31.82   \n",
       "oil_production_opec                   27.52       28.05       27.64   \n",
       "oil_production_nonopec                46.62       46.62       46.78   \n",
       "oil_production_world               75116.13    75639.56    75360.22   \n",
       "henry_hub_ng_price                     3.04        3.59        4.29   \n",
       "oil_production_us                      5.85        5.85        5.82   \n",
       "petrol_consumption_oecd               46.29       47.34       47.96   \n",
       "petrol_consumption_nonoecd            28.13       28.22       28.27   \n",
       "us_cpi                                 1.71        1.71        1.72   \n",
       "us_ppi                                 1.31        1.32        1.32   \n",
       "us_ppi_petroleum                       0.85        0.88        0.97   \n",
       "us_pmi                                93.81       93.88       94.02   \n",
       "crude_oil_inventory_total            936.02      948.33      957.06   \n",
       "crude_oil_inventory_spr              569.41      569.41      568.89   \n",
       "crude_oil_inventory_nonspr           303.83      294.71      290.62   \n",
       "fed_fund_effective                     6.02        6.27        6.53   \n",
       "global_real_econ_activity_index        8.20        4.21        2.97   \n",
       "us_cpi_energy                         59.49       59.64       63.88   \n",
       "eu19_ppi                               4.17        1.92        0.68   \n",
       "usd_eur_exchange                       0.94        0.91        0.95   \n",
       "global_econ_policy_uncert_index       64.55       87.12       88.40   \n",
       "comp                                3863.64     3528.42     3866.42   \n",
       "copper_futures                         0.80        0.82        0.82   \n",
       "djia                               10944.31    10580.27    10582.93   \n",
       "dxy                                  110.14      108.74      106.84   \n",
       "gold_futures                         276.00      274.80      293.00   \n",
       "spx                                 1461.36     1418.48     1461.96   \n",
       "wti_brent_price_spread                 2.96        1.05        2.03   \n",
       "wti_crack_spread                     179.73      190.84      205.53   \n",
       "brent_crack_spread                   188.61      193.99      211.62   \n",
       "\n",
       "Date                             2000-07-01  \n",
       "wti_price                             29.70  \n",
       "oil_production_opec                   27.91  \n",
       "oil_production_nonopec                47.05  \n",
       "oil_production_world               75983.05  \n",
       "henry_hub_ng_price                     3.99  \n",
       "oil_production_us                      5.74  \n",
       "petrol_consumption_oecd               47.25  \n",
       "petrol_consumption_nonoecd            28.54  \n",
       "us_cpi                                 1.73  \n",
       "us_ppi                                 1.33  \n",
       "us_ppi_petroleum                       0.93  \n",
       "us_pmi                                94.09  \n",
       "crude_oil_inventory_total            969.28  \n",
       "crude_oil_inventory_spr              570.35  \n",
       "crude_oil_inventory_nonspr           282.19  \n",
       "fed_fund_effective                     6.54  \n",
       "global_real_econ_activity_index        4.65  \n",
       "us_cpi_energy                         63.92  \n",
       "eu19_ppi                               3.40  \n",
       "usd_eur_exchange                       0.94  \n",
       "global_econ_policy_uncert_index       65.30  \n",
       "comp                                4017.68  \n",
       "copper_futures                         0.88  \n",
       "djia                               10662.81  \n",
       "dxy                                  109.57  \n",
       "gold_futures                         280.20  \n",
       "spx                                 1473.00  \n",
       "wti_brent_price_spread                 1.02  \n",
       "wti_crack_spread                     193.11  \n",
       "brent_crack_spread                   196.15  "
      ]
     },
     "metadata": {},
     "output_type": "display_data"
    }
   ],
   "source": [
    "#cast csv to dataframe\n",
    "df = pd.read_csv(f)\n",
    "\n",
    "#convert 'Date' column to date format\n",
    "df['Date'] = pd.to_datetime(df['Date'], format='%Y-%m-%d', errors=\"raise\")\n",
    "\n",
    "#set Date as index\n",
    "df.set_index('Date', drop=True, inplace=True)\n",
    "\n",
    "#print shape of dataframe\n",
    "print('Shape:',df.shape)\n",
    "\n",
    "#display df head\n",
    "display(df.head(7).round(2).T)"
   ]
  },
  {
   "cell_type": "markdown",
   "id": "c31b40e3",
   "metadata": {},
   "source": [
    "## Pre-process"
   ]
  },
  {
   "cell_type": "markdown",
   "id": "f7878082",
   "metadata": {},
   "source": [
    "#### Custom functions"
   ]
  },
  {
   "cell_type": "code",
   "execution_count": 8,
   "id": "6d9673d5",
   "metadata": {},
   "outputs": [],
   "source": [
    "def get_var_name(variable):\n",
    "    '''This function gets a variable and prints its name'''\n",
    "    globals_dict = globals()\n",
    "\n",
    "    return [var_name for var_name in globals_dict if globals_dict[var_name] is variable]"
   ]
  },
  {
   "cell_type": "code",
   "execution_count": 9,
   "id": "3f0aab60",
   "metadata": {},
   "outputs": [],
   "source": [
    "def count_missing(df):\n",
    "    ''' Count the number of missing values .isnull() in each column well as the percentages \n",
    "    Call pd.concat() to form a single table df with 'count' and '%' columns'''\n",
    "    \n",
    "    missing = pd.concat([df.isnull().sum(), 100 * df.isnull().mean()], axis=1)\n",
    "    missing.columns=['count', '%']\n",
    "    missing = missing.loc[missing['count'] > 0]\n",
    "    missing.sort_values(by='count', ascending = False)\n",
    "    \n",
    "    return missing"
   ]
  },
  {
   "cell_type": "code",
   "execution_count": 10,
   "id": "26583675",
   "metadata": {},
   "outputs": [],
   "source": [
    "def count_over_thershold(li, bounding_limit: tuple):\n",
    "    '''This function gets a list and print how many items are larger than a thersold'''\n",
    "    \n",
    "    #counters\n",
    "    n = len(li)\n",
    "    m = 0    \n",
    "    for i in li:\n",
    "        if i >= bounding_limit[1] or i < bounding_limit[0] :\n",
    "            m +=1\n",
    "    pct = 100.0*m/n\n",
    "    print(f'{pct:1.2f}% of items ({m}/{n}) are out of {bounding_limit}')   "
   ]
  },
  {
   "cell_type": "code",
   "execution_count": 11,
   "id": "4038aee8",
   "metadata": {},
   "outputs": [],
   "source": [
    "def highlight_out_of_range(data, title:str, ylabel, bounding_limit: tuple, figsize = (15, 2)):\n",
    "    '''This functions gets PPS score for target feature and plot a bar plot'''\n",
    "    lower_bound = bounding_limit[0]\n",
    "    upper_bound = bounding_limit[1]\n",
    "    \n",
    "    #Plot the scores for a select feature from PPS Matrix\n",
    "    data= data.sort_values(ascending = False)\n",
    "\n",
    "    #The value > thershold will be show with a different color.\n",
    "    #So, the plot colors will be dynamically set based on the data\n",
    "\n",
    "    #Create and empty list of colors\n",
    "    colors = []\n",
    "\n",
    "    #Set color for ratio values\n",
    "    #Set \"red\" if value is max, otherwise \"blue\" (as default)\n",
    "    for index, value in data.items():\n",
    "        if value >= upper_bound or value <= lower_bound:\n",
    "            colors.append('#f77088') #red for max\n",
    "        else:\n",
    "            colors.append('#66aabb') #blue as default\n",
    "\n",
    "    #set chart size\n",
    "    fig = plt.figure(figsize = figsize)\n",
    "\n",
    "    #Pass the x and height values with color set to bar plotter\n",
    "    plt.bar(data.index,data.values, width = .8, color=colors)\n",
    "\n",
    "    #Rotate the x labels for better visuzlaizarion\n",
    "    plt.xticks(rotation=90)\n",
    "\n",
    "    #Set labels\n",
    "    plt.ylabel(ylabel)\n",
    "    plt.title(title)\n",
    "    plt.ylim([round(lower_bound), round(upper_bound)])\n",
    "    plt.grid(color = 'gray', linestyle = '--', linewidth = 0.4)\n",
    "    \n",
    "    #Add axis lines\n",
    "    #plt.axvline(x=0, c='k', ls='-', alpha=0.8)\n",
    "    plt.axhline(y=0, c='gray', ls='-', alpha=0.8)\n",
    "\n",
    "    #print number of values out of limits\n",
    "    count_over_thershold(data, bounding_limit)\n",
    "\n",
    "    #save the file\n",
    "    plt.savefig(ylabel +'.png', dpi=300, bbox_inches = 'tight')\n",
    "    \n",
    "    #Show the plot\n",
    "    plt.show()\n"
   ]
  },
  {
   "cell_type": "code",
   "execution_count": 12,
   "id": "424d7173",
   "metadata": {},
   "outputs": [],
   "source": [
    "def target_corr_coeff(df, feature):\n",
    "    \n",
    "    # Compute the correlation matrix\n",
    "    corr = df.corr()\n",
    "    y_scores = corr[feature]\n",
    "    \n",
    "    y_scores.drop(TARGET_FEATURE, inplace = True)\n",
    "    \n",
    "    return y_scores"
   ]
  },
  {
   "cell_type": "code",
   "execution_count": 13,
   "id": "361211f9",
   "metadata": {},
   "outputs": [],
   "source": [
    "def target_pps_score(df, feature):\n",
    "    # Compute the PPS matrix\n",
    "    matrix = pps.matrix(df)\n",
    "    matrix_pps = matrix[['x', 'y', 'ppscore']].pivot(columns='x', index='y', values='ppscore')\n",
    "    y_scores = matrix_pps[feature]\n",
    "    \n",
    "    y_scores.drop(TARGET_FEATURE, inplace = True)\n",
    "    \n",
    "    return y_scores"
   ]
  },
  {
   "cell_type": "markdown",
   "id": "05eb78b4",
   "metadata": {},
   "source": [
    "### Generate n-month future price data "
   ]
  },
  {
   "cell_type": "code",
   "execution_count": 14,
   "id": "8457acdf",
   "metadata": {
    "scrolled": false
   },
   "outputs": [
    {
     "data": {
      "text/html": [
       "<div>\n",
       "<style scoped>\n",
       "    .dataframe tbody tr th:only-of-type {\n",
       "        vertical-align: middle;\n",
       "    }\n",
       "\n",
       "    .dataframe tbody tr th {\n",
       "        vertical-align: top;\n",
       "    }\n",
       "\n",
       "    .dataframe thead th {\n",
       "        text-align: right;\n",
       "    }\n",
       "</style>\n",
       "<table border=\"1\" class=\"dataframe\">\n",
       "  <thead>\n",
       "    <tr style=\"text-align: right;\">\n",
       "      <th></th>\n",
       "      <th>wti_price</th>\n",
       "      <th>oil_production_opec</th>\n",
       "      <th>oil_production_nonopec</th>\n",
       "      <th>oil_production_world</th>\n",
       "      <th>henry_hub_ng_price</th>\n",
       "      <th>oil_production_us</th>\n",
       "      <th>petrol_consumption_oecd</th>\n",
       "      <th>petrol_consumption_nonoecd</th>\n",
       "      <th>us_cpi</th>\n",
       "      <th>us_ppi</th>\n",
       "      <th>...</th>\n",
       "      <th>global_econ_policy_uncert_index</th>\n",
       "      <th>comp</th>\n",
       "      <th>copper_futures</th>\n",
       "      <th>djia</th>\n",
       "      <th>dxy</th>\n",
       "      <th>gold_futures</th>\n",
       "      <th>spx</th>\n",
       "      <th>wti_brent_price_spread</th>\n",
       "      <th>wti_crack_spread</th>\n",
       "      <th>brent_crack_spread</th>\n",
       "    </tr>\n",
       "    <tr>\n",
       "      <th>Date</th>\n",
       "      <th></th>\n",
       "      <th></th>\n",
       "      <th></th>\n",
       "      <th></th>\n",
       "      <th></th>\n",
       "      <th></th>\n",
       "      <th></th>\n",
       "      <th></th>\n",
       "      <th></th>\n",
       "      <th></th>\n",
       "      <th></th>\n",
       "      <th></th>\n",
       "      <th></th>\n",
       "      <th></th>\n",
       "      <th></th>\n",
       "      <th></th>\n",
       "      <th></th>\n",
       "      <th></th>\n",
       "      <th></th>\n",
       "      <th></th>\n",
       "      <th></th>\n",
       "    </tr>\n",
       "  </thead>\n",
       "  <tbody>\n",
       "    <tr>\n",
       "      <th>2021-07-01</th>\n",
       "      <td>67.73</td>\n",
       "      <td>26.720000</td>\n",
       "      <td>64.862768</td>\n",
       "      <td>94719.485919</td>\n",
       "      <td>3.84</td>\n",
       "      <td>11.346986</td>\n",
       "      <td>45.655767</td>\n",
       "      <td>52.787012</td>\n",
       "      <td>2.72184</td>\n",
       "      <td>2.304027</td>\n",
       "      <td>...</td>\n",
       "      <td>203.423906</td>\n",
       "      <td>14639.072857</td>\n",
       "      <td>4.4655</td>\n",
       "      <td>34798.804286</td>\n",
       "      <td>92.17</td>\n",
       "      <td>1814.5</td>\n",
       "      <td>4363.712857</td>\n",
       "      <td>-2.68</td>\n",
       "      <td>468.1300</td>\n",
       "      <td>460.0900</td>\n",
       "    </tr>\n",
       "    <tr>\n",
       "      <th>2021-08-01</th>\n",
       "      <td>71.65</td>\n",
       "      <td>26.705000</td>\n",
       "      <td>64.338609</td>\n",
       "      <td>94237.671610</td>\n",
       "      <td>4.07</td>\n",
       "      <td>11.277405</td>\n",
       "      <td>45.816650</td>\n",
       "      <td>52.220958</td>\n",
       "      <td>2.73092</td>\n",
       "      <td>2.334078</td>\n",
       "      <td>...</td>\n",
       "      <td>213.007581</td>\n",
       "      <td>14856.517727</td>\n",
       "      <td>4.3700</td>\n",
       "      <td>35243.965455</td>\n",
       "      <td>92.63</td>\n",
       "      <td>1816.9</td>\n",
       "      <td>4454.206364</td>\n",
       "      <td>-3.02</td>\n",
       "      <td>471.8100</td>\n",
       "      <td>462.7500</td>\n",
       "    </tr>\n",
       "    <tr>\n",
       "      <th>2021-09-01</th>\n",
       "      <td>81.48</td>\n",
       "      <td>27.105000</td>\n",
       "      <td>64.156378</td>\n",
       "      <td>94516.549988</td>\n",
       "      <td>5.16</td>\n",
       "      <td>10.917534</td>\n",
       "      <td>46.135298</td>\n",
       "      <td>53.185308</td>\n",
       "      <td>2.74214</td>\n",
       "      <td>2.363054</td>\n",
       "      <td>...</td>\n",
       "      <td>202.797704</td>\n",
       "      <td>15023.538571</td>\n",
       "      <td>4.0890</td>\n",
       "      <td>34688.421429</td>\n",
       "      <td>94.23</td>\n",
       "      <td>1757.0</td>\n",
       "      <td>4445.543333</td>\n",
       "      <td>-2.84</td>\n",
       "      <td>471.0500</td>\n",
       "      <td>462.5300</td>\n",
       "    </tr>\n",
       "    <tr>\n",
       "      <th>2021-10-01</th>\n",
       "      <td>79.15</td>\n",
       "      <td>27.375000</td>\n",
       "      <td>65.239284</td>\n",
       "      <td>95800.424454</td>\n",
       "      <td>5.51</td>\n",
       "      <td>11.568579</td>\n",
       "      <td>46.222772</td>\n",
       "      <td>52.798628</td>\n",
       "      <td>2.76590</td>\n",
       "      <td>2.385176</td>\n",
       "      <td>...</td>\n",
       "      <td>193.205196</td>\n",
       "      <td>14879.012381</td>\n",
       "      <td>4.3590</td>\n",
       "      <td>35055.518095</td>\n",
       "      <td>94.12</td>\n",
       "      <td>1784.9</td>\n",
       "      <td>4460.707143</td>\n",
       "      <td>-2.06</td>\n",
       "      <td>504.7600</td>\n",
       "      <td>498.5800</td>\n",
       "    </tr>\n",
       "    <tr>\n",
       "      <th>2021-11-01</th>\n",
       "      <td>71.71</td>\n",
       "      <td>27.755000</td>\n",
       "      <td>65.584803</td>\n",
       "      <td>96440.588384</td>\n",
       "      <td>5.05</td>\n",
       "      <td>11.790052</td>\n",
       "      <td>46.753051</td>\n",
       "      <td>53.381337</td>\n",
       "      <td>2.78524</td>\n",
       "      <td>2.416337</td>\n",
       "      <td>...</td>\n",
       "      <td>225.540047</td>\n",
       "      <td>15814.932857</td>\n",
       "      <td>4.2805</td>\n",
       "      <td>35848.570952</td>\n",
       "      <td>95.99</td>\n",
       "      <td>1776.5</td>\n",
       "      <td>4667.386667</td>\n",
       "      <td>-1.90</td>\n",
       "      <td>504.7500</td>\n",
       "      <td>499.0500</td>\n",
       "    </tr>\n",
       "    <tr>\n",
       "      <th>2021-12-01</th>\n",
       "      <td>83.22</td>\n",
       "      <td>27.870000</td>\n",
       "      <td>64.875859</td>\n",
       "      <td>95872.930275</td>\n",
       "      <td>3.76</td>\n",
       "      <td>11.634403</td>\n",
       "      <td>47.684257</td>\n",
       "      <td>54.263432</td>\n",
       "      <td>2.80126</td>\n",
       "      <td>2.450757</td>\n",
       "      <td>...</td>\n",
       "      <td>263.150452</td>\n",
       "      <td>15474.431818</td>\n",
       "      <td>4.4635</td>\n",
       "      <td>35641.334091</td>\n",
       "      <td>95.97</td>\n",
       "      <td>1829.7</td>\n",
       "      <td>4674.772727</td>\n",
       "      <td>-2.46</td>\n",
       "      <td>472.9700</td>\n",
       "      <td>465.5900</td>\n",
       "    </tr>\n",
       "    <tr>\n",
       "      <th>2022-01-01</th>\n",
       "      <td>91.64</td>\n",
       "      <td>27.820000</td>\n",
       "      <td>64.632537</td>\n",
       "      <td>95815.453812</td>\n",
       "      <td>4.38</td>\n",
       "      <td>11.369338</td>\n",
       "      <td>44.630901</td>\n",
       "      <td>53.088229</td>\n",
       "      <td>2.81933</td>\n",
       "      <td>2.479733</td>\n",
       "      <td>...</td>\n",
       "      <td>232.732585</td>\n",
       "      <td>14531.377500</td>\n",
       "      <td>4.3265</td>\n",
       "      <td>35456.145000</td>\n",
       "      <td>96.54</td>\n",
       "      <td>1796.4</td>\n",
       "      <td>4573.815500</td>\n",
       "      <td>-3.29</td>\n",
       "      <td>489.9400</td>\n",
       "      <td>480.0700</td>\n",
       "    </tr>\n",
       "    <tr>\n",
       "      <th>2022-02-01</th>\n",
       "      <td>108.50</td>\n",
       "      <td>28.575000</td>\n",
       "      <td>64.870295</td>\n",
       "      <td>96802.295297</td>\n",
       "      <td>4.69</td>\n",
       "      <td>11.316119</td>\n",
       "      <td>46.754383</td>\n",
       "      <td>54.103039</td>\n",
       "      <td>2.84182</td>\n",
       "      <td>2.527202</td>\n",
       "      <td>...</td>\n",
       "      <td>189.550345</td>\n",
       "      <td>13898.728421</td>\n",
       "      <td>4.4545</td>\n",
       "      <td>34648.480526</td>\n",
       "      <td>96.71</td>\n",
       "      <td>1902.2</td>\n",
       "      <td>4435.980526</td>\n",
       "      <td>-5.49</td>\n",
       "      <td>535.8800</td>\n",
       "      <td>519.4100</td>\n",
       "    </tr>\n",
       "    <tr>\n",
       "      <th>2022-03-01</th>\n",
       "      <td>101.78</td>\n",
       "      <td>28.215000</td>\n",
       "      <td>65.728434</td>\n",
       "      <td>97207.699165</td>\n",
       "      <td>4.90</td>\n",
       "      <td>11.700795</td>\n",
       "      <td>46.236201</td>\n",
       "      <td>52.720855</td>\n",
       "      <td>2.87708</td>\n",
       "      <td>2.584460</td>\n",
       "      <td>...</td>\n",
       "      <td>330.526688</td>\n",
       "      <td>13623.263043</td>\n",
       "      <td>4.7520</td>\n",
       "      <td>34029.740435</td>\n",
       "      <td>98.31</td>\n",
       "      <td>1954.0</td>\n",
       "      <td>4391.265217</td>\n",
       "      <td>-8.75</td>\n",
       "      <td>679.1000</td>\n",
       "      <td>652.8500</td>\n",
       "    </tr>\n",
       "    <tr>\n",
       "      <th>2022-04-01</th>\n",
       "      <td>109.55</td>\n",
       "      <td>28.590000</td>\n",
       "      <td>64.607957</td>\n",
       "      <td>96315.849567</td>\n",
       "      <td>6.60</td>\n",
       "      <td>11.668387</td>\n",
       "      <td>44.756044</td>\n",
       "      <td>52.871365</td>\n",
       "      <td>2.88663</td>\n",
       "      <td>2.699524</td>\n",
       "      <td>...</td>\n",
       "      <td>291.260353</td>\n",
       "      <td>13394.163000</td>\n",
       "      <td>4.4085</td>\n",
       "      <td>34314.990000</td>\n",
       "      <td>102.96</td>\n",
       "      <td>1915.1</td>\n",
       "      <td>4391.296000</td>\n",
       "      <td>-2.80</td>\n",
       "      <td>742.4104</td>\n",
       "      <td>734.0104</td>\n",
       "    </tr>\n",
       "    <tr>\n",
       "      <th>2022-05-01</th>\n",
       "      <td>114.84</td>\n",
       "      <td>28.104654</td>\n",
       "      <td>65.006710</td>\n",
       "      <td>96187.156216</td>\n",
       "      <td>8.14</td>\n",
       "      <td>11.629127</td>\n",
       "      <td>45.168591</td>\n",
       "      <td>53.558858</td>\n",
       "      <td>2.91474</td>\n",
       "      <td>2.740345</td>\n",
       "      <td>...</td>\n",
       "      <td>288.911311</td>\n",
       "      <td>11829.729524</td>\n",
       "      <td>4.2990</td>\n",
       "      <td>32379.462857</td>\n",
       "      <td>101.75</td>\n",
       "      <td>1848.4</td>\n",
       "      <td>4040.360000</td>\n",
       "      <td>-3.83</td>\n",
       "      <td>867.2606</td>\n",
       "      <td>855.7706</td>\n",
       "    </tr>\n",
       "    <tr>\n",
       "      <th>2022-06-01</th>\n",
       "      <td>101.62</td>\n",
       "      <td>28.300000</td>\n",
       "      <td>65.336898</td>\n",
       "      <td>96698.963090</td>\n",
       "      <td>7.70</td>\n",
       "      <td>11.797257</td>\n",
       "      <td>46.465144</td>\n",
       "      <td>54.317937</td>\n",
       "      <td>2.95328</td>\n",
       "      <td>2.754941</td>\n",
       "      <td>...</td>\n",
       "      <td>268.762066</td>\n",
       "      <td>11418.919048</td>\n",
       "      <td>3.7100</td>\n",
       "      <td>31446.712857</td>\n",
       "      <td>104.68</td>\n",
       "      <td>1812.0</td>\n",
       "      <td>3898.946667</td>\n",
       "      <td>-7.87</td>\n",
       "      <td>915.2802</td>\n",
       "      <td>891.6702</td>\n",
       "    </tr>\n",
       "    <tr>\n",
       "      <th>2022-07-01</th>\n",
       "      <td>NaN</td>\n",
       "      <td>28.520000</td>\n",
       "      <td>66.309113</td>\n",
       "      <td>97876.710548</td>\n",
       "      <td>7.28</td>\n",
       "      <td>11.873462</td>\n",
       "      <td>46.428294</td>\n",
       "      <td>53.889090</td>\n",
       "      <td>2.95271</td>\n",
       "      <td>2.713665</td>\n",
       "      <td>...</td>\n",
       "      <td>312.428051</td>\n",
       "      <td>11622.631500</td>\n",
       "      <td>3.5750</td>\n",
       "      <td>31535.323500</td>\n",
       "      <td>106.00</td>\n",
       "      <td>1771.5</td>\n",
       "      <td>3911.729500</td>\n",
       "      <td>-10.31</td>\n",
       "      <td>739.4635</td>\n",
       "      <td>708.5335</td>\n",
       "    </tr>\n",
       "  </tbody>\n",
       "</table>\n",
       "<p>13 rows × 30 columns</p>\n",
       "</div>"
      ],
      "text/plain": [
       "            wti_price  oil_production_opec  oil_production_nonopec  \\\n",
       "Date                                                                 \n",
       "2021-07-01      67.73            26.720000               64.862768   \n",
       "2021-08-01      71.65            26.705000               64.338609   \n",
       "2021-09-01      81.48            27.105000               64.156378   \n",
       "2021-10-01      79.15            27.375000               65.239284   \n",
       "2021-11-01      71.71            27.755000               65.584803   \n",
       "2021-12-01      83.22            27.870000               64.875859   \n",
       "2022-01-01      91.64            27.820000               64.632537   \n",
       "2022-02-01     108.50            28.575000               64.870295   \n",
       "2022-03-01     101.78            28.215000               65.728434   \n",
       "2022-04-01     109.55            28.590000               64.607957   \n",
       "2022-05-01     114.84            28.104654               65.006710   \n",
       "2022-06-01     101.62            28.300000               65.336898   \n",
       "2022-07-01        NaN            28.520000               66.309113   \n",
       "\n",
       "            oil_production_world  henry_hub_ng_price  oil_production_us  \\\n",
       "Date                                                                      \n",
       "2021-07-01          94719.485919                3.84          11.346986   \n",
       "2021-08-01          94237.671610                4.07          11.277405   \n",
       "2021-09-01          94516.549988                5.16          10.917534   \n",
       "2021-10-01          95800.424454                5.51          11.568579   \n",
       "2021-11-01          96440.588384                5.05          11.790052   \n",
       "2021-12-01          95872.930275                3.76          11.634403   \n",
       "2022-01-01          95815.453812                4.38          11.369338   \n",
       "2022-02-01          96802.295297                4.69          11.316119   \n",
       "2022-03-01          97207.699165                4.90          11.700795   \n",
       "2022-04-01          96315.849567                6.60          11.668387   \n",
       "2022-05-01          96187.156216                8.14          11.629127   \n",
       "2022-06-01          96698.963090                7.70          11.797257   \n",
       "2022-07-01          97876.710548                7.28          11.873462   \n",
       "\n",
       "            petrol_consumption_oecd  petrol_consumption_nonoecd   us_cpi  \\\n",
       "Date                                                                       \n",
       "2021-07-01                45.655767                   52.787012  2.72184   \n",
       "2021-08-01                45.816650                   52.220958  2.73092   \n",
       "2021-09-01                46.135298                   53.185308  2.74214   \n",
       "2021-10-01                46.222772                   52.798628  2.76590   \n",
       "2021-11-01                46.753051                   53.381337  2.78524   \n",
       "2021-12-01                47.684257                   54.263432  2.80126   \n",
       "2022-01-01                44.630901                   53.088229  2.81933   \n",
       "2022-02-01                46.754383                   54.103039  2.84182   \n",
       "2022-03-01                46.236201                   52.720855  2.87708   \n",
       "2022-04-01                44.756044                   52.871365  2.88663   \n",
       "2022-05-01                45.168591                   53.558858  2.91474   \n",
       "2022-06-01                46.465144                   54.317937  2.95328   \n",
       "2022-07-01                46.428294                   53.889090  2.95271   \n",
       "\n",
       "              us_ppi  ...  global_econ_policy_uncert_index          comp  \\\n",
       "Date                  ...                                                  \n",
       "2021-07-01  2.304027  ...                       203.423906  14639.072857   \n",
       "2021-08-01  2.334078  ...                       213.007581  14856.517727   \n",
       "2021-09-01  2.363054  ...                       202.797704  15023.538571   \n",
       "2021-10-01  2.385176  ...                       193.205196  14879.012381   \n",
       "2021-11-01  2.416337  ...                       225.540047  15814.932857   \n",
       "2021-12-01  2.450757  ...                       263.150452  15474.431818   \n",
       "2022-01-01  2.479733  ...                       232.732585  14531.377500   \n",
       "2022-02-01  2.527202  ...                       189.550345  13898.728421   \n",
       "2022-03-01  2.584460  ...                       330.526688  13623.263043   \n",
       "2022-04-01  2.699524  ...                       291.260353  13394.163000   \n",
       "2022-05-01  2.740345  ...                       288.911311  11829.729524   \n",
       "2022-06-01  2.754941  ...                       268.762066  11418.919048   \n",
       "2022-07-01  2.713665  ...                       312.428051  11622.631500   \n",
       "\n",
       "            copper_futures          djia     dxy  gold_futures          spx  \\\n",
       "Date                                                                          \n",
       "2021-07-01          4.4655  34798.804286   92.17        1814.5  4363.712857   \n",
       "2021-08-01          4.3700  35243.965455   92.63        1816.9  4454.206364   \n",
       "2021-09-01          4.0890  34688.421429   94.23        1757.0  4445.543333   \n",
       "2021-10-01          4.3590  35055.518095   94.12        1784.9  4460.707143   \n",
       "2021-11-01          4.2805  35848.570952   95.99        1776.5  4667.386667   \n",
       "2021-12-01          4.4635  35641.334091   95.97        1829.7  4674.772727   \n",
       "2022-01-01          4.3265  35456.145000   96.54        1796.4  4573.815500   \n",
       "2022-02-01          4.4545  34648.480526   96.71        1902.2  4435.980526   \n",
       "2022-03-01          4.7520  34029.740435   98.31        1954.0  4391.265217   \n",
       "2022-04-01          4.4085  34314.990000  102.96        1915.1  4391.296000   \n",
       "2022-05-01          4.2990  32379.462857  101.75        1848.4  4040.360000   \n",
       "2022-06-01          3.7100  31446.712857  104.68        1812.0  3898.946667   \n",
       "2022-07-01          3.5750  31535.323500  106.00        1771.5  3911.729500   \n",
       "\n",
       "            wti_brent_price_spread  wti_crack_spread  brent_crack_spread  \n",
       "Date                                                                      \n",
       "2021-07-01                   -2.68          468.1300            460.0900  \n",
       "2021-08-01                   -3.02          471.8100            462.7500  \n",
       "2021-09-01                   -2.84          471.0500            462.5300  \n",
       "2021-10-01                   -2.06          504.7600            498.5800  \n",
       "2021-11-01                   -1.90          504.7500            499.0500  \n",
       "2021-12-01                   -2.46          472.9700            465.5900  \n",
       "2022-01-01                   -3.29          489.9400            480.0700  \n",
       "2022-02-01                   -5.49          535.8800            519.4100  \n",
       "2022-03-01                   -8.75          679.1000            652.8500  \n",
       "2022-04-01                   -2.80          742.4104            734.0104  \n",
       "2022-05-01                   -3.83          867.2606            855.7706  \n",
       "2022-06-01                   -7.87          915.2802            891.6702  \n",
       "2022-07-01                  -10.31          739.4635            708.5335  \n",
       "\n",
       "[13 rows x 30 columns]"
      ]
     },
     "metadata": {},
     "output_type": "display_data"
    }
   ],
   "source": [
    "#Make a copy of dataframe\n",
    "df_new = df.copy()\n",
    "\n",
    "#Shift by n-month\n",
    "df_new[TARGET_FEATURE] = df_new[TARGET_FEATURE].shift(-N_MONTH)\n",
    "\n",
    "#print tail of 1,2,3,6-month future dataframes\n",
    "display(df_new.tail(13))"
   ]
  },
  {
   "cell_type": "markdown",
   "id": "d40447db",
   "metadata": {},
   "source": [
    "### Handle Missing Values"
   ]
  },
  {
   "cell_type": "markdown",
   "id": "a5a1c34b",
   "metadata": {},
   "source": [
    "#### Print missing values"
   ]
  },
  {
   "cell_type": "code",
   "execution_count": 15,
   "id": "dd2f9f8d",
   "metadata": {},
   "outputs": [
    {
     "data": {
      "text/html": [
       "<div>\n",
       "<style scoped>\n",
       "    .dataframe tbody tr th:only-of-type {\n",
       "        vertical-align: middle;\n",
       "    }\n",
       "\n",
       "    .dataframe tbody tr th {\n",
       "        vertical-align: top;\n",
       "    }\n",
       "\n",
       "    .dataframe thead th {\n",
       "        text-align: right;\n",
       "    }\n",
       "</style>\n",
       "<table border=\"1\" class=\"dataframe\">\n",
       "  <thead>\n",
       "    <tr style=\"text-align: right;\">\n",
       "      <th></th>\n",
       "      <th>count</th>\n",
       "      <th>%</th>\n",
       "    </tr>\n",
       "  </thead>\n",
       "  <tbody>\n",
       "    <tr>\n",
       "      <th>wti_price</th>\n",
       "      <td>1</td>\n",
       "      <td>0.369004</td>\n",
       "    </tr>\n",
       "  </tbody>\n",
       "</table>\n",
       "</div>"
      ],
      "text/plain": [
       "           count         %\n",
       "wti_price      1  0.369004"
      ]
     },
     "execution_count": 15,
     "metadata": {},
     "output_type": "execute_result"
    }
   ],
   "source": [
    "count_missing(df_new)"
   ]
  },
  {
   "cell_type": "markdown",
   "id": "81bb62a4",
   "metadata": {},
   "source": [
    "#### Impute missing values"
   ]
  },
  {
   "cell_type": "code",
   "execution_count": 16,
   "id": "484a18a0",
   "metadata": {},
   "outputs": [
    {
     "name": "stdout",
     "output_type": "stream",
     "text": [
      "Before: (271, 30)\n",
      "After: (270, 30)\n"
     ]
    }
   ],
   "source": [
    "dropped_row = df_new.dropna(axis = 0, inplace = False)\n",
    "print('Before:', df_new.shape)\n",
    "print('After:', dropped_row.shape)"
   ]
  },
  {
   "cell_type": "markdown",
   "id": "f125a340",
   "metadata": {},
   "source": [
    "### Final Dataset"
   ]
  },
  {
   "cell_type": "code",
   "execution_count": 17,
   "id": "78f5868a",
   "metadata": {},
   "outputs": [],
   "source": [
    "df = dropped_row.copy()"
   ]
  },
  {
   "cell_type": "markdown",
   "id": "4adedc6e",
   "metadata": {},
   "source": [
    "## EDA n-month future"
   ]
  },
  {
   "cell_type": "markdown",
   "id": "ba406558",
   "metadata": {},
   "source": [
    "### Associations with target feature"
   ]
  },
  {
   "cell_type": "markdown",
   "id": "21b1dea1",
   "metadata": {},
   "source": [
    "#### High Correlation Coeff"
   ]
  },
  {
   "cell_type": "code",
   "execution_count": 18,
   "id": "762a274e",
   "metadata": {
    "scrolled": false
   },
   "outputs": [
    {
     "name": "stdout",
     "output_type": "stream",
     "text": [
      "27.59% of items (8/29) are out of (-0.6, 0.6)\n"
     ]
    },
    {
     "data": {
      "image/png": "[encoded data removed]",
      "text/plain": [
       "<Figure size 1200x250 with 1 Axes>"
      ]
     },
     "metadata": {},
     "output_type": "display_data"
    }
   ],
   "source": [
    "wti_corr_coeff = target_corr_coeff(df, TARGET_FEATURE)\n",
    "\n",
    "highlight_out_of_range(data = wti_corr_coeff,\n",
    "                       title = model_name,\n",
    "                       ylabel = 'Correlation Coefficients',\n",
    "                       bounding_limit = (-0.6,0.6),\n",
    "                       figsize = (12, 2.5))"
   ]
  },
  {
   "cell_type": "markdown",
   "id": "10b082fd",
   "metadata": {},
   "source": [
    "#### High PPS Score"
   ]
  },
  {
   "cell_type": "code",
   "execution_count": 19,
   "id": "d6be85f3",
   "metadata": {
    "scrolled": false
   },
   "outputs": [
    {
     "name": "stdout",
     "output_type": "stream",
     "text": [
      "0.00% of items (0/29) are out of (0, 0.6)\n"
     ]
    },
    {
     "data": {
      "image/png": "[encoded data removed]",
      "text/plain": [
       "<Figure size 700x200 with 1 Axes>"
      ]
     },
     "metadata": {},
     "output_type": "display_data"
    }
   ],
   "source": [
    "wti_pps_score = target_pps_score(df, TARGET_FEATURE)\n",
    "\n",
    "highlight_out_of_range(data = wti_pps_score,\n",
    "                       title = model_name,\n",
    "                       ylabel = 'PPS',\n",
    "                       bounding_limit = (0,0.6),\n",
    "                       figsize = (7, 2))"
   ]
  },
  {
   "cell_type": "markdown",
   "id": "45ea3891",
   "metadata": {},
   "source": [
    "## Train/Test Split"
   ]
  },
  {
   "cell_type": "code",
   "execution_count": 20,
   "id": "6e42acf7",
   "metadata": {},
   "outputs": [
    {
     "name": "stdout",
     "output_type": "stream",
     "text": [
      "189.0\n",
      "81.0\n"
     ]
    }
   ],
   "source": [
    "#expected 70-30 split sizes\n",
    "print(round(len(df) * 0.7, 0))\n",
    "print(round(len(df) * 0.3, 0))"
   ]
  },
  {
   "cell_type": "code",
   "execution_count": 21,
   "id": "fa9a8bac",
   "metadata": {},
   "outputs": [
    {
     "data": {
      "text/plain": [
       "'regression_model_1m'"
      ]
     },
     "execution_count": 21,
     "metadata": {},
     "output_type": "execute_result"
    }
   ],
   "source": [
    "model_name"
   ]
  },
  {
   "cell_type": "code",
   "execution_count": 22,
   "id": "61a89b83",
   "metadata": {},
   "outputs": [],
   "source": [
    "#split data to 70$ train and 30% test sets\n",
    "#... = train_test_split(X, y, test_size, random_state)\n",
    "X_train, X_test, y_train, y_test = train_test_split(df.drop(columns=TARGET_FEATURE),\n",
    "                                                    df[TARGET_FEATURE], test_size=0.3,\n",
    "                                                    random_state=47)"
   ]
  },
  {
   "cell_type": "code",
   "execution_count": 23,
   "id": "91c0ad34",
   "metadata": {},
   "outputs": [
    {
     "name": "stdout",
     "output_type": "stream",
     "text": [
      "(X_train, X_test):\n",
      " (189, 29) (81, 29)\n",
      "\n",
      "(y_train, y_test):\n",
      " (189,) (81,)\n"
     ]
    }
   ],
   "source": [
    "print('(X_train, X_test):\\n',X_train.shape, X_test.shape)\n",
    "print('\\n(y_train, y_test):\\n',y_train.shape, y_test.shape)"
   ]
  },
  {
   "cell_type": "markdown",
   "id": "1aaa1042",
   "metadata": {},
   "source": [
    "### Imputing missing feature (predictor) values\n",
    "Impute missing values using scikit-learn. Learn values to impute from a train split and apply that to the test split."
   ]
  },
  {
   "cell_type": "code",
   "execution_count": 24,
   "id": "72c60cde",
   "metadata": {},
   "outputs": [
    {
     "data": {
      "text/html": [
       "<div>\n",
       "<style scoped>\n",
       "    .dataframe tbody tr th:only-of-type {\n",
       "        vertical-align: middle;\n",
       "    }\n",
       "\n",
       "    .dataframe tbody tr th {\n",
       "        vertical-align: top;\n",
       "    }\n",
       "\n",
       "    .dataframe thead th {\n",
       "        text-align: right;\n",
       "    }\n",
       "</style>\n",
       "<table border=\"1\" class=\"dataframe\">\n",
       "  <thead>\n",
       "    <tr style=\"text-align: right;\">\n",
       "      <th></th>\n",
       "      <th>count</th>\n",
       "      <th>%</th>\n",
       "    </tr>\n",
       "  </thead>\n",
       "  <tbody>\n",
       "  </tbody>\n",
       "</table>\n",
       "</div>"
      ],
      "text/plain": [
       "Empty DataFrame\n",
       "Columns: [count, %]\n",
       "Index: []"
      ]
     },
     "metadata": {},
     "output_type": "display_data"
    }
   ],
   "source": [
    "display(count_missing(X_train))"
   ]
  },
  {
   "cell_type": "code",
   "execution_count": 25,
   "id": "67f1998d",
   "metadata": {
    "scrolled": true
   },
   "outputs": [
    {
     "data": {
      "text/html": [
       "<div>\n",
       "<style scoped>\n",
       "    .dataframe tbody tr th:only-of-type {\n",
       "        vertical-align: middle;\n",
       "    }\n",
       "\n",
       "    .dataframe tbody tr th {\n",
       "        vertical-align: top;\n",
       "    }\n",
       "\n",
       "    .dataframe thead th {\n",
       "        text-align: right;\n",
       "    }\n",
       "</style>\n",
       "<table border=\"1\" class=\"dataframe\">\n",
       "  <thead>\n",
       "    <tr style=\"text-align: right;\">\n",
       "      <th></th>\n",
       "      <th>count</th>\n",
       "      <th>%</th>\n",
       "    </tr>\n",
       "  </thead>\n",
       "  <tbody>\n",
       "  </tbody>\n",
       "</table>\n",
       "</div>"
      ],
      "text/plain": [
       "Empty DataFrame\n",
       "Columns: [count, %]\n",
       "Index: []"
      ]
     },
     "metadata": {},
     "output_type": "display_data"
    }
   ],
   "source": [
    "display(count_missing(X_test))"
   ]
  },
  {
   "cell_type": "code",
   "execution_count": 26,
   "id": "483568b5",
   "metadata": {},
   "outputs": [],
   "source": [
    "#No missing data\n",
    "X_tr = X_train.copy()\n",
    "X_te = X_test.copy()"
   ]
  },
  {
   "cell_type": "markdown",
   "id": "fb936e1e",
   "metadata": {},
   "source": [
    "### Scale Data"
   ]
  },
  {
   "cell_type": "code",
   "execution_count": 27,
   "id": "1e6ef450",
   "metadata": {},
   "outputs": [],
   "source": [
    "def scale_train_test_dataframes(X_tr, X_te):\n",
    "    '''This function gets a dataframe and normalized columns and return a new data frame'''\n",
    "    \n",
    "    #store column names\n",
    "    names = X_tr.columns\n",
    "    \n",
    "    from sklearn.preprocessing import StandardScaler\n",
    "\n",
    "    #Call the StandardScaler`s fit method on `X_tr` to fit the scaler\n",
    "    #then use it's `transform()` method to apply the scaling to both the train and test split\n",
    "    #data (`X_tr` and `X_te`), naming the results `X_tr_scaled` and `X_te_scaled`, respectively\n",
    "\n",
    "    scaler = StandardScaler()\n",
    "    \n",
    "    #scale data using sklearn preprocessing module\n",
    "    scaler.fit(X_tr)\n",
    "    \n",
    "    X_tr_scaled = scaler.transform(X_tr)\n",
    "    \n",
    "    X_te_scaled = scaler.transform(X_te)\n",
    "\n",
    "    #create new df using scaled data\n",
    "    X_tr_scaled_df = pd.DataFrame(X_tr_scaled, columns=names)\n",
    "    X_te_scaled_df = pd.DataFrame(X_te_scaled, columns=names)\n",
    "\n",
    "    #set index\n",
    "    X_tr_scaled_df.set_index(X_tr.index, drop=True, inplace=True)\n",
    "    X_te_scaled_df.set_index(X_te.index, drop=True, inplace=True)\n",
    "\n",
    "    #return scaled dataframe\n",
    "    return X_tr_scaled_df, X_te_scaled_df"
   ]
  },
  {
   "cell_type": "code",
   "execution_count": 28,
   "id": "9c15d24d",
   "metadata": {},
   "outputs": [],
   "source": [
    "X_tr_scaled, X_te_scaled_df = scale_train_test_dataframes(X_tr, X_te)"
   ]
  },
  {
   "cell_type": "markdown",
   "id": "671e509f",
   "metadata": {},
   "source": [
    "#### Plot scaled data"
   ]
  },
  {
   "cell_type": "code",
   "execution_count": 29,
   "id": "32b8c678",
   "metadata": {
    "scrolled": false
   },
   "outputs": [
    {
     "data": {
      "image/png": "[encoded data removed]",
      "text/plain": [
       "<Figure size 1500x1500 with 30 Axes>"
      ]
     },
     "metadata": {},
     "output_type": "display_data"
    }
   ],
   "source": [
    "#Plot histogram of all  features\n",
    "#Call plt.subplots_adjust() with an argument hspace=0.5 to adjust the spacing\n",
    "#It's important you create legible and easy-to-read plots\n",
    "X_tr_scaled.hist(bins = 12, figsize=(15,15))\n",
    "plt.subplots_adjust(hspace=0.5);"
   ]
  },
  {
   "cell_type": "code",
   "execution_count": 30,
   "id": "cdfee39b",
   "metadata": {},
   "outputs": [
    {
     "data": {
      "image/png": "[encoded data removed]",
      "text/plain": [
       "<Figure size 700x900 with 1 Axes>"
      ]
     },
     "metadata": {},
     "output_type": "display_data"
    }
   ],
   "source": [
    "fig, ax = plt.subplots(figsize=(7,9))\n",
    "\n",
    "sns.boxplot(data = X_tr_scaled,\n",
    "            orient = 'h',\n",
    "            width=0.8,\n",
    "            palette='crest',\n",
    "            linewidth= 1,\n",
    "            sym = '')\n",
    "plt.show()"
   ]
  },
  {
   "cell_type": "markdown",
   "id": "88c7f5c5",
   "metadata": {},
   "source": [
    "## Conduct Regression Model in PyCaret"
   ]
  },
  {
   "cell_type": "markdown",
   "id": "13cca43c",
   "metadata": {},
   "source": [
    "### Setup the session"
   ]
  },
  {
   "cell_type": "code",
   "execution_count": 31,
   "id": "7fd47e6e",
   "metadata": {
    "scrolled": false
   },
   "outputs": [
    {
     "data": {
      "text/html": [
       "<style type=\"text/css\">\n",
       "#T_323eb_row7_col1, #T_323eb_row12_col1, #T_323eb_row14_col1 {\n",
       "  background-color: lightgreen;\n",
       "}\n",
       "</style>\n",
       "<table id=\"T_323eb\">\n",
       "  <thead>\n",
       "    <tr>\n",
       "      <th class=\"blank level0\" >&nbsp;</th>\n",
       "      <th id=\"T_323eb_level0_col0\" class=\"col_heading level0 col0\" >Description</th>\n",
       "      <th id=\"T_323eb_level0_col1\" class=\"col_heading level0 col1\" >Value</th>\n",
       "    </tr>\n",
       "  </thead>\n",
       "  <tbody>\n",
       "    <tr>\n",
       "      <th id=\"T_323eb_level0_row0\" class=\"row_heading level0 row0\" >0</th>\n",
       "      <td id=\"T_323eb_row0_col0\" class=\"data row0 col0\" >Session id</td>\n",
       "      <td id=\"T_323eb_row0_col1\" class=\"data row0 col1\" >786</td>\n",
       "    </tr>\n",
       "    <tr>\n",
       "      <th id=\"T_323eb_level0_row1\" class=\"row_heading level0 row1\" >1</th>\n",
       "      <td id=\"T_323eb_row1_col0\" class=\"data row1 col0\" >Target</td>\n",
       "      <td id=\"T_323eb_row1_col1\" class=\"data row1 col1\" >wti_price</td>\n",
       "    </tr>\n",
       "    <tr>\n",
       "      <th id=\"T_323eb_level0_row2\" class=\"row_heading level0 row2\" >2</th>\n",
       "      <td id=\"T_323eb_row2_col0\" class=\"data row2 col0\" >Target type</td>\n",
       "      <td id=\"T_323eb_row2_col1\" class=\"data row2 col1\" >Regression</td>\n",
       "    </tr>\n",
       "    <tr>\n",
       "      <th id=\"T_323eb_level0_row3\" class=\"row_heading level0 row3\" >3</th>\n",
       "      <td id=\"T_323eb_row3_col0\" class=\"data row3 col0\" >Data shape</td>\n",
       "      <td id=\"T_323eb_row3_col1\" class=\"data row3 col1\" >(270, 30)</td>\n",
       "    </tr>\n",
       "    <tr>\n",
       "      <th id=\"T_323eb_level0_row4\" class=\"row_heading level0 row4\" >4</th>\n",
       "      <td id=\"T_323eb_row4_col0\" class=\"data row4 col0\" >Train data shape</td>\n",
       "      <td id=\"T_323eb_row4_col1\" class=\"data row4 col1\" >(188, 30)</td>\n",
       "    </tr>\n",
       "    <tr>\n",
       "      <th id=\"T_323eb_level0_row5\" class=\"row_heading level0 row5\" >5</th>\n",
       "      <td id=\"T_323eb_row5_col0\" class=\"data row5 col0\" >Test data shape</td>\n",
       "      <td id=\"T_323eb_row5_col1\" class=\"data row5 col1\" >(82, 30)</td>\n",
       "    </tr>\n",
       "    <tr>\n",
       "      <th id=\"T_323eb_level0_row6\" class=\"row_heading level0 row6\" >6</th>\n",
       "      <td id=\"T_323eb_row6_col0\" class=\"data row6 col0\" >Numeric features</td>\n",
       "      <td id=\"T_323eb_row6_col1\" class=\"data row6 col1\" >29</td>\n",
       "    </tr>\n",
       "    <tr>\n",
       "      <th id=\"T_323eb_level0_row7\" class=\"row_heading level0 row7\" >7</th>\n",
       "      <td id=\"T_323eb_row7_col0\" class=\"data row7 col0\" >Preprocess</td>\n",
       "      <td id=\"T_323eb_row7_col1\" class=\"data row7 col1\" >True</td>\n",
       "    </tr>\n",
       "    <tr>\n",
       "      <th id=\"T_323eb_level0_row8\" class=\"row_heading level0 row8\" >8</th>\n",
       "      <td id=\"T_323eb_row8_col0\" class=\"data row8 col0\" >Imputation type</td>\n",
       "      <td id=\"T_323eb_row8_col1\" class=\"data row8 col1\" >simple</td>\n",
       "    </tr>\n",
       "    <tr>\n",
       "      <th id=\"T_323eb_level0_row9\" class=\"row_heading level0 row9\" >9</th>\n",
       "      <td id=\"T_323eb_row9_col0\" class=\"data row9 col0\" >Numeric imputation</td>\n",
       "      <td id=\"T_323eb_row9_col1\" class=\"data row9 col1\" >mean</td>\n",
       "    </tr>\n",
       "    <tr>\n",
       "      <th id=\"T_323eb_level0_row10\" class=\"row_heading level0 row10\" >10</th>\n",
       "      <td id=\"T_323eb_row10_col0\" class=\"data row10 col0\" >Categorical imputation</td>\n",
       "      <td id=\"T_323eb_row10_col1\" class=\"data row10 col1\" >constant</td>\n",
       "    </tr>\n",
       "    <tr>\n",
       "      <th id=\"T_323eb_level0_row11\" class=\"row_heading level0 row11\" >11</th>\n",
       "      <td id=\"T_323eb_row11_col0\" class=\"data row11 col0\" >Low variance threshold</td>\n",
       "      <td id=\"T_323eb_row11_col1\" class=\"data row11 col1\" >0</td>\n",
       "    </tr>\n",
       "    <tr>\n",
       "      <th id=\"T_323eb_level0_row12\" class=\"row_heading level0 row12\" >12</th>\n",
       "      <td id=\"T_323eb_row12_col0\" class=\"data row12 col0\" >Transformation</td>\n",
       "      <td id=\"T_323eb_row12_col1\" class=\"data row12 col1\" >True</td>\n",
       "    </tr>\n",
       "    <tr>\n",
       "      <th id=\"T_323eb_level0_row13\" class=\"row_heading level0 row13\" >13</th>\n",
       "      <td id=\"T_323eb_row13_col0\" class=\"data row13 col0\" >Transformation method</td>\n",
       "      <td id=\"T_323eb_row13_col1\" class=\"data row13 col1\" >yeo-johnson</td>\n",
       "    </tr>\n",
       "    <tr>\n",
       "      <th id=\"T_323eb_level0_row14\" class=\"row_heading level0 row14\" >14</th>\n",
       "      <td id=\"T_323eb_row14_col0\" class=\"data row14 col0\" >Normalize</td>\n",
       "      <td id=\"T_323eb_row14_col1\" class=\"data row14 col1\" >True</td>\n",
       "    </tr>\n",
       "    <tr>\n",
       "      <th id=\"T_323eb_level0_row15\" class=\"row_heading level0 row15\" >15</th>\n",
       "      <td id=\"T_323eb_row15_col0\" class=\"data row15 col0\" >Normalize method</td>\n",
       "      <td id=\"T_323eb_row15_col1\" class=\"data row15 col1\" >zscore</td>\n",
       "    </tr>\n",
       "    <tr>\n",
       "      <th id=\"T_323eb_level0_row16\" class=\"row_heading level0 row16\" >16</th>\n",
       "      <td id=\"T_323eb_row16_col0\" class=\"data row16 col0\" >Fold Generator</td>\n",
       "      <td id=\"T_323eb_row16_col1\" class=\"data row16 col1\" >KFold</td>\n",
       "    </tr>\n",
       "    <tr>\n",
       "      <th id=\"T_323eb_level0_row17\" class=\"row_heading level0 row17\" >17</th>\n",
       "      <td id=\"T_323eb_row17_col0\" class=\"data row17 col0\" >Fold Number</td>\n",
       "      <td id=\"T_323eb_row17_col1\" class=\"data row17 col1\" >10</td>\n",
       "    </tr>\n",
       "    <tr>\n",
       "      <th id=\"T_323eb_level0_row18\" class=\"row_heading level0 row18\" >18</th>\n",
       "      <td id=\"T_323eb_row18_col0\" class=\"data row18 col0\" >CPU Jobs</td>\n",
       "      <td id=\"T_323eb_row18_col1\" class=\"data row18 col1\" >-1</td>\n",
       "    </tr>\n",
       "    <tr>\n",
       "      <th id=\"T_323eb_level0_row19\" class=\"row_heading level0 row19\" >19</th>\n",
       "      <td id=\"T_323eb_row19_col0\" class=\"data row19 col0\" >Use GPU</td>\n",
       "      <td id=\"T_323eb_row19_col1\" class=\"data row19 col1\" >False</td>\n",
       "    </tr>\n",
       "    <tr>\n",
       "      <th id=\"T_323eb_level0_row20\" class=\"row_heading level0 row20\" >20</th>\n",
       "      <td id=\"T_323eb_row20_col0\" class=\"data row20 col0\" >Log Experiment</td>\n",
       "      <td id=\"T_323eb_row20_col1\" class=\"data row20 col1\" >False</td>\n",
       "    </tr>\n",
       "    <tr>\n",
       "      <th id=\"T_323eb_level0_row21\" class=\"row_heading level0 row21\" >21</th>\n",
       "      <td id=\"T_323eb_row21_col0\" class=\"data row21 col0\" >Experiment Name</td>\n",
       "      <td id=\"T_323eb_row21_col1\" class=\"data row21 col1\" >reg-default-name</td>\n",
       "    </tr>\n",
       "    <tr>\n",
       "      <th id=\"T_323eb_level0_row22\" class=\"row_heading level0 row22\" >22</th>\n",
       "      <td id=\"T_323eb_row22_col0\" class=\"data row22 col0\" >USI</td>\n",
       "      <td id=\"T_323eb_row22_col1\" class=\"data row22 col1\" >a5aa</td>\n",
       "    </tr>\n",
       "  </tbody>\n",
       "</table>\n"
      ],
      "text/plain": [
       "<pandas.io.formats.style.Styler at 0x1cb07e9f610>"
      ]
     },
     "metadata": {},
     "output_type": "display_data"
    }
   ],
   "source": [
    "#Setup Pycaret Regression session\n",
    "#Transform dataset, normalize and split the dataset.\n",
    "#Log experiments and plots for experiments to be viewed later with MLflow. \n",
    "\n",
    "reg_model = setup(data=df, \n",
    "                target=TARGET_FEATURE,\n",
    "                session_id=786,\n",
    "                transformation=True,\n",
    "                normalize=True,\n",
    "                train_size=0.7,\n",
    "                log_plots=True)"
   ]
  },
  {
   "cell_type": "markdown",
   "id": "7944323d",
   "metadata": {},
   "source": [
    "### Compare models"
   ]
  },
  {
   "cell_type": "code",
   "execution_count": 32,
   "id": "74d80605",
   "metadata": {},
   "outputs": [
    {
     "data": {
      "text/html": [],
      "text/plain": [
       "<IPython.core.display.HTML object>"
      ]
     },
     "metadata": {},
     "output_type": "display_data"
    },
    {
     "data": {
      "text/html": [
       "<style type=\"text/css\">\n",
       "#T_34d0f th {\n",
       "  text-align: left;\n",
       "}\n",
       "#T_34d0f_row0_col0, #T_34d0f_row1_col0, #T_34d0f_row1_col1, #T_34d0f_row1_col2, #T_34d0f_row1_col3, #T_34d0f_row1_col4, #T_34d0f_row1_col5, #T_34d0f_row1_col6, #T_34d0f_row2_col0, #T_34d0f_row2_col1, #T_34d0f_row2_col2, #T_34d0f_row2_col3, #T_34d0f_row2_col4, #T_34d0f_row2_col5, #T_34d0f_row2_col6, #T_34d0f_row3_col0, #T_34d0f_row3_col1, #T_34d0f_row3_col2, #T_34d0f_row3_col3, #T_34d0f_row3_col4, #T_34d0f_row3_col5, #T_34d0f_row3_col6, #T_34d0f_row4_col0, #T_34d0f_row4_col1, #T_34d0f_row4_col2, #T_34d0f_row4_col3, #T_34d0f_row4_col4, #T_34d0f_row4_col5, #T_34d0f_row4_col6, #T_34d0f_row5_col0, #T_34d0f_row5_col1, #T_34d0f_row5_col2, #T_34d0f_row5_col3, #T_34d0f_row5_col4, #T_34d0f_row5_col5, #T_34d0f_row5_col6, #T_34d0f_row6_col0, #T_34d0f_row6_col1, #T_34d0f_row6_col2, #T_34d0f_row6_col3, #T_34d0f_row6_col4, #T_34d0f_row6_col5, #T_34d0f_row6_col6, #T_34d0f_row7_col0, #T_34d0f_row7_col1, #T_34d0f_row7_col2, #T_34d0f_row7_col3, #T_34d0f_row7_col4, #T_34d0f_row7_col5, #T_34d0f_row7_col6, #T_34d0f_row8_col0, #T_34d0f_row8_col1, #T_34d0f_row8_col2, #T_34d0f_row8_col3, #T_34d0f_row8_col4, #T_34d0f_row8_col5, #T_34d0f_row8_col6, #T_34d0f_row9_col0, #T_34d0f_row9_col1, #T_34d0f_row9_col2, #T_34d0f_row9_col3, #T_34d0f_row9_col4, #T_34d0f_row9_col5, #T_34d0f_row9_col6, #T_34d0f_row10_col0, #T_34d0f_row10_col1, #T_34d0f_row10_col2, #T_34d0f_row10_col3, #T_34d0f_row10_col4, #T_34d0f_row10_col5, #T_34d0f_row10_col6, #T_34d0f_row11_col0, #T_34d0f_row11_col1, #T_34d0f_row11_col2, #T_34d0f_row11_col3, #T_34d0f_row11_col4, #T_34d0f_row11_col5, #T_34d0f_row11_col6, #T_34d0f_row12_col0, #T_34d0f_row12_col1, #T_34d0f_row12_col2, #T_34d0f_row12_col3, #T_34d0f_row12_col4, #T_34d0f_row12_col5, #T_34d0f_row12_col6, #T_34d0f_row13_col0, #T_34d0f_row13_col1, #T_34d0f_row13_col2, #T_34d0f_row13_col3, #T_34d0f_row13_col4, #T_34d0f_row13_col5, #T_34d0f_row13_col6, #T_34d0f_row14_col0, #T_34d0f_row14_col1, #T_34d0f_row14_col2, #T_34d0f_row14_col3, #T_34d0f_row14_col4, #T_34d0f_row14_col5, #T_34d0f_row14_col6, #T_34d0f_row15_col0, #T_34d0f_row15_col1, #T_34d0f_row15_col2, #T_34d0f_row15_col3, #T_34d0f_row15_col4, #T_34d0f_row15_col5, #T_34d0f_row15_col6, #T_34d0f_row16_col0, #T_34d0f_row16_col1, #T_34d0f_row16_col2, #T_34d0f_row16_col3, #T_34d0f_row16_col4, #T_34d0f_row16_col5, #T_34d0f_row16_col6, #T_34d0f_row17_col0, #T_34d0f_row17_col1, #T_34d0f_row17_col2, #T_34d0f_row17_col3, #T_34d0f_row17_col4, #T_34d0f_row17_col5, #T_34d0f_row17_col6 {\n",
       "  text-align: left;\n",
       "}\n",
       "#T_34d0f_row0_col1, #T_34d0f_row0_col2, #T_34d0f_row0_col3, #T_34d0f_row0_col4, #T_34d0f_row0_col5, #T_34d0f_row0_col6 {\n",
       "  text-align: left;\n",
       "  background-color: yellow;\n",
       "}\n",
       "#T_34d0f_row0_col7, #T_34d0f_row1_col7, #T_34d0f_row2_col7, #T_34d0f_row3_col7, #T_34d0f_row4_col7, #T_34d0f_row5_col7, #T_34d0f_row6_col7, #T_34d0f_row7_col7, #T_34d0f_row8_col7, #T_34d0f_row9_col7, #T_34d0f_row10_col7, #T_34d0f_row11_col7, #T_34d0f_row12_col7, #T_34d0f_row13_col7, #T_34d0f_row14_col7, #T_34d0f_row15_col7, #T_34d0f_row17_col7 {\n",
       "  text-align: left;\n",
       "  background-color: lightgrey;\n",
       "}\n",
       "#T_34d0f_row16_col7 {\n",
       "  text-align: left;\n",
       "  background-color: yellow;\n",
       "  background-color: lightgrey;\n",
       "}\n",
       "</style>\n",
       "<table id=\"T_34d0f\">\n",
       "  <thead>\n",
       "    <tr>\n",
       "      <th class=\"blank level0\" >&nbsp;</th>\n",
       "      <th id=\"T_34d0f_level0_col0\" class=\"col_heading level0 col0\" >Model</th>\n",
       "      <th id=\"T_34d0f_level0_col1\" class=\"col_heading level0 col1\" >MAE</th>\n",
       "      <th id=\"T_34d0f_level0_col2\" class=\"col_heading level0 col2\" >MSE</th>\n",
       "      <th id=\"T_34d0f_level0_col3\" class=\"col_heading level0 col3\" >RMSE</th>\n",
       "      <th id=\"T_34d0f_level0_col4\" class=\"col_heading level0 col4\" >R2</th>\n",
       "      <th id=\"T_34d0f_level0_col5\" class=\"col_heading level0 col5\" >RMSLE</th>\n",
       "      <th id=\"T_34d0f_level0_col6\" class=\"col_heading level0 col6\" >MAPE</th>\n",
       "      <th id=\"T_34d0f_level0_col7\" class=\"col_heading level0 col7\" >TT (Sec)</th>\n",
       "    </tr>\n",
       "  </thead>\n",
       "  <tbody>\n",
       "    <tr>\n",
       "      <th id=\"T_34d0f_level0_row0\" class=\"row_heading level0 row0\" >et</th>\n",
       "      <td id=\"T_34d0f_row0_col0\" class=\"data row0 col0\" >Extra Trees Regressor</td>\n",
       "      <td id=\"T_34d0f_row0_col1\" class=\"data row0 col1\" >4.5075</td>\n",
       "      <td id=\"T_34d0f_row0_col2\" class=\"data row0 col2\" >40.4710</td>\n",
       "      <td id=\"T_34d0f_row0_col3\" class=\"data row0 col3\" >6.3150</td>\n",
       "      <td id=\"T_34d0f_row0_col4\" class=\"data row0 col4\" >0.9460</td>\n",
       "      <td id=\"T_34d0f_row0_col5\" class=\"data row0 col5\" >0.1150</td>\n",
       "      <td id=\"T_34d0f_row0_col6\" class=\"data row0 col6\" >0.0845</td>\n",
       "      <td id=\"T_34d0f_row0_col7\" class=\"data row0 col7\" >0.1780</td>\n",
       "    </tr>\n",
       "    <tr>\n",
       "      <th id=\"T_34d0f_level0_row1\" class=\"row_heading level0 row1\" >gbr</th>\n",
       "      <td id=\"T_34d0f_row1_col0\" class=\"data row1 col0\" >Gradient Boosting Regressor</td>\n",
       "      <td id=\"T_34d0f_row1_col1\" class=\"data row1 col1\" >5.1025</td>\n",
       "      <td id=\"T_34d0f_row1_col2\" class=\"data row1 col2\" >48.2418</td>\n",
       "      <td id=\"T_34d0f_row1_col3\" class=\"data row1 col3\" >6.8486</td>\n",
       "      <td id=\"T_34d0f_row1_col4\" class=\"data row1 col4\" >0.9354</td>\n",
       "      <td id=\"T_34d0f_row1_col5\" class=\"data row1 col5\" >0.1201</td>\n",
       "      <td id=\"T_34d0f_row1_col6\" class=\"data row1 col6\" >0.0924</td>\n",
       "      <td id=\"T_34d0f_row1_col7\" class=\"data row1 col7\" >0.1340</td>\n",
       "    </tr>\n",
       "    <tr>\n",
       "      <th id=\"T_34d0f_level0_row2\" class=\"row_heading level0 row2\" >lightgbm</th>\n",
       "      <td id=\"T_34d0f_row2_col0\" class=\"data row2 col0\" >Light Gradient Boosting Machine</td>\n",
       "      <td id=\"T_34d0f_row2_col1\" class=\"data row2 col1\" >5.2173</td>\n",
       "      <td id=\"T_34d0f_row2_col2\" class=\"data row2 col2\" >53.3653</td>\n",
       "      <td id=\"T_34d0f_row2_col3\" class=\"data row2 col3\" >7.2457</td>\n",
       "      <td id=\"T_34d0f_row2_col4\" class=\"data row2 col4\" >0.9289</td>\n",
       "      <td id=\"T_34d0f_row2_col5\" class=\"data row2 col5\" >0.1223</td>\n",
       "      <td id=\"T_34d0f_row2_col6\" class=\"data row2 col6\" >0.0933</td>\n",
       "      <td id=\"T_34d0f_row2_col7\" class=\"data row2 col7\" >0.0940</td>\n",
       "    </tr>\n",
       "    <tr>\n",
       "      <th id=\"T_34d0f_level0_row3\" class=\"row_heading level0 row3\" >rf</th>\n",
       "      <td id=\"T_34d0f_row3_col0\" class=\"data row3 col0\" >Random Forest Regressor</td>\n",
       "      <td id=\"T_34d0f_row3_col1\" class=\"data row3 col1\" >5.2954</td>\n",
       "      <td id=\"T_34d0f_row3_col2\" class=\"data row3 col2\" >55.0556</td>\n",
       "      <td id=\"T_34d0f_row3_col3\" class=\"data row3 col3\" >7.3763</td>\n",
       "      <td id=\"T_34d0f_row3_col4\" class=\"data row3 col4\" >0.9261</td>\n",
       "      <td id=\"T_34d0f_row3_col5\" class=\"data row3 col5\" >0.1299</td>\n",
       "      <td id=\"T_34d0f_row3_col6\" class=\"data row3 col6\" >0.0962</td>\n",
       "      <td id=\"T_34d0f_row3_col7\" class=\"data row3 col7\" >0.2580</td>\n",
       "    </tr>\n",
       "    <tr>\n",
       "      <th id=\"T_34d0f_level0_row4\" class=\"row_heading level0 row4\" >lr</th>\n",
       "      <td id=\"T_34d0f_row4_col0\" class=\"data row4 col0\" >Linear Regression</td>\n",
       "      <td id=\"T_34d0f_row4_col1\" class=\"data row4 col1\" >5.8957</td>\n",
       "      <td id=\"T_34d0f_row4_col2\" class=\"data row4 col2\" >56.6823</td>\n",
       "      <td id=\"T_34d0f_row4_col3\" class=\"data row4 col3\" >7.4881</td>\n",
       "      <td id=\"T_34d0f_row4_col4\" class=\"data row4 col4\" >0.9252</td>\n",
       "      <td id=\"T_34d0f_row4_col5\" class=\"data row4 col5\" >0.1551</td>\n",
       "      <td id=\"T_34d0f_row4_col6\" class=\"data row4 col6\" >0.1180</td>\n",
       "      <td id=\"T_34d0f_row4_col7\" class=\"data row4 col7\" >3.6460</td>\n",
       "    </tr>\n",
       "    <tr>\n",
       "      <th id=\"T_34d0f_level0_row5\" class=\"row_heading level0 row5\" >ada</th>\n",
       "      <td id=\"T_34d0f_row5_col0\" class=\"data row5 col0\" >AdaBoost Regressor</td>\n",
       "      <td id=\"T_34d0f_row5_col1\" class=\"data row5 col1\" >5.7991</td>\n",
       "      <td id=\"T_34d0f_row5_col2\" class=\"data row5 col2\" >59.5745</td>\n",
       "      <td id=\"T_34d0f_row5_col3\" class=\"data row5 col3\" >7.6263</td>\n",
       "      <td id=\"T_34d0f_row5_col4\" class=\"data row5 col4\" >0.9205</td>\n",
       "      <td id=\"T_34d0f_row5_col5\" class=\"data row5 col5\" >0.1333</td>\n",
       "      <td id=\"T_34d0f_row5_col6\" class=\"data row5 col6\" >0.1076</td>\n",
       "      <td id=\"T_34d0f_row5_col7\" class=\"data row5 col7\" >0.1120</td>\n",
       "    </tr>\n",
       "    <tr>\n",
       "      <th id=\"T_34d0f_level0_row6\" class=\"row_heading level0 row6\" >huber</th>\n",
       "      <td id=\"T_34d0f_row6_col0\" class=\"data row6 col0\" >Huber Regressor</td>\n",
       "      <td id=\"T_34d0f_row6_col1\" class=\"data row6 col1\" >5.8054</td>\n",
       "      <td id=\"T_34d0f_row6_col2\" class=\"data row6 col2\" >58.8903</td>\n",
       "      <td id=\"T_34d0f_row6_col3\" class=\"data row6 col3\" >7.6361</td>\n",
       "      <td id=\"T_34d0f_row6_col4\" class=\"data row6 col4\" >0.9222</td>\n",
       "      <td id=\"T_34d0f_row6_col5\" class=\"data row6 col5\" >0.1569</td>\n",
       "      <td id=\"T_34d0f_row6_col6\" class=\"data row6 col6\" >0.1162</td>\n",
       "      <td id=\"T_34d0f_row6_col7\" class=\"data row6 col7\" >0.1040</td>\n",
       "    </tr>\n",
       "    <tr>\n",
       "      <th id=\"T_34d0f_level0_row7\" class=\"row_heading level0 row7\" >ridge</th>\n",
       "      <td id=\"T_34d0f_row7_col0\" class=\"data row7 col0\" >Ridge Regression</td>\n",
       "      <td id=\"T_34d0f_row7_col1\" class=\"data row7 col1\" >5.9442</td>\n",
       "      <td id=\"T_34d0f_row7_col2\" class=\"data row7 col2\" >59.6758</td>\n",
       "      <td id=\"T_34d0f_row7_col3\" class=\"data row7 col3\" >7.6896</td>\n",
       "      <td id=\"T_34d0f_row7_col4\" class=\"data row7 col4\" >0.9207</td>\n",
       "      <td id=\"T_34d0f_row7_col5\" class=\"data row7 col5\" >0.1550</td>\n",
       "      <td id=\"T_34d0f_row7_col6\" class=\"data row7 col6\" >0.1166</td>\n",
       "      <td id=\"T_34d0f_row7_col7\" class=\"data row7 col7\" >0.0920</td>\n",
       "    </tr>\n",
       "    <tr>\n",
       "      <th id=\"T_34d0f_level0_row8\" class=\"row_heading level0 row8\" >br</th>\n",
       "      <td id=\"T_34d0f_row8_col0\" class=\"data row8 col0\" >Bayesian Ridge</td>\n",
       "      <td id=\"T_34d0f_row8_col1\" class=\"data row8 col1\" >6.0204</td>\n",
       "      <td id=\"T_34d0f_row8_col2\" class=\"data row8 col2\" >62.5989</td>\n",
       "      <td id=\"T_34d0f_row8_col3\" class=\"data row8 col3\" >7.8761</td>\n",
       "      <td id=\"T_34d0f_row8_col4\" class=\"data row8 col4\" >0.9165</td>\n",
       "      <td id=\"T_34d0f_row8_col5\" class=\"data row8 col5\" >0.1584</td>\n",
       "      <td id=\"T_34d0f_row8_col6\" class=\"data row8 col6\" >0.1173</td>\n",
       "      <td id=\"T_34d0f_row8_col7\" class=\"data row8 col7\" >0.0800</td>\n",
       "    </tr>\n",
       "    <tr>\n",
       "      <th id=\"T_34d0f_level0_row9\" class=\"row_heading level0 row9\" >lasso</th>\n",
       "      <td id=\"T_34d0f_row9_col0\" class=\"data row9 col0\" >Lasso Regression</td>\n",
       "      <td id=\"T_34d0f_row9_col1\" class=\"data row9 col1\" >6.2585</td>\n",
       "      <td id=\"T_34d0f_row9_col2\" class=\"data row9 col2\" >68.0508</td>\n",
       "      <td id=\"T_34d0f_row9_col3\" class=\"data row9 col3\" >8.2175</td>\n",
       "      <td id=\"T_34d0f_row9_col4\" class=\"data row9 col4\" >0.9094</td>\n",
       "      <td id=\"T_34d0f_row9_col5\" class=\"data row9 col5\" >0.1603</td>\n",
       "      <td id=\"T_34d0f_row9_col6\" class=\"data row9 col6\" >0.1227</td>\n",
       "      <td id=\"T_34d0f_row9_col7\" class=\"data row9 col7\" >1.4820</td>\n",
       "    </tr>\n",
       "    <tr>\n",
       "      <th id=\"T_34d0f_level0_row10\" class=\"row_heading level0 row10\" >knn</th>\n",
       "      <td id=\"T_34d0f_row10_col0\" class=\"data row10 col0\" >K Neighbors Regressor</td>\n",
       "      <td id=\"T_34d0f_row10_col1\" class=\"data row10 col1\" >5.8895</td>\n",
       "      <td id=\"T_34d0f_row10_col2\" class=\"data row10 col2\" >73.7365</td>\n",
       "      <td id=\"T_34d0f_row10_col3\" class=\"data row10 col3\" >8.4240</td>\n",
       "      <td id=\"T_34d0f_row10_col4\" class=\"data row10 col4\" >0.9047</td>\n",
       "      <td id=\"T_34d0f_row10_col5\" class=\"data row10 col5\" >0.1415</td>\n",
       "      <td id=\"T_34d0f_row10_col6\" class=\"data row10 col6\" >0.1092</td>\n",
       "      <td id=\"T_34d0f_row10_col7\" class=\"data row10 col7\" >0.0840</td>\n",
       "    </tr>\n",
       "    <tr>\n",
       "      <th id=\"T_34d0f_level0_row11\" class=\"row_heading level0 row11\" >omp</th>\n",
       "      <td id=\"T_34d0f_row11_col0\" class=\"data row11 col0\" >Orthogonal Matching Pursuit</td>\n",
       "      <td id=\"T_34d0f_row11_col1\" class=\"data row11 col1\" >6.3058</td>\n",
       "      <td id=\"T_34d0f_row11_col2\" class=\"data row11 col2\" >75.9007</td>\n",
       "      <td id=\"T_34d0f_row11_col3\" class=\"data row11 col3\" >8.6956</td>\n",
       "      <td id=\"T_34d0f_row11_col4\" class=\"data row11 col4\" >0.8972</td>\n",
       "      <td id=\"T_34d0f_row11_col5\" class=\"data row11 col5\" >0.1697</td>\n",
       "      <td id=\"T_34d0f_row11_col6\" class=\"data row11 col6\" >0.1241</td>\n",
       "      <td id=\"T_34d0f_row11_col7\" class=\"data row11 col7\" >0.0880</td>\n",
       "    </tr>\n",
       "    <tr>\n",
       "      <th id=\"T_34d0f_level0_row12\" class=\"row_heading level0 row12\" >en</th>\n",
       "      <td id=\"T_34d0f_row12_col0\" class=\"data row12 col0\" >Elastic Net</td>\n",
       "      <td id=\"T_34d0f_row12_col1\" class=\"data row12 col1\" >6.8563</td>\n",
       "      <td id=\"T_34d0f_row12_col2\" class=\"data row12 col2\" >79.0710</td>\n",
       "      <td id=\"T_34d0f_row12_col3\" class=\"data row12 col3\" >8.8599</td>\n",
       "      <td id=\"T_34d0f_row12_col4\" class=\"data row12 col4\" >0.8949</td>\n",
       "      <td id=\"T_34d0f_row12_col5\" class=\"data row12 col5\" >0.1657</td>\n",
       "      <td id=\"T_34d0f_row12_col6\" class=\"data row12 col6\" >0.1325</td>\n",
       "      <td id=\"T_34d0f_row12_col7\" class=\"data row12 col7\" >0.0860</td>\n",
       "    </tr>\n",
       "    <tr>\n",
       "      <th id=\"T_34d0f_level0_row13\" class=\"row_heading level0 row13\" >dt</th>\n",
       "      <td id=\"T_34d0f_row13_col0\" class=\"data row13 col0\" >Decision Tree Regressor</td>\n",
       "      <td id=\"T_34d0f_row13_col1\" class=\"data row13 col1\" >6.6427</td>\n",
       "      <td id=\"T_34d0f_row13_col2\" class=\"data row13 col2\" >84.3684</td>\n",
       "      <td id=\"T_34d0f_row13_col3\" class=\"data row13 col3\" >9.0702</td>\n",
       "      <td id=\"T_34d0f_row13_col4\" class=\"data row13 col4\" >0.8842</td>\n",
       "      <td id=\"T_34d0f_row13_col5\" class=\"data row13 col5\" >0.1536</td>\n",
       "      <td id=\"T_34d0f_row13_col6\" class=\"data row13 col6\" >0.1183</td>\n",
       "      <td id=\"T_34d0f_row13_col7\" class=\"data row13 col7\" >0.0660</td>\n",
       "    </tr>\n",
       "    <tr>\n",
       "      <th id=\"T_34d0f_level0_row14\" class=\"row_heading level0 row14\" >par</th>\n",
       "      <td id=\"T_34d0f_row14_col0\" class=\"data row14 col0\" >Passive Aggressive Regressor</td>\n",
       "      <td id=\"T_34d0f_row14_col1\" class=\"data row14 col1\" >8.6614</td>\n",
       "      <td id=\"T_34d0f_row14_col2\" class=\"data row14 col2\" >132.6311</td>\n",
       "      <td id=\"T_34d0f_row14_col3\" class=\"data row14 col3\" >10.8966</td>\n",
       "      <td id=\"T_34d0f_row14_col4\" class=\"data row14 col4\" >0.8177</td>\n",
       "      <td id=\"T_34d0f_row14_col5\" class=\"data row14 col5\" >0.3149</td>\n",
       "      <td id=\"T_34d0f_row14_col6\" class=\"data row14 col6\" >0.1884</td>\n",
       "      <td id=\"T_34d0f_row14_col7\" class=\"data row14 col7\" >0.0720</td>\n",
       "    </tr>\n",
       "    <tr>\n",
       "      <th id=\"T_34d0f_level0_row15\" class=\"row_heading level0 row15\" >llar</th>\n",
       "      <td id=\"T_34d0f_row15_col0\" class=\"data row15 col0\" >Lasso Least Angle Regression</td>\n",
       "      <td id=\"T_34d0f_row15_col1\" class=\"data row15 col1\" >12.8847</td>\n",
       "      <td id=\"T_34d0f_row15_col2\" class=\"data row15 col2\" >249.6969</td>\n",
       "      <td id=\"T_34d0f_row15_col3\" class=\"data row15 col3\" >15.7637</td>\n",
       "      <td id=\"T_34d0f_row15_col4\" class=\"data row15 col4\" >0.6677</td>\n",
       "      <td id=\"T_34d0f_row15_col5\" class=\"data row15 col5\" >0.2795</td>\n",
       "      <td id=\"T_34d0f_row15_col6\" class=\"data row15 col6\" >0.2643</td>\n",
       "      <td id=\"T_34d0f_row15_col7\" class=\"data row15 col7\" >0.0880</td>\n",
       "    </tr>\n",
       "    <tr>\n",
       "      <th id=\"T_34d0f_level0_row16\" class=\"row_heading level0 row16\" >dummy</th>\n",
       "      <td id=\"T_34d0f_row16_col0\" class=\"data row16 col0\" >Dummy Regressor</td>\n",
       "      <td id=\"T_34d0f_row16_col1\" class=\"data row16 col1\" >23.2068</td>\n",
       "      <td id=\"T_34d0f_row16_col2\" class=\"data row16 col2\" >756.9346</td>\n",
       "      <td id=\"T_34d0f_row16_col3\" class=\"data row16 col3\" >27.4508</td>\n",
       "      <td id=\"T_34d0f_row16_col4\" class=\"data row16 col4\" >-0.0056</td>\n",
       "      <td id=\"T_34d0f_row16_col5\" class=\"data row16 col5\" >0.4782</td>\n",
       "      <td id=\"T_34d0f_row16_col6\" class=\"data row16 col6\" >0.4956</td>\n",
       "      <td id=\"T_34d0f_row16_col7\" class=\"data row16 col7\" >0.0520</td>\n",
       "    </tr>\n",
       "    <tr>\n",
       "      <th id=\"T_34d0f_level0_row17\" class=\"row_heading level0 row17\" >lar</th>\n",
       "      <td id=\"T_34d0f_row17_col0\" class=\"data row17 col0\" >Least Angle Regression</td>\n",
       "      <td id=\"T_34d0f_row17_col1\" class=\"data row17 col1\" >4382.0176</td>\n",
       "      <td id=\"T_34d0f_row17_col2\" class=\"data row17 col2\" >192874824.1860</td>\n",
       "      <td id=\"T_34d0f_row17_col3\" class=\"data row17 col3\" >6358.1619</td>\n",
       "      <td id=\"T_34d0f_row17_col4\" class=\"data row17 col4\" >-272295.7716</td>\n",
       "      <td id=\"T_34d0f_row17_col5\" class=\"data row17 col5\" >1.8959</td>\n",
       "      <td id=\"T_34d0f_row17_col6\" class=\"data row17 col6\" >75.4915</td>\n",
       "      <td id=\"T_34d0f_row17_col7\" class=\"data row17 col7\" >0.1100</td>\n",
       "    </tr>\n",
       "  </tbody>\n",
       "</table>\n"
      ],
      "text/plain": [
       "<pandas.io.formats.style.Styler at 0x1cb0836c070>"
      ]
     },
     "metadata": {},
     "output_type": "display_data"
    },
    {
     "data": {
      "text/html": [],
      "text/plain": [
       "<IPython.core.display.HTML object>"
      ]
     },
     "metadata": {},
     "output_type": "display_data"
    }
   ],
   "source": [
    "# Use compare_models() function to compare ML models and their perfomrance on the data\n",
    "# Use the default fold value from 10 to 5 for cross-validation generator\n",
    "\n",
    "# Store the top 5 models in top5.\n",
    "# We plan to use this for Stacking and Blending purposes. \n",
    "\n",
    "top5 = compare_models(n_select=5, sort='RMSE', fold=5)"
   ]
  },
  {
   "cell_type": "code",
   "execution_count": null,
   "id": "cf3b2cef",
   "metadata": {},
   "outputs": [],
   "source": [
    "# Case the result to a dataframe\n",
    "compare_model_table = pull()"
   ]
  },
  {
   "cell_type": "markdown",
   "id": "f2c9e592",
   "metadata": {},
   "source": [
    "### Hyper-parameterization"
   ]
  },
  {
   "cell_type": "markdown",
   "id": "5af4ab98",
   "metadata": {},
   "source": [
    "Tune the top 5 models dynamically with a higher iteration rate (n_iter).\n",
    "\n",
    "This is to find more optimal hyper parameters over a larger search space. "
   ]
  },
  {
   "cell_type": "code",
   "execution_count": 33,
   "id": "88c5e6c2",
   "metadata": {},
   "outputs": [
    {
     "data": {
      "text/html": [],
      "text/plain": [
       "<IPython.core.display.HTML object>"
      ]
     },
     "metadata": {},
     "output_type": "display_data"
    },
    {
     "data": {
      "text/html": [
       "<style type=\"text/css\">\n",
       "#T_a8e5d_row5_col0, #T_a8e5d_row5_col1, #T_a8e5d_row5_col2, #T_a8e5d_row5_col3, #T_a8e5d_row5_col4, #T_a8e5d_row5_col5 {\n",
       "  background: yellow;\n",
       "}\n",
       "</style>\n",
       "<table id=\"T_a8e5d\">\n",
       "  <thead>\n",
       "    <tr>\n",
       "      <th class=\"blank level0\" >&nbsp;</th>\n",
       "      <th id=\"T_a8e5d_level0_col0\" class=\"col_heading level0 col0\" >MAE</th>\n",
       "      <th id=\"T_a8e5d_level0_col1\" class=\"col_heading level0 col1\" >MSE</th>\n",
       "      <th id=\"T_a8e5d_level0_col2\" class=\"col_heading level0 col2\" >RMSE</th>\n",
       "      <th id=\"T_a8e5d_level0_col3\" class=\"col_heading level0 col3\" >R2</th>\n",
       "      <th id=\"T_a8e5d_level0_col4\" class=\"col_heading level0 col4\" >RMSLE</th>\n",
       "      <th id=\"T_a8e5d_level0_col5\" class=\"col_heading level0 col5\" >MAPE</th>\n",
       "    </tr>\n",
       "    <tr>\n",
       "      <th class=\"index_name level0\" >Fold</th>\n",
       "      <th class=\"blank col0\" >&nbsp;</th>\n",
       "      <th class=\"blank col1\" >&nbsp;</th>\n",
       "      <th class=\"blank col2\" >&nbsp;</th>\n",
       "      <th class=\"blank col3\" >&nbsp;</th>\n",
       "      <th class=\"blank col4\" >&nbsp;</th>\n",
       "      <th class=\"blank col5\" >&nbsp;</th>\n",
       "    </tr>\n",
       "  </thead>\n",
       "  <tbody>\n",
       "    <tr>\n",
       "      <th id=\"T_a8e5d_level0_row0\" class=\"row_heading level0 row0\" >0</th>\n",
       "      <td id=\"T_a8e5d_row0_col0\" class=\"data row0 col0\" >4.4767</td>\n",
       "      <td id=\"T_a8e5d_row0_col1\" class=\"data row0 col1\" >35.6244</td>\n",
       "      <td id=\"T_a8e5d_row0_col2\" class=\"data row0 col2\" >5.9686</td>\n",
       "      <td id=\"T_a8e5d_row0_col3\" class=\"data row0 col3\" >0.9567</td>\n",
       "      <td id=\"T_a8e5d_row0_col4\" class=\"data row0 col4\" >0.0804</td>\n",
       "      <td id=\"T_a8e5d_row0_col5\" class=\"data row0 col5\" >0.0676</td>\n",
       "    </tr>\n",
       "    <tr>\n",
       "      <th id=\"T_a8e5d_level0_row1\" class=\"row_heading level0 row1\" >1</th>\n",
       "      <td id=\"T_a8e5d_row1_col0\" class=\"data row1 col0\" >3.6016</td>\n",
       "      <td id=\"T_a8e5d_row1_col1\" class=\"data row1 col1\" >36.6182</td>\n",
       "      <td id=\"T_a8e5d_row1_col2\" class=\"data row1 col2\" >6.0513</td>\n",
       "      <td id=\"T_a8e5d_row1_col3\" class=\"data row1 col3\" >0.9483</td>\n",
       "      <td id=\"T_a8e5d_row1_col4\" class=\"data row1 col4\" >0.0889</td>\n",
       "      <td id=\"T_a8e5d_row1_col5\" class=\"data row1 col5\" >0.0600</td>\n",
       "    </tr>\n",
       "    <tr>\n",
       "      <th id=\"T_a8e5d_level0_row2\" class=\"row_heading level0 row2\" >2</th>\n",
       "      <td id=\"T_a8e5d_row2_col0\" class=\"data row2 col0\" >4.3482</td>\n",
       "      <td id=\"T_a8e5d_row2_col1\" class=\"data row2 col1\" >31.7973</td>\n",
       "      <td id=\"T_a8e5d_row2_col2\" class=\"data row2 col2\" >5.6389</td>\n",
       "      <td id=\"T_a8e5d_row2_col3\" class=\"data row2 col3\" >0.9520</td>\n",
       "      <td id=\"T_a8e5d_row2_col4\" class=\"data row2 col4\" >0.0844</td>\n",
       "      <td id=\"T_a8e5d_row2_col5\" class=\"data row2 col5\" >0.0722</td>\n",
       "    </tr>\n",
       "    <tr>\n",
       "      <th id=\"T_a8e5d_level0_row3\" class=\"row_heading level0 row3\" >3</th>\n",
       "      <td id=\"T_a8e5d_row3_col0\" class=\"data row3 col0\" >6.4470</td>\n",
       "      <td id=\"T_a8e5d_row3_col1\" class=\"data row3 col1\" >80.9879</td>\n",
       "      <td id=\"T_a8e5d_row3_col2\" class=\"data row3 col2\" >8.9993</td>\n",
       "      <td id=\"T_a8e5d_row3_col3\" class=\"data row3 col3\" >0.9112</td>\n",
       "      <td id=\"T_a8e5d_row3_col4\" class=\"data row3 col4\" >0.2168</td>\n",
       "      <td id=\"T_a8e5d_row3_col5\" class=\"data row3 col5\" >0.1636</td>\n",
       "    </tr>\n",
       "    <tr>\n",
       "      <th id=\"T_a8e5d_level0_row4\" class=\"row_heading level0 row4\" >4</th>\n",
       "      <td id=\"T_a8e5d_row4_col0\" class=\"data row4 col0\" >4.2917</td>\n",
       "      <td id=\"T_a8e5d_row4_col1\" class=\"data row4 col1\" >38.2074</td>\n",
       "      <td id=\"T_a8e5d_row4_col2\" class=\"data row4 col2\" >6.1812</td>\n",
       "      <td id=\"T_a8e5d_row4_col3\" class=\"data row4 col3\" >0.9419</td>\n",
       "      <td id=\"T_a8e5d_row4_col4\" class=\"data row4 col4\" >0.1150</td>\n",
       "      <td id=\"T_a8e5d_row4_col5\" class=\"data row4 col5\" >0.0810</td>\n",
       "    </tr>\n",
       "    <tr>\n",
       "      <th id=\"T_a8e5d_level0_row5\" class=\"row_heading level0 row5\" >Mean</th>\n",
       "      <td id=\"T_a8e5d_row5_col0\" class=\"data row5 col0\" >4.6330</td>\n",
       "      <td id=\"T_a8e5d_row5_col1\" class=\"data row5 col1\" >44.6470</td>\n",
       "      <td id=\"T_a8e5d_row5_col2\" class=\"data row5 col2\" >6.5679</td>\n",
       "      <td id=\"T_a8e5d_row5_col3\" class=\"data row5 col3\" >0.9420</td>\n",
       "      <td id=\"T_a8e5d_row5_col4\" class=\"data row5 col4\" >0.1171</td>\n",
       "      <td id=\"T_a8e5d_row5_col5\" class=\"data row5 col5\" >0.0889</td>\n",
       "    </tr>\n",
       "    <tr>\n",
       "      <th id=\"T_a8e5d_level0_row6\" class=\"row_heading level0 row6\" >Std</th>\n",
       "      <td id=\"T_a8e5d_row6_col0\" class=\"data row6 col0\" >0.9567</td>\n",
       "      <td id=\"T_a8e5d_row6_col1\" class=\"data row6 col1\" >18.2927</td>\n",
       "      <td id=\"T_a8e5d_row6_col2\" class=\"data row6 col2\" >1.2289</td>\n",
       "      <td id=\"T_a8e5d_row6_col3\" class=\"data row6 col3\" >0.0162</td>\n",
       "      <td id=\"T_a8e5d_row6_col4\" class=\"data row6 col4\" >0.0513</td>\n",
       "      <td id=\"T_a8e5d_row6_col5\" class=\"data row6 col5\" >0.0380</td>\n",
       "    </tr>\n",
       "  </tbody>\n",
       "</table>\n"
      ],
      "text/plain": [
       "<pandas.io.formats.style.Styler at 0x1cb5e13b340>"
      ]
     },
     "metadata": {},
     "output_type": "display_data"
    },
    {
     "data": {
      "text/html": [],
      "text/plain": [
       "<IPython.core.display.HTML object>"
      ]
     },
     "metadata": {},
     "output_type": "display_data"
    },
    {
     "name": "stdout",
     "output_type": "stream",
     "text": [
      "Fitting 5 folds for each of 120 candidates, totalling 600 fits\n",
      "Original model was better than the tuned model, hence it will be returned. NOTE: The display metrics are for the tuned model (not the original one).\n"
     ]
    },
    {
     "data": {
      "text/html": [],
      "text/plain": [
       "<IPython.core.display.HTML object>"
      ]
     },
     "metadata": {},
     "output_type": "display_data"
    },
    {
     "data": {
      "text/html": [
       "<style type=\"text/css\">\n",
       "#T_561f1_row5_col0, #T_561f1_row5_col1, #T_561f1_row5_col2, #T_561f1_row5_col3, #T_561f1_row5_col4, #T_561f1_row5_col5 {\n",
       "  background: yellow;\n",
       "}\n",
       "</style>\n",
       "<table id=\"T_561f1\">\n",
       "  <thead>\n",
       "    <tr>\n",
       "      <th class=\"blank level0\" >&nbsp;</th>\n",
       "      <th id=\"T_561f1_level0_col0\" class=\"col_heading level0 col0\" >MAE</th>\n",
       "      <th id=\"T_561f1_level0_col1\" class=\"col_heading level0 col1\" >MSE</th>\n",
       "      <th id=\"T_561f1_level0_col2\" class=\"col_heading level0 col2\" >RMSE</th>\n",
       "      <th id=\"T_561f1_level0_col3\" class=\"col_heading level0 col3\" >R2</th>\n",
       "      <th id=\"T_561f1_level0_col4\" class=\"col_heading level0 col4\" >RMSLE</th>\n",
       "      <th id=\"T_561f1_level0_col5\" class=\"col_heading level0 col5\" >MAPE</th>\n",
       "    </tr>\n",
       "    <tr>\n",
       "      <th class=\"index_name level0\" >Fold</th>\n",
       "      <th class=\"blank col0\" >&nbsp;</th>\n",
       "      <th class=\"blank col1\" >&nbsp;</th>\n",
       "      <th class=\"blank col2\" >&nbsp;</th>\n",
       "      <th class=\"blank col3\" >&nbsp;</th>\n",
       "      <th class=\"blank col4\" >&nbsp;</th>\n",
       "      <th class=\"blank col5\" >&nbsp;</th>\n",
       "    </tr>\n",
       "  </thead>\n",
       "  <tbody>\n",
       "    <tr>\n",
       "      <th id=\"T_561f1_level0_row0\" class=\"row_heading level0 row0\" >0</th>\n",
       "      <td id=\"T_561f1_row0_col0\" class=\"data row0 col0\" >4.6779</td>\n",
       "      <td id=\"T_561f1_row0_col1\" class=\"data row0 col1\" >34.3328</td>\n",
       "      <td id=\"T_561f1_row0_col2\" class=\"data row0 col2\" >5.8594</td>\n",
       "      <td id=\"T_561f1_row0_col3\" class=\"data row0 col3\" >0.9582</td>\n",
       "      <td id=\"T_561f1_row0_col4\" class=\"data row0 col4\" >0.0887</td>\n",
       "      <td id=\"T_561f1_row0_col5\" class=\"data row0 col5\" >0.0733</td>\n",
       "    </tr>\n",
       "    <tr>\n",
       "      <th id=\"T_561f1_level0_row1\" class=\"row_heading level0 row1\" >1</th>\n",
       "      <td id=\"T_561f1_row1_col0\" class=\"data row1 col0\" >5.3189</td>\n",
       "      <td id=\"T_561f1_row1_col1\" class=\"data row1 col1\" >59.4736</td>\n",
       "      <td id=\"T_561f1_row1_col2\" class=\"data row1 col2\" >7.7119</td>\n",
       "      <td id=\"T_561f1_row1_col3\" class=\"data row1 col3\" >0.9160</td>\n",
       "      <td id=\"T_561f1_row1_col4\" class=\"data row1 col4\" >0.1146</td>\n",
       "      <td id=\"T_561f1_row1_col5\" class=\"data row1 col5\" >0.0891</td>\n",
       "    </tr>\n",
       "    <tr>\n",
       "      <th id=\"T_561f1_level0_row2\" class=\"row_heading level0 row2\" >2</th>\n",
       "      <td id=\"T_561f1_row2_col0\" class=\"data row2 col0\" >3.8750</td>\n",
       "      <td id=\"T_561f1_row2_col1\" class=\"data row2 col1\" >23.5710</td>\n",
       "      <td id=\"T_561f1_row2_col2\" class=\"data row2 col2\" >4.8550</td>\n",
       "      <td id=\"T_561f1_row2_col3\" class=\"data row2 col3\" >0.9644</td>\n",
       "      <td id=\"T_561f1_row2_col4\" class=\"data row2 col4\" >0.0919</td>\n",
       "      <td id=\"T_561f1_row2_col5\" class=\"data row2 col5\" >0.0699</td>\n",
       "    </tr>\n",
       "    <tr>\n",
       "      <th id=\"T_561f1_level0_row3\" class=\"row_heading level0 row3\" >3</th>\n",
       "      <td id=\"T_561f1_row3_col0\" class=\"data row3 col0\" >5.5547</td>\n",
       "      <td id=\"T_561f1_row3_col1\" class=\"data row3 col1\" >57.3705</td>\n",
       "      <td id=\"T_561f1_row3_col2\" class=\"data row3 col2\" >7.5743</td>\n",
       "      <td id=\"T_561f1_row3_col3\" class=\"data row3 col3\" >0.9371</td>\n",
       "      <td id=\"T_561f1_row3_col4\" class=\"data row3 col4\" >0.1880</td>\n",
       "      <td id=\"T_561f1_row3_col5\" class=\"data row3 col5\" >0.1366</td>\n",
       "    </tr>\n",
       "    <tr>\n",
       "      <th id=\"T_561f1_level0_row4\" class=\"row_heading level0 row4\" >4</th>\n",
       "      <td id=\"T_561f1_row4_col0\" class=\"data row4 col0\" >3.3128</td>\n",
       "      <td id=\"T_561f1_row4_col1\" class=\"data row4 col1\" >20.7651</td>\n",
       "      <td id=\"T_561f1_row4_col2\" class=\"data row4 col2\" >4.5569</td>\n",
       "      <td id=\"T_561f1_row4_col3\" class=\"data row4 col3\" >0.9684</td>\n",
       "      <td id=\"T_561f1_row4_col4\" class=\"data row4 col4\" >0.0884</td>\n",
       "      <td id=\"T_561f1_row4_col5\" class=\"data row4 col5\" >0.0626</td>\n",
       "    </tr>\n",
       "    <tr>\n",
       "      <th id=\"T_561f1_level0_row5\" class=\"row_heading level0 row5\" >Mean</th>\n",
       "      <td id=\"T_561f1_row5_col0\" class=\"data row5 col0\" >4.5479</td>\n",
       "      <td id=\"T_561f1_row5_col1\" class=\"data row5 col1\" >39.1026</td>\n",
       "      <td id=\"T_561f1_row5_col2\" class=\"data row5 col2\" >6.1115</td>\n",
       "      <td id=\"T_561f1_row5_col3\" class=\"data row5 col3\" >0.9488</td>\n",
       "      <td id=\"T_561f1_row5_col4\" class=\"data row5 col4\" >0.1143</td>\n",
       "      <td id=\"T_561f1_row5_col5\" class=\"data row5 col5\" >0.0863</td>\n",
       "    </tr>\n",
       "    <tr>\n",
       "      <th id=\"T_561f1_level0_row6\" class=\"row_heading level0 row6\" >Std</th>\n",
       "      <td id=\"T_561f1_row6_col0\" class=\"data row6 col0\" >0.8489</td>\n",
       "      <td id=\"T_561f1_row6_col1\" class=\"data row6 col1\" >16.4252</td>\n",
       "      <td id=\"T_561f1_row6_col2\" class=\"data row6 col2\" >1.3237</td>\n",
       "      <td id=\"T_561f1_row6_col3\" class=\"data row6 col3\" >0.0196</td>\n",
       "      <td id=\"T_561f1_row6_col4\" class=\"data row6 col4\" >0.0381</td>\n",
       "      <td id=\"T_561f1_row6_col5\" class=\"data row6 col5\" >0.0266</td>\n",
       "    </tr>\n",
       "  </tbody>\n",
       "</table>\n"
      ],
      "text/plain": [
       "<pandas.io.formats.style.Styler at 0x1cb08b8f9a0>"
      ]
     },
     "metadata": {},
     "output_type": "display_data"
    },
    {
     "data": {
      "text/html": [],
      "text/plain": [
       "<IPython.core.display.HTML object>"
      ]
     },
     "metadata": {},
     "output_type": "display_data"
    },
    {
     "name": "stdout",
     "output_type": "stream",
     "text": [
      "Fitting 5 folds for each of 120 candidates, totalling 600 fits\n"
     ]
    },
    {
     "data": {
      "text/html": [],
      "text/plain": [
       "<IPython.core.display.HTML object>"
      ]
     },
     "metadata": {},
     "output_type": "display_data"
    },
    {
     "data": {
      "text/html": [
       "<style type=\"text/css\">\n",
       "#T_6034c_row5_col0, #T_6034c_row5_col1, #T_6034c_row5_col2, #T_6034c_row5_col3, #T_6034c_row5_col4, #T_6034c_row5_col5 {\n",
       "  background: yellow;\n",
       "}\n",
       "</style>\n",
       "<table id=\"T_6034c\">\n",
       "  <thead>\n",
       "    <tr>\n",
       "      <th class=\"blank level0\" >&nbsp;</th>\n",
       "      <th id=\"T_6034c_level0_col0\" class=\"col_heading level0 col0\" >MAE</th>\n",
       "      <th id=\"T_6034c_level0_col1\" class=\"col_heading level0 col1\" >MSE</th>\n",
       "      <th id=\"T_6034c_level0_col2\" class=\"col_heading level0 col2\" >RMSE</th>\n",
       "      <th id=\"T_6034c_level0_col3\" class=\"col_heading level0 col3\" >R2</th>\n",
       "      <th id=\"T_6034c_level0_col4\" class=\"col_heading level0 col4\" >RMSLE</th>\n",
       "      <th id=\"T_6034c_level0_col5\" class=\"col_heading level0 col5\" >MAPE</th>\n",
       "    </tr>\n",
       "    <tr>\n",
       "      <th class=\"index_name level0\" >Fold</th>\n",
       "      <th class=\"blank col0\" >&nbsp;</th>\n",
       "      <th class=\"blank col1\" >&nbsp;</th>\n",
       "      <th class=\"blank col2\" >&nbsp;</th>\n",
       "      <th class=\"blank col3\" >&nbsp;</th>\n",
       "      <th class=\"blank col4\" >&nbsp;</th>\n",
       "      <th class=\"blank col5\" >&nbsp;</th>\n",
       "    </tr>\n",
       "  </thead>\n",
       "  <tbody>\n",
       "    <tr>\n",
       "      <th id=\"T_6034c_level0_row0\" class=\"row_heading level0 row0\" >0</th>\n",
       "      <td id=\"T_6034c_row0_col0\" class=\"data row0 col0\" >5.0395</td>\n",
       "      <td id=\"T_6034c_row0_col1\" class=\"data row0 col1\" >45.9624</td>\n",
       "      <td id=\"T_6034c_row0_col2\" class=\"data row0 col2\" >6.7796</td>\n",
       "      <td id=\"T_6034c_row0_col3\" class=\"data row0 col3\" >0.9441</td>\n",
       "      <td id=\"T_6034c_row0_col4\" class=\"data row0 col4\" >0.0968</td>\n",
       "      <td id=\"T_6034c_row0_col5\" class=\"data row0 col5\" >0.0765</td>\n",
       "    </tr>\n",
       "    <tr>\n",
       "      <th id=\"T_6034c_level0_row1\" class=\"row_heading level0 row1\" >1</th>\n",
       "      <td id=\"T_6034c_row1_col0\" class=\"data row1 col0\" >5.2368</td>\n",
       "      <td id=\"T_6034c_row1_col1\" class=\"data row1 col1\" >63.5893</td>\n",
       "      <td id=\"T_6034c_row1_col2\" class=\"data row1 col2\" >7.9743</td>\n",
       "      <td id=\"T_6034c_row1_col3\" class=\"data row1 col3\" >0.9102</td>\n",
       "      <td id=\"T_6034c_row1_col4\" class=\"data row1 col4\" >0.1152</td>\n",
       "      <td id=\"T_6034c_row1_col5\" class=\"data row1 col5\" >0.0867</td>\n",
       "    </tr>\n",
       "    <tr>\n",
       "      <th id=\"T_6034c_level0_row2\" class=\"row_heading level0 row2\" >2</th>\n",
       "      <td id=\"T_6034c_row2_col0\" class=\"data row2 col0\" >4.6568</td>\n",
       "      <td id=\"T_6034c_row2_col1\" class=\"data row2 col1\" >32.5161</td>\n",
       "      <td id=\"T_6034c_row2_col2\" class=\"data row2 col2\" >5.7023</td>\n",
       "      <td id=\"T_6034c_row2_col3\" class=\"data row2 col3\" >0.9509</td>\n",
       "      <td id=\"T_6034c_row2_col4\" class=\"data row2 col4\" >0.1029</td>\n",
       "      <td id=\"T_6034c_row2_col5\" class=\"data row2 col5\" >0.0790</td>\n",
       "    </tr>\n",
       "    <tr>\n",
       "      <th id=\"T_6034c_level0_row3\" class=\"row_heading level0 row3\" >3</th>\n",
       "      <td id=\"T_6034c_row3_col0\" class=\"data row3 col0\" >5.6617</td>\n",
       "      <td id=\"T_6034c_row3_col1\" class=\"data row3 col1\" >57.0659</td>\n",
       "      <td id=\"T_6034c_row3_col2\" class=\"data row3 col2\" >7.5542</td>\n",
       "      <td id=\"T_6034c_row3_col3\" class=\"data row3 col3\" >0.9374</td>\n",
       "      <td id=\"T_6034c_row3_col4\" class=\"data row3 col4\" >0.1773</td>\n",
       "      <td id=\"T_6034c_row3_col5\" class=\"data row3 col5\" >0.1340</td>\n",
       "    </tr>\n",
       "    <tr>\n",
       "      <th id=\"T_6034c_level0_row4\" class=\"row_heading level0 row4\" >4</th>\n",
       "      <td id=\"T_6034c_row4_col0\" class=\"data row4 col0\" >5.0891</td>\n",
       "      <td id=\"T_6034c_row4_col1\" class=\"data row4 col1\" >46.3525</td>\n",
       "      <td id=\"T_6034c_row4_col2\" class=\"data row4 col2\" >6.8083</td>\n",
       "      <td id=\"T_6034c_row4_col3\" class=\"data row4 col3\" >0.9295</td>\n",
       "      <td id=\"T_6034c_row4_col4\" class=\"data row4 col4\" >0.1196</td>\n",
       "      <td id=\"T_6034c_row4_col5\" class=\"data row4 col5\" >0.0911</td>\n",
       "    </tr>\n",
       "    <tr>\n",
       "      <th id=\"T_6034c_level0_row5\" class=\"row_heading level0 row5\" >Mean</th>\n",
       "      <td id=\"T_6034c_row5_col0\" class=\"data row5 col0\" >5.1368</td>\n",
       "      <td id=\"T_6034c_row5_col1\" class=\"data row5 col1\" >49.0972</td>\n",
       "      <td id=\"T_6034c_row5_col2\" class=\"data row5 col2\" >6.9637</td>\n",
       "      <td id=\"T_6034c_row5_col3\" class=\"data row5 col3\" >0.9344</td>\n",
       "      <td id=\"T_6034c_row5_col4\" class=\"data row5 col4\" >0.1224</td>\n",
       "      <td id=\"T_6034c_row5_col5\" class=\"data row5 col5\" >0.0935</td>\n",
       "    </tr>\n",
       "    <tr>\n",
       "      <th id=\"T_6034c_level0_row6\" class=\"row_heading level0 row6\" >Std</th>\n",
       "      <td id=\"T_6034c_row6_col0\" class=\"data row6 col0\" >0.3248</td>\n",
       "      <td id=\"T_6034c_row6_col1\" class=\"data row6 col1\" >10.6378</td>\n",
       "      <td id=\"T_6034c_row6_col2\" class=\"data row6 col2\" >0.7771</td>\n",
       "      <td id=\"T_6034c_row6_col3\" class=\"data row6 col3\" >0.0140</td>\n",
       "      <td id=\"T_6034c_row6_col4\" class=\"data row6 col4\" >0.0287</td>\n",
       "      <td id=\"T_6034c_row6_col5\" class=\"data row6 col5\" >0.0209</td>\n",
       "    </tr>\n",
       "  </tbody>\n",
       "</table>\n"
      ],
      "text/plain": [
       "<pandas.io.formats.style.Styler at 0x1cb07ce08e0>"
      ]
     },
     "metadata": {},
     "output_type": "display_data"
    },
    {
     "data": {
      "text/html": [],
      "text/plain": [
       "<IPython.core.display.HTML object>"
      ]
     },
     "metadata": {},
     "output_type": "display_data"
    },
    {
     "name": "stdout",
     "output_type": "stream",
     "text": [
      "Fitting 5 folds for each of 120 candidates, totalling 600 fits\n"
     ]
    },
    {
     "data": {
      "text/html": [],
      "text/plain": [
       "<IPython.core.display.HTML object>"
      ]
     },
     "metadata": {},
     "output_type": "display_data"
    },
    {
     "data": {
      "text/html": [
       "<style type=\"text/css\">\n",
       "#T_eab72_row5_col0, #T_eab72_row5_col1, #T_eab72_row5_col2, #T_eab72_row5_col3, #T_eab72_row5_col4, #T_eab72_row5_col5 {\n",
       "  background: yellow;\n",
       "}\n",
       "</style>\n",
       "<table id=\"T_eab72\">\n",
       "  <thead>\n",
       "    <tr>\n",
       "      <th class=\"blank level0\" >&nbsp;</th>\n",
       "      <th id=\"T_eab72_level0_col0\" class=\"col_heading level0 col0\" >MAE</th>\n",
       "      <th id=\"T_eab72_level0_col1\" class=\"col_heading level0 col1\" >MSE</th>\n",
       "      <th id=\"T_eab72_level0_col2\" class=\"col_heading level0 col2\" >RMSE</th>\n",
       "      <th id=\"T_eab72_level0_col3\" class=\"col_heading level0 col3\" >R2</th>\n",
       "      <th id=\"T_eab72_level0_col4\" class=\"col_heading level0 col4\" >RMSLE</th>\n",
       "      <th id=\"T_eab72_level0_col5\" class=\"col_heading level0 col5\" >MAPE</th>\n",
       "    </tr>\n",
       "    <tr>\n",
       "      <th class=\"index_name level0\" >Fold</th>\n",
       "      <th class=\"blank col0\" >&nbsp;</th>\n",
       "      <th class=\"blank col1\" >&nbsp;</th>\n",
       "      <th class=\"blank col2\" >&nbsp;</th>\n",
       "      <th class=\"blank col3\" >&nbsp;</th>\n",
       "      <th class=\"blank col4\" >&nbsp;</th>\n",
       "      <th class=\"blank col5\" >&nbsp;</th>\n",
       "    </tr>\n",
       "  </thead>\n",
       "  <tbody>\n",
       "    <tr>\n",
       "      <th id=\"T_eab72_level0_row0\" class=\"row_heading level0 row0\" >0</th>\n",
       "      <td id=\"T_eab72_row0_col0\" class=\"data row0 col0\" >4.8397</td>\n",
       "      <td id=\"T_eab72_row0_col1\" class=\"data row0 col1\" >41.2268</td>\n",
       "      <td id=\"T_eab72_row0_col2\" class=\"data row0 col2\" >6.4208</td>\n",
       "      <td id=\"T_eab72_row0_col3\" class=\"data row0 col3\" >0.9498</td>\n",
       "      <td id=\"T_eab72_row0_col4\" class=\"data row0 col4\" >0.0884</td>\n",
       "      <td id=\"T_eab72_row0_col5\" class=\"data row0 col5\" >0.0729</td>\n",
       "    </tr>\n",
       "    <tr>\n",
       "      <th id=\"T_eab72_level0_row1\" class=\"row_heading level0 row1\" >1</th>\n",
       "      <td id=\"T_eab72_row1_col0\" class=\"data row1 col0\" >4.7935</td>\n",
       "      <td id=\"T_eab72_row1_col1\" class=\"data row1 col1\" >52.8236</td>\n",
       "      <td id=\"T_eab72_row1_col2\" class=\"data row1 col2\" >7.2680</td>\n",
       "      <td id=\"T_eab72_row1_col3\" class=\"data row1 col3\" >0.9254</td>\n",
       "      <td id=\"T_eab72_row1_col4\" class=\"data row1 col4\" >0.1071</td>\n",
       "      <td id=\"T_eab72_row1_col5\" class=\"data row1 col5\" >0.0774</td>\n",
       "    </tr>\n",
       "    <tr>\n",
       "      <th id=\"T_eab72_level0_row2\" class=\"row_heading level0 row2\" >2</th>\n",
       "      <td id=\"T_eab72_row2_col0\" class=\"data row2 col0\" >4.2358</td>\n",
       "      <td id=\"T_eab72_row2_col1\" class=\"data row2 col1\" >27.6849</td>\n",
       "      <td id=\"T_eab72_row2_col2\" class=\"data row2 col2\" >5.2616</td>\n",
       "      <td id=\"T_eab72_row2_col3\" class=\"data row2 col3\" >0.9582</td>\n",
       "      <td id=\"T_eab72_row2_col4\" class=\"data row2 col4\" >0.0891</td>\n",
       "      <td id=\"T_eab72_row2_col5\" class=\"data row2 col5\" >0.0741</td>\n",
       "    </tr>\n",
       "    <tr>\n",
       "      <th id=\"T_eab72_level0_row3\" class=\"row_heading level0 row3\" >3</th>\n",
       "      <td id=\"T_eab72_row3_col0\" class=\"data row3 col0\" >5.7356</td>\n",
       "      <td id=\"T_eab72_row3_col1\" class=\"data row3 col1\" >60.7155</td>\n",
       "      <td id=\"T_eab72_row3_col2\" class=\"data row3 col2\" >7.7920</td>\n",
       "      <td id=\"T_eab72_row3_col3\" class=\"data row3 col3\" >0.9334</td>\n",
       "      <td id=\"T_eab72_row3_col4\" class=\"data row3 col4\" >0.1975</td>\n",
       "      <td id=\"T_eab72_row3_col5\" class=\"data row3 col5\" >0.1446</td>\n",
       "    </tr>\n",
       "    <tr>\n",
       "      <th id=\"T_eab72_level0_row4\" class=\"row_heading level0 row4\" >4</th>\n",
       "      <td id=\"T_eab72_row4_col0\" class=\"data row4 col0\" >4.0213</td>\n",
       "      <td id=\"T_eab72_row4_col1\" class=\"data row4 col1\" >32.0038</td>\n",
       "      <td id=\"T_eab72_row4_col2\" class=\"data row4 col2\" >5.6572</td>\n",
       "      <td id=\"T_eab72_row4_col3\" class=\"data row4 col3\" >0.9513</td>\n",
       "      <td id=\"T_eab72_row4_col4\" class=\"data row4 col4\" >0.1077</td>\n",
       "      <td id=\"T_eab72_row4_col5\" class=\"data row4 col5\" >0.0763</td>\n",
       "    </tr>\n",
       "    <tr>\n",
       "      <th id=\"T_eab72_level0_row5\" class=\"row_heading level0 row5\" >Mean</th>\n",
       "      <td id=\"T_eab72_row5_col0\" class=\"data row5 col0\" >4.7252</td>\n",
       "      <td id=\"T_eab72_row5_col1\" class=\"data row5 col1\" >42.8909</td>\n",
       "      <td id=\"T_eab72_row5_col2\" class=\"data row5 col2\" >6.4799</td>\n",
       "      <td id=\"T_eab72_row5_col3\" class=\"data row5 col3\" >0.9436</td>\n",
       "      <td id=\"T_eab72_row5_col4\" class=\"data row5 col4\" >0.1180</td>\n",
       "      <td id=\"T_eab72_row5_col5\" class=\"data row5 col5\" >0.0891</td>\n",
       "    </tr>\n",
       "    <tr>\n",
       "      <th id=\"T_eab72_level0_row6\" class=\"row_heading level0 row6\" >Std</th>\n",
       "      <td id=\"T_eab72_row6_col0\" class=\"data row6 col0\" >0.5956</td>\n",
       "      <td id=\"T_eab72_row6_col1\" class=\"data row6 col1\" >12.4008</td>\n",
       "      <td id=\"T_eab72_row6_col2\" class=\"data row6 col2\" >0.9494</td>\n",
       "      <td id=\"T_eab72_row6_col3\" class=\"data row6 col3\" >0.0122</td>\n",
       "      <td id=\"T_eab72_row6_col4\" class=\"data row6 col4\" >0.0406</td>\n",
       "      <td id=\"T_eab72_row6_col5\" class=\"data row6 col5\" >0.0278</td>\n",
       "    </tr>\n",
       "  </tbody>\n",
       "</table>\n"
      ],
      "text/plain": [
       "<pandas.io.formats.style.Styler at 0x1cb070273d0>"
      ]
     },
     "metadata": {},
     "output_type": "display_data"
    },
    {
     "data": {
      "text/html": [],
      "text/plain": [
       "<IPython.core.display.HTML object>"
      ]
     },
     "metadata": {},
     "output_type": "display_data"
    },
    {
     "name": "stdout",
     "output_type": "stream",
     "text": [
      "Fitting 5 folds for each of 120 candidates, totalling 600 fits\n"
     ]
    },
    {
     "data": {
      "text/html": [],
      "text/plain": [
       "<IPython.core.display.HTML object>"
      ]
     },
     "metadata": {},
     "output_type": "display_data"
    },
    {
     "data": {
      "text/html": [
       "<style type=\"text/css\">\n",
       "#T_7ca28_row5_col0, #T_7ca28_row5_col1, #T_7ca28_row5_col2, #T_7ca28_row5_col3, #T_7ca28_row5_col4, #T_7ca28_row5_col5 {\n",
       "  background: yellow;\n",
       "}\n",
       "</style>\n",
       "<table id=\"T_7ca28\">\n",
       "  <thead>\n",
       "    <tr>\n",
       "      <th class=\"blank level0\" >&nbsp;</th>\n",
       "      <th id=\"T_7ca28_level0_col0\" class=\"col_heading level0 col0\" >MAE</th>\n",
       "      <th id=\"T_7ca28_level0_col1\" class=\"col_heading level0 col1\" >MSE</th>\n",
       "      <th id=\"T_7ca28_level0_col2\" class=\"col_heading level0 col2\" >RMSE</th>\n",
       "      <th id=\"T_7ca28_level0_col3\" class=\"col_heading level0 col3\" >R2</th>\n",
       "      <th id=\"T_7ca28_level0_col4\" class=\"col_heading level0 col4\" >RMSLE</th>\n",
       "      <th id=\"T_7ca28_level0_col5\" class=\"col_heading level0 col5\" >MAPE</th>\n",
       "    </tr>\n",
       "    <tr>\n",
       "      <th class=\"index_name level0\" >Fold</th>\n",
       "      <th class=\"blank col0\" >&nbsp;</th>\n",
       "      <th class=\"blank col1\" >&nbsp;</th>\n",
       "      <th class=\"blank col2\" >&nbsp;</th>\n",
       "      <th class=\"blank col3\" >&nbsp;</th>\n",
       "      <th class=\"blank col4\" >&nbsp;</th>\n",
       "      <th class=\"blank col5\" >&nbsp;</th>\n",
       "    </tr>\n",
       "  </thead>\n",
       "  <tbody>\n",
       "    <tr>\n",
       "      <th id=\"T_7ca28_level0_row0\" class=\"row_heading level0 row0\" >0</th>\n",
       "      <td id=\"T_7ca28_row0_col0\" class=\"data row0 col0\" >6.7322</td>\n",
       "      <td id=\"T_7ca28_row0_col1\" class=\"data row0 col1\" >67.2937</td>\n",
       "      <td id=\"T_7ca28_row0_col2\" class=\"data row0 col2\" >8.2033</td>\n",
       "      <td id=\"T_7ca28_row0_col3\" class=\"data row0 col3\" >0.9181</td>\n",
       "      <td id=\"T_7ca28_row0_col4\" class=\"data row0 col4\" >0.1426</td>\n",
       "      <td id=\"T_7ca28_row0_col5\" class=\"data row0 col5\" >0.1131</td>\n",
       "    </tr>\n",
       "    <tr>\n",
       "      <th id=\"T_7ca28_level0_row1\" class=\"row_heading level0 row1\" >1</th>\n",
       "      <td id=\"T_7ca28_row1_col0\" class=\"data row1 col0\" >5.1848</td>\n",
       "      <td id=\"T_7ca28_row1_col1\" class=\"data row1 col1\" >49.8998</td>\n",
       "      <td id=\"T_7ca28_row1_col2\" class=\"data row1 col2\" >7.0640</td>\n",
       "      <td id=\"T_7ca28_row1_col3\" class=\"data row1 col3\" >0.9295</td>\n",
       "      <td id=\"T_7ca28_row1_col4\" class=\"data row1 col4\" >0.1604</td>\n",
       "      <td id=\"T_7ca28_row1_col5\" class=\"data row1 col5\" >0.1058</td>\n",
       "    </tr>\n",
       "    <tr>\n",
       "      <th id=\"T_7ca28_level0_row2\" class=\"row_heading level0 row2\" >2</th>\n",
       "      <td id=\"T_7ca28_row2_col0\" class=\"data row2 col0\" >6.0945</td>\n",
       "      <td id=\"T_7ca28_row2_col1\" class=\"data row2 col1\" >53.8813</td>\n",
       "      <td id=\"T_7ca28_row2_col2\" class=\"data row2 col2\" >7.3404</td>\n",
       "      <td id=\"T_7ca28_row2_col3\" class=\"data row2 col3\" >0.9186</td>\n",
       "      <td id=\"T_7ca28_row2_col4\" class=\"data row2 col4\" >0.1291</td>\n",
       "      <td id=\"T_7ca28_row2_col5\" class=\"data row2 col5\" >0.1077</td>\n",
       "    </tr>\n",
       "    <tr>\n",
       "      <th id=\"T_7ca28_level0_row3\" class=\"row_heading level0 row3\" >3</th>\n",
       "      <td id=\"T_7ca28_row3_col0\" class=\"data row3 col0\" >6.5391</td>\n",
       "      <td id=\"T_7ca28_row3_col1\" class=\"data row3 col1\" >72.1733</td>\n",
       "      <td id=\"T_7ca28_row3_col2\" class=\"data row3 col2\" >8.4955</td>\n",
       "      <td id=\"T_7ca28_row3_col3\" class=\"data row3 col3\" >0.9208</td>\n",
       "      <td id=\"T_7ca28_row3_col4\" class=\"data row3 col4\" >0.2117</td>\n",
       "      <td id=\"T_7ca28_row3_col5\" class=\"data row3 col5\" >0.1610</td>\n",
       "    </tr>\n",
       "    <tr>\n",
       "      <th id=\"T_7ca28_level0_row4\" class=\"row_heading level0 row4\" >4</th>\n",
       "      <td id=\"T_7ca28_row4_col0\" class=\"data row4 col0\" >4.9277</td>\n",
       "      <td id=\"T_7ca28_row4_col1\" class=\"data row4 col1\" >40.1634</td>\n",
       "      <td id=\"T_7ca28_row4_col2\" class=\"data row4 col2\" >6.3375</td>\n",
       "      <td id=\"T_7ca28_row4_col3\" class=\"data row4 col3\" >0.9389</td>\n",
       "      <td id=\"T_7ca28_row4_col4\" class=\"data row4 col4\" >0.1320</td>\n",
       "      <td id=\"T_7ca28_row4_col5\" class=\"data row4 col5\" >0.1022</td>\n",
       "    </tr>\n",
       "    <tr>\n",
       "      <th id=\"T_7ca28_level0_row5\" class=\"row_heading level0 row5\" >Mean</th>\n",
       "      <td id=\"T_7ca28_row5_col0\" class=\"data row5 col0\" >5.8957</td>\n",
       "      <td id=\"T_7ca28_row5_col1\" class=\"data row5 col1\" >56.6823</td>\n",
       "      <td id=\"T_7ca28_row5_col2\" class=\"data row5 col2\" >7.4881</td>\n",
       "      <td id=\"T_7ca28_row5_col3\" class=\"data row5 col3\" >0.9252</td>\n",
       "      <td id=\"T_7ca28_row5_col4\" class=\"data row5 col4\" >0.1551</td>\n",
       "      <td id=\"T_7ca28_row5_col5\" class=\"data row5 col5\" >0.1180</td>\n",
       "    </tr>\n",
       "    <tr>\n",
       "      <th id=\"T_7ca28_level0_row6\" class=\"row_heading level0 row6\" >Std</th>\n",
       "      <td id=\"T_7ca28_row6_col0\" class=\"data row6 col0\" >0.7205</td>\n",
       "      <td id=\"T_7ca28_row6_col1\" class=\"data row6 col1\" >11.6559</td>\n",
       "      <td id=\"T_7ca28_row6_col2\" class=\"data row6 col2\" >0.7813</td>\n",
       "      <td id=\"T_7ca28_row6_col3\" class=\"data row6 col3\" >0.0080</td>\n",
       "      <td id=\"T_7ca28_row6_col4\" class=\"data row6 col4\" >0.0303</td>\n",
       "      <td id=\"T_7ca28_row6_col5\" class=\"data row6 col5\" >0.0218</td>\n",
       "    </tr>\n",
       "  </tbody>\n",
       "</table>\n"
      ],
      "text/plain": [
       "<pandas.io.formats.style.Styler at 0x1cb04f009d0>"
      ]
     },
     "metadata": {},
     "output_type": "display_data"
    },
    {
     "data": {
      "text/html": [],
      "text/plain": [
       "<IPython.core.display.HTML object>"
      ]
     },
     "metadata": {},
     "output_type": "display_data"
    },
    {
     "name": "stdout",
     "output_type": "stream",
     "text": [
      "Fitting 5 folds for each of 4 candidates, totalling 20 fits\n",
      "Original model was better than the tuned model, hence it will be returned. NOTE: The display metrics are for the tuned model (not the original one).\n"
     ]
    }
   ],
   "source": [
    "#create an empty list with 5 elements\n",
    "tuned_top5 = [None] * 5\n",
    "\n",
    "#counter\n",
    "i = 0 \n",
    "\n",
    "#interate over the top5 and store the tuned models\n",
    "for top in top5:\n",
    "    #tune the model\n",
    "    tuned_top5[i] = tune_model(top, n_iter=120, optimize='RMSE', fold=5) \n",
    "    \n",
    "    # Save the dataframe to CSV\n",
    "    tuned_name  = 'pycaret_tune_model_' + str(i+1)\n",
    "    globals()[tuned_name] = pull()\n",
    "    \n",
    "    i += 1"
   ]
  },
  {
   "cell_type": "markdown",
   "id": "7d0252af",
   "metadata": {},
   "source": [
    "### Combine top 5 models"
   ]
  },
  {
   "cell_type": "markdown",
   "id": "ab7a86a5",
   "metadata": {},
   "source": [
    "#### Build blend models"
   ]
  },
  {
   "cell_type": "code",
   "execution_count": 34,
   "id": "57a42df8",
   "metadata": {},
   "outputs": [
    {
     "data": {
      "text/html": [],
      "text/plain": [
       "<IPython.core.display.HTML object>"
      ]
     },
     "metadata": {},
     "output_type": "display_data"
    },
    {
     "data": {
      "text/html": [
       "<style type=\"text/css\">\n",
       "#T_12146_row5_col0, #T_12146_row5_col1, #T_12146_row5_col2, #T_12146_row5_col3, #T_12146_row5_col4, #T_12146_row5_col5 {\n",
       "  background: yellow;\n",
       "}\n",
       "</style>\n",
       "<table id=\"T_12146\">\n",
       "  <thead>\n",
       "    <tr>\n",
       "      <th class=\"blank level0\" >&nbsp;</th>\n",
       "      <th id=\"T_12146_level0_col0\" class=\"col_heading level0 col0\" >MAE</th>\n",
       "      <th id=\"T_12146_level0_col1\" class=\"col_heading level0 col1\" >MSE</th>\n",
       "      <th id=\"T_12146_level0_col2\" class=\"col_heading level0 col2\" >RMSE</th>\n",
       "      <th id=\"T_12146_level0_col3\" class=\"col_heading level0 col3\" >R2</th>\n",
       "      <th id=\"T_12146_level0_col4\" class=\"col_heading level0 col4\" >RMSLE</th>\n",
       "      <th id=\"T_12146_level0_col5\" class=\"col_heading level0 col5\" >MAPE</th>\n",
       "    </tr>\n",
       "    <tr>\n",
       "      <th class=\"index_name level0\" >Fold</th>\n",
       "      <th class=\"blank col0\" >&nbsp;</th>\n",
       "      <th class=\"blank col1\" >&nbsp;</th>\n",
       "      <th class=\"blank col2\" >&nbsp;</th>\n",
       "      <th class=\"blank col3\" >&nbsp;</th>\n",
       "      <th class=\"blank col4\" >&nbsp;</th>\n",
       "      <th class=\"blank col5\" >&nbsp;</th>\n",
       "    </tr>\n",
       "  </thead>\n",
       "  <tbody>\n",
       "    <tr>\n",
       "      <th id=\"T_12146_level0_row0\" class=\"row_heading level0 row0\" >0</th>\n",
       "      <td id=\"T_12146_row0_col0\" class=\"data row0 col0\" >4.7849</td>\n",
       "      <td id=\"T_12146_row0_col1\" class=\"data row0 col1\" >36.0137</td>\n",
       "      <td id=\"T_12146_row0_col2\" class=\"data row0 col2\" >6.0011</td>\n",
       "      <td id=\"T_12146_row0_col3\" class=\"data row0 col3\" >0.9562</td>\n",
       "      <td id=\"T_12146_row0_col4\" class=\"data row0 col4\" >0.0872</td>\n",
       "      <td id=\"T_12146_row0_col5\" class=\"data row0 col5\" >0.0736</td>\n",
       "    </tr>\n",
       "    <tr>\n",
       "      <th id=\"T_12146_level0_row1\" class=\"row_heading level0 row1\" >1</th>\n",
       "      <td id=\"T_12146_row1_col0\" class=\"data row1 col0\" >4.4661</td>\n",
       "      <td id=\"T_12146_row1_col1\" class=\"data row1 col1\" >47.8932</td>\n",
       "      <td id=\"T_12146_row1_col2\" class=\"data row1 col2\" >6.9205</td>\n",
       "      <td id=\"T_12146_row1_col3\" class=\"data row1 col3\" >0.9324</td>\n",
       "      <td id=\"T_12146_row1_col4\" class=\"data row1 col4\" >0.1016</td>\n",
       "      <td id=\"T_12146_row1_col5\" class=\"data row1 col5\" >0.0757</td>\n",
       "    </tr>\n",
       "    <tr>\n",
       "      <th id=\"T_12146_level0_row2\" class=\"row_heading level0 row2\" >2</th>\n",
       "      <td id=\"T_12146_row2_col0\" class=\"data row2 col0\" >4.3926</td>\n",
       "      <td id=\"T_12146_row2_col1\" class=\"data row2 col1\" >28.0386</td>\n",
       "      <td id=\"T_12146_row2_col2\" class=\"data row2 col2\" >5.2951</td>\n",
       "      <td id=\"T_12146_row2_col3\" class=\"data row2 col3\" >0.9577</td>\n",
       "      <td id=\"T_12146_row2_col4\" class=\"data row2 col4\" >0.0908</td>\n",
       "      <td id=\"T_12146_row2_col5\" class=\"data row2 col5\" >0.0752</td>\n",
       "    </tr>\n",
       "    <tr>\n",
       "      <th id=\"T_12146_level0_row3\" class=\"row_heading level0 row3\" >3</th>\n",
       "      <td id=\"T_12146_row3_col0\" class=\"data row3 col0\" >5.4943</td>\n",
       "      <td id=\"T_12146_row3_col1\" class=\"data row3 col1\" >53.3835</td>\n",
       "      <td id=\"T_12146_row3_col2\" class=\"data row3 col2\" >7.3064</td>\n",
       "      <td id=\"T_12146_row3_col3\" class=\"data row3 col3\" >0.9415</td>\n",
       "      <td id=\"T_12146_row3_col4\" class=\"data row3 col4\" >0.1802</td>\n",
       "      <td id=\"T_12146_row3_col5\" class=\"data row3 col5\" >0.1332</td>\n",
       "    </tr>\n",
       "    <tr>\n",
       "      <th id=\"T_12146_level0_row4\" class=\"row_heading level0 row4\" >4</th>\n",
       "      <td id=\"T_12146_row4_col0\" class=\"data row4 col0\" >3.8538</td>\n",
       "      <td id=\"T_12146_row4_col1\" class=\"data row4 col1\" >29.3091</td>\n",
       "      <td id=\"T_12146_row4_col2\" class=\"data row4 col2\" >5.4138</td>\n",
       "      <td id=\"T_12146_row4_col3\" class=\"data row4 col3\" >0.9554</td>\n",
       "      <td id=\"T_12146_row4_col4\" class=\"data row4 col4\" >0.1047</td>\n",
       "      <td id=\"T_12146_row4_col5\" class=\"data row4 col5\" >0.0748</td>\n",
       "    </tr>\n",
       "    <tr>\n",
       "      <th id=\"T_12146_level0_row5\" class=\"row_heading level0 row5\" >Mean</th>\n",
       "      <td id=\"T_12146_row5_col0\" class=\"data row5 col0\" >4.5984</td>\n",
       "      <td id=\"T_12146_row5_col1\" class=\"data row5 col1\" >38.9276</td>\n",
       "      <td id=\"T_12146_row5_col2\" class=\"data row5 col2\" >6.1874</td>\n",
       "      <td id=\"T_12146_row5_col3\" class=\"data row5 col3\" >0.9486</td>\n",
       "      <td id=\"T_12146_row5_col4\" class=\"data row5 col4\" >0.1129</td>\n",
       "      <td id=\"T_12146_row5_col5\" class=\"data row5 col5\" >0.0865</td>\n",
       "    </tr>\n",
       "    <tr>\n",
       "      <th id=\"T_12146_level0_row6\" class=\"row_heading level0 row6\" >Std</th>\n",
       "      <td id=\"T_12146_row6_col0\" class=\"data row6 col0\" >0.5388</td>\n",
       "      <td id=\"T_12146_row6_col1\" class=\"data row6 col1\" >10.0889</td>\n",
       "      <td id=\"T_12146_row6_col2\" class=\"data row6 col2\" >0.8024</td>\n",
       "      <td id=\"T_12146_row6_col3\" class=\"data row6 col3\" >0.0100</td>\n",
       "      <td id=\"T_12146_row6_col4\" class=\"data row6 col4\" >0.0343</td>\n",
       "      <td id=\"T_12146_row6_col5\" class=\"data row6 col5\" >0.0234</td>\n",
       "    </tr>\n",
       "  </tbody>\n",
       "</table>\n"
      ],
      "text/plain": [
       "<pandas.io.formats.style.Styler at 0x1cb07a82400>"
      ]
     },
     "metadata": {},
     "output_type": "display_data"
    },
    {
     "data": {
      "text/html": [],
      "text/plain": [
       "<IPython.core.display.HTML object>"
      ]
     },
     "metadata": {},
     "output_type": "display_data"
    }
   ],
   "source": [
    "# Building a blending model from our top 5 models and evaluate the results. \n",
    "# Blending models is an ensemble method of combining different machine learning algorithms.\n",
    "# Use a majority vote to build consensus of final prediction values.\n",
    "\n",
    "blender_specific = blend_models(estimator_list=tuned_top5[0:], fold=5, optimize='RMSE', choose_better=False)"
   ]
  },
  {
   "cell_type": "code",
   "execution_count": 35,
   "id": "3e6b7ff2",
   "metadata": {},
   "outputs": [],
   "source": [
    "# Case the result to a dataframe\n",
    "pycaret_blend_model = pull()"
   ]
  },
  {
   "cell_type": "code",
   "execution_count": 36,
   "id": "097acd6d",
   "metadata": {
    "scrolled": false
   },
   "outputs": [
    {
     "name": "stdout",
     "output_type": "stream",
     "text": [
      "VotingRegressor(estimators=[('Extra Trees Regressor',\n",
      "                             ExtraTreesRegressor(n_jobs=-1, random_state=786)),\n",
      "                            ('Gradient Boosting Regressor',\n",
      "                             GradientBoostingRegressor(max_depth=4,\n",
      "                                                       max_features='sqrt',\n",
      "                                                       min_impurity_decrease=0.4,\n",
      "                                                       min_samples_leaf=2,\n",
      "                                                       min_samples_split=10,\n",
      "                                                       n_estimators=200,\n",
      "                                                       random_state=786,\n",
      "                                                       subsample=0.9)),\n",
      "                            ('Light Gradient Boosting Machine',\n",
      "                             LGBMRegressor(b...\n",
      "                                           min_split_gain=0.8, n_estimators=300,\n",
      "                                           num_leaves=50, random_state=786,\n",
      "                                           reg_alpha=1e-06, reg_lambda=0.1)),\n",
      "                            ('Random Forest Regressor',\n",
      "                             RandomForestRegressor(bootstrap=False,\n",
      "                                                   criterion='mae', max_depth=9,\n",
      "                                                   max_features='log2',\n",
      "                                                   min_impurity_decrease=0,\n",
      "                                                   min_samples_leaf=2,\n",
      "                                                   min_samples_split=5,\n",
      "                                                   n_jobs=-1,\n",
      "                                                   random_state=786)),\n",
      "                            ('Linear Regression', LinearRegression(n_jobs=-1))],\n",
      "                n_jobs=-1)\n"
     ]
    },
    {
     "data": {
      "text/html": [
       "<style>#sk-container-id-1 {color: black;background-color: white;}#sk-container-id-1 pre{padding: 0;}#sk-container-id-1 div.sk-toggleable {background-color: white;}#sk-container-id-1 label.sk-toggleable__label {cursor: pointer;display: block;width: 100%;margin-bottom: 0;padding: 0.3em;box-sizing: border-box;text-align: center;}#sk-container-id-1 label.sk-toggleable__label-arrow:before {content: \"▸\";float: left;margin-right: 0.25em;color: #696969;}#sk-container-id-1 label.sk-toggleable__label-arrow:hover:before {color: black;}#sk-container-id-1 div.sk-estimator:hover label.sk-toggleable__label-arrow:before {color: black;}#sk-container-id-1 div.sk-toggleable__content {max-height: 0;max-width: 0;overflow: hidden;text-align: left;background-color: #f0f8ff;}#sk-container-id-1 div.sk-toggleable__content pre {margin: 0.2em;color: black;border-radius: 0.25em;background-color: #f0f8ff;}#sk-container-id-1 input.sk-toggleable__control:checked~div.sk-toggleable__content {max-height: 200px;max-width: 100%;overflow: auto;}#sk-container-id-1 input.sk-toggleable__control:checked~label.sk-toggleable__label-arrow:before {content: \"▾\";}#sk-container-id-1 div.sk-estimator input.sk-toggleable__control:checked~label.sk-toggleable__label {background-color: #d4ebff;}#sk-container-id-1 div.sk-label input.sk-toggleable__control:checked~label.sk-toggleable__label {background-color: #d4ebff;}#sk-container-id-1 input.sk-hidden--visually {border: 0;clip: rect(1px 1px 1px 1px);clip: rect(1px, 1px, 1px, 1px);height: 1px;margin: -1px;overflow: hidden;padding: 0;position: absolute;width: 1px;}#sk-container-id-1 div.sk-estimator {font-family: monospace;background-color: #f0f8ff;border: 1px dotted black;border-radius: 0.25em;box-sizing: border-box;margin-bottom: 0.5em;}#sk-container-id-1 div.sk-estimator:hover {background-color: #d4ebff;}#sk-container-id-1 div.sk-parallel-item::after {content: \"\";width: 100%;border-bottom: 1px solid gray;flex-grow: 1;}#sk-container-id-1 div.sk-label:hover label.sk-toggleable__label {background-color: #d4ebff;}#sk-container-id-1 div.sk-serial::before {content: \"\";position: absolute;border-left: 1px solid gray;box-sizing: border-box;top: 0;bottom: 0;left: 50%;z-index: 0;}#sk-container-id-1 div.sk-serial {display: flex;flex-direction: column;align-items: center;background-color: white;padding-right: 0.2em;padding-left: 0.2em;position: relative;}#sk-container-id-1 div.sk-item {position: relative;z-index: 1;}#sk-container-id-1 div.sk-parallel {display: flex;align-items: stretch;justify-content: center;background-color: white;position: relative;}#sk-container-id-1 div.sk-item::before, #sk-container-id-1 div.sk-parallel-item::before {content: \"\";position: absolute;border-left: 1px solid gray;box-sizing: border-box;top: 0;bottom: 0;left: 50%;z-index: -1;}#sk-container-id-1 div.sk-parallel-item {display: flex;flex-direction: column;z-index: 1;position: relative;background-color: white;}#sk-container-id-1 div.sk-parallel-item:first-child::after {align-self: flex-end;width: 50%;}#sk-container-id-1 div.sk-parallel-item:last-child::after {align-self: flex-start;width: 50%;}#sk-container-id-1 div.sk-parallel-item:only-child::after {width: 0;}#sk-container-id-1 div.sk-dashed-wrapped {border: 1px dashed gray;margin: 0 0.4em 0.5em 0.4em;box-sizing: border-box;padding-bottom: 0.4em;background-color: white;}#sk-container-id-1 div.sk-label label {font-family: monospace;font-weight: bold;display: inline-block;line-height: 1.2em;}#sk-container-id-1 div.sk-label-container {text-align: center;}#sk-container-id-1 div.sk-container {/* jupyter's `normalize.less` sets `[hidden] { display: none; }` but bootstrap.min.css set `[hidden] { display: none !important; }` so we also need the `!important` here to be able to override the default hidden behavior on the sphinx rendered scikit-learn.org. See: https://github.com/scikit-learn/scikit-learn/issues/21755 */display: inline-block !important;position: relative;}#sk-container-id-1 div.sk-text-repr-fallback {display: none;}</style><div id=\"sk-container-id-1\" class=\"sk-top-container\"><div class=\"sk-text-repr-fallback\"><pre>VotingRegressor(estimators=[(&#x27;Extra Trees Regressor&#x27;,\n",
       "                             ExtraTreesRegressor(n_jobs=-1, random_state=786)),\n",
       "                            (&#x27;Gradient Boosting Regressor&#x27;,\n",
       "                             GradientBoostingRegressor(max_depth=4,\n",
       "                                                       max_features=&#x27;sqrt&#x27;,\n",
       "                                                       min_impurity_decrease=0.4,\n",
       "                                                       min_samples_leaf=2,\n",
       "                                                       min_samples_split=10,\n",
       "                                                       n_estimators=200,\n",
       "                                                       random_state=786,\n",
       "                                                       subsample=0.9)),\n",
       "                            (&#x27;Light Gradient Boosting Machine&#x27;,\n",
       "                             LGBMRegressor(b...\n",
       "                                           min_split_gain=0.8, n_estimators=300,\n",
       "                                           num_leaves=50, random_state=786,\n",
       "                                           reg_alpha=1e-06, reg_lambda=0.1)),\n",
       "                            (&#x27;Random Forest Regressor&#x27;,\n",
       "                             RandomForestRegressor(bootstrap=False,\n",
       "                                                   criterion=&#x27;mae&#x27;, max_depth=9,\n",
       "                                                   max_features=&#x27;log2&#x27;,\n",
       "                                                   min_impurity_decrease=0,\n",
       "                                                   min_samples_leaf=2,\n",
       "                                                   min_samples_split=5,\n",
       "                                                   n_jobs=-1,\n",
       "                                                   random_state=786)),\n",
       "                            (&#x27;Linear Regression&#x27;, LinearRegression(n_jobs=-1))],\n",
       "                n_jobs=-1)</pre><b>In a Jupyter environment, please rerun this cell to show the HTML representation or trust the notebook. <br />On GitHub, the HTML representation is unable to render, please try loading this page with nbviewer.org.</b></div><div class=\"sk-container\" hidden><div class=\"sk-item sk-dashed-wrapped\"><div class=\"sk-label-container\"><div class=\"sk-label sk-toggleable\"><input class=\"sk-toggleable__control sk-hidden--visually\" id=\"sk-estimator-id-1\" type=\"checkbox\" ><label for=\"sk-estimator-id-1\" class=\"sk-toggleable__label sk-toggleable__label-arrow\">VotingRegressor</label><div class=\"sk-toggleable__content\"><pre>VotingRegressor(estimators=[(&#x27;Extra Trees Regressor&#x27;,\n",
       "                             ExtraTreesRegressor(n_jobs=-1, random_state=786)),\n",
       "                            (&#x27;Gradient Boosting Regressor&#x27;,\n",
       "                             GradientBoostingRegressor(max_depth=4,\n",
       "                                                       max_features=&#x27;sqrt&#x27;,\n",
       "                                                       min_impurity_decrease=0.4,\n",
       "                                                       min_samples_leaf=2,\n",
       "                                                       min_samples_split=10,\n",
       "                                                       n_estimators=200,\n",
       "                                                       random_state=786,\n",
       "                                                       subsample=0.9)),\n",
       "                            (&#x27;Light Gradient Boosting Machine&#x27;,\n",
       "                             LGBMRegressor(b...\n",
       "                                           min_split_gain=0.8, n_estimators=300,\n",
       "                                           num_leaves=50, random_state=786,\n",
       "                                           reg_alpha=1e-06, reg_lambda=0.1)),\n",
       "                            (&#x27;Random Forest Regressor&#x27;,\n",
       "                             RandomForestRegressor(bootstrap=False,\n",
       "                                                   criterion=&#x27;mae&#x27;, max_depth=9,\n",
       "                                                   max_features=&#x27;log2&#x27;,\n",
       "                                                   min_impurity_decrease=0,\n",
       "                                                   min_samples_leaf=2,\n",
       "                                                   min_samples_split=5,\n",
       "                                                   n_jobs=-1,\n",
       "                                                   random_state=786)),\n",
       "                            (&#x27;Linear Regression&#x27;, LinearRegression(n_jobs=-1))],\n",
       "                n_jobs=-1)</pre></div></div></div><div class=\"sk-parallel\"><div class=\"sk-parallel-item\"><div class=\"sk-item\"><div class=\"sk-label-container\"><div class=\"sk-label sk-toggleable\"><label>Extra Trees Regressor</label></div></div><div class=\"sk-serial\"><div class=\"sk-item\"><div class=\"sk-estimator sk-toggleable\"><input class=\"sk-toggleable__control sk-hidden--visually\" id=\"sk-estimator-id-2\" type=\"checkbox\" ><label for=\"sk-estimator-id-2\" class=\"sk-toggleable__label sk-toggleable__label-arrow\">ExtraTreesRegressor</label><div class=\"sk-toggleable__content\"><pre>ExtraTreesRegressor(n_jobs=-1, random_state=786)</pre></div></div></div></div></div></div><div class=\"sk-parallel-item\"><div class=\"sk-item\"><div class=\"sk-label-container\"><div class=\"sk-label sk-toggleable\"><label>Gradient Boosting Regressor</label></div></div><div class=\"sk-serial\"><div class=\"sk-item\"><div class=\"sk-estimator sk-toggleable\"><input class=\"sk-toggleable__control sk-hidden--visually\" id=\"sk-estimator-id-3\" type=\"checkbox\" ><label for=\"sk-estimator-id-3\" class=\"sk-toggleable__label sk-toggleable__label-arrow\">GradientBoostingRegressor</label><div class=\"sk-toggleable__content\"><pre>GradientBoostingRegressor(max_depth=4, max_features=&#x27;sqrt&#x27;,\n",
       "                          min_impurity_decrease=0.4, min_samples_leaf=2,\n",
       "                          min_samples_split=10, n_estimators=200,\n",
       "                          random_state=786, subsample=0.9)</pre></div></div></div></div></div></div><div class=\"sk-parallel-item\"><div class=\"sk-item\"><div class=\"sk-label-container\"><div class=\"sk-label sk-toggleable\"><label>Light Gradient Boosting Machine</label></div></div><div class=\"sk-serial\"><div class=\"sk-item\"><div class=\"sk-estimator sk-toggleable\"><input class=\"sk-toggleable__control sk-hidden--visually\" id=\"sk-estimator-id-4\" type=\"checkbox\" ><label for=\"sk-estimator-id-4\" class=\"sk-toggleable__label sk-toggleable__label-arrow\">LGBMRegressor</label><div class=\"sk-toggleable__content\"><pre>LGBMRegressor(bagging_fraction=1.0, bagging_freq=5, feature_fraction=0.6,\n",
       "              learning_rate=0.15, min_child_samples=16, min_split_gain=0.8,\n",
       "              n_estimators=300, num_leaves=50, random_state=786,\n",
       "              reg_alpha=1e-06, reg_lambda=0.1)</pre></div></div></div></div></div></div><div class=\"sk-parallel-item\"><div class=\"sk-item\"><div class=\"sk-label-container\"><div class=\"sk-label sk-toggleable\"><label>Random Forest Regressor</label></div></div><div class=\"sk-serial\"><div class=\"sk-item\"><div class=\"sk-estimator sk-toggleable\"><input class=\"sk-toggleable__control sk-hidden--visually\" id=\"sk-estimator-id-5\" type=\"checkbox\" ><label for=\"sk-estimator-id-5\" class=\"sk-toggleable__label sk-toggleable__label-arrow\">RandomForestRegressor</label><div class=\"sk-toggleable__content\"><pre>RandomForestRegressor(bootstrap=False, criterion=&#x27;mae&#x27;, max_depth=9,\n",
       "                      max_features=&#x27;log2&#x27;, min_impurity_decrease=0,\n",
       "                      min_samples_leaf=2, min_samples_split=5, n_jobs=-1,\n",
       "                      random_state=786)</pre></div></div></div></div></div></div><div class=\"sk-parallel-item\"><div class=\"sk-item\"><div class=\"sk-label-container\"><div class=\"sk-label sk-toggleable\"><label>Linear Regression</label></div></div><div class=\"sk-serial\"><div class=\"sk-item\"><div class=\"sk-estimator sk-toggleable\"><input class=\"sk-toggleable__control sk-hidden--visually\" id=\"sk-estimator-id-6\" type=\"checkbox\" ><label for=\"sk-estimator-id-6\" class=\"sk-toggleable__label sk-toggleable__label-arrow\">LinearRegression</label><div class=\"sk-toggleable__content\"><pre>LinearRegression(n_jobs=-1)</pre></div></div></div></div></div></div></div></div></div></div>"
      ],
      "text/plain": [
       "VotingRegressor(estimators=[('Extra Trees Regressor',\n",
       "                             ExtraTreesRegressor(n_jobs=-1, random_state=786)),\n",
       "                            ('Gradient Boosting Regressor',\n",
       "                             GradientBoostingRegressor(max_depth=4,\n",
       "                                                       max_features='sqrt',\n",
       "                                                       min_impurity_decrease=0.4,\n",
       "                                                       min_samples_leaf=2,\n",
       "                                                       min_samples_split=10,\n",
       "                                                       n_estimators=200,\n",
       "                                                       random_state=786,\n",
       "                                                       subsample=0.9)),\n",
       "                            ('Light Gradient Boosting Machine',\n",
       "                             LGBMRegressor(b...\n",
       "                                           min_split_gain=0.8, n_estimators=300,\n",
       "                                           num_leaves=50, random_state=786,\n",
       "                                           reg_alpha=1e-06, reg_lambda=0.1)),\n",
       "                            ('Random Forest Regressor',\n",
       "                             RandomForestRegressor(bootstrap=False,\n",
       "                                                   criterion='mae', max_depth=9,\n",
       "                                                   max_features='log2',\n",
       "                                                   min_impurity_decrease=0,\n",
       "                                                   min_samples_leaf=2,\n",
       "                                                   min_samples_split=5,\n",
       "                                                   n_jobs=-1,\n",
       "                                                   random_state=786)),\n",
       "                            ('Linear Regression', LinearRegression(n_jobs=-1))],\n",
       "                n_jobs=-1)"
      ]
     },
     "metadata": {},
     "output_type": "display_data"
    }
   ],
   "source": [
    "# Below is a view of the model parameters. \n",
    "print(blender_specific)\n",
    "display(blender_specific)"
   ]
  },
  {
   "cell_type": "markdown",
   "id": "faf0c143",
   "metadata": {},
   "source": [
    "#### Build stack models"
   ]
  },
  {
   "cell_type": "code",
   "execution_count": 37,
   "id": "6bf28775",
   "metadata": {},
   "outputs": [
    {
     "data": {
      "text/html": [],
      "text/plain": [
       "<IPython.core.display.HTML object>"
      ]
     },
     "metadata": {},
     "output_type": "display_data"
    },
    {
     "data": {
      "text/html": [
       "<style type=\"text/css\">\n",
       "#T_3f041_row5_col0, #T_3f041_row5_col1, #T_3f041_row5_col2, #T_3f041_row5_col3, #T_3f041_row5_col4, #T_3f041_row5_col5 {\n",
       "  background: yellow;\n",
       "}\n",
       "</style>\n",
       "<table id=\"T_3f041\">\n",
       "  <thead>\n",
       "    <tr>\n",
       "      <th class=\"blank level0\" >&nbsp;</th>\n",
       "      <th id=\"T_3f041_level0_col0\" class=\"col_heading level0 col0\" >MAE</th>\n",
       "      <th id=\"T_3f041_level0_col1\" class=\"col_heading level0 col1\" >MSE</th>\n",
       "      <th id=\"T_3f041_level0_col2\" class=\"col_heading level0 col2\" >RMSE</th>\n",
       "      <th id=\"T_3f041_level0_col3\" class=\"col_heading level0 col3\" >R2</th>\n",
       "      <th id=\"T_3f041_level0_col4\" class=\"col_heading level0 col4\" >RMSLE</th>\n",
       "      <th id=\"T_3f041_level0_col5\" class=\"col_heading level0 col5\" >MAPE</th>\n",
       "    </tr>\n",
       "    <tr>\n",
       "      <th class=\"index_name level0\" >Fold</th>\n",
       "      <th class=\"blank col0\" >&nbsp;</th>\n",
       "      <th class=\"blank col1\" >&nbsp;</th>\n",
       "      <th class=\"blank col2\" >&nbsp;</th>\n",
       "      <th class=\"blank col3\" >&nbsp;</th>\n",
       "      <th class=\"blank col4\" >&nbsp;</th>\n",
       "      <th class=\"blank col5\" >&nbsp;</th>\n",
       "    </tr>\n",
       "  </thead>\n",
       "  <tbody>\n",
       "    <tr>\n",
       "      <th id=\"T_3f041_level0_row0\" class=\"row_heading level0 row0\" >0</th>\n",
       "      <td id=\"T_3f041_row0_col0\" class=\"data row0 col0\" >3.9086</td>\n",
       "      <td id=\"T_3f041_row0_col1\" class=\"data row0 col1\" >23.2940</td>\n",
       "      <td id=\"T_3f041_row0_col2\" class=\"data row0 col2\" >4.8264</td>\n",
       "      <td id=\"T_3f041_row0_col3\" class=\"data row0 col3\" >0.9717</td>\n",
       "      <td id=\"T_3f041_row0_col4\" class=\"data row0 col4\" >0.0643</td>\n",
       "      <td id=\"T_3f041_row0_col5\" class=\"data row0 col5\" >0.0563</td>\n",
       "    </tr>\n",
       "    <tr>\n",
       "      <th id=\"T_3f041_level0_row1\" class=\"row_heading level0 row1\" >1</th>\n",
       "      <td id=\"T_3f041_row1_col0\" class=\"data row1 col0\" >5.3399</td>\n",
       "      <td id=\"T_3f041_row1_col1\" class=\"data row1 col1\" >61.0785</td>\n",
       "      <td id=\"T_3f041_row1_col2\" class=\"data row1 col2\" >7.8153</td>\n",
       "      <td id=\"T_3f041_row1_col3\" class=\"data row1 col3\" >0.9138</td>\n",
       "      <td id=\"T_3f041_row1_col4\" class=\"data row1 col4\" >0.1114</td>\n",
       "      <td id=\"T_3f041_row1_col5\" class=\"data row1 col5\" >0.0851</td>\n",
       "    </tr>\n",
       "    <tr>\n",
       "      <th id=\"T_3f041_level0_row2\" class=\"row_heading level0 row2\" >2</th>\n",
       "      <td id=\"T_3f041_row2_col0\" class=\"data row2 col0\" >4.1576</td>\n",
       "      <td id=\"T_3f041_row2_col1\" class=\"data row2 col1\" >26.6576</td>\n",
       "      <td id=\"T_3f041_row2_col2\" class=\"data row2 col2\" >5.1631</td>\n",
       "      <td id=\"T_3f041_row2_col3\" class=\"data row2 col3\" >0.9597</td>\n",
       "      <td id=\"T_3f041_row2_col4\" class=\"data row2 col4\" >0.0903</td>\n",
       "      <td id=\"T_3f041_row2_col5\" class=\"data row2 col5\" >0.0729</td>\n",
       "    </tr>\n",
       "    <tr>\n",
       "      <th id=\"T_3f041_level0_row3\" class=\"row_heading level0 row3\" >3</th>\n",
       "      <td id=\"T_3f041_row3_col0\" class=\"data row3 col0\" >5.7948</td>\n",
       "      <td id=\"T_3f041_row3_col1\" class=\"data row3 col1\" >61.4996</td>\n",
       "      <td id=\"T_3f041_row3_col2\" class=\"data row3 col2\" >7.8422</td>\n",
       "      <td id=\"T_3f041_row3_col3\" class=\"data row3 col3\" >0.9326</td>\n",
       "      <td id=\"T_3f041_row3_col4\" class=\"data row3 col4\" >0.1865</td>\n",
       "      <td id=\"T_3f041_row3_col5\" class=\"data row3 col5\" >0.1380</td>\n",
       "    </tr>\n",
       "    <tr>\n",
       "      <th id=\"T_3f041_level0_row4\" class=\"row_heading level0 row4\" >4</th>\n",
       "      <td id=\"T_3f041_row4_col0\" class=\"data row4 col0\" >3.7863</td>\n",
       "      <td id=\"T_3f041_row4_col1\" class=\"data row4 col1\" >26.4179</td>\n",
       "      <td id=\"T_3f041_row4_col2\" class=\"data row4 col2\" >5.1398</td>\n",
       "      <td id=\"T_3f041_row4_col3\" class=\"data row4 col3\" >0.9598</td>\n",
       "      <td id=\"T_3f041_row4_col4\" class=\"data row4 col4\" >0.1006</td>\n",
       "      <td id=\"T_3f041_row4_col5\" class=\"data row4 col5\" >0.0716</td>\n",
       "    </tr>\n",
       "    <tr>\n",
       "      <th id=\"T_3f041_level0_row5\" class=\"row_heading level0 row5\" >Mean</th>\n",
       "      <td id=\"T_3f041_row5_col0\" class=\"data row5 col0\" >4.5974</td>\n",
       "      <td id=\"T_3f041_row5_col1\" class=\"data row5 col1\" >39.7895</td>\n",
       "      <td id=\"T_3f041_row5_col2\" class=\"data row5 col2\" >6.1574</td>\n",
       "      <td id=\"T_3f041_row5_col3\" class=\"data row5 col3\" >0.9475</td>\n",
       "      <td id=\"T_3f041_row5_col4\" class=\"data row5 col4\" >0.1106</td>\n",
       "      <td id=\"T_3f041_row5_col5\" class=\"data row5 col5\" >0.0848</td>\n",
       "    </tr>\n",
       "    <tr>\n",
       "      <th id=\"T_3f041_level0_row6\" class=\"row_heading level0 row6\" >Std</th>\n",
       "      <td id=\"T_3f041_row6_col0\" class=\"data row6 col0\" >0.8137</td>\n",
       "      <td id=\"T_3f041_row6_col1\" class=\"data row6 col1\" >17.5949</td>\n",
       "      <td id=\"T_3f041_row6_col2\" class=\"data row6 col2\" >1.3699</td>\n",
       "      <td id=\"T_3f041_row6_col3\" class=\"data row6 col3\" >0.0212</td>\n",
       "      <td id=\"T_3f041_row6_col4\" class=\"data row6 col4\" >0.0410</td>\n",
       "      <td id=\"T_3f041_row6_col5\" class=\"data row6 col5\" >0.0281</td>\n",
       "    </tr>\n",
       "  </tbody>\n",
       "</table>\n"
      ],
      "text/plain": [
       "<pandas.io.formats.style.Styler at 0x1cb07a6a640>"
      ]
     },
     "metadata": {},
     "output_type": "display_data"
    },
    {
     "data": {
      "text/html": [],
      "text/plain": [
       "<IPython.core.display.HTML object>"
      ]
     },
     "metadata": {},
     "output_type": "display_data"
    }
   ],
   "source": [
    "# Build a stacking model from our top 5 models and evaluate the results.\n",
    "# Stacking models is an ensemble method of using meta learning.\n",
    "# A meta model is created using multiple base estimators to generate the final prediction.\n",
    "\n",
    "stacker_specific = stack_models(estimator_list=tuned_top5[1:],\n",
    "                                meta_model=tuned_top5[0],\n",
    "                                fold=5,\n",
    "                                optimize='RMSE',\n",
    "                                choose_better=False)"
   ]
  },
  {
   "cell_type": "code",
   "execution_count": 38,
   "id": "21acd0be",
   "metadata": {},
   "outputs": [],
   "source": [
    "# Case the result to a dataframe\n",
    "pycaret_stack_model = pull()"
   ]
  },
  {
   "cell_type": "code",
   "execution_count": 39,
   "id": "8db12c92",
   "metadata": {},
   "outputs": [
    {
     "name": "stdout",
     "output_type": "stream",
     "text": [
      "StackingRegressor(cv=5,\n",
      "                  estimators=[('Gradient Boosting Regressor',\n",
      "                               GradientBoostingRegressor(max_depth=4,\n",
      "                                                         max_features='sqrt',\n",
      "                                                         min_impurity_decrease=0.4,\n",
      "                                                         min_samples_leaf=2,\n",
      "                                                         min_samples_split=10,\n",
      "                                                         n_estimators=200,\n",
      "                                                         random_state=786,\n",
      "                                                         subsample=0.9)),\n",
      "                              ('Light Gradient Boosting Machine',\n",
      "                               LGBMRegressor(bagging_fraction=1.0,\n",
      "                                             bagging_freq=5,\n",
      "                                             feature_fraction=0.6,\n",
      "                                             learning_...\n",
      "                                             reg_lambda=0.1)),\n",
      "                              ('Random Forest Regressor',\n",
      "                               RandomForestRegressor(bootstrap=False,\n",
      "                                                     criterion='mae',\n",
      "                                                     max_depth=9,\n",
      "                                                     max_features='log2',\n",
      "                                                     min_impurity_decrease=0,\n",
      "                                                     min_samples_leaf=2,\n",
      "                                                     min_samples_split=5,\n",
      "                                                     n_jobs=-1,\n",
      "                                                     random_state=786)),\n",
      "                              ('Linear Regression',\n",
      "                               LinearRegression(n_jobs=-1))],\n",
      "                  final_estimator=ExtraTreesRegressor(n_jobs=-1,\n",
      "                                                      random_state=786),\n",
      "                  n_jobs=-1, passthrough=True)\n"
     ]
    },
    {
     "data": {
      "text/html": [
       "<style>#sk-container-id-2 {color: black;background-color: white;}#sk-container-id-2 pre{padding: 0;}#sk-container-id-2 div.sk-toggleable {background-color: white;}#sk-container-id-2 label.sk-toggleable__label {cursor: pointer;display: block;width: 100%;margin-bottom: 0;padding: 0.3em;box-sizing: border-box;text-align: center;}#sk-container-id-2 label.sk-toggleable__label-arrow:before {content: \"▸\";float: left;margin-right: 0.25em;color: #696969;}#sk-container-id-2 label.sk-toggleable__label-arrow:hover:before {color: black;}#sk-container-id-2 div.sk-estimator:hover label.sk-toggleable__label-arrow:before {color: black;}#sk-container-id-2 div.sk-toggleable__content {max-height: 0;max-width: 0;overflow: hidden;text-align: left;background-color: #f0f8ff;}#sk-container-id-2 div.sk-toggleable__content pre {margin: 0.2em;color: black;border-radius: 0.25em;background-color: #f0f8ff;}#sk-container-id-2 input.sk-toggleable__control:checked~div.sk-toggleable__content {max-height: 200px;max-width: 100%;overflow: auto;}#sk-container-id-2 input.sk-toggleable__control:checked~label.sk-toggleable__label-arrow:before {content: \"▾\";}#sk-container-id-2 div.sk-estimator input.sk-toggleable__control:checked~label.sk-toggleable__label {background-color: #d4ebff;}#sk-container-id-2 div.sk-label input.sk-toggleable__control:checked~label.sk-toggleable__label {background-color: #d4ebff;}#sk-container-id-2 input.sk-hidden--visually {border: 0;clip: rect(1px 1px 1px 1px);clip: rect(1px, 1px, 1px, 1px);height: 1px;margin: -1px;overflow: hidden;padding: 0;position: absolute;width: 1px;}#sk-container-id-2 div.sk-estimator {font-family: monospace;background-color: #f0f8ff;border: 1px dotted black;border-radius: 0.25em;box-sizing: border-box;margin-bottom: 0.5em;}#sk-container-id-2 div.sk-estimator:hover {background-color: #d4ebff;}#sk-container-id-2 div.sk-parallel-item::after {content: \"\";width: 100%;border-bottom: 1px solid gray;flex-grow: 1;}#sk-container-id-2 div.sk-label:hover label.sk-toggleable__label {background-color: #d4ebff;}#sk-container-id-2 div.sk-serial::before {content: \"\";position: absolute;border-left: 1px solid gray;box-sizing: border-box;top: 0;bottom: 0;left: 50%;z-index: 0;}#sk-container-id-2 div.sk-serial {display: flex;flex-direction: column;align-items: center;background-color: white;padding-right: 0.2em;padding-left: 0.2em;position: relative;}#sk-container-id-2 div.sk-item {position: relative;z-index: 1;}#sk-container-id-2 div.sk-parallel {display: flex;align-items: stretch;justify-content: center;background-color: white;position: relative;}#sk-container-id-2 div.sk-item::before, #sk-container-id-2 div.sk-parallel-item::before {content: \"\";position: absolute;border-left: 1px solid gray;box-sizing: border-box;top: 0;bottom: 0;left: 50%;z-index: -1;}#sk-container-id-2 div.sk-parallel-item {display: flex;flex-direction: column;z-index: 1;position: relative;background-color: white;}#sk-container-id-2 div.sk-parallel-item:first-child::after {align-self: flex-end;width: 50%;}#sk-container-id-2 div.sk-parallel-item:last-child::after {align-self: flex-start;width: 50%;}#sk-container-id-2 div.sk-parallel-item:only-child::after {width: 0;}#sk-container-id-2 div.sk-dashed-wrapped {border: 1px dashed gray;margin: 0 0.4em 0.5em 0.4em;box-sizing: border-box;padding-bottom: 0.4em;background-color: white;}#sk-container-id-2 div.sk-label label {font-family: monospace;font-weight: bold;display: inline-block;line-height: 1.2em;}#sk-container-id-2 div.sk-label-container {text-align: center;}#sk-container-id-2 div.sk-container {/* jupyter's `normalize.less` sets `[hidden] { display: none; }` but bootstrap.min.css set `[hidden] { display: none !important; }` so we also need the `!important` here to be able to override the default hidden behavior on the sphinx rendered scikit-learn.org. See: https://github.com/scikit-learn/scikit-learn/issues/21755 */display: inline-block !important;position: relative;}#sk-container-id-2 div.sk-text-repr-fallback {display: none;}</style><div id=\"sk-container-id-2\" class=\"sk-top-container\"><div class=\"sk-text-repr-fallback\"><pre>StackingRegressor(cv=5,\n",
       "                  estimators=[(&#x27;Gradient Boosting Regressor&#x27;,\n",
       "                               GradientBoostingRegressor(max_depth=4,\n",
       "                                                         max_features=&#x27;sqrt&#x27;,\n",
       "                                                         min_impurity_decrease=0.4,\n",
       "                                                         min_samples_leaf=2,\n",
       "                                                         min_samples_split=10,\n",
       "                                                         n_estimators=200,\n",
       "                                                         random_state=786,\n",
       "                                                         subsample=0.9)),\n",
       "                              (&#x27;Light Gradient Boosting Machine&#x27;,\n",
       "                               LGBMRegressor(bagging_fraction=1.0,\n",
       "                                             bagging_freq=5,\n",
       "                                             feature_fraction=0.6,\n",
       "                                             learning_...\n",
       "                                             reg_lambda=0.1)),\n",
       "                              (&#x27;Random Forest Regressor&#x27;,\n",
       "                               RandomForestRegressor(bootstrap=False,\n",
       "                                                     criterion=&#x27;mae&#x27;,\n",
       "                                                     max_depth=9,\n",
       "                                                     max_features=&#x27;log2&#x27;,\n",
       "                                                     min_impurity_decrease=0,\n",
       "                                                     min_samples_leaf=2,\n",
       "                                                     min_samples_split=5,\n",
       "                                                     n_jobs=-1,\n",
       "                                                     random_state=786)),\n",
       "                              (&#x27;Linear Regression&#x27;,\n",
       "                               LinearRegression(n_jobs=-1))],\n",
       "                  final_estimator=ExtraTreesRegressor(n_jobs=-1,\n",
       "                                                      random_state=786),\n",
       "                  n_jobs=-1, passthrough=True)</pre><b>In a Jupyter environment, please rerun this cell to show the HTML representation or trust the notebook. <br />On GitHub, the HTML representation is unable to render, please try loading this page with nbviewer.org.</b></div><div class=\"sk-container\" hidden><div class=\"sk-item sk-dashed-wrapped\"><div class=\"sk-label-container\"><div class=\"sk-label sk-toggleable\"><input class=\"sk-toggleable__control sk-hidden--visually\" id=\"sk-estimator-id-7\" type=\"checkbox\" ><label for=\"sk-estimator-id-7\" class=\"sk-toggleable__label sk-toggleable__label-arrow\">StackingRegressor</label><div class=\"sk-toggleable__content\"><pre>StackingRegressor(cv=5,\n",
       "                  estimators=[(&#x27;Gradient Boosting Regressor&#x27;,\n",
       "                               GradientBoostingRegressor(max_depth=4,\n",
       "                                                         max_features=&#x27;sqrt&#x27;,\n",
       "                                                         min_impurity_decrease=0.4,\n",
       "                                                         min_samples_leaf=2,\n",
       "                                                         min_samples_split=10,\n",
       "                                                         n_estimators=200,\n",
       "                                                         random_state=786,\n",
       "                                                         subsample=0.9)),\n",
       "                              (&#x27;Light Gradient Boosting Machine&#x27;,\n",
       "                               LGBMRegressor(bagging_fraction=1.0,\n",
       "                                             bagging_freq=5,\n",
       "                                             feature_fraction=0.6,\n",
       "                                             learning_...\n",
       "                                             reg_lambda=0.1)),\n",
       "                              (&#x27;Random Forest Regressor&#x27;,\n",
       "                               RandomForestRegressor(bootstrap=False,\n",
       "                                                     criterion=&#x27;mae&#x27;,\n",
       "                                                     max_depth=9,\n",
       "                                                     max_features=&#x27;log2&#x27;,\n",
       "                                                     min_impurity_decrease=0,\n",
       "                                                     min_samples_leaf=2,\n",
       "                                                     min_samples_split=5,\n",
       "                                                     n_jobs=-1,\n",
       "                                                     random_state=786)),\n",
       "                              (&#x27;Linear Regression&#x27;,\n",
       "                               LinearRegression(n_jobs=-1))],\n",
       "                  final_estimator=ExtraTreesRegressor(n_jobs=-1,\n",
       "                                                      random_state=786),\n",
       "                  n_jobs=-1, passthrough=True)</pre></div></div></div><div class=\"sk-serial\"><div class=\"sk-item\"><div class=\"sk-parallel\"><div class=\"sk-parallel-item\"><div class=\"sk-item\"><div class=\"sk-label-container\"><div class=\"sk-label sk-toggleable\"><label>Gradient Boosting Regressor</label></div></div><div class=\"sk-serial\"><div class=\"sk-item\"><div class=\"sk-estimator sk-toggleable\"><input class=\"sk-toggleable__control sk-hidden--visually\" id=\"sk-estimator-id-8\" type=\"checkbox\" ><label for=\"sk-estimator-id-8\" class=\"sk-toggleable__label sk-toggleable__label-arrow\">GradientBoostingRegressor</label><div class=\"sk-toggleable__content\"><pre>GradientBoostingRegressor(max_depth=4, max_features=&#x27;sqrt&#x27;,\n",
       "                          min_impurity_decrease=0.4, min_samples_leaf=2,\n",
       "                          min_samples_split=10, n_estimators=200,\n",
       "                          random_state=786, subsample=0.9)</pre></div></div></div></div></div></div><div class=\"sk-parallel-item\"><div class=\"sk-item\"><div class=\"sk-label-container\"><div class=\"sk-label sk-toggleable\"><label>Light Gradient Boosting Machine</label></div></div><div class=\"sk-serial\"><div class=\"sk-item\"><div class=\"sk-estimator sk-toggleable\"><input class=\"sk-toggleable__control sk-hidden--visually\" id=\"sk-estimator-id-9\" type=\"checkbox\" ><label for=\"sk-estimator-id-9\" class=\"sk-toggleable__label sk-toggleable__label-arrow\">LGBMRegressor</label><div class=\"sk-toggleable__content\"><pre>LGBMRegressor(bagging_fraction=1.0, bagging_freq=5, feature_fraction=0.6,\n",
       "              learning_rate=0.15, min_child_samples=16, min_split_gain=0.8,\n",
       "              n_estimators=300, num_leaves=50, random_state=786,\n",
       "              reg_alpha=1e-06, reg_lambda=0.1)</pre></div></div></div></div></div></div><div class=\"sk-parallel-item\"><div class=\"sk-item\"><div class=\"sk-label-container\"><div class=\"sk-label sk-toggleable\"><label>Random Forest Regressor</label></div></div><div class=\"sk-serial\"><div class=\"sk-item\"><div class=\"sk-estimator sk-toggleable\"><input class=\"sk-toggleable__control sk-hidden--visually\" id=\"sk-estimator-id-10\" type=\"checkbox\" ><label for=\"sk-estimator-id-10\" class=\"sk-toggleable__label sk-toggleable__label-arrow\">RandomForestRegressor</label><div class=\"sk-toggleable__content\"><pre>RandomForestRegressor(bootstrap=False, criterion=&#x27;mae&#x27;, max_depth=9,\n",
       "                      max_features=&#x27;log2&#x27;, min_impurity_decrease=0,\n",
       "                      min_samples_leaf=2, min_samples_split=5, n_jobs=-1,\n",
       "                      random_state=786)</pre></div></div></div></div></div></div><div class=\"sk-parallel-item\"><div class=\"sk-item\"><div class=\"sk-label-container\"><div class=\"sk-label sk-toggleable\"><label>Linear Regression</label></div></div><div class=\"sk-serial\"><div class=\"sk-item\"><div class=\"sk-estimator sk-toggleable\"><input class=\"sk-toggleable__control sk-hidden--visually\" id=\"sk-estimator-id-11\" type=\"checkbox\" ><label for=\"sk-estimator-id-11\" class=\"sk-toggleable__label sk-toggleable__label-arrow\">LinearRegression</label><div class=\"sk-toggleable__content\"><pre>LinearRegression(n_jobs=-1)</pre></div></div></div></div></div></div></div></div><div class=\"sk-item\"><div class=\"sk-parallel\"><div class=\"sk-parallel-item\"><div class=\"sk-item\"><div class=\"sk-label-container\"><div class=\"sk-label sk-toggleable\"><label>final_estimator</label></div></div><div class=\"sk-serial\"><div class=\"sk-item\"><div class=\"sk-estimator sk-toggleable\"><input class=\"sk-toggleable__control sk-hidden--visually\" id=\"sk-estimator-id-12\" type=\"checkbox\" ><label for=\"sk-estimator-id-12\" class=\"sk-toggleable__label sk-toggleable__label-arrow\">ExtraTreesRegressor</label><div class=\"sk-toggleable__content\"><pre>ExtraTreesRegressor(n_jobs=-1, random_state=786)</pre></div></div></div></div></div></div></div></div></div></div></div></div>"
      ],
      "text/plain": [
       "StackingRegressor(cv=5,\n",
       "                  estimators=[('Gradient Boosting Regressor',\n",
       "                               GradientBoostingRegressor(max_depth=4,\n",
       "                                                         max_features='sqrt',\n",
       "                                                         min_impurity_decrease=0.4,\n",
       "                                                         min_samples_leaf=2,\n",
       "                                                         min_samples_split=10,\n",
       "                                                         n_estimators=200,\n",
       "                                                         random_state=786,\n",
       "                                                         subsample=0.9)),\n",
       "                              ('Light Gradient Boosting Machine',\n",
       "                               LGBMRegressor(bagging_fraction=1.0,\n",
       "                                             bagging_freq=5,\n",
       "                                             feature_fraction=0.6,\n",
       "                                             learning_...\n",
       "                                             reg_lambda=0.1)),\n",
       "                              ('Random Forest Regressor',\n",
       "                               RandomForestRegressor(bootstrap=False,\n",
       "                                                     criterion='mae',\n",
       "                                                     max_depth=9,\n",
       "                                                     max_features='log2',\n",
       "                                                     min_impurity_decrease=0,\n",
       "                                                     min_samples_leaf=2,\n",
       "                                                     min_samples_split=5,\n",
       "                                                     n_jobs=-1,\n",
       "                                                     random_state=786)),\n",
       "                              ('Linear Regression',\n",
       "                               LinearRegression(n_jobs=-1))],\n",
       "                  final_estimator=ExtraTreesRegressor(n_jobs=-1,\n",
       "                                                      random_state=786),\n",
       "                  n_jobs=-1, passthrough=True)"
      ]
     },
     "metadata": {},
     "output_type": "display_data"
    }
   ],
   "source": [
    "# Below is a view of the model parameters. \n",
    "print(stacker_specific)\n",
    "display(stacker_specific)"
   ]
  },
  {
   "cell_type": "markdown",
   "id": "b7a580e5",
   "metadata": {},
   "source": [
    "### Evaluare models"
   ]
  },
  {
   "cell_type": "markdown",
   "id": "ad677c0c",
   "metadata": {},
   "source": [
    "#### Evaluate blend model"
   ]
  },
  {
   "cell_type": "code",
   "execution_count": 40,
   "id": "a981a0bf",
   "metadata": {},
   "outputs": [
    {
     "data": {
      "application/vnd.jupyter.widget-view+json": {
       "model_id": "9c1b0637ae784c648049bcc756ae7865",
       "version_major": 2,
       "version_minor": 0
      },
      "text/plain": [
       "interactive(children=(ToggleButtons(description='Plot Type:', icons=('',), options=(('Pipeline Plot', 'pipelin…"
      ]
     },
     "metadata": {},
     "output_type": "display_data"
    }
   ],
   "source": [
    "evaluate_model(blender_specific)"
   ]
  },
  {
   "cell_type": "markdown",
   "id": "1327bb7d",
   "metadata": {},
   "source": [
    "#### Evaluate stack model"
   ]
  },
  {
   "cell_type": "code",
   "execution_count": 41,
   "id": "e039f3d1",
   "metadata": {},
   "outputs": [
    {
     "data": {
      "application/vnd.jupyter.widget-view+json": {
       "model_id": "2154fa981f6948d8838ebee847ab6afa",
       "version_major": 2,
       "version_minor": 0
      },
      "text/plain": [
       "interactive(children=(ToggleButtons(description='Plot Type:', icons=('',), options=(('Pipeline Plot', 'pipelin…"
      ]
     },
     "metadata": {},
     "output_type": "display_data"
    }
   ],
   "source": [
    "evaluate_model(stacker_specific)"
   ]
  },
  {
   "cell_type": "markdown",
   "id": "4544b351",
   "metadata": {},
   "source": [
    "#### Evaluate the performances"
   ]
  },
  {
   "cell_type": "code",
   "execution_count": null,
   "id": "6cc70711",
   "metadata": {
    "scrolled": false
   },
   "outputs": [],
   "source": [
    "print('cooks: blend vs stack')\n",
    "plot_model(blender_specific, plot='cooks', verbose=True, scale=1)\n",
    "plot_model(stacker_specific, plot='cooks', verbose=True, scale=1)\n",
    "\n",
    "print('manifold: blend vs stack')\n",
    "plot_model(blender_specific, plot='manifold', verbose=True, scale=1)\n",
    "plot_model(stacker_specific, plot='manifold', verbose=True, scale=1)"
   ]
  },
  {
   "cell_type": "code",
   "execution_count": null,
   "id": "149982cb",
   "metadata": {
    "scrolled": false
   },
   "outputs": [],
   "source": [
    "# Use Pycaret's built in plot_model() function to generate side-by-side plots:\n",
    "# Dispaly Residuals chart, Prediction Error and Cross Validation (learning) charts.\n",
    "print('residuals: blend vs stack')\n",
    "plot_model(blender_specific, plot='residuals', scale=1)\n",
    "plot_model(stacker_specific, plot='residuals', scale=1)\n",
    "\n",
    "print('error: blend vs stack')\n",
    "plot_model(blender_specific, plot='error', scale=1)\n",
    "plot_model(stacker_specific, plot='error', scale=1)\n",
    "\n",
    "print('learning: blend vs stack')\n",
    "plot_model(blender_specific, plot='learning', scale=1)\n",
    "plot_model(stacker_specific, plot='learning', scale=1)"
   ]
  },
  {
   "cell_type": "code",
   "execution_count": 42,
   "id": "4f29cd57",
   "metadata": {},
   "outputs": [
    {
     "data": {
      "text/html": [
       "<style type=\"text/css\">\n",
       "</style>\n",
       "<table id=\"T_ec09f\">\n",
       "  <thead>\n",
       "    <tr>\n",
       "      <th class=\"blank level0\" >&nbsp;</th>\n",
       "      <th id=\"T_ec09f_level0_col0\" class=\"col_heading level0 col0\" >Model</th>\n",
       "      <th id=\"T_ec09f_level0_col1\" class=\"col_heading level0 col1\" >MAE</th>\n",
       "      <th id=\"T_ec09f_level0_col2\" class=\"col_heading level0 col2\" >MSE</th>\n",
       "      <th id=\"T_ec09f_level0_col3\" class=\"col_heading level0 col3\" >RMSE</th>\n",
       "      <th id=\"T_ec09f_level0_col4\" class=\"col_heading level0 col4\" >R2</th>\n",
       "      <th id=\"T_ec09f_level0_col5\" class=\"col_heading level0 col5\" >RMSLE</th>\n",
       "      <th id=\"T_ec09f_level0_col6\" class=\"col_heading level0 col6\" >MAPE</th>\n",
       "    </tr>\n",
       "  </thead>\n",
       "  <tbody>\n",
       "    <tr>\n",
       "      <th id=\"T_ec09f_level0_row0\" class=\"row_heading level0 row0\" >0</th>\n",
       "      <td id=\"T_ec09f_row0_col0\" class=\"data row0 col0\" >Voting Regressor</td>\n",
       "      <td id=\"T_ec09f_row0_col1\" class=\"data row0 col1\" >4.5871</td>\n",
       "      <td id=\"T_ec09f_row0_col2\" class=\"data row0 col2\" >34.2862</td>\n",
       "      <td id=\"T_ec09f_row0_col3\" class=\"data row0 col3\" >5.8554</td>\n",
       "      <td id=\"T_ec09f_row0_col4\" class=\"data row0 col4\" >0.9308</td>\n",
       "      <td id=\"T_ec09f_row0_col5\" class=\"data row0 col5\" >0.0930</td>\n",
       "      <td id=\"T_ec09f_row0_col6\" class=\"data row0 col6\" >0.0773</td>\n",
       "    </tr>\n",
       "  </tbody>\n",
       "</table>\n"
      ],
      "text/plain": [
       "<pandas.io.formats.style.Styler at 0x1cb070418b0>"
      ]
     },
     "metadata": {},
     "output_type": "display_data"
    }
   ],
   "source": [
    "# Execute the predict_model() function to use the blender model to generate the predicted values. \n",
    "pred_tunded_blender = predict_model(blender_specific)\n",
    "pycaret_pred_blend = pull()"
   ]
  },
  {
   "cell_type": "code",
   "execution_count": 43,
   "id": "452ffd32",
   "metadata": {},
   "outputs": [
    {
     "data": {
      "text/html": [
       "<style type=\"text/css\">\n",
       "</style>\n",
       "<table id=\"T_dc7e7\">\n",
       "  <thead>\n",
       "    <tr>\n",
       "      <th class=\"blank level0\" >&nbsp;</th>\n",
       "      <th id=\"T_dc7e7_level0_col0\" class=\"col_heading level0 col0\" >Model</th>\n",
       "      <th id=\"T_dc7e7_level0_col1\" class=\"col_heading level0 col1\" >MAE</th>\n",
       "      <th id=\"T_dc7e7_level0_col2\" class=\"col_heading level0 col2\" >MSE</th>\n",
       "      <th id=\"T_dc7e7_level0_col3\" class=\"col_heading level0 col3\" >RMSE</th>\n",
       "      <th id=\"T_dc7e7_level0_col4\" class=\"col_heading level0 col4\" >R2</th>\n",
       "      <th id=\"T_dc7e7_level0_col5\" class=\"col_heading level0 col5\" >RMSLE</th>\n",
       "      <th id=\"T_dc7e7_level0_col6\" class=\"col_heading level0 col6\" >MAPE</th>\n",
       "    </tr>\n",
       "  </thead>\n",
       "  <tbody>\n",
       "    <tr>\n",
       "      <th id=\"T_dc7e7_level0_row0\" class=\"row_heading level0 row0\" >0</th>\n",
       "      <td id=\"T_dc7e7_row0_col0\" class=\"data row0 col0\" >Stacking Regressor</td>\n",
       "      <td id=\"T_dc7e7_row0_col1\" class=\"data row0 col1\" >5.2775</td>\n",
       "      <td id=\"T_dc7e7_row0_col2\" class=\"data row0 col2\" >44.2081</td>\n",
       "      <td id=\"T_dc7e7_row0_col3\" class=\"data row0 col3\" >6.6489</td>\n",
       "      <td id=\"T_dc7e7_row0_col4\" class=\"data row0 col4\" >0.9107</td>\n",
       "      <td id=\"T_dc7e7_row0_col5\" class=\"data row0 col5\" >0.1042</td>\n",
       "      <td id=\"T_dc7e7_row0_col6\" class=\"data row0 col6\" >0.0881</td>\n",
       "    </tr>\n",
       "  </tbody>\n",
       "</table>\n"
      ],
      "text/plain": [
       "<pandas.io.formats.style.Styler at 0x1cb07260940>"
      ]
     },
     "metadata": {},
     "output_type": "display_data"
    }
   ],
   "source": [
    "# Execute the predict_model() function to use the stack model to generate the predicted values. \n",
    "pred_tunded_stacker = predict_model(stacker_specific, verbose = True)\n",
    "pycaret_pred_stack = pull()"
   ]
  },
  {
   "cell_type": "markdown",
   "id": "529c46ac",
   "metadata": {},
   "source": [
    "#### Set the final model"
   ]
  },
  {
   "cell_type": "code",
   "execution_count": 44,
   "id": "2330af8a",
   "metadata": {},
   "outputs": [
    {
     "name": "stdout",
     "output_type": "stream",
     "text": [
      "1: blender_specific\n",
      "2: stacker_specific\n"
     ]
    }
   ],
   "source": [
    "# Set the final model based on the performance train and test.\n",
    "print('1: blender_specific')\n",
    "print('2: stacker_specific')\n",
    "option = 1"
   ]
  },
  {
   "cell_type": "code",
   "execution_count": 45,
   "id": "f832bef1",
   "metadata": {},
   "outputs": [],
   "source": [
    "#choose the final ensemble meta-estimator \n",
    "if option == 1:\n",
    "    ensemble = blender_specific\n",
    "elif option ==2:\n",
    "    ensemble = stacker_specific"
   ]
  },
  {
   "cell_type": "code",
   "execution_count": 46,
   "id": "756dee4c",
   "metadata": {},
   "outputs": [],
   "source": [
    "#The finalize_model() function trains the model on the entire dataset. \n",
    "finalized_model = finalize_model(ensemble)\n",
    "#display(finalized_model)"
   ]
  },
  {
   "cell_type": "code",
   "execution_count": 47,
   "id": "b8cf645c",
   "metadata": {},
   "outputs": [
    {
     "data": {
      "text/html": [
       "<style type=\"text/css\">\n",
       "</style>\n",
       "<table id=\"T_dd12a\">\n",
       "  <thead>\n",
       "    <tr>\n",
       "      <th class=\"blank level0\" >&nbsp;</th>\n",
       "      <th id=\"T_dd12a_level0_col0\" class=\"col_heading level0 col0\" >Model</th>\n",
       "      <th id=\"T_dd12a_level0_col1\" class=\"col_heading level0 col1\" >MAE</th>\n",
       "      <th id=\"T_dd12a_level0_col2\" class=\"col_heading level0 col2\" >MSE</th>\n",
       "      <th id=\"T_dd12a_level0_col3\" class=\"col_heading level0 col3\" >RMSE</th>\n",
       "      <th id=\"T_dd12a_level0_col4\" class=\"col_heading level0 col4\" >R2</th>\n",
       "      <th id=\"T_dd12a_level0_col5\" class=\"col_heading level0 col5\" >RMSLE</th>\n",
       "      <th id=\"T_dd12a_level0_col6\" class=\"col_heading level0 col6\" >MAPE</th>\n",
       "    </tr>\n",
       "  </thead>\n",
       "  <tbody>\n",
       "    <tr>\n",
       "      <th id=\"T_dd12a_level0_row0\" class=\"row_heading level0 row0\" >0</th>\n",
       "      <td id=\"T_dd12a_row0_col0\" class=\"data row0 col0\" >Voting Regressor</td>\n",
       "      <td id=\"T_dd12a_row0_col1\" class=\"data row0 col1\" >1.2688</td>\n",
       "      <td id=\"T_dd12a_row0_col2\" class=\"data row0 col2\" >2.7314</td>\n",
       "      <td id=\"T_dd12a_row0_col3\" class=\"data row0 col3\" >1.6527</td>\n",
       "      <td id=\"T_dd12a_row0_col4\" class=\"data row0 col4\" >0.9960</td>\n",
       "      <td id=\"T_dd12a_row0_col5\" class=\"data row0 col5\" >0.0329</td>\n",
       "      <td id=\"T_dd12a_row0_col6\" class=\"data row0 col6\" >0.0235</td>\n",
       "    </tr>\n",
       "  </tbody>\n",
       "</table>\n"
      ],
      "text/plain": [
       "<pandas.io.formats.style.Styler at 0x1cb6ea6e880>"
      ]
     },
     "metadata": {},
     "output_type": "display_data"
    }
   ],
   "source": [
    "#trains the model on the entire dataset by setting data = df\n",
    "pred_finalized_model = predict_model(finalized_model, data=df, verbose = True)\n",
    "pycaret_pred_finalized = pull()"
   ]
  },
  {
   "cell_type": "markdown",
   "id": "ff5ac101",
   "metadata": {},
   "source": [
    "## Save the final model"
   ]
  },
  {
   "cell_type": "code",
   "execution_count": 48,
   "id": "99c01fd4",
   "metadata": {},
   "outputs": [
    {
     "name": "stdout",
     "output_type": "stream",
     "text": [
      "Transformation Pipeline and Model Successfully Saved\n"
     ]
    },
    {
     "data": {
      "text/plain": [
       "(Pipeline(memory=Memory(location=C:\\Users\\Farid\\AppData\\Local\\Temp\\joblib),\n",
       "          steps=[('numerical_imputer',\n",
       "                  TransformerWrapper(include=['oil_production_opec',\n",
       "                                              'oil_production_nonopec',\n",
       "                                              'oil_production_world',\n",
       "                                              'henry_hub_ng_price',\n",
       "                                              'oil_production_us',\n",
       "                                              'petrol_consumption_oecd',\n",
       "                                              'petrol_consumption_nonoecd',\n",
       "                                              'us_cpi', 'us_ppi',\n",
       "                                              'us_ppi_petroleum', 'us_pmi',\n",
       "                                              'crude_o...\n",
       "                                                             min_split_gain=0.8,\n",
       "                                                             n_estimators=300,\n",
       "                                                             num_leaves=50,\n",
       "                                                             random_state=786,\n",
       "                                                             reg_alpha=1e-06,\n",
       "                                                             reg_lambda=0.1)),\n",
       "                                              ('Random Forest Regressor',\n",
       "                                               RandomForestRegressor(bootstrap=False,\n",
       "                                                                     criterion='mae',\n",
       "                                                                     max_depth=9,\n",
       "                                                                     max_features='log2',\n",
       "                                                                     min_impurity_decrease=0,\n",
       "                                                                     min_samples_leaf=2,\n",
       "                                                                     min_samples_split=5,\n",
       "                                                                     n_jobs=-1,\n",
       "                                                                     random_state=786)),\n",
       "                                              ('Linear Regression',\n",
       "                                               LinearRegression(n_jobs=-1))],\n",
       "                                  n_jobs=-1))]),\n",
       " 'D:\\\\gitProjects\\\\springboard_capstone_1\\\\Springboard_Capstone_01\\\\models\\\\regression_model_1m.pkl')"
      ]
     },
     "execution_count": 48,
     "metadata": {},
     "output_type": "execute_result"
    }
   ],
   "source": [
    "# Save pipeline\n",
    "save_model(finalized_model, model_path)"
   ]
  },
  {
   "cell_type": "markdown",
   "id": "47b8244a",
   "metadata": {},
   "source": [
    "## Save Pycaret tables to Excel"
   ]
  },
  {
   "cell_type": "code",
   "execution_count": 49,
   "id": "e32b6cd2",
   "metadata": {},
   "outputs": [
    {
     "ename": "NameError",
     "evalue": "name 'compare_model_table' is not defined",
     "output_type": "error",
     "traceback": [
      "\u001b[1;31m---------------------------------------------------------------------------\u001b[0m",
      "\u001b[1;31mNameError\u001b[0m                                 Traceback (most recent call last)",
      "Cell \u001b[1;32mIn [49], line 3\u001b[0m\n\u001b[0;32m      1\u001b[0m \u001b[38;5;28;01mwith\u001b[39;00m pd\u001b[38;5;241m.\u001b[39mExcelWriter(model_path \u001b[38;5;241m+\u001b[39m \u001b[38;5;124m'\u001b[39m\u001b[38;5;130;01m\\\\\u001b[39;00m\u001b[38;5;124mpycaret_tables.xlsx\u001b[39m\u001b[38;5;124m'\u001b[39m, engine\u001b[38;5;241m=\u001b[39m\u001b[38;5;124m'\u001b[39m\u001b[38;5;124mxlsxwriter\u001b[39m\u001b[38;5;124m'\u001b[39m) \u001b[38;5;28;01mas\u001b[39;00m writer:\n\u001b[0;32m      2\u001b[0m     \u001b[38;5;66;03m#Write each dataframe to one excell sheet.\u001b[39;00m\n\u001b[1;32m----> 3\u001b[0m     \u001b[43mcompare_model_table\u001b[49m\u001b[38;5;241m.\u001b[39mto_excel(writer, sheet_name\u001b[38;5;241m=\u001b[39m\u001b[38;5;124m'\u001b[39m\u001b[38;5;124mcompare_models\u001b[39m\u001b[38;5;124m'\u001b[39m)\n\u001b[0;32m      4\u001b[0m     pycaret_tune_model_1\u001b[38;5;241m.\u001b[39mto_excel(writer, sheet_name\u001b[38;5;241m=\u001b[39m\u001b[38;5;124m'\u001b[39m\u001b[38;5;124mtuned_1\u001b[39m\u001b[38;5;124m'\u001b[39m)\n\u001b[0;32m      5\u001b[0m     pycaret_tune_model_2\u001b[38;5;241m.\u001b[39mto_excel(writer, sheet_name\u001b[38;5;241m=\u001b[39m\u001b[38;5;124m'\u001b[39m\u001b[38;5;124mtuned_2\u001b[39m\u001b[38;5;124m'\u001b[39m)\n",
      "\u001b[1;31mNameError\u001b[0m: name 'compare_model_table' is not defined"
     ]
    }
   ],
   "source": [
    "with pd.ExcelWriter(model_path + '\\\\pycaret_tables.xlsx', engine='xlsxwriter') as writer:\n",
    "    #Write each dataframe to one excell sheet.\n",
    "    compare_model_table.to_excel(writer, sheet_name='compare_models')\n",
    "    pycaret_tune_model_1.to_excel(writer, sheet_name='tuned_1')\n",
    "    pycaret_tune_model_2.to_excel(writer, sheet_name='tuned_2')\n",
    "    pycaret_tune_model_3.to_excel(writer, sheet_name='tuned_3')\n",
    "    pycaret_tune_model_4.to_excel(writer, sheet_name='tuned_4')\n",
    "    pycaret_tune_model_5.to_excel(writer, sheet_name='tuned_5')\n",
    "    pycaret_blend_model.to_excel(writer, sheet_name='blend_model') \n",
    "    pycaret_stack_model.to_excel(writer, sheet_name='stack_model')\n",
    "    pycaret_pred_blend.to_excel(writer, sheet_name='pred_blend')\n",
    "    pycaret_pred_stack.to_excel(writer, sheet_name='pred_stack')\n",
    "    pycaret_pred_finalized.to_excel(writer, sheet_name='pred_final')"
   ]
  },
  {
   "cell_type": "code",
   "execution_count": null,
   "id": "f69b859d",
   "metadata": {},
   "outputs": [],
   "source": []
  },
  {
   "cell_type": "code",
   "execution_count": null,
   "id": "8135d2ea",
   "metadata": {},
   "outputs": [],
   "source": []
  },
  {
   "cell_type": "code",
   "execution_count": null,
   "id": "43893d16",
   "metadata": {},
   "outputs": [],
   "source": []
  }
 ],
 "metadata": {
  "kernelspec": {
   "display_name": "Python 3 (ipykernel)",
   "language": "python",
   "name": "python3"
  },
  "language_info": {
   "codemirror_mode": {
    "name": "ipython",
    "version": 3
   },
   "file_extension": ".py",
   "mimetype": "text/x-python",
   "name": "python",
   "nbconvert_exporter": "python",
   "pygments_lexer": "ipython3",
   "version": "3.9.15"
  }
 },
 "nbformat": 4,
 "nbformat_minor": 5
}
